{
 "cells": [
  {
   "attachments": {},
   "cell_type": "markdown",
   "metadata": {},
   "source": [
    "# Lights\n",
    "> Connect and control you LED's with this tool.\n",
    "\n",
    "- badges: false\n",
    "- comments: false\n",
    "- filename: lights\n",
    "- hide: false\n",
    "- image: images/company_logo.png\n",
    "- keywords: ['3D','3D Printing', 'Crypto', 'metaverse', 'navigation']\n",
    "- tab: Lights\n",
    "- template: template_article\n",
    "- toc: false\n",
    "- sitemap: maplights.json\n",
    "- toc: true"
   ]
  },
  {
   "attachments": {},
   "cell_type": "markdown",
   "metadata": {},
   "source": [
    "<details open class=\"details\">\n",
    "<summary>"
   ]
  },
  {
   "attachments": {},
   "cell_type": "markdown",
   "metadata": {},
   "source": [
    "## Intro"
   ]
  },
  {
   "attachments": {},
   "cell_type": "markdown",
   "metadata": {},
   "source": [
    "</summary>"
   ]
  },
  {
   "attachments": {},
   "cell_type": "markdown",
   "metadata": {},
   "source": [
    "\n",
    "Caught this killer band 'Cecil and Delilah' live at Comet Ping Pong. \n",
    "\n",
    "Nice to know they have a web <a href=\"https://www.youtube.com/watch?v=uoa30QNJCAo\" target=\"_blank\" rel=\"nofollow noopener noindex\">presence</a>!\n",
    "\n",
    "Jokes. Their presence could use some work, lets be honest...\n",
    "\n",
    "Just like this segway into talking about lights! \n",
    "\n",
    "In fact, this entire 'thingy' could use some wokr!\n",
    "\n",
    "Not gonna explain what it is. You'll just have to figure that part out.\n",
    "\n",
    "I'll need some feedback too once this is all over. ktx"
   ]
  },
  {
   "attachments": {},
   "cell_type": "markdown",
   "metadata": {},
   "source": [
    "</details>"
   ]
  },
  {
   "attachments": {},
   "cell_type": "markdown",
   "metadata": {},
   "source": [
    "<details open>\n",
    "<summary>"
   ]
  },
  {
   "attachments": {},
   "cell_type": "markdown",
   "metadata": {},
   "source": [
    "## Dashboard"
   ]
  },
  {
   "attachments": {},
   "cell_type": "markdown",
   "metadata": {},
   "source": [
    "</summary>"
   ]
  },
  {
   "attachments": {},
   "cell_type": "markdown",
   "metadata": {},
   "source": [
    "<script>\n",
    "    console.log('heckya');\n",
    "    // current solution of conditionally loading article-dependent scripts from main.js is bloaty\n",
    "    // having ipynb import/execute scripts is cleaner but mean's scripts aren't webpacked unless done elsewhere. \n",
    "</script>"
   ]
  },
  {
   "attachments": {},
   "cell_type": "markdown",
   "metadata": {},
   "source": [
    "<div id='lights'></div>\n",
    "<!-- index.html -->\n",
    "<!-- script type=\"module\" src=\"js/lights.js\"></script -->\n",
    "<script type=\"module\">\n",
    "  import { getContent } from './js/lights.js';\n",
    "  console.log(getContent)\n",
    "  console.log('whooo')\n",
    "  console.log(window.lights)\n",
    "  window.lights.innerHTML = getContent()\n",
    "</script>"
   ]
  },
  {
   "attachments": {},
   "cell_type": "markdown",
   "metadata": {},
   "source": [
    "</details>"
   ]
  }
 ],
 "metadata": {
  "kernelspec": {
   "display_name": "Python 3",
   "language": "python",
   "name": "python3"
  },
  "language_info": {
   "name": "python",
   "version": "3.10.2"
  },
  "orig_nbformat": 4,
  "vscode": {
   "interpreter": {
    "hash": "046b844cfe77f56867adc884800e389906328c66f60829dd4497d230d7e2d321"
   }
  }
 },
 "nbformat": 4,
 "nbformat_minor": 2
}
