{
 "cells": [
  {
   "cell_type": "markdown",
   "metadata": {},
   "source": [
    "# Termux\n",
    "\n",
    "> Termux is an app and a terminal on your phone \n",
    "- prettify: true\n",
    "- tab: Termux\n",
    "- keywords: ['data'] \n",
    "- hide_sitemap: false\n",
    "- hide_toc: true\n",
    "- hide_breadcrumbs: false"
   ]
  },
  {
   "cell_type": "code",
   "execution_count": null,
   "metadata": {
    "id": "IbUIrWnm688A"
   },
   "outputs": [],
   "source": [
    "https://ipython.readthedocs.io/en/stable/interactive/magics.html#line-magics"
   ]
  },
  {
   "cell_type": "code",
   "execution_count": null,
   "metadata": {
    "id": "T4KdQV9DQ7KZ"
   },
   "outputs": [],
   "source": [
    "Google Play Store (Deprecated)\n",
    "Termux and its plugins are no longer updated on Google Play Store due to android 10 issues and have been deprecated. It is highly recommended to not install Termux apps from Play Store any more. Check https://github.com/termux/termux-app#google-play-store-deprecated for details.\n",
    "\n",
    "https://github.com/termux/termux-tasker"
   ]
  },
  {
   "cell_type": "code",
   "execution_count": null,
   "metadata": {
    "id": "1FElgRPWD8lr"
   },
   "outputs": [],
   "source": [
    "DEX - PHONE LINK"
   ]
  },
  {
   "cell_type": "markdown",
   "metadata": {
    "id": "yfLDuM6QQK1e"
   },
   "source": [
    "You may want to install from [Fdroid](https://wiki.termux.com/wiki/Installation) as google play is depricated?"
   ]
  },
  {
   "cell_type": "markdown",
   "metadata": {
    "id": "8RiFTT_OEBHr"
   },
   "source": [
    "commonJS - Require.\n",
    "ESModules - Import"
   ]
  },
  {
   "cell_type": "markdown",
   "metadata": {
    "id": "WJTLKS4RKQFl"
   },
   "source": [
    "termux-setup-storage\n",
    "\n",
    "pkg install x11-repo\n",
    "\n",
    "pkg install [root-repo](https://wiki.termux.com/wiki/Package_Management)\n",
    "\n",
    "apt update && apt upgrade\n",
    "\n"
   ]
  },
  {
   "cell_type": "code",
   "execution_count": null,
   "metadata": {
    "id": "N8NwEpEUKq4n"
   },
   "outputs": [],
   "source": [
    "4.apt-get install zip && apt-get install unzip ( For Zip files )\n",
    "5.apt install python && apt install python2 ( For installing python )\n",
    "\n",
    "Installing packages from APT repository:\n",
    "Install package: :- pkg install [package name]\n",
    "Remove package: - pkg uninstall [package name]\n",
    "List all packages: - pkg list-all\n",
    "Upgrading packages: - pkg upgrade"
   ]
  },
  {
   "cell_type": "markdown",
   "metadata": {
    "id": "JxQ0mRewNUL5"
   },
   "source": [
    "nmap"
   ]
  },
  {
   "cell_type": "code",
   "execution_count": null,
   "metadata": {
    "id": "1cNe3vfnhYAk"
   },
   "outputs": [],
   "source": [
    "https://www.reddit.com/r/termux/comments/e22qgw/permanent_alias/\n",
    "\n",
    "edit /data/data/com.termux/files/usr/etc/bash.bashrc\n",
    "there at the end of the line add your alias\n",
    "\n",
    "# open .bashrc to add your alias\n",
    "nano ~/.bashrc\n",
    "# add your alias\n",
    "alias alias_name=\"command_to_run\"\n",
    "# activate the alias for the session\n",
    "source ~/.bashrc"
   ]
  },
  {
   "cell_type": "code",
   "execution_count": null,
   "metadata": {
    "id": "1sxMQmmQhgbs"
   },
   "outputs": [],
   "source": [
    "go=\"cd ~/storage/dcim/scripts\"\n",
    "editrules=\"nano /data/data/com.termux/files/usr/etc/bash.bashrc\"\n",
    "setrules=\"source ~/../usr/etc/bash.bashrc\"\n"
   ]
  },
  {
   "cell_type": "markdown",
   "metadata": {
    "id": "zSzg6PGMgNbz"
   },
   "source": []
  },
  {
   "cell_type": "markdown",
   "metadata": {
    "id": "WGy_m_2rj-Qo"
   },
   "source": [
    "https://f-droid.org/en/packages/com.android.shellms/\n",
    "\n",
    "https://gist.github.com/gerardo-junior/0876935c91a83c4b87661c649217397c"
   ]
  },
  {
   "cell_type": "markdown",
   "metadata": {
    "id": "nghighFtkMsw"
   },
   "source": [
    "zipinfo zipgrep zgrep zcat xargs whoami wheris which wget wctl wc watch uptime unzip  unlink uniq unexpand uncompress tr tty ul touch top tload tftp test timeout telnet tail tac sysctl sync waplabel sum stty stdbuf stat split sleep shuf shred sha5112sum settings sed seq setpriv setsid route rmdir rm rev resizepart rename pwd printf printenv pmap pm pkill ping pgrep patchpaste npm node nohup nproc netstat netcap nano nameif mount more mkfs mkdir md4sum mlof lzcat lzcmp lzgrep ls look logname login logger logcat less killall kill join install ifconfig head hardlink gzip grep getopt gawk fuser funzip ftp free fold find findfs flock fgrep factor expand env editor echo dir df diff date dd dash cut curl curl-config cp cpsplit ctrlaltdel col colrm column clear cksum chown chroot choom chmod cat bas64 basename bash basename b2sum arp awk apt-key-get-config-cache "
   ]
  },
  {
   "cell_type": "markdown",
   "metadata": {
    "id": "PtNIwqc4kOLQ"
   },
   "source": [
    "termux\n",
    "-dialog                 <---\n",
    "-camera-/info/photo    <---\n",
    "-tts-speak          <---\n",
    "-toast                 <---\n",
    "-microphone-record <---\n",
    "-location             <---\n",
    "-speech-to-text  <---\n",
    "-clipboard-set\n",
    "-keystore\n",
    "-job-scheduler\n",
    "-sms-/send/list/inbox\n",
    "-open \n",
    "-sensor\n",
    "-wake-lock /unlock\n",
    "-wifi-/connectioninfo/enable/scaninfo\n",
    "-volume\n",
    "-usb\n",
    "-telephony-/deviceinfo/cellinfo/call\n",
    "-media-scan\n",
    "-media-player\n",
    "-share\n",
    "-reset -restore\n",
    "-open-url\n",
    "-infrared-transmit\n",
    "-infrared-frequencies\n",
    "-info\n",
    "-fingerprint\n",
    "-download\n",
    "-call-log\n",
    "-brightness\n",
    "-battery-status\n",
    "-audio-info\n",
    "-api-stop -start\n",
    "-am -am-socket\n"
   ]
  },
  {
   "cell_type": "code",
   "execution_count": null,
   "metadata": {
    "id": "gPA1tp-2kOfA"
   },
   "outputs": [],
   "source": [
    "https://github.com/termux/termux-api-package/issues/37\n",
    "\n",
    "https://wiki.termux.com/wiki/Termux-notification\n",
    "\n",
    "https://wiki.termux.com/wiki/Termux:API\n",
    "\n",
    "https://wiki.termux.com/wiki/Termux-download\n",
    "\n",
    "https://wiki.termux.com/wiki/Termux:Boot"
   ]
  },
  {
   "cell_type": "markdown",
   "metadata": {
    "id": "RYsZKWYTl9Iy"
   },
   "source": [
    "termux-vibrate\n",
    "Vibrate the device.\n",
    "termux-volume\n",
    "Change volume of audio stream.\n",
    "termux-wallpaper\n",
    "Change wallpaper on your device.\n",
    "termux-tts-speak\n",
    "Speak text with a system text-to-speech engine.\n",
    "termux-toast\n",
    "Show a transient popup notification.\n",
    "termux-sensor\n",
    "Get information about types of sensors as well as live data.\n",
    "termux-microphone-record\n",
    "Recording using microphone on your device.\n",
    "termux-notification\n",
    "Display a system notification.\n",
    "termux-job-scheduler\n",
    "Schedule a Termux script to run later, or periodically.\n",
    "termux-location\n",
    "Get the device location.\n",
    "termux-dialog\n",
    "Show a text entry dialog.\n",
    "termux-camera-photo\n",
    "Take a photo and save it to a file in JPEG format."
   ]
  },
  {
   "cell_type": "markdown",
   "metadata": {
    "id": "fHo4v1R2m0W_"
   },
   "source": [
    "https://store.nethunter.com/"
   ]
  }
 ],
 "metadata": {
  "colab": {
   "authorship_tag": "ABX9TyOb2V5Qv/CdJJt7pBGxEbAm",
   "provenance": []
  },
  "kernelspec": {
   "display_name": "Python 3",
   "name": "python3"
  },
  "language_info": {
   "name": "python"
  }
 },
 "nbformat": 4,
 "nbformat_minor": 0
}
