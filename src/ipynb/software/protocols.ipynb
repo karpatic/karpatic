{
 "cells": [
  {
   "cell_type": "markdown",
   "metadata": {},
   "source": [
    "# protocols\n",
    "\n",
    "> protocols\n",
    "- prettify: true"
   ]
  },
  {
   "cell_type": "markdown",
   "metadata": {},
   "source": [
    "https://github.com/karanpratapsingh/system-design"
   ]
  },
  {
   "cell_type": "markdown",
   "metadata": {},
   "source": [
    "### HTTP Header"
   ]
  },
  {
   "cell_type": "code",
   "execution_count": null,
   "metadata": {},
   "outputs": [],
   "source": [
    "myInit = { method: 'GET',\n",
    "               headers: {\n",
    "                   'Content-Type': 'application/javascript'\n",
    "               },\n",
    "               mode: 'no-cors' };\n",
    "url = \"https://charleskarpati.com/cv/dialogs/holiday.js?t=\"+Math.floor(Math.random() * 100000)\n",
    "\n",
    "myRequest = new Request(url, myInit);\n",
    "\n",
    "\n",
    " \n",
    "\n",
    "fetch(myRequest).then(function(response) {\n",
    "  return response.text();\n",
    "}).then(function(response) {\n",
    "  console.log(response)\n",
    "});"
   ]
  }
 ],
 "metadata": {
  "language_info": {
   "name": "python"
  },
  "orig_nbformat": 4
 },
 "nbformat": 4,
 "nbformat_minor": 2
}
