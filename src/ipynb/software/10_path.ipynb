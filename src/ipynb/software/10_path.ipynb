{
 "cells": [
  {
   "cell_type": "markdown",
   "metadata": {},
   "source": [
    "# Path Basics\n",
    "\n",
    "> Light notes about using PATH.\n",
    "- prettify: true\n",
    "- tab: Path\n",
    "- keywords: ['data'] \n",
    "- hide_sitemap: false\n",
    "- hide_toc: true\n",
    "- hide_breadcrumbs: false"
   ]
  },
  {
   "cell_type": "markdown",
   "metadata": {},
   "source": [
    "Setting Path at Unix/Linux\n",
    "To add the Python directory to the path for a particular session in Unix −\n",
    "\n",
    "In the csh shell − type setenv PATH \"$PATH:/usr/local/bin/python3\" and press Enter.\n",
    "\n",
    "In the bash shell (Linux) − type export PYTHONPATH=/usr/local/bin/python3.4 and press Enter.\n",
    "\n",
    "In the sh or ksh shell − type PATH = \"$PATH:/usr/local/bin/python3\" and press Enter.\n",
    "\n",
    "Note − /usr/local/bin/python3 is the path of the Python directory."
   ]
  },
  {
   "cell_type": "code",
   "execution_count": null,
   "metadata": {},
   "outputs": [],
   "source": []
  }
 ],
 "metadata": {
  "language_info": {
   "name": "python"
  }
 },
 "nbformat": 4,
 "nbformat_minor": 2
}
