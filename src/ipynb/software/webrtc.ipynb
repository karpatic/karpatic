{
 "cells": [
  {
   "cell_type": "code",
   "execution_count": null,
   "metadata": {},
   "outputs": [],
   "source": [
    "> **What is [signaling](https://www.html5rocks.com/en/tutorials/webrtc/infrastructure/)?** Signaling is the process of coordinating communication. \n",
    "\n",
    "> [WebRTC without a signaling server ](https://blog.printf.net/articles/2013/05/17/webrtc-without-a-signaling-server/)   \n",
    "  - I wanted to experiment with WebRTC and understand its datachannels better, and I also felt like the existing code examples I’ve seen are unsatisfying in a specific way: it’s a peer-to-peer protocol, but the first thing you do (for example, on sites like conversat.io) is have everyone go to the same web server to find each other (this is called “signaling” in WebRTC) and share connection information.\n",
    "  - If we’re going to have a peer-to-peer protocol, can’t we use it without all visiting the same centralized website first? \n",
    "  - Could we instead make a WebRTC app that just runs out of a file:/// path on your local disk, even if it means you have to manually tell the person you’re trying to talk to how to connect to you?\n",
    "  - It turns out that we can: I’ve created a serverless-webrtc project on [GitHub]((https://github.com/cjb/serverless-webrtc/)) that decouples the “signaling server” exchange of connection information from the WebRTC code itself. To run the app:\n",
    "> download Firefox Nightly.\n",
    "git clone git://github.com/cjb/serverless-webrtc.git\n",
    "load file:///path/to/serverless-webrtc/serverless-webrtc.html\n",
    "You’ll be asked whether you want to create or join a channel, and then you’re prompted to manually send the first party’s “WebRTC offer” to the second party (for example, over an instant message chat) and then to do the same thing with the second party’s “WebRTC answer” reply back. Once you’ve done that, the app provides text chat and file transfer between peers, all without any web server. (A STUN server is still used to find out your external IP for NAT-busting.)\n",
    "> https://github.com/lesmana/webrtc-without-signaling-server\n",
    "> https://github.com/cjb/serverless-webrtc\n",
    "> https://github.com/xem/miniWebRTC"
   ]
  },
  {
   "cell_type": "markdown",
   "metadata": {},
   "source": [
    "###### Signaling > Stun Turn Ice NATS"
   ]
  },
  {
   "cell_type": "markdown",
   "metadata": {},
   "source": [
    "> A host uses **Session Traversal Utilities for NAT (STUN)** to discover its public IP address when it is located behind a NAT/Firewall. \n",
    "\n",
    "> When this host wants to receive an incoming connection from another party, it provides this public IP address as a possible location where it can receive a connection. \n",
    "\n",
    "> If the NAT/Firewall still won't allow the two hosts to connect directly, they make a connection to a server implementing **Traversal Using Relay around NAT (TURN)**, which will relay media between the two parties.\n",
    "\n",
    "> **Interactive Connectivity Establishment (ICE)** is a blanket standard that describes how to coordinate STUN and TURN to make a connection between hosts. Twilio's Network Traversal Service implements STUN and TURN for ICE-compatible clients, such as browsers supporting the WebRTC standard."
   ]
  },
  {
   "cell_type": "markdown",
   "metadata": {},
   "source": [
    "###### Signal-less"
   ]
  }
 ],
 "metadata": {
  "language_info": {
   "name": "python"
  }
 },
 "nbformat": 4,
 "nbformat_minor": 2
}
