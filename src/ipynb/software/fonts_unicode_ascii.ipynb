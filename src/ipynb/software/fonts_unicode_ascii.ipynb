{
 "cells": [
  {
   "cell_type": "code",
   "execution_count": null,
   "metadata": {},
   "outputs": [],
   "source": [
    "Unicode Emoji List on Unicode.org - lists all standardized emoji characters.\n",
    "Using Unicode characters in HTML is straightforward. You can use either the hexadecimal (base 16) or decimal (base 10) representation of the Unicode character’s code point. Here’s how you can do it:\n",
    "Different programming languages have different ways to input Unicode characters. \n",
    "For Example, the code point for the 😊 emoji is U+1F60A\n",
    "- in Python, you can use the syntax \"\\u1F60A\" for Unicode characters.\n",
    "- in HTML,  you would write use the &#x) for hexadecimal (&#x1F60A;) or &# for decimal (&#128522;)\n"
   ]
  }
 ],
 "metadata": {
  "language_info": {
   "name": "python"
  }
 },
 "nbformat": 4,
 "nbformat_minor": 2
}
