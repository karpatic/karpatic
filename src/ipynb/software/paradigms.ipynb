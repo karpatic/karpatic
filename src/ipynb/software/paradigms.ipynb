{
 "cells": [
  {
   "cell_type": "markdown",
   "metadata": {},
   "source": [
    "# paradigms\n",
    "\n",
    "> paradigms\n",
    "- prettify: true"
   ]
  },
  {
   "cell_type": "markdown",
   "metadata": {},
   "source": [
    "imperative==procedural(object oriented) vs declarative==functional"
   ]
  },
  {
   "cell_type": "markdown",
   "metadata": {},
   "source": []
  }
 ],
 "metadata": {
  "language_info": {
   "name": "python"
  },
  "orig_nbformat": 4
 },
 "nbformat": 4,
 "nbformat_minor": 2
}
