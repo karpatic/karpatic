{
 "cells": [
  {
   "attachments": {},
   "cell_type": "markdown",
   "metadata": {},
   "source": [
    "# About My Site\n",
    "> Why and how I made my site.\n",
    "\n",
    "- keywords: ['3D','3D Printing', 'Crypto', 'metaverse', 'navigation']"
   ]
  },
  {
   "attachments": {},
   "cell_type": "markdown",
   "metadata": {},
   "source": [
    "</details>\n",
    "<details open class=\"details\">\n",
    "<summary>"
   ]
  },
  {
   "attachments": {},
   "cell_type": "markdown",
   "metadata": {},
   "source": [
    "## What's in a Site?"
   ]
  },
  {
   "attachments": {},
   "cell_type": "markdown",
   "metadata": {},
   "source": [
    "</summary>"
   ]
  },
  {
   "cell_type": "markdown",
   "metadata": {},
   "source": [
    "This is my personal website. I use it, personally. \n",
    "\n",
    "It serves as the central hub for my pet projects and notes. I built it using a templating engine that takes python notebooks as input(((This page was written in an IPYNB. It was converted by my static site generator with underlying use of the template engine. When visited, the page rehydrates using yaml extracted during it's creation.))).  I love to tinker, and so every part of this site was hand made.\n",
    "\n",
    "Through this process, I created an understated but packed website. Something incredibly light(((As of 2023, the average website sits at 2,200kbs in size. Mine's 15.))), sophisticated and simple. You're looking at it!\n",
    "\n",
    "Apart from appearances, what does this look like?\n",
    "\n",
    "[Read on](./sitestats.html) "
   ]
  },
  {
   "cell_type": "markdown",
   "metadata": {},
   "source": [
    "</details>"
   ]
  }
 ],
 "metadata": {
  "language_info": {
   "name": "python"
  },
  "orig_nbformat": 4
 },
 "nbformat": 4,
 "nbformat_minor": 2
}
