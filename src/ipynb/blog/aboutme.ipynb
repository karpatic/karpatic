{
 "cells": [
  {
   "cell_type": "code",
   "execution_count": null,
   "metadata": {},
   "outputs": [],
   "source": [
    "# About Me\n",
    "> Who am I?\n",
    "\n",
    "- badges: false\n",
    "- comments: false \n",
    "- hide: false\n",
    "- image: images/company_logo.png\n",
    "- keywords: ['3D','3D Printing', 'Crypto', 'metaverse', 'navigation']\n",
    "- tab: About Me\n",
    "- template: template_article\n",
    "- toc: false\n",
    "- sitemap: blog"
   ]
  },
  {
   "attachments": {},
   "cell_type": "markdown",
   "metadata": {},
   "source": [
    "<script type=\"application/ld+json\">\n",
    "{ \"@context\": \"https://schema.org\", \n",
    " \"@type\": \"Article\",\n",
    " \"headline\": \"Extra! Extra! Read alla bout it\",\n",
    " \"alternativeHeadline\": \"This article is also about robots and stuff\",\n",
    " \"image\": \"http://example.com/image.jpg\",\n",
    " \"author\": \"Patrick Coombe\", \n",
    " \"award\": \"Best article ever written\",\n",
    " \"editor\": \"Craig Mount\", \n",
    " \"genre\": \"search engine optimization\", \n",
    " \"keywords\": \"seo sales b2b\", \n",
    " \"wordcount\": \"1120\",\n",
    "\"publisher\": {\n",
    "    \"@type\": \"Organization\",\n",
    "    \"name\": \"Google\",\n",
    "    \"logo\": {\n",
    "      \"@type\": \"ImageObject\",\n",
    "      \"url\": \"https://google.com/logo.jpg\"\n",
    "    }\n",
    "  },\n",
    " \"url\": \"http://www.example.com\",\n",
    "   \"mainEntityOfPage\": {\n",
    "    \"@type\": \"WebPage\",\n",
    "    \"@id\": \"https://google.com/article\"\n",
    "  },\n",
    " \"description\": \"We love to do stuff to help people and stuff\",\n",
    " \"articleBody\": \"You can paste your entire post in here, and yes it can get really really long.\"\n",
    " }\n",
    "</script>"
   ]
  },
  {
   "attachments": {},
   "cell_type": "markdown",
   "metadata": {},
   "source": [
    "<script type='application/ld+json'>{\"@context\": \"http://www.schema.org\",\"@type\": \"person\",\"name\": \"Charles Karpati\",\"jobTitle\": \"Software Developer\",\"height\": \"74 inches\",\"gender\": \"male\",\"url\": \"https://charleskarpati.com/\",\"image\": \"https://avatars.githubusercontent.com/u/10605109\",\"address\": {\"@type\": \"PostalAddress\",\"streetAddress\": \"5331 Pooks Hill Rd, \",\"postOfficeBoxNumber\": \"20814\",\"addressLocality\": \"Bethesda\",\"addressRegion\": \"MD\",\"postalCode\": \"20814\",\"addressCountry\": \"United States\"},\"email\": \"charles.karpati@gmail.com\",\"birthDate\": \"1994-04-04\",\"alumniOf\": \"UMBC\",\"birthPlace\": \"Bethesda\",\"memberOf\": \"Society\",\"nationality\": \"American\",\"telephone\": \"3013004728\"}</script>"
   ]
  },
  {
   "attachments": {},
   "cell_type": "markdown",
   "metadata": {},
   "source": [
    "I am Carlos Karpati, 28 years old, resident of Bethesda, Maryland. I have an MS in information systems from UMBC (May 2020).\n",
    "\n",
    "I see that you are in need of a builder and I want to let you know that I am your ideal candidate!\n",
    "\n",
    "A self-taught programmer who started at the age of 14, I spent the first 5 years after my undergraduate studies working as a full stack developer (Vanilla or React, Webpack+Node, Python) at a University of Baltimore institute, BNIA. I'd say ~95+% of their codebase at this point is my doing. The work was to make city-government data accessible to the public. While there, I created and disseminated quality of life indicators from disparate administrative datasets for the benefaction of the cities inhabitants and community-based orgs. A year ago, I parlay'd my skills into a job working for Voxels.com; an Ethereum based virtual world where users create their own assets and own their own property.\n",
    "\n",
    "As a self-support unit, the BNIA-JFI organization took on countless jobs with neighborhood organizations to create bespoke data-intense web products to further analyze, enmesh, and visualize community data. Through this, I have ammased extensive experience working with react, node, and webpack. see references 1, 2, 3. More examples are provided below. Being the sole developer for the entire outfit, a lot was riding on my ability to perform - and I did. As a forewarning: expired data sharing agreements means some functinality on the above links are now defunct.\n",
    "\n",
    "One of my favorite contracts was given to us by the U.S. National Science Foundation where I was given the opportunity to teach data science at the University of Baltimore to graduate students. Subsequently, I have created numerous tutorials covering a wide array of technical concepts, see references 4, 5, 6, 7. I take pride in my work, and all my tutorials are accompanied by open-source resources published on pypi, npm and github. I have a passion for helping others and have been deeply involved in mentoring, consulting, and developing software to assist internal operations. I do these things not just at a professional capacity, but also for fun.\n",
    "\n",
    "Since joining Voxels, I have enjoyed all it has to offer. The space has provided me with an outlet to explore new technologies, make new friends, and develop my interpersonal and professional skills. It is for that reason I feel honored to be able to work on the codebase and help build out the world - From implementing new features, redesigning pages, and squashing bugs to writing up tutorials and helping foster community. These days you can find me in the CV discord forum sharing my developments, and or helping answering people's many questions. My personal website, https://www.cvminigames.com, provides countless resources and links to in-world world experiences for you to enjoy. Everything I do is open-source and always has been.\n",
    "\n",
    "Thank you for reading this far down; I hope you find me interesting!"
   ]
  }
 ],
 "metadata": {
  "language_info": {
   "name": "python"
  },
  "orig_nbformat": 4
 },
 "nbformat": 4,
 "nbformat_minor": 2
}
