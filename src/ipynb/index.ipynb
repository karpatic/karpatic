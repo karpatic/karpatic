{
 "cells": [
  {
   "attachments": {},
   "cell_type": "markdown",
   "metadata": {},
   "source": [
    "# Homepage\n",
    "> Explore pages of topical interest.\n",
    "\n",
    "- keywords: ['3D','3D Printing', 'Crypto', 'metaverse', 'navigation']\n",
    "- tab: Home\n",
    "- hide_sitemap: true"
   ]
  },
  {
   "attachments": {},
   "cell_type": "markdown",
   "metadata": {},
   "source": [
    "<script type=\"application/ld+json\">{\"@context\": \"http://schema.org\",\"@type\": \"WebPage\",\"name\": \"Homepage of Charles Karpati\",\"description\": \"Explore pages of topical interest.\",\"publisher\": {\"@type\": \"ProfilePage\",\"name\": \"My Site\"}}</script>"
   ]
  },
  {
   "attachments": {},
   "cell_type": "markdown",
   "metadata": {},
   "source": [
    "<details open>\n",
    "<summary>"
   ]
  },
  {
   "attachments": {},
   "cell_type": "markdown",
   "metadata": {},
   "source": [
    "## Welcome!"
   ]
  },
  {
   "attachments": {},
   "cell_type": "markdown",
   "metadata": {},
   "source": [
    "</summary>"
   ]
  },
  {
   "attachments": {},
   "cell_type": "markdown",
   "metadata": {},
   "source": [
    "Welcome!\n",
    "\n",
    "Are you an employer? Check out my [README](https://github.com/karpatic).\n",
    "\n",
    "Here you can do fun things like browse my published libraries on [PyPI](https://pypi.org/user/karpatic/) and [NPM](https://www.npmjs.com/~karpatic). Or, perhaps you would prefer to explore [my home in the metaverse](https://www.voxels.com/play?coords=N@1447E,1128S), retrace my [electric unicycle adventures](https://carlos-a-diez.com/euc/index.html) or read my [blog](./blog.html)? I've shared my python [notebooks](./labs.html) and, although unfinished, also my notes on [Data Science](./datascience.html), [Software](./software.html), and [Web Development](./webdev.html). I intend to publish the library [dataplay](./dataplay.html) and [vanillaPivotTable](https://carlos-a-diez.com/vanillapivottable/) soon too. Lastly, for a variety of creative and technical explorations, I’ve developed [RideMap](https://carlos-a-diez.com/euc/index.html?), [Shp2stl](https://carlos-a-diez.com/shp2stl/), [Telerecap](https://carlos-a-diez.com/telegram/dashboard.php), [A-Maze-Ring](https://carlos-a-diez.com/maze/), and a [Music Player](https://carlos-a-diez.com/music) for which to be bemused. \n",
    "\n"
   ]
  },
  {
   "cell_type": "markdown",
   "metadata": {},
   "source": [
    "</details>"
   ]
  }
 ],
 "metadata": {
  "kernelspec": {
   "display_name": "Python 3.10.2 64-bit",
   "language": "python",
   "name": "python3"
  },
  "language_info": {
   "codemirror_mode": {
    "name": "ipython",
    "version": 3
   },
   "file_extension": ".py",
   "mimetype": "text/x-python",
   "name": "python",
   "nbconvert_exporter": "python",
   "pygments_lexer": "ipython3",
   "version": "3.10.2"
  },
  "orig_nbformat": 4,
  "vscode": {
   "interpreter": {
    "hash": "046b844cfe77f56867adc884800e389906328c66f60829dd4497d230d7e2d321"
   }
  }
 },
 "nbformat": 4,
 "nbformat_minor": 2
}
