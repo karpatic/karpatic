{
 "cells": [
  {
   "attachments": {},
   "cell_type": "markdown",
   "metadata": {},
   "source": [
    "# Homepage\n",
    "> Explore pages of topical interest.\n",
    "\n",
    "- tab: Home\n",
    "- keywords: ['3D','3D Printing', 'Crypto', 'metaverse', 'navigation'] \n",
    "- hide_sitemap: true\n",
    "- hide_toc: true\n",
    "- hide_breadcrumbs: true"
   ]
  },
  {
   "attachments": {},
   "cell_type": "markdown",
   "metadata": {},
   "source": [
    "<script type=\"application/ld+json\">{\"@context\": \"http://schema.org\",\"@type\": \"WebPage\",\"name\": \"Homepage of Charles Karpati\",\"description\": \"Explore pages of topical interest.\",\"publisher\": {\"@type\": \"ProfilePage\",\"name\": \"My Site\"}}</script>"
   ]
  },
  {
   "attachments": {},
   "cell_type": "markdown",
   "metadata": {},
   "source": [
    "<details open>\n",
    "<summary>"
   ]
  },
  {
   "attachments": {},
   "cell_type": "markdown",
   "metadata": {},
   "source": [
    "## Welcome!"
   ]
  },
  {
   "attachments": {},
   "cell_type": "markdown",
   "metadata": {},
   "source": [
    "</summary>"
   ]
  },
  {
   "attachments": {},
   "cell_type": "markdown",
   "metadata": {},
   "source": [
    "Employer? [README](https://github.com/karpatic)   \n",
    "\n",
    "This site serves as a collection of miscellaneous notes. Explore my [blog](./blog.html) or any of my ongoing works in the following areas:\n",
    ":::::: {.card-container}\n",
    "::: {.card}\n",
    "[Data Science](./datascience.html)\n",
    ":::\n",
    "::: {.card}\n",
    "[Software](./software.html)\n",
    ":::\n",
    "::: {.card}\n",
    "[Web Development](./webdev.html)\n",
    ":::\n",
    "::: {.card}\n",
    "[Labs](./webdev.html)\n",
    ":::\n",
    ":::::: \n",
    "\n",
    "### Past Hobby Projects\n",
    "\n",
    "Over the years, I've developed several interesting projects, including\n",
    ":::::: {.card-container}\n",
    "::: {.card}\n",
    "[RideMap](https://carlos-a-diez.com/euc/index.html?)\n",
    ":::\n",
    "::: {.card}\n",
    "[Shp2stl](https://carlos-a-diez.com/shp2stl/)\n",
    ":::\n",
    "::: {.card}\n",
    "[RecapsRobot](https://recapsrobot.com)\n",
    ":::\n",
    "::: {.card}\n",
    "[A-Maze-Ring](https://carlos-a-diez.com/maze/)\n",
    ":::\n",
    "::: {.card}\n",
    "[iTunes Music Explorer](https://carlos-a-diez.com/music)\n",
    ":::\n",
    "::: {.card}\n",
    "[DJ Panel](https://carlos-a-diez.com/music/dj.html)\n",
    ":::\n",
    "::: {.card}\n",
    "[Legal CaseTools](https://casetools.karpatilaw.com)\n",
    ":::\n",
    "::: {.card}\n",
    "[AI Website Generator](https://carlos-a-diez.com/idea.html)\n",
    ":::\n",
    "::: {.card}\n",
    "[Goofy Soundboard](https://carlos-a-diez.com/idea.html)\n",
    "::: \n",
    "::::::  \n",
    "\n",
    "Feel free to explore these fun creations!\n",
    "\n",
    "### Published Libraries\n",
    "\n",
    "If you're a developer, you might find my libraries useful. I have published packages on\n",
    "\n",
    ":::::: {.card-container}\n",
    "::: {.card}\n",
    "    <a href=\"https://pypi.org/user/karpatic/\">PyPI</a>\n",
    ":::\n",
    "::: {.card}\n",
    "    <a href=\"https://npm.org/user/karpatic/\">NPM</a>\n",
    ":::\n",
    ":::::: \n",
    "\n",
    "Currently, I'm working on\n",
    "\n",
    ":::::: {.card-container}\n",
    "::: {.card}\n",
    "    [vanillaPivotTable](https://carlos-a-diez.com/vanillapivottable/) \n",
    ":::\n",
    "::: {.card}\n",
    "    [bundless](https://bundless.dev/) \n",
    ":::\n",
    "::: {.card}\n",
    "    PivotSync\n",
    ":::\n",
    ":::::: \n",
    "\n",
    "\n",
    "<style>\n",
    "  .card-container {\n",
    "    display: grid;\n",
    "    grid-template-columns: repeat(auto-fill, minmax(200px, 1fr));\n",
    "    gap: 16px;\n",
    "    margin-top: 20px;\n",
    "  }\n",
    "\n",
    "  .card {\n",
    "    background-color: #ffffff;\n",
    "    border-radius: 8px;\n",
    "    padding: 20px;\n",
    "    text-align: center;\n",
    "    box-shadow: 0 4px 10px rgba(0, 0, 0, 0.1);\n",
    "  }\n",
    "\n",
    "  .card a {\n",
    "    color: #2d87f0;\n",
    "    text-decoration: none;\n",
    "    font-size: 18px;\n",
    "    font-weight: bold;\n",
    "    display: block;\n",
    "  }\n",
    "\n",
    "  .card a:hover {\n",
    "    text-decoration: underline;\n",
    "  }\n",
    "\n",
    "  .libraries {\n",
    "    display: block;\n",
    "    margin-top: 20px;\n",
    "  }\n",
    "</style>\n"
   ]
  },
  {
   "cell_type": "markdown",
   "metadata": {},
   "source": [
    "</details>"
   ]
  }
 ],
 "metadata": {
  "kernelspec": {
   "display_name": "Python 3.10.2 64-bit",
   "language": "python",
   "name": "python3"
  },
  "language_info": {
   "codemirror_mode": {
    "name": "ipython",
    "version": 3
   },
   "file_extension": ".py",
   "mimetype": "text/x-python",
   "name": "python",
   "nbconvert_exporter": "python",
   "pygments_lexer": "ipython3",
   "version": "3.10.2"
  },
  "orig_nbformat": 4,
  "vscode": {
   "interpreter": {
    "hash": "046b844cfe77f56867adc884800e389906328c66f60829dd4497d230d7e2d321"
   }
  }
 },
 "nbformat": 4,
 "nbformat_minor": 2
}
