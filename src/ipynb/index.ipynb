{
 "cells": [
  {
   "attachments": {},
   "cell_type": "markdown",
   "metadata": {},
   "source": [
    "# Homepage\n",
    "> Explore pages of topical interest.\n",
    "\n",
    "- keywords: ['3D','3D Printing', 'Crypto', 'metaverse', 'navigation']\n",
    "- tab: Home\n",
    "- hide_sitemap: true"
   ]
  },
  {
   "attachments": {},
   "cell_type": "markdown",
   "metadata": {},
   "source": [
    "<script type=\"application/ld+json\">{\"@context\": \"http://schema.org\",\"@type\": \"WebPage\",\"name\": \"Homepage of Charles Karpati\",\"description\": \"Explore pages of topical interest.\",\"publisher\": {\"@type\": \"ProfilePage\",\"name\": \"My Site\"}}</script>"
   ]
  },
  {
   "attachments": {},
   "cell_type": "markdown",
   "metadata": {},
   "source": [
    "<details open>\n",
    "<summary>"
   ]
  },
  {
   "attachments": {},
   "cell_type": "markdown",
   "metadata": {},
   "source": [
    "## Welcome!"
   ]
  },
  {
   "attachments": {},
   "cell_type": "markdown",
   "metadata": {},
   "source": [
    "</summary>"
   ]
  },
  {
   "attachments": {},
   "cell_type": "markdown",
   "metadata": {},
   "source": [
    "Use this homepage to learn more about me 😊\n",
    "\n",
    "Employer? [README](https://github.com/karpatic)."
   ]
  },
  {
   "attachments": {},
   "cell_type": "markdown",
   "metadata": {},
   "source": [
    "</details>\n",
    "<details open class=\"details\">\n",
    "<summary>"
   ]
  },
  {
   "attachments": {},
   "cell_type": "markdown",
   "metadata": {},
   "source": [
    "## Featured"
   ]
  },
  {
   "cell_type": "markdown",
   "metadata": {},
   "source": [
    "</summary>"
   ]
  },
  {
   "attachments": {},
   "cell_type": "markdown",
   "metadata": {},
   "source": [
    "- [About](./blog/aboutmysite.html) - Why and how I made my site.  "
   ]
  },
  {
   "attachments": {},
   "cell_type": "markdown",
   "metadata": {},
   "source": [
    "</details>\n",
    "<details open>\n",
    "<summary>"
   ]
  },
  {
   "attachments": {},
   "cell_type": "markdown",
   "metadata": {},
   "source": [
    "## Writings"
   ]
  },
  {
   "attachments": {},
   "cell_type": "markdown",
   "metadata": {},
   "source": [
    "</summary>"
   ]
  },
  {
   "attachments": {},
   "cell_type": "markdown",
   "metadata": {},
   "source": [
    "- [Misc](./notes.html) - Notes of varying quality\n",
    "- [Software](./software.html) - Notes of varying quality\n",
    "- [Labs](./labs.html) - Research and experiments\n",
    "- [Lights](./lights.html) - An ESP32 based project \n",
    "- [Temp](./blog.html) - Real-time personal notes (((note::These notes are connected to a private notes taking app I made for myself. These specific dnotes were made public so I can share them w friends in the offchance it is relevant during a conversation.)))"
   ]
  },
  {
   "attachments": {},
   "cell_type": "markdown",
   "metadata": {},
   "source": [
    "</details>\n",
    "<details open class=\"details\">\n",
    "<summary>"
   ]
  },
  {
   "attachments": {},
   "cell_type": "markdown",
   "metadata": {},
   "source": [
    "## Libraries"
   ]
  },
  {
   "attachments": {},
   "cell_type": "markdown",
   "metadata": {},
   "source": [
    "</summary>"
   ]
  },
  {
   "attachments": {},
   "cell_type": "markdown",
   "metadata": {},
   "source": [
    "- [LangDrive](https://docs.langdrive.ai/docs/getting-started) - Create Chatbot that interact with Google Drive. For Node.\n",
    "- [Dataplay](./dataplay.html) - Python library for geo-spatial data manipulation\n",
    "- [VanillaPivotTable](https://carlos-a-diez.com/vanillapivottable/) - Rework of pivottablejs. For Py and Js.\n",
    "- [Ipynb2web](https://ipynb2web.com) - Convert IPYNB to JSON for the web. For Py and Js\n",
    "- PivotSync - Sync data and visuals: Between Python IPYNB cells, or use your JS.\n",
    " - [VitalSigns](https://github.com/BNIA/VitalSigns) - Create 150 QoL statistics, crawl MD CaseSearch, clean addresses."
   ]
  },
  {
   "attachments": {},
   "cell_type": "markdown",
   "metadata": {},
   "source": [
    "</details>\n",
    "<details open class=\"details\">\n",
    "<summary>"
   ]
  },
  {
   "cell_type": "markdown",
   "metadata": {},
   "source": [
    "## Tools"
   ]
  },
  {
   "cell_type": "markdown",
   "metadata": {},
   "source": [
    "</summary>"
   ]
  },
  {
   "cell_type": "markdown",
   "metadata": {},
   "source": [
    "- [Telerecap](https://carlos-a-diez.com/telegram/) - Create audio recaps of your telegram chat.\n",
    "- [Shp2stl](https://carlos-a-diez.com/shp2stl/) - Convert geospatial data to 3D prints, online.\n",
    "- [A-Maze-Ring](https://carlos-a-diez.com/maze/) - Accessorize with 3D printable maze-rings.\n",
    "- [Music Player](https://carlos-a-diez.com/music) - Explore Itunes and save songs from youtube, supports playlists & channels.\n",
    "- RideMap - Android app to log and visualize GPS data.\n"
   ]
  },
  {
   "cell_type": "markdown",
   "metadata": {},
   "source": [
    "</details>\n",
    "<details open class=\"details\">\n",
    "<summary>"
   ]
  },
  {
   "cell_type": "markdown",
   "metadata": {},
   "source": [
    "## Around the web"
   ]
  },
  {
   "cell_type": "markdown",
   "metadata": {},
   "source": [
    "</summary>"
   ]
  },
  {
   "cell_type": "markdown",
   "metadata": {},
   "source": [
    "- [EUC](https://carlos-a-diez.com/euc/index.html?) - Interactive map of my Electric Unicycle Rides\n",
    "- [Voxels](https://www.voxels.com/play?coords=N@1447E,1128S) - My home in the metaverse and, old [fanpage](https://cvminigames.com).\n",
    "- [Youtube](https://www.youtube.com/channel/UCHfNSTAAqh95V-kaFco-OUA) - playlists of music, tech, etc."
   ]
  },
  {
   "cell_type": "markdown",
   "metadata": {},
   "source": [
    "</details>"
   ]
  }
 ],
 "metadata": {
  "kernelspec": {
   "display_name": "Python 3.10.2 64-bit",
   "language": "python",
   "name": "python3"
  },
  "language_info": {
   "codemirror_mode": {
    "name": "ipython",
    "version": 3
   },
   "file_extension": ".py",
   "mimetype": "text/x-python",
   "name": "python",
   "nbconvert_exporter": "python",
   "pygments_lexer": "ipython3",
   "version": "3.10.2"
  },
  "orig_nbformat": 4,
  "vscode": {
   "interpreter": {
    "hash": "046b844cfe77f56867adc884800e389906328c66f60829dd4497d230d7e2d321"
   }
  }
 },
 "nbformat": 4,
 "nbformat_minor": 2
}
