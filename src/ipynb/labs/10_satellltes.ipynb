{
 "cells": [
  {
   "cell_type": "markdown",
   "metadata": {},
   "source": [
    "# Sentinel Data\n",
    "\n",
    "> Retrieving data from a sentinel server\n",
    "- prettify: true"
   ]
  },
  {
   "cell_type": "code",
   "execution_count": 38,
   "metadata": {},
   "outputs": [],
   "source": [
    "from bs4 import BeautifulSoup\n",
    "import urllib.request\n",
    "import xml.etree.ElementTree as ET\n",
    "import geopandas as gpd\n",
    "from shapely.geometry import Point, Polygon\n",
    "import pandas as pd\n",
    "import threading \n",
    "from datetime import datetime \n",
    "import builtins\n",
    "from shapely.wkt import loads\n",
    "debugMe = False"
   ]
  },
  {
   "cell_type": "code",
   "execution_count": 39,
   "metadata": {},
   "outputs": [],
   "source": [
    "# Define the URL and KML identifier strings\n",
    "s1_url = 'https://sentinels.copernicus.eu/web/sentinel/missions/sentinel-1/observation-scenario/acquisition-segments'\n",
    "s1_kml_str = 's1a_mp_user'\n",
    "s2_url = 'https://sentinels.copernicus.eu/web/sentinel/missions/sentinel-2/acquisition-plans'\n",
    "s2a_kml_str = 's2a_mp_acq__kml'\n",
    "s2b_kml_str = 's2b_mp_acq__kml'"
   ]
  },
  {
   "cell_type": "code",
   "execution_count": 40,
   "metadata": {},
   "outputs": [],
   "source": [
    "# Create Polygon from coordinates function \n",
    "def create_polygon(coords):\n",
    "    points = []\n",
    "    for coord in coords.split():\n",
    "        lon, lat, _ = coord.split(',')\n",
    "        points.append((float(lon), float(lat)))\n",
    "    return Polygon(points)"
   ]
  },
  {
   "cell_type": "code",
   "execution_count": 52,
   "metadata": {},
   "outputs": [],
   "source": [
    "def getLinks(url, kml_str):\n",
    "        # Import Sentinel URL\n",
    "    r = urllib.request.urlopen(url).read()\n",
    "    soup = BeautifulSoup(r, \"html.parser\")\n",
    "    # Extract KML links from URL\n",
    "    kml_links = soup.find_all('a', href=lambda href:  kml_str in href.lower())\n",
    "    print('kml_links: ', kml_links) \n",
    "    # Create a list to store the kml_content\n",
    "    kml_contents = []\n",
    "    # Iterate over the links\n",
    "    for kml_link in kml_links:\n",
    "        # Retrieve the URL of each KML file\n",
    "        kml_url = 'https://sentinels.copernicus.eu' + kml_link['href']\n",
    "        # Open the KML file\n",
    "        kml_response = urllib.request.urlopen(kml_url)\n",
    "        # Read the content of the KML file\n",
    "        kml_content = kml_response.read()\n",
    "        # Append the kml_content to the list\n",
    "        kml_contents.append(kml_content)"
   ]
  },
  {
   "cell_type": "code",
   "execution_count": 47,
   "metadata": {},
   "outputs": [],
   "source": [
    "def sentinel_scraper(url, kml_str):\n",
    "    if debugMe: print('sentinel_scraper: ', kml_str, url)\n",
    "    kml_content = getLinks(url, kml_str)\n",
    "    \n",
    "    # Parse the KML content\n",
    "    root = ET.fromstring(kml_content)\n",
    "\n",
    "    # Define the XML namespace\n",
    "    namespace = {'kml': 'http://www.opengis.net/kml/2.2'}\n",
    "\n",
    "    # Extract latitude, longitude, time, mode and polarisation \n",
    "    data = [] # will create a list of dictionaries. \n",
    "    # Each dictionary in the list represents an observation, and the keys of the dictionary become columns in the DataFrame.\n",
    "    \n",
    "    for placemark in root.findall('.//kml:Placemark', namespace):\n",
    "        coordinates = placemark.find('.//kml:coordinates', namespace).text.strip()\n",
    "        time_start = placemark.find('.//kml:begin', namespace).text\n",
    "        time_end = placemark.find('.//kml:end', namespace).text\n",
    "        mode = placemark.find('.//kml:Data[@name=\"Mode\"]/kml:value', namespace).text\n",
    "        # Check if 's1a' is in the kml_url\n",
    "        if 's1a' in kml_url:\n",
    "            polarisation = placemark.find('.//kml:Data[@name=\"Polarisation\"]/kml:value', namespace).text\n",
    "            \n",
    "            # Create a dictionary for the current data\n",
    "            current_data = {'coordinates': coordinates, 'time_start': time_start, 'time_end': time_end,\n",
    "                            'mode': mode, 'polarisation': polarisation}\n",
    "        else:\n",
    "            # Create a dictionary for the current data\n",
    "            current_data = {'coordinates': coordinates, 'time_start': time_start, 'time_end': time_end, 'mode': mode}\n",
    "        \n",
    "        # Check if the current_data already exists in the data list\n",
    "        if current_data not in data:\n",
    "            # Append the current_data to the list if it doesn't exist\n",
    "            data.append(current_data)\n",
    "        else:\n",
    "            # Print a message indicating that the data already exists\n",
    "            print(\"Data already exists:\", current_data)\n",
    "\n",
    "\n",
    "\n",
    "    # Convert the data to a DataFrame\n",
    "    df = pd.DataFrame(data)\n",
    "\n",
    "    # Create geometry column \n",
    "    df['geometry'] = df['coordinates'].apply(create_polygon)\n",
    "\n",
    "    # Create a GeoDataFrame with Polygon geometry\n",
    "    gdf = gpd.GeoDataFrame(df, geometry='geometry') \n",
    "\n",
    "    # Apply the filter for mode and polarisation, depending on s1 or s\n",
    "    if 's1a' in kml_str:\n",
    "        gdf_filtered = gdf[(gdf['mode'] == 'IW') & (gdf['polarisation'] == 'DV')]\n",
    "    else: \n",
    "        gdf_filtered = gdf[(gdf['mode'] == 'NOBS')]\n",
    "\n",
    "    # Format GeoDataFrame\n",
    "    gdf_clean = gdf_filtered.drop('coordinates', axis=1)\n",
    "    gdf_final = gdf_clean.drop('mode', axis=1)\n",
    "    if 's1a' in kml_str:\n",
    "        gdf_final = gdf_final.drop('polarisation', axis=1)\n",
    "        gdf_final['satellite'] = 'Sentinel 1'\n",
    "    elif 's2a' in kml_str:\n",
    "        gdf_final['satellite'] = 'Sentinel 2A'\n",
    "    else:                    \n",
    "        gdf_final['satellite'] = 'Sentinel 2B'\n",
    "\n",
    "    return(gdf_final)"
   ]
  },
  {
   "cell_type": "code",
   "execution_count": null,
   "metadata": {},
   "outputs": [],
   "source": [
    "\n",
    "def trim_string(s, max_length):\n",
    "    if len(s) > max_length:\n",
    "        return s[:max_length]\n",
    "    return s"
   ]
  },
  {
   "cell_type": "code",
   "execution_count": 48,
   "metadata": {},
   "outputs": [],
   "source": [
    "# Function to combine GeoDataFrames\n",
    "def combine_gdfs(s1_url, s1_kml_str, s2_url, s2a_kml_str, s2b_kml_str):\n",
    "    s1_gdf = sentinel_scraper(s1_url, s1_kml_str)\n",
    "    print(type(s1_gdf))\n",
    "    s2a_gdf = sentinel_scraper(s2_url, s2a_kml_str)\n",
    "    print(type(s2a_gdf))\n",
    "    s2b_gdf = sentinel_scraper(s2_url, s2b_kml_str)\n",
    "    print(type(s2b_gdf))\n",
    "    combined_gdf = pd.concat([s1_gdf, s2a_gdf, s2b_gdf], ignore_index=True)\n",
    "    return combined_gdf"
   ]
  },
  {
   "cell_type": "code",
   "execution_count": 49,
   "metadata": {},
   "outputs": [],
   "source": [
    "def scrape_and_update_data(): \n",
    "    combined_gdf = combine_gdfs(s1_url, s1_kml_str, s2_url, s2a_kml_str, s2b_kml_str)\n",
    "\n",
    "    # Convert 'time_start' and 'time_end' columns to datetime objects\n",
    "    # Previously: combined_gdf['time_start'] = pd.to_datetime(combined_gdf['time_start'])\n",
    "    max_length = 10 \n",
    "    combined_gdf['time_start'] = combined_gdf['time_start'].apply(lambda x: trim_string(str(x), max_length))\n",
    "    combined_gdf['time_start'] = pd.to_datetime(combined_gdf['time_start'])\n",
    "    \n",
    "    combined_gdf['time_end'] = combined_gdf['time_end'].apply(lambda x: trim_string(str(x), max_length))\n",
    "    combined_gdf['time_end'] = pd.to_datetime(combined_gdf['time_end'])\n",
    "\n",
    "    # Filter out times based on the current time\n",
    "    current_time = datetime.now()\n",
    "    combined = combined_gdf[combined_gdf['time_start'] >= current_time]\n",
    "\n",
    "    final_gdf = gpd.GeoDataFrame(combined, geometry='geometry')\n",
    "\n",
    "    # Store the GeoDataFrame in the global variable \n",
    "    scraped_data = final_gdf\n",
    "    builtins.scraped_data = scraped_data \n",
    "    scraped_data.to_csv('scraped_data.csv', index=False)\n",
    "    if debugMe: print(\"~~~~~~~~~~~~~~~~~~~~~~~~~~~~~~~~~~~~~ END scrape_and_update_data ~~~~~~~~~~~~~~~~~~~~~~~~~~~~~~~~~~~~~~~~~~~\", len(scraped_data))\n",
    " "
   ]
  },
  {
   "cell_type": "code",
   "execution_count": 50,
   "metadata": {},
   "outputs": [],
   "source": [
    "import builtins\n",
    "import geopandas as gpd\n",
    "import pandas as pd "
   ]
  },
  {
   "cell_type": "code",
   "execution_count": null,
   "metadata": {},
   "outputs": [],
   "source": []
  },
  {
   "cell_type": "code",
   "execution_count": 51,
   "metadata": {},
   "outputs": [
    {
     "name": "stdout",
     "output_type": "stream",
     "text": [
      "kml_links:  [<a href=\"/documents/d/sentinel/s1a_mp_user_20230907t174000_20230927t194000\">07 - 27 September 2023</a>, <a href=\"/documents/d/sentinel/s1a_mp_user_20230905t174000_20230925t194000\">05 - 25 September 2023</a>, <a href=\"/documents/d/sentinel/s1a_mp_user_20230901t174000_20230921t194000\">01 - 21 September 2023</a>, <a href=\"/documents/d/sentinel/s1a_mp_user_20230830t174000_20230919t194000\">30 August - 19 September 2023</a>, <a href=\"/documents/d/sentinel/s1a_mp_user_20230828t174000_20230917t194000\">28 August - 17 September 2023</a>, <a href=\"/documents/d/sentinel/s1a_mp_user_20230825t174000_20230914t194000\">25 August - 14 September 2023</a>, <a href=\"/documents/d/sentinel/s1a_mp_user_20230823t174000_20230912t194000\">23 August - 12 September 2023</a>, <a href=\"/documents/d/sentinel/s1a_mp_user_20230822t174000_20230911t194000\">22 August - 11 September 2023</a>]\n",
      "<class 'geopandas.geodataframe.GeoDataFrame'>\n",
      "kml_links:  [<a href=\"/documents/d/sentinel/s2a_mp_acq__kml_20230907t120000_20230925t150000\">07 - 25 September 2023</a>, <a href=\"/documents/d/sentinel/s2a_mp_acq__kml_20230824t120000_20230911t150000\">24 August - 11 September 2023</a>]\n",
      "kml_links:  [<a href=\"/documents/d/sentinel/s2b_mp_acq__kml_20230831t120000_20230918t150000\">31 August - 18 September 2023</a>, <a href=\"/documents/d/sentinel/s2b_mp_acq__kml_20230817t120000_20230904t150000\">17 August - 04 September 2023</a>]\n"
     ]
    }
   ],
   "source": [
    "scraped_data = scrape_and_update_data() "
   ]
  },
  {
   "cell_type": "code",
   "execution_count": null,
   "metadata": {},
   "outputs": [],
   "source": [
    "html_content = '''\n",
    "    <form method=\"POST\">\n",
    "        Latitude: <input type=\"number\" name=\"latitude\" required><br>\n",
    "        Longitude: <input type=\"number\" name=\"longitude\" required><br>\n",
    "        Auth Key: <input type=\"text\" name=\"seacret_id\" name=\"auth\" required placeholder=\"Your Secret ID HERE\"><br>\n",
    "        <input id=\"submit\" type=\"submit\" value=\"Run\">\n",
    "    </form><br>\n",
    "'''\n",
    "\n",
    "# used inDev.. Wheras nodemon restarts the _server_ on filechange... \n",
    "# this _client_ side Javascript will resubmit the browser form (a POST REQUEST) every 8.5s. \n",
    "includeClientDebug = True\n",
    "if debugMe and includeClientDebug: html_content += \"\"\"\n",
    "    <script>\n",
    "        function refreshPage() {\n",
    "            document.querySelector('input[name=\"latitude\"]').value = 147\n",
    "            document.querySelector('input[name=\"longitude\"]').value = 8\n",
    "            document.querySelector('input[name=\"secret_id\"]').value = \"TEST\";\n",
    "            // document.getElementById(\"submit\").click();\n",
    "        }\n",
    "        setInterval(refreshPage, 3500);\n",
    "    </script>\"\"\""
   ]
  },
  {
   "cell_type": "code",
   "execution_count": 17,
   "metadata": {},
   "outputs": [
    {
     "ename": "NameError",
     "evalue": "name 'request' is not defined",
     "output_type": "error",
     "traceback": [
      "\u001b[1;31m---------------------------------------------------------------------------\u001b[0m",
      "\u001b[1;31mNameError\u001b[0m                                 Traceback (most recent call last)",
      "Cell \u001b[1;32mIn[17], line 1\u001b[0m\n\u001b[1;32m----> 1\u001b[0m latitude \u001b[39m=\u001b[39m request\u001b[39m.\u001b[39mform[\u001b[39m'\u001b[39m\u001b[39mlatitude\u001b[39m\u001b[39m'\u001b[39m]\n\u001b[0;32m      2\u001b[0m longitude \u001b[39m=\u001b[39m request\u001b[39m.\u001b[39mform[\u001b[39m'\u001b[39m\u001b[39mlongitude\u001b[39m\u001b[39m'\u001b[39m]\n\u001b[0;32m      3\u001b[0m secret_user_id \u001b[39m=\u001b[39m request\u001b[39m.\u001b[39mform[\u001b[39m'\u001b[39m\u001b[39msecret_id\u001b[39m\u001b[39m'\u001b[39m]\n",
      "\u001b[1;31mNameError\u001b[0m: name 'request' is not defined"
     ]
    }
   ],
   "source": [
    "latitude = request.form['latitude']\n",
    "longitude = request.form['longitude']\n",
    "secret_user_id = request.form['secret_id']\n",
    "\n",
    "latitude = float(latitude)\n",
    "longitude = float(longitude)    \n",
    "user_point = Point(latitude,longitude)  \n",
    "\n",
    "filtered_gdf = final_gdf[final_gdf['geometry'].contains(user_point)] \n",
    "# Display the time associated with the filtered GeoDataFrame for the user to see\n",
    "time_message = filtered_gdf['time_start'].iloc[0] if not filtered_gdf.empty else \"No upcoming time available.\"\n",
    " \n",
    "\n",
    "print(jsonify({\"message\": time_message}))\n"
   ]
  },
  {
   "cell_type": "code",
   "execution_count": null,
   "metadata": {},
   "outputs": [],
   "source": []
  },
  {
   "cell_type": "code",
   "execution_count": null,
   "metadata": {},
   "outputs": [],
   "source": []
  },
  {
   "cell_type": "code",
   "execution_count": null,
   "metadata": {},
   "outputs": [],
   "source": []
  },
  {
   "cell_type": "code",
   "execution_count": null,
   "metadata": {},
   "outputs": [],
   "source": []
  }
 ],
 "metadata": {
  "kernelspec": {
   "display_name": "Python 3",
   "language": "python",
   "name": "python3"
  },
  "language_info": {
   "codemirror_mode": {
    "name": "ipython",
    "version": 3
   },
   "file_extension": ".py",
   "mimetype": "text/x-python",
   "name": "python",
   "nbconvert_exporter": "python",
   "pygments_lexer": "ipython3",
   "version": "3.11.5"
  },
  "orig_nbformat": 4
 },
 "nbformat": 4,
 "nbformat_minor": 2
}
