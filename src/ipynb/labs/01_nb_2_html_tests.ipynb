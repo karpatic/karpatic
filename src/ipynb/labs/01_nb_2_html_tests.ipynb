{
 "cells": [
  {
   "cell_type": "markdown",
   "metadata": {
    "id": "mjQRsWXX_iMf"
   },
   "source": [
    "# NB2HTML TEST\n",
    "> This is a test colab publication.\n",
    "\n",
    "- prettify: true\n",
    "- toc: true\n",
    "- description: this isnt working\n",
    "- image: images/company_logo.png\n",
    "- keywords: thisworks\n",
    "- badges: true\n",
    "- comments: true\n",
    "- categories: [test]\n",
    "- metadata_key1: metadata_value1\n",
    "- metadata_key2: metadata_value2"
   ]
  },
  {
   "cell_type": "markdown",
   "metadata": {},
   "source": [
    "<br>\n",
    "\n",
    "[![Binder](https://mybinder.org/badge_logo.svg)](https://mybinder.org/v2/gh/bnia/datalabs/main?filepath=%2Fnotebooks%2F07_nb_2_html_tests.ipynb)\n",
    "[![Binder](https://pete88b.github.io/fastpages/assets/badges/colab.svg)](https://colab.research.google.com/github/bnia/datalabs/blob/main/notebooks/07_nb_2_html_tests.ipynb)\n",
    "[![Binder](https://pete88b.github.io/fastpages/assets/badges/github.svg)](https://github.com/bnia/datalabs/tree/main/notebooks/07_nb_2_html_tests.ipynb)\n",
    "[![Open Source Love svg3](https://badges.frapsoft.com/os/v3/open-source.svg?v=103)](https://github.com/ellerbrock/open-source-badges/)\n",
    "<br>\n",
    "[![NPM License](https://img.shields.io/npm/l/all-contributors.svg?style=flat)](https://github.com/bnia/datalabs/blob/main/LICENSE)\n",
    "[![Active](http://img.shields.io/badge/Status-Active-green.svg)](https://bnia.github.io)\n",
    "[![GitHub last commit](https://img.shields.io/github/last-commit/bnia/datalabs.svg?style=flat)]()  \n",
    "\n",
    "[![GitHub stars](https://img.shields.io/github/stars/bnia/datalabs.svg?style=social&label=Star)](https://github.com/bnia/datalabs)\n",
    "[![GitHub watchers](https://img.shields.io/github/watchers/bnia/datalabs.svg?style=social&label=Watch)](https://github.com/bnia/datalabs)\n",
    "[![GitHub forks](https://img.shields.io/github/forks/bnia/datalabs.svg?style=social&label=Fork)](https://github.com/bnia/datalabs)\n",
    "[![GitHub followers](https://img.shields.io/github/followers/bnia.svg?style=social&label=Follow)](https://github.com/bnia/datalabs)\n",
    "<br>\n",
    "[![Tweet](https://img.shields.io/twitter/url/https/github.com/bnia/datalabs.svg?style=social)](https://twitter.com/intent/tweet?text=Check%20out%20this%20%E2%9C%A8%20colab%20by%20@bniajfi%20https://github.com/bnia/datalabs%20%F0%9F%A4%97)\n",
    "[![Twitter Follow](https://img.shields.io/twitter/follow/bniajfi.svg?style=social)](https://twitter.com/bniajfi)"
   ]
  },
  {
   "cell_type": "markdown",
   "metadata": {
    "id": "t0cxLfLyIUr1"
   },
   "source": [
    "## Ipynb's were made for the web"
   ]
  },
  {
   "cell_type": "code",
   "execution_count": null,
   "metadata": {},
   "outputs": [],
   "source": [
    "Cell flags have to be on the first row to work with a space between\n",
    "\"#collapse_input_open\",\n",
    "\"#collapse_input\",\n",
    "\"#collapse_output_open\",\n",
    "\"#collapse_output\",\n",
    "\"#hide_input\",\n",
    "\"#hide_output\",\n",
    "\"#hide\",\n",
    "\"%%capture\",\n",
    "\"%%javascript\",\n",
    "\"%%html\",\n",
    "\"#export\""
   ]
  },
  {
   "cell_type": "markdown",
   "metadata": {},
   "source": [
    "test"
   ]
  },
  {
   "cell_type": "markdown",
   "metadata": {},
   "source": [
    "this is my list:\n",
    "- one \n",
    "- two \n",
    "- three\n",
    "\n",
    "> This blockquote is within the third bullet point <br>\n",
    "The next line is included.\n",
    "        \n",
    "double line breaks it    \n",
    "\n",
    "        let ls = 'test'\n",
    "        \n",
    "And this is a new line!"
   ]
  },
  {
   "cell_type": "markdown",
   "metadata": {},
   "source": [
    "<style>\n",
    ".shapedImage {\n",
    "  float: left;\n",
    "  width: 250px;\n",
    "  shape-outside: url(https://interactive-examples.mdn.mozilla.net/media/examples/round-balloon.png);\n",
    "  shape-margin:20px;\n",
    "  margin-right: 20px;\n",
    "  margin-bottom: 20px;\n",
    "  padding-top: 30px;\n",
    "}\n",
    ".shapedImage + p::first-letter {\n",
    "  font-size: 1.5rem;\n",
    "  font-weight: bold;\n",
    "  color: brown;\n",
    "}\n",
    "</style> \n",
    "\n",
    "<img class=\"shapedImage\" src=\"https://interactive-examples.mdn.mozilla.net/media/examples/round-balloon.png\" alt=\"Sample Image\"> \n",
    "\n",
    "An often overlooked fact when working with Python notebooks (.ipynb) is that <b>IPYNB's are really just JSON objects</b>. When you spin up a Jupyter notebook environments to start working, the environment essentially serves you a web page which you proceed to interact with. <b>The cells you see and their outputs are all interactive HTML elements</b> rendered from the JSON. When you execute python code in a python cell, The code is actually being sent back to the Jupyter server which runs the python code, updates the JSON, and returns the results back to the webpage. This is true for all notebook environments. Go Figure!\n",
    "\n",
    "With a little work, <b>Ipynb's can be used to generate static site pages</b> where Python output are displayed in-line, similar to how php works (just not dynamically). Subsequently, I built this tool: <a href='https://ipynb2web.com/'>Ipynb2Web</a>; this page is the result.\n",
    "<br><br>"
   ]
  },
  {
   "cell_type": "markdown",
   "metadata": {},
   "source": [
    "The gist of how it goes is like this:"
   ]
  },
  {
   "cell_type": "markdown",
   "metadata": {},
   "source": [
    "<br>"
   ]
  },
  {
   "cell_type": "code",
   "execution_count": null,
   "metadata": {
    "id": "PViBbVXPdUbv",
    "outputId": "f1682121-f257-497a-f531-911fbff6d218"
   },
   "outputs": [],
   "source": [
    "#hide_input\n",
    "from IPython.core.display import display, HTML\n",
    "display(HTML(\"\"\"<div id=\"observablehq-viz2\"></div>\n",
    "<script type=\"module\">\n",
    "import {Runtime, Inspector} from \"https://cdn.jsdelivr.net/npm/@observablehq/runtime@4/dist/runtime.js\";\n",
    "import define from \"https://api.observablehq.com/@karpatic/colab-to-website.js?v=4\";\n",
    "new Runtime().module(define, name => {\n",
    "  if (name === \"vswp\") return new Inspector(document.querySelector(\"#observablehq-viz2\"));\n",
    "  if (name === \"colabShortcode`\") return new Inspector(document.querySelector(\"#observablehq-viz2\"));\n",
    "});fv\n",
    "</script>\"\"\") )"
   ]
  },
  {
   "cell_type": "markdown",
   "metadata": {
    "id": "6XJMThGj857-"
   },
   "source": [
    "<br>\n",
    "The converter works iteratively through the Ipynb JSON. It starts by reading in YAML FrontMatter and then processesing each markdown and code cell. Code cells input and outputs get conditionally treated using flags. \n",
    "<br><br>"
   ]
  },
  {
   "cell_type": "code",
   "execution_count": null,
   "metadata": {
    "id": "ZutAYsJSdUbx"
   },
   "outputs": [],
   "source": [
    "#hide_input\n",
    "from IPython.core.display import display, HTML\n",
    "display(HTML(\"\"\"<div id=\"observablehq-viz4\"></div>\n",
    "<script type=\"module\">\n",
    "import {Runtime, Inspector} from \"https://cdn.jsdelivr.net/npm/@observablehq/runtime@4/dist/runtime.js\";\n",
    "import define from \"https://api.observablehq.com/@karpatic/ipynb-convert-to-html.js?v=4&t=4\";\n",
    "new Runtime().module(define, name => {\n",
    "  if (name === \"vswp\") return new Inspector(document.querySelector(\"#observablehq-viz4\"));\n",
    "  if (name === \"colabShortcode\") return new Inspector(document.querySelector(\"#observablehq-viz4\"));\n",
    "});\n",
    "</script>\"\"\") )"
   ]
  },
  {
   "cell_type": "markdown",
   "metadata": {},
   "source": [
    "Inspired by [nbdev](http://nbdev.fast.ai/tutorial/) and [nbConvert](https://nbconvert.readthedocs.io/en/latest/)."
   ]
  },
  {
   "cell_type": "code",
   "execution_count": null,
   "metadata": {},
   "outputs": [],
   "source": [
    "%%html\n",
    "<canvas id=\"waveCanvas\"></canvas>\n",
    "<script>\n",
    "    const canvas = document.getElementById('waveCanvas');\n",
    "    const ctx = canvas.getContext('2d');\n",
    "    let hueOffset = 0;\n",
    "\n",
    "    function setCanvasSize() {\n",
    "        const width = 800\n",
    "        canvas.width = width;\n",
    "        canvas.height = 100;\n",
    "    }\n",
    "    setCanvasSize();\n",
    "    window.addEventListener('resize', setCanvasSize);\n",
    "\n",
    "    function createCyclingGradient(ctx, width, offset) {\n",
    "        const gradient = ctx.createLinearGradient(0, 0, width, 0);\n",
    "        for (let i = 0; i <= 1; i += 0.16) {\n",
    "            const hue = (offset + i * 360) % 360;\n",
    "            gradient.addColorStop(i, `hsl(${hue}, 100%, 50%)`);\n",
    "        }\n",
    "        return gradient;\n",
    "    }\n",
    "\n",
    "function animate() {\n",
    "ctx.clearRect(0, 0, canvas.width, canvas.height);\n",
    "\n",
    "const linesCount = 1;\n",
    "const lineSpacing = 50;\n",
    "\n",
    "for (let n = 0; n < linesCount; n++) {\n",
    "    // Slightly shift the hue for each line:\n",
    "    const gradient = createCyclingGradient(ctx, canvas.width, hueOffset + n * 10);\n",
    "    ctx.strokeStyle = gradient;\n",
    "    ctx.lineWidth = 6;\n",
    "    ctx.beginPath();\n",
    "\n",
    "    for (let i = 0; i < canvas.width; i += 2) {\n",
    "        const x = i;\n",
    "        const timeOffset = Date.now() / 2000;\n",
    "        // Offset each line vertically:\n",
    "        const y = 50 + n * lineSpacing +\n",
    "            Math.cos(timeOffset - i / 5) * \n",
    "            Math.cos(timeOffset - i / 20) * 35;\n",
    "\n",
    "        if (i === 0) {\n",
    "            ctx.moveTo(x, y);\n",
    "        } else {\n",
    "            ctx.lineTo(x, y);\n",
    "        }\n",
    "    }\n",
    "    ctx.stroke();\n",
    "}\n",
    "\n",
    "hueOffset += 1;\n",
    "requestAnimationFrame(animate);\n",
    "}\n",
    "\n",
    "\n",
    "    animate();\n",
    "</script>"
   ]
  },
  {
   "cell_type": "markdown",
   "metadata": {
    "id": "0zkHI6RVdUbx"
   },
   "source": [
    "## Examples"
   ]
  },
  {
   "cell_type": "markdown",
   "metadata": {},
   "source": [
    "You can put html and js in markdown but not the other way around."
   ]
  },
  {
   "cell_type": "markdown",
   "metadata": {},
   "source": [
    "<div id='special_markdown_example'>\n",
    "\n",
    "Using this approach really cool because I can write html in markdown without a hitch; and it transpiles to html just great!\n",
    "<br>\n",
    "For example, I'm put javascript right in the mid<style> #special_markdown_example{color:blue} .folium-map{ width:200px} </style><script>document.querySelectorAll('#special_markdown_example')[0].onclick = (function() { console.log('you clicked special_markdown_example!') } );</script>dle of this sentence in the .ipynb doc.\n",
    "</div> The text renders exactly how you'd want it to. Click on the blue text and check your browser console for proof -> Then go to my .ipynb and see how I did it!"
   ]
  },
  {
   "cell_type": "markdown",
   "metadata": {
    "id": "amJSA0sIdUby"
   },
   "source": [
    "<details open>\n",
    "<summary>"
   ]
  },
  {
   "cell_type": "markdown",
   "metadata": {
    "id": "ssbD-99zdUby"
   },
   "source": [
    "### Built In's\n",
    "</summary>"
   ]
  },
  {
   "cell_type": "markdown",
   "metadata": {},
   "source": [
    "Naturally, code cells show the output of the executed code; So make sure to run your cells!\n",
    "\n",
    "System outputs from running code cells do not get displayed in the html output, however. Examples include things like error messages, module install, or imports messages."
   ]
  },
  {
   "cell_type": "markdown",
   "metadata": {
    "id": "Kp3JLmFEdUby"
   },
   "source": [
    "This is a footnote. (((note::You can put side thoughts in it.)))"
   ]
  },
  {
   "cell_type": "markdown",
   "metadata": {
    "id": "Mc6GEbyidUby"
   },
   "source": [
    "(((info:: Quick Info! You can put multiple info boxes in the same markdown cell))) "
   ]
  },
  {
   "cell_type": "markdown",
   "metadata": {
    "id": "1NIQzg04dUby"
   },
   "source": [
    "(((warning:: Simply insert a br element to break between lines when you need a new line in markdown. Otherwise it will create a new paragraph element. )))"
   ]
  },
  {
   "cell_type": "code",
   "execution_count": null,
   "metadata": {},
   "outputs": [],
   "source": [
    "#hide_input\n",
    "print('<details>')"
   ]
  },
  {
   "cell_type": "markdown",
   "metadata": {},
   "source": [
    "<summary>Running %%Javascript"
   ]
  },
  {
   "cell_type": "markdown",
   "metadata": {},
   "source": [
    "</summary>"
   ]
  },
  {
   "cell_type": "markdown",
   "metadata": {},
   "source": [
    "When you use %%javascript to run JavaScript code in a Jupyter notebook, the code gets executed within a `script` tag. This means that variables or functions you define will be added to the global scope and are thus accessible to all other cells (remember that the notebook is actually a webpage)."
   ]
  },
  {
   "cell_type": "markdown",
   "metadata": {},
   "source": [
    "(((tip:: TEST IT! Run `%%javascript \\n console.log('hello world')` in an .ipynb then check your dev tool logs. In VSCode this can be found by navigating to help>toggle dev tools)))"
   ]
  },
  {
   "cell_type": "markdown",
   "metadata": {},
   "source": [
    "<div id='output-area1'> </div>"
   ]
  },
  {
   "cell_type": "code",
   "execution_count": 48,
   "metadata": {},
   "outputs": [
    {
     "data": {
      "application/javascript": "window.localStorage.setItem(\"greeting\", 'This text was inserted using Javascript.');\n",
      "text/plain": [
       "<IPython.core.display.Javascript object>"
      ]
     },
     "metadata": {},
     "output_type": "display_data"
    }
   ],
   "source": [
    "%%javascript\n",
    "window.localStorage.setItem(\"greeting\", 'This text was inserted using Javascript.');"
   ]
  },
  {
   "cell_type": "code",
   "execution_count": null,
   "metadata": {},
   "outputs": [],
   "source": [
    "%%javascript\n",
    "\n",
    "var result = window.localStorage.getItem(\"greeting\");\n",
    "// Display in notebook\n",
    "// var output_area = this;\n",
    "// output_area.append_output({output_type: \"display_data\", data: {\"text/plain\": result}});\n",
    "document.querySelector(\"#output-area1\").innerHTML = result\n"
   ]
  },
  {
   "cell_type": "code",
   "execution_count": null,
   "metadata": {},
   "outputs": [],
   "source": [
    "%%javascript\n",
    "if(typeof element != 'undefined'){\n",
    "    console.log('Dom Element')\n",
    "    // Create a new DOM element to hold the output\n",
    "    var outputElem = document.createElement('div');\n",
    "    outputElem.textContent = \"This is the output from JavaScript!\";\n",
    "    // Append the new element to the current cell's output area\n",
    "    element[0].innerHTML = ''\n",
    "    element[0].appendChild(outputElem);\n",
    "}\n",
    "else{\n",
    "    console.log('No Dom Element')\n",
    "}"
   ]
  },
  {
   "cell_type": "code",
   "execution_count": null,
   "metadata": {},
   "outputs": [],
   "source": [
    "%%javascript\n",
    "/*\n",
    "var allOutputs = document.querySelectorAll('.output');\n",
    "var thisOutput = element[0]; // .parentElement\n",
    "var currentIndex = [...allOutputs].indexOf(thisOutput)\n",
    "let nextElement = allOutputs[currentIndex-1];\n",
    "console.log(allOutputs);\n",
    "console.log(nextElement);\n",
    "nextElement.innerHTML = nextElement.innerHTML+':WHATCHOUT:';\n",
    "*/"
   ]
  },
  {
   "cell_type": "code",
   "execution_count": null,
   "metadata": {},
   "outputs": [],
   "source": [
    "%%javascript\n",
    "        var currentScriptTag = window.currentScript;\n",
    "        console.log(currentScriptTag);\n",
    "        var parentOfScriptTag = currentScriptTag?.parentElement;\n",
    "        console.log(parentOfScriptTag);"
   ]
  },
  {
   "cell_type": "code",
   "execution_count": null,
   "metadata": {},
   "outputs": [],
   "source": [
    "%%javascript\n",
    "console.log('console message from within an %%javascript cell')\n",
    "console.log(window.IPython)"
   ]
  },
  {
   "cell_type": "code",
   "execution_count": null,
   "metadata": {},
   "outputs": [],
   "source": [
    "%%javascript\n",
    "window.jsFlagSetValue = 'This text is stored in window.jsFlagSetValue using the `%%javascript` cell tag'"
   ]
  },
  {
   "cell_type": "markdown",
   "metadata": {},
   "source": [
    "<div id='output-area'> </div>"
   ]
  },
  {
   "cell_type": "code",
   "execution_count": null,
   "metadata": {},
   "outputs": [],
   "source": [
    "%%javascript\n",
    "document.querySelector(\"#output-area\").innerHTML= \"This text was inserted at run time. It retrieved the following text as a value from the window after setting it in another cell: '\"+window.jsFlagSetValue + \"'.\";"
   ]
  },
  {
   "cell_type": "markdown",
   "metadata": {},
   "source": [
    "</details>"
   ]
  },
  {
   "cell_type": "code",
   "execution_count": null,
   "metadata": {
    "id": "UxM0nev6-K4N"
   },
   "outputs": [],
   "source": [
    "%%html\n",
    "<details>\n",
    "  <summary> Running %%html  </summary>\n",
    "   This text and it's container was written in an html flag code cell.\n",
    "\n",
    "  It operates in page how it does in notebook... \n",
    "</details>\n",
    "<script> console.log('console message from within an html flag code cell') </script>"
   ]
  },
  {
   "cell_type": "code",
   "execution_count": null,
   "metadata": {
    "id": "Iuof6bWBZSG5"
   },
   "outputs": [],
   "source": [
    "#hide_input #collapse_output_open\n",
    "print(\"#hide_input #collapse_output_open: Wont show the input code nor style the output cell\")"
   ]
  },
  {
   "cell_type": "code",
   "execution_count": null,
   "metadata": {
    "id": "B537cKHFdUbz"
   },
   "outputs": [],
   "source": [
    "#hide_output #collapse_input_open\n",
    "print(\"#hide_output #collapse_input_open: <- Adding this to the top of the cell keeps and prettifies the input cell while hiding the output.\") "
   ]
  },
  {
   "cell_type": "markdown",
   "metadata": {
    "id": "AyVZ4B2zHSN_"
   },
   "source": [
    "<link rel=\"stylesheet\" href=\"https://pro.fontawesome.com/releases/v5.10.0/css/all.css\" integrity=\"sha384-AYmEC3Yw5cVb3ZcuHtOA93w35dYTsvhLPVnYs9eStHfGJvOvKxVfELGroGkvsg+p\" crossorigin=\"anonymous\"/>\n",
    "<script>\n",
    "  console.log('console message from within an unflagged markdown cell')\n",
    "</script>"
   ]
  },
  {
   "cell_type": "code",
   "execution_count": 90,
   "metadata": {
    "id": "Nju2dbqAOpIc"
   },
   "outputs": [],
   "source": [
    "%%capture\n",
    "! pip install geopandas dataplay\n",
    "! pip install folium\n",
    "! pip install fiona\n",
    "! pip install psycopg2-binary \n",
    "! pip install geopy"
   ]
  },
  {
   "cell_type": "markdown",
   "metadata": {},
   "source": [
    "Heres Some Python Output"
   ]
  },
  {
   "cell_type": "code",
   "execution_count": null,
   "metadata": {
    "id": "0yHyL5vTOV1x"
   },
   "outputs": [],
   "source": [
    "#hide_input\n",
    "#collapse_output\n",
    "import dataplay.geoms as gm\n",
    "import geopandas as gpd\n",
    "from IPython import display\n",
    "from IPython.display import clear_output\n",
    "csa_gdf = gpd.read_file(\"https://services1.arcgis.com/mVFRs7NF4iFitgbY/ArcGIS/rest/services/Hhchpov/FeatureServer/0/query?where=1%3D1&outFields=*&returnGeometry=true&f=pgeojson\");\n",
    "geoloom = gpd.read_file(\"https://services1.arcgis.com/mVFRs7NF4iFitgbY/ArcGIS/rest/services/Geoloom_Crowd/FeatureServer/0/query?where=1%3D1&outFields=*&returnGeometry=true&f=pgeojson\");\n",
    "geoloom['POINT_X'] = geoloom['geometry'].centroid.x\n",
    "geoloom['POINT_Y'] = geoloom['geometry'].centroid.y\n",
    "geoloom = geoloom.dropna(subset=['POINT_Y', 'POINT_X'])\n",
    "clear_output()\n",
    "geoloom = geoloom[geoloom['geometry'].centroid.x < -75]\n",
    "geoloom = geoloom[geoloom['geometry'].centroid.x > -80]\n",
    "geoloom = geoloom[geoloom['geometry'].centroid.y > 39]\n",
    "geoloom.plot()"
   ]
  },
  {
   "cell_type": "markdown",
   "metadata": {},
   "source": [
    "Missing: pygal, bokeh, holoviews, plotly, prophet, tensorflow, web components. TODO - Make new line breaks occur with double spaces too.. <Notes> <INFO> <WARNING>"
   ]
  },
  {
   "cell_type": "markdown",
   "metadata": {
    "id": "uZpVjS7nR3my"
   },
   "source": [
    "</details><details open><summary>"
   ]
  },
  {
   "cell_type": "markdown",
   "metadata": {
    "id": "wQvgNYW7dUcC"
   },
   "source": [
    "### Ipython\n",
    "</summary>"
   ]
  },
  {
   "cell_type": "markdown",
   "metadata": {},
   "source": [
    "<details><summary>"
   ]
  },
  {
   "cell_type": "markdown",
   "metadata": {
    "id": "_0NybzfNK71c"
   },
   "source": [
    "#### Display Javascript\n",
    "</summary>"
   ]
  },
  {
   "cell_type": "code",
   "execution_count": null,
   "metadata": {},
   "outputs": [],
   "source": [
    "from IPython.core.display import display, HTML\n",
    "display(Javascript(\"\"\"\n",
    "document.body.style.backgroundColor = '';\n",
    "\"\"\"))"
   ]
  },
  {
   "cell_type": "code",
   "execution_count": null,
   "metadata": {},
   "outputs": [],
   "source": [
    "display(Javascript(\"\"\"\n",
    "        var currentScriptTag = document.currentScript;\n",
    "        console.log('currentScriptTag', currentScriptTag);\n",
    "        var parentOfScriptTag = currentScriptTag?.parentElement;\n",
    "        console.log(parentOfScriptTag);\n",
    "\"\"\"))"
   ]
  },
  {
   "cell_type": "markdown",
   "metadata": {
    "id": "6pPx9TxvHImZ"
   },
   "source": [
    "Using this method Javascript is persisted in the outputs of the cell and will be executed when the document is reloaded."
   ]
  },
  {
   "cell_type": "code",
   "execution_count": null,
   "metadata": {
    "id": "g6yRE4UddUcD"
   },
   "outputs": [],
   "source": [
    "import IPython\n",
    "IPython.display.Javascript(\"\"\"window.displaySetValue=3;\"\"\")"
   ]
  },
  {
   "cell_type": "code",
   "execution_count": null,
   "metadata": {
    "id": "GDXW6pZrdUcD"
   },
   "outputs": [],
   "source": [
    "#hide_input\n",
    "IPython.display.Javascript('''console.log('console message from within an IPython.display.Javascript()')''')"
   ]
  },
  {
   "cell_type": "markdown",
   "metadata": {
    "id": "FN_3cUGMdUcD"
   },
   "source": [
    "<div id=\"output-area2\">This text should be overwritten to show displaySetValue from above</div>"
   ]
  },
  {
   "cell_type": "code",
   "execution_count": null,
   "metadata": {
    "id": "wvIW8OX7Jm20"
   },
   "outputs": [],
   "source": [
    "#hide_input\n",
    "import IPython\n",
    "from datetime import datetime\n",
    "\n",
    "js_code = '''\n",
    "document.querySelector(\"#output-area2\").innerHTML= \"displaySetValue=\"+window.displaySetValue+\": ( Retrieved from Ipython Display set widow value).<br/>\";\n",
    "'''\n",
    "\n",
    "IPython.display.Javascript(js_code)"
   ]
  },
  {
   "cell_type": "markdown",
   "metadata": {
    "id": "ddZsYBJtdUcD"
   },
   "source": [
    "<div id=\"output-area4\">This text should be overwritten to show displaySetValue from above</div>"
   ]
  },
  {
   "cell_type": "code",
   "execution_count": null,
   "metadata": {
    "id": "oI1lezymdUcD"
   },
   "outputs": [],
   "source": [
    "%%javascript\n",
    "document.querySelector(\"#output-area4\").innerHTML= \"displaySetValue=\"+window.displaySetValue + \": ( Retrieved from \\%\\%javascript Flag set window value).\";"
   ]
  },
  {
   "cell_type": "markdown",
   "metadata": {
    "id": "d8-jR4MudUcD"
   },
   "source": [
    "Information obtained from: [Advanced Outputs](https://colab.research.google.com/notebooks/snippets/advanced_outputs.ipynb)"
   ]
  },
  {
   "cell_type": "markdown",
   "metadata": {
    "id": "3jMN8aQ-dUcD"
   },
   "source": [
    "(((info:: `eval_js` differs from `display.Javascript`. `eval_js` expressions are not persisted in the notebook document and will not be executed when the document is reloaded.)))"
   ]
  },
  {
   "cell_type": "markdown",
   "metadata": {
    "id": "HZz6LenFG3yl"
   },
   "source": [
    "</details><details><summary>"
   ]
  },
  {
   "cell_type": "markdown",
   "metadata": {
    "id": "gZ1TGICzUVqB"
   },
   "source": [
    "#### Display Html & Py Templating\n",
    "</summary>"
   ]
  },
  {
   "cell_type": "code",
   "execution_count": null,
   "metadata": {},
   "outputs": [],
   "source": [
    "#hide_output #collapse_input_open\n",
    "import requests\n",
    "\n",
    "resp = requests.get('https://charleskarpati.com')\n",
    "\n",
    "from IPython.core.display import display, HTML\n",
    "\n",
    "display(HTML(resp.content.decode('utf-8')[:-4]))"
   ]
  },
  {
   "cell_type": "code",
   "execution_count": null,
   "metadata": {
    "id": "dJ_m6Zz4Rron"
   },
   "outputs": [],
   "source": [
    "#hide_input\n",
    "import IPython\n",
    "template = \"\"\"Heres an example: <button id=\"{callback_id}\">{title}</button>\n",
    "    <script>\n",
    "      document.querySelectorAll('#{callback_id}')[0].onclick = (function(){{ console.log('you clicked {callback_id}!') }} );\n",
    "    </script>\"\"\"\n",
    "html = template.format(title='Click me and check your console!', callback_id='callthis')\n",
    "IPython.display.HTML(html)"
   ]
  },
  {
   "cell_type": "markdown",
   "metadata": {
    "id": "smlHTvBrdUcD"
   },
   "source": [
    "</details>"
   ]
  },
  {
   "cell_type": "markdown",
   "metadata": {
    "id": "H1t0e4-FdUcE"
   },
   "source": [
    "</details><details><summary>"
   ]
  },
  {
   "cell_type": "markdown",
   "metadata": {
    "id": "FHQYN1r4JRK9"
   },
   "source": [
    "### Vega-Embed\n",
    "</summary>"
   ]
  },
  {
   "cell_type": "markdown",
   "metadata": {
    "id": "A4D6GSpu10-D"
   },
   "source": [
    "[vega-embed](https://github.com/vega/vega-embed)\n",
    "\n",
    "[embed](https://vega.github.io/vega-lite/usage/embed.html)"
   ]
  },
  {
   "cell_type": "markdown",
   "metadata": {
    "id": "N1CGS9HXl5me"
   },
   "source": [
    "[hello-vega-embed](https://observablehq.com/@vega/hello-vega-embed)"
   ]
  },
  {
   "cell_type": "markdown",
   "metadata": {
    "id": "MJHu97YCGlKd"
   },
   "source": [
    "</details><details><summary>"
   ]
  },
  {
   "cell_type": "markdown",
   "metadata": {
    "id": "hnI2xCfXJXOf"
   },
   "source": [
    "### Folium / Dataplay\n",
    "</summary>"
   ]
  },
  {
   "cell_type": "markdown",
   "metadata": {
    "id": "vXWG3rVG4Noj"
   },
   "source": [
    "1. Folium [JavascriptLink](https://github.com/python-visualization/folium/search?q=JavascriptLink&unscoped_q=JavascriptLink)\n",
    "\n",
    "2. Folium [Adding Javascript](https://stackoverflow.com/questions/60479995/adding-javascript-to-folium-map)\n",
    "\n",
    "3. Folium [How to Use Custom Javascript](https://github.com/python-visualization/folium/issues/765)\n",
    "\n",
    "4. Folium [Custom HTML JS](https://github.com/python-visualization/folium/issues/86)\n",
    "\n",
    "5. Folium [Click Event](https://gis.stackexchange.com/questions/313382/click-event-on-maps-with-folium-and-information-retrieval)\n"
   ]
  },
  {
   "cell_type": "code",
   "execution_count": null,
   "metadata": {
    "id": "qHjAnuZ16xqh"
   },
   "outputs": [],
   "source": [
    "%%capture\n",
    "!pip install geopandas\n",
    "!pip install dataplay\n",
    "!pip install dexplot"
   ]
  },
  {
   "cell_type": "code",
   "execution_count": null,
   "metadata": {
    "id": "b6q_GINYbVNN"
   },
   "outputs": [],
   "source": [
    "#hide_input\n",
    "import folium\n",
    "from IPython.display import display, HTML\n",
    "start_coords = (39.2904, -76.6122)\n",
    "f = folium.Figure(width=800, height=300)\n",
    "m = folium.Map(start_coords, zoom_start=15).add_to(f)\n",
    "pp = folium.Html('<a href=\"'+ 'give your url here'+'\"target=\"_blank\">'+ 'popup text' + '</a>', script=True)\n",
    "popup = folium.Popup(pp, max_width=2650)\n",
    "folium.Marker(location=[46.9540700, 142.7360300], popup=popup).add_to(m)\n",
    "m=m._repr_html_()\n",
    "display(HTML( m ))"
   ]
  },
  {
   "cell_type": "code",
   "execution_count": null,
   "metadata": {
    "id": "W0q91AUbRiTI"
   },
   "outputs": [],
   "source": [
    "#hide\n",
    "import dataplay\n",
    "help(dataplay)"
   ]
  },
  {
   "cell_type": "code",
   "execution_count": null,
   "metadata": {
    "id": "8ac5Hf3W1pDT"
   },
   "outputs": [],
   "source": [
    "#hide _input\n",
    "#collapse_output\n",
    "import geopandas as gpd\n",
    "import dataplay\n",
    "from IPython import display\n",
    "from IPython.display import clear_output\n",
    "csa_gdf = gpd.read_file(\"https://services1.arcgis.com/mVFRs7NF4iFitgbY/ArcGIS/rest/services/Hhchpov/FeatureServer/0/query?where=1%3D1&outFields=*&returnGeometry=true&f=pgeojson\");\n",
    "geoloom = gpd.read_file(\"https://services1.arcgis.com/mVFRs7NF4iFitgbY/ArcGIS/rest/services/Geoloom_Crowd/FeatureServer/0/query?where=1%3D1&outFields=*&returnGeometry=true&f=pgeojson\");\n",
    "geoloom['POINT_X'] = geoloom['geometry'].centroid.x\n",
    "geoloom['POINT_Y'] = geoloom['geometry'].centroid.y\n",
    "geoloom = geoloom.dropna(subset=['POINT_Y', 'POINT_X'])\n",
    "clear_output()\n",
    "help(dataplay.geoms)\n",
    "# .map_points(geoloom, lat_col='POINT_Y', lon_col='POINT_X', zoom_start=11, plot_points=True, pt_radius=15, draw_heatmap=True, heat_map_weights_col=None, heat_map_weights_normalize=True, heat_map_radius=15)"
   ]
  },
  {
   "cell_type": "markdown",
   "metadata": {
    "id": "iAejh0F9GLYA"
   },
   "source": [
    "</details><details><summary>"
   ]
  },
  {
   "cell_type": "markdown",
   "metadata": {
    "id": "VbAjb6H9UaFC"
   },
   "source": [
    "### ObservableHQ"
   ]
  },
  {
   "cell_type": "markdown",
   "metadata": {},
   "source": [
    "</summary>"
   ]
  },
  {
   "cell_type": "markdown",
   "metadata": {},
   "source": [
    "You've seen them with the diagrams at the intro!"
   ]
  },
  {
   "cell_type": "code",
   "execution_count": null,
   "metadata": {
    "id": "jw_WuoB2dUb7",
    "outputId": "0fda0de5-18ed-484c-c706-851ed3a95708"
   },
   "outputs": [],
   "source": [
    "#hide_input\n",
    "from IPython.core.display import display, HTML\n",
    "display(HTML(\"\"\"<div id=\"observablehq-viz1\"></div>\n",
    "<script type=\"module\">\n",
    "import {Runtime, Inspector} from \"https://cdn.jsdelivr.net/npm/@observablehq/runtime@4/dist/runtime.js\";\n",
    "import define from \"https://api.observablehq.com/@karpatic/website-code-diagram.js?v=4\";\n",
    "new Runtime().module(define, name => {\n",
    "  if (['vswp', 'colabShortcode'].includes(name)) return new Inspector(document.querySelector(\"#observablehq-viz1\"));\n",
    "});</script>\"\"\") )"
   ]
  },
  {
   "cell_type": "markdown",
   "metadata": {
    "id": "XhnYP4jYTql4"
   },
   "source": [
    "</details><details><summary>"
   ]
  },
  {
   "cell_type": "markdown",
   "metadata": {
    "id": "K4PCxMq3KVbi"
   },
   "source": [
    "### pivottablejs\n",
    "</summary>"
   ]
  },
  {
   "cell_type": "code",
   "execution_count": 29,
   "metadata": {},
   "outputs": [],
   "source": [
    "import pandas as pd\n",
    "df = pd.DataFrame({\"book\":[\"A\",\"B\",\"C\",\"D\",\"E\",\"F\",\"G\",\"H\",\"I\",\"J\",\"K\"],\"scores\":[45,34,54,27,70,25,92,22,40,10,40]})"
   ]
  },
  {
   "cell_type": "markdown",
   "metadata": {
    "id": "tjjCGSYG40hV"
   },
   "source": [
    "[pivottablejs](https://pypi.org/project/pivottablejs/)"
   ]
  },
  {
   "cell_type": "code",
   "execution_count": 30,
   "metadata": {
    "id": "uoRfSZK84y9n"
   },
   "outputs": [],
   "source": [
    "%%capture\n",
    "!pip install pivottablejs"
   ]
  },
  {
   "cell_type": "code",
   "execution_count": null,
   "metadata": {},
   "outputs": [],
   "source": [
    "import pandas as pd\n",
    "from pivottablejs import pivot_ui\n",
    "\n",
    "# Create DataFrame\n",
    "df = pd.DataFrame({\n",
    "    \"book\": [\"A\", \"B\", \"C\", \"D\", \"E\", \"F\", \"G\", \"H\", \"I\", \"J\", \"K\"],\n",
    "    \"scores\": [45, 34, 54, 27, 70, 25, 92, 22, 40, 10, 40]\n",
    "})\n",
    "\n",
    "# Inline display of pivot table in Jupyter Notebook\n",
    "pivot_ui(df, outfile_path='pivottablejs.html')\n"
   ]
  },
  {
   "cell_type": "code",
   "execution_count": null,
   "metadata": {},
   "outputs": [],
   "source": [
    "from IPython.display import HTML\n",
    "\n",
    "# Embed the pivot table as an iframe\n",
    "HTML('<iframe src=\"pivottablejs.html\" width=\"100%\" height=\"500\" frameborder=\"0\" allowfullscreen></iframe>')\n"
   ]
  },
  {
   "cell_type": "code",
   "execution_count": null,
   "metadata": {},
   "outputs": [],
   "source": [
    "if os.path.exists('pivottablejs.html'):\n",
    "    print(\"File generated successfully!\")\n",
    "else:\n",
    "    print(\"File was not generated.\")\n"
   ]
  },
  {
   "cell_type": "code",
   "execution_count": null,
   "metadata": {},
   "outputs": [],
   "source": [
    "IFrame('/home/carlos/Documents/GitHub/karpatic/src/ipynb/labs/pivottablejs.html', width=1000, height=500)\n"
   ]
  },
  {
   "cell_type": "code",
   "execution_count": null,
   "metadata": {},
   "outputs": [],
   "source": [
    "from IPython.display import IFrame, display\n",
    "\n",
    "# Display the pivot table inline using IFrame\n",
    "display(IFrame('pivottablejs.html', width=1000, height=500))\n"
   ]
  },
  {
   "cell_type": "code",
   "execution_count": null,
   "metadata": {},
   "outputs": [],
   "source": [
    "import os\n",
    "print(os.getcwd())\n"
   ]
  },
  {
   "cell_type": "code",
   "execution_count": null,
   "metadata": {},
   "outputs": [],
   "source": [
    "# Display the pivot table inline using IFrame\n",
    "IFrame('pivottablejs.html', width=1000, height=500)"
   ]
  },
  {
   "cell_type": "markdown",
   "metadata": {
    "id": "2Cc8EPcbUaE5"
   },
   "source": [
    "</details>\n",
    "<details><summary>"
   ]
  },
  {
   "cell_type": "markdown",
   "metadata": {
    "id": "58zc-rOJZzl9"
   },
   "source": [
    "### MPLD3\n",
    "</summary>"
   ]
  },
  {
   "cell_type": "markdown",
   "metadata": {
    "id": "NMtzbiwNbQk9"
   },
   "source": [
    "The mpld3 project brings together Matplotlib, the popular Python-based graphing library, and D3js, the popular JavaScript library for creating interactive data visualizations for the web. The result is a simple API for exporting your matplotlib graphics to HTML code which can be used within the browser, within standard web pages, blogs, or tools such as the IPython notebook."
   ]
  },
  {
   "cell_type": "code",
   "execution_count": 1,
   "metadata": {
    "id": "Uet6A7zibhqp"
   },
   "outputs": [],
   "source": [
    "%%capture\n",
    "!pip install mpld3"
   ]
  },
  {
   "cell_type": "code",
   "execution_count": null,
   "metadata": {
    "id": "54PqE05MbggH"
   },
   "outputs": [],
   "source": [
    "import mpld3\n",
    "mpld3.enable_notebook()\n",
    "\n",
    "%matplotlib inline\n",
    "import matplotlib.pyplot as plt\n",
    "import numpy as np\n",
    "from mpld3 import plugins\n",
    "\n",
    "fig, ax = plt.subplots(3, 3, figsize=(6, 6))\n",
    "fig.subplots_adjust(hspace=0.1, wspace=0.1)\n",
    "ax = ax[::-1]\n",
    "\n",
    "X = np.random.normal(size=(3, 100))\n",
    "points_list = []  # Store scatter plots here\n",
    "\n",
    "for i in range(3):\n",
    "    for j in range(3):\n",
    "        ax[i, j].xaxis.set_major_formatter(plt.NullFormatter())\n",
    "        ax[i, j].yaxis.set_major_formatter(plt.NullFormatter())\n",
    "        points = ax[i, j].scatter(X[j], X[i])\n",
    "        points_list.append(points)  # Add scatter plot to list\n",
    "\n",
    "# Divide scatter plots into smaller groups for LinkedBrush\n",
    "plugins.connect(fig, plugins.LinkedBrush(points_list[0], points_list[1], points_list[2]))\n",
    "plugins.connect(fig, plugins.LinkedBrush(points_list[3], points_list[4], points_list[5]))\n",
    "plugins.connect(fig, plugins.LinkedBrush(points_list[6], points_list[7], points_list[8]))\n",
    "\n",
    "mpld3.display(fig)\n"
   ]
  },
  {
   "cell_type": "markdown",
   "metadata": {
    "id": "AcvBllklF-ak"
   },
   "source": [
    "</details><details><summary>"
   ]
  },
  {
   "cell_type": "markdown",
   "metadata": {
    "id": "mQz3p1WlTPWg"
   },
   "source": [
    "### DC.js dcpy\n",
    "</summary>"
   ]
  },
  {
   "cell_type": "markdown",
   "metadata": {
    "id": "vxIHu2g3TVmp"
   },
   "source": [
    "dc.js is a javascript charting library with native crossfilter support, allowing highly efficient exploration on large multi-dimensional datasets (inspired by crossfilter's demo)\n",
    "\n",
    "It leverages d3 to render charts in CSS-friendly SVG format. Charts rendered using dc.js are data driven and reactive"
   ]
  },
  {
   "cell_type": "code",
   "execution_count": 199,
   "metadata": {
    "id": "2rckpQkWRY_B"
   },
   "outputs": [],
   "source": [
    "%%capture\n",
    "! pip install dcpy"
   ]
  },
  {
   "cell_type": "markdown",
   "metadata": {
    "id": "SW_p3QEFUd5V"
   },
   "source": [
    "https://github.com/washim/dcpy/blob/master/dcpy/widget.py"
   ]
  },
  {
   "cell_type": "code",
   "execution_count": 200,
   "metadata": {
    "id": "qZNo_ROUT2Ut"
   },
   "outputs": [],
   "source": [
    "#hide\n",
    "from dcpy import widget\n",
    "import pandas as pd"
   ]
  },
  {
   "cell_type": "code",
   "execution_count": 201,
   "metadata": {
    "id": "35rZ1XgGT39t"
   },
   "outputs": [],
   "source": [
    "#hide \n",
    "data = df.to_json(orient=\"records\")"
   ]
  },
  {
   "cell_type": "code",
   "execution_count": 202,
   "metadata": {
    "id": "Qy3CSKEzT6XG"
   },
   "outputs": [],
   "source": [
    "#hide\n",
    "crossfilter = [\"var bookDimension=ndx.dimension(function(d){return d.book;});\",\n",
    "               \"var bookscoresGroup=bookDimension.group().reduceSum(function(d){return d.scores;});\",\n",
    "               \"var coreCount=ndx.dimension(function(d){\\\n",
    "                   if (d.scores > 80*0.5) {\\\n",
    "                       return 'High';\\\n",
    "                   }\\\n",
    "                   else{\\\n",
    "                       return 'Low';\\\n",
    "                   }\\\n",
    "               });\",\n",
    "               \"var coreCountGroup=coreCount.group();\",\n",
    "               \"var all = ndx.groupAll();\"]\n",
    "\n",
    "barchartoptions = [\"xAxisLabel('book_id')\",\n",
    "                   \"yAxisLabel('score')\",\n",
    "                   \"width(320)\",\n",
    "                   \"height(320)\",\n",
    "                   \"x(d3.scale.ordinal())\",\n",
    "                   \"xUnits(dc.units.ordinal)\",\n",
    "                   \"dimension(bookDimension)\",\n",
    "                   \"group(bookscoresGroup)\",\n",
    "                   \"colors(['orange'])\"]\n",
    "\n",
    "piechartoptions = [\"width(320)\",\n",
    "                   \"height(320)\",\n",
    "                   \"radius(120)\",\n",
    "                   \"innerRadius(40)\",\n",
    "                   \"dimension(coreCount)\",\n",
    "                   \"group(coreCountGroup)\",\n",
    "                   \"label(function(d){\\\n",
    "                       var label = d.key;\\\n",
    "                       if(all.value()){\\\n",
    "                           label += '(' + Math.floor(d.value/all.value()*100)+'%)';\\\n",
    "                       }\\\n",
    "                       return label;\\\n",
    "                   })\"]"
   ]
  },
  {
   "cell_type": "code",
   "execution_count": null,
   "metadata": {
    "id": "rKvniUuhT8Vz"
   },
   "outputs": [],
   "source": [
    "#hide_input\n",
    "from IPython.display import display, HTML\n",
    "chart = widget.initiate(data)\n",
    "chart.prepare([\"pie\",\"bar\"],crossfilter)\n",
    "chart.chart(\"pieChart\",\"pie\",piechartoptions)\n",
    "chart.chart(\"barChart\",\"bar\",barchartoptions)\n",
    "chart.save('test.html')\n",
    "f = open(\"test.html\", \"r\")\n",
    "display(HTML(f.read()))"
   ]
  },
  {
   "cell_type": "code",
   "execution_count": null,
   "metadata": {
    "id": "WAK7p-YG0m7e"
   },
   "outputs": [],
   "source": [
    "%%html\n",
    "<style>\n",
    "  div.dc-chart {\n",
    "    float: none !important;\n",
    "  }\n",
    "</style>"
   ]
  },
  {
   "cell_type": "markdown",
   "metadata": {
    "id": "oq5Ht_EiGDuo"
   },
   "source": [
    "</details><details><summary>"
   ]
  },
  {
   "cell_type": "markdown",
   "metadata": {
    "id": "oFSO0FTlHZvp"
   },
   "source": [
    "### Altair - Vega\n",
    "</summary>"
   ]
  },
  {
   "cell_type": "markdown",
   "metadata": {
    "id": "reD4eBMCGQfN"
   },
   "source": [
    "- Altair provides a Python API for generating validated Vega-Lite specifications\n",
    "\n",
    "- Altair is fundamentally about constructing chart specifications, the central functionality of any chart object are the to_dict() and to_json()\n",
    "\n",
    "[test123](https://altair-viz.github.io/user_guide/internals.html)"
   ]
  },
  {
   "cell_type": "code",
   "execution_count": null,
   "metadata": {
    "id": "qh-uMDOYG_aO"
   },
   "outputs": [],
   "source": [
    "#hide_input\n",
    "import altair as alt\n",
    "from vega_datasets import data\n",
    "\n",
    "\n",
    "chart = alt.Chart(data.cars.url).mark_point().encode(\n",
    "    x='Horsepower:Q',\n",
    "    y='Miles_per_Gallon:Q',\n",
    "    color='Origin:N',\n",
    ").configure_view(\n",
    "    continuousHeight=300,\n",
    "    continuousWidth=400,\n",
    ")"
   ]
  },
  {
   "cell_type": "code",
   "execution_count": null,
   "metadata": {
    "id": "Kg0f5n2CSCao"
   },
   "outputs": [],
   "source": [
    "This isn't interactive"
   ]
  },
  {
   "cell_type": "code",
   "execution_count": null,
   "metadata": {
    "id": "BzVts3jmINw5"
   },
   "outputs": [],
   "source": [
    "#hide_input\n",
    "alt.Chart.from_json( chart.to_json(indent=2) )"
   ]
  },
  {
   "cell_type": "markdown",
   "metadata": {
    "id": "avgIZfdSGTRf"
   },
   "source": [
    "</details><details><summary>"
   ]
  },
  {
   "cell_type": "markdown",
   "metadata": {
    "id": "IpQdoqHWQeA1"
   },
   "source": [
    "### NVD3 python-nvd3\n",
    "</summary>"
   ]
  },
  {
   "cell_type": "markdown",
   "metadata": {
    "id": "ehwOj9wJQfW8"
   },
   "source": [
    "python-nvd3 [homepage](https://github.com/areski/python-nvd3]) and [docs](https://python-nvd3.readthedocs.io/en/latest/)\n",
    "\n",
    "NVD3 is an attempt to build re-usable charts and chart components for d3.js without taking away the power that d3.js offers you.\n",
    "\n",
    "This will output the following HTML to render a live chart. The HTML could be stored into a HTML file, used in a Web application"
   ]
  },
  {
   "cell_type": "code",
   "execution_count": null,
   "metadata": {
    "id": "m_fxKJMyR7LD"
   },
   "outputs": [],
   "source": [
    "%%capture\n",
    "! pip install python-nvd3"
   ]
  },
  {
   "cell_type": "code",
   "execution_count": null,
   "metadata": {
    "id": "Emt7Z5SRRmt5"
   },
   "outputs": [],
   "source": [
    "#hide\n",
    "from nvd3 import pieChart\n",
    "type = 'pieChart'\n",
    "chart = pieChart(name=type, color_category='category20c', height=450, width=450)\n",
    "xdata = [\"Orange\", \"Banana\", \"Pear\", \"Kiwi\", \"Apple\", \"Strawberry\", \"Pineapple\"]\n",
    "ydata = [3, 4, 0, 1, 5, 7, 3]\n",
    "extra_serie = {\"tooltip\": {\"y_start\": \"\", \"y_end\": \" cal\"}}\n",
    "chart.add_serie(y=ydata, x=xdata, extra=extra_serie)\n",
    "# chart.buildcontent()\n",
    "chart.buildhtml()\n",
    "chart_html = chart.htmlcontent\n",
    "display(HTML(chart_html))"
   ]
  },
  {
   "cell_type": "code",
   "execution_count": null,
   "metadata": {
    "id": "qI6W65OSXcoR"
   },
   "outputs": [],
   "source": [
    "#hide_input\n",
    "from IPython.display import display, HTML\n",
    "import numpy as np\n",
    "import nvd3\n",
    "\n",
    "np.random.seed(100)\n",
    "chart_type = 'discreteBarChart'\n",
    "chart = nvd3.discreteBarChart(name=chart_type, height=500, width=500)\n",
    "\n",
    "ydata = [float(x) for x in np.random.randn(10)]\n",
    "xdata = [int(x) for x in np.arange(10)]\n",
    "\n",
    "chart.add_serie(y=ydata, x=xdata)\n",
    "chart.buildhtml()\n",
    "chart_html = chart.htmlcontent\n",
    "display(HTML(chart_html))"
   ]
  },
  {
   "cell_type": "markdown",
   "metadata": {
    "id": "hNuCLn0NHW6K"
   },
   "source": [
    "</details>\n",
    "\n",
    "<details><summary>"
   ]
  },
  {
   "cell_type": "markdown",
   "metadata": {
    "id": "W-_naVoQ4Nok"
   },
   "source": [
    "### Bokeh\n",
    "</summary>\n"
   ]
  },
  {
   "cell_type": "markdown",
   "metadata": {
    "id": "CTKhAuiVQ8xw"
   },
   "source": [
    "No script here!"
   ]
  },
  {
   "cell_type": "markdown",
   "metadata": {
    "id": "olNdC-5TIF40"
   },
   "source": [
    "1. Bokeh [Developing with JavaScript](https://docs.bokeh.org/en/latest/docs/user_guide/bokehjs.html)\n",
    "\n",
    "2. Bokeh [Callbacks](https://docs.bokeh.org/en/latest/docs/user_guide/interaction/callbacks.html)\n",
    "\n",
    "3. Bokeh [Exporting Plots](https://docs.bokeh.org/en/latest/docs/user_guide/export.html)\n",
    "\n",
    "4. Bokeh [Embed](https://stackoverflow.com/questions/48712938/how-to-embed-bokeh-js-output-figure-inside-a-div-element)"
   ]
  },
  {
   "cell_type": "code",
   "execution_count": 21,
   "metadata": {},
   "outputs": [],
   "source": [
    "%%capture\n",
    "pip install bokeh"
   ]
  },
  {
   "cell_type": "code",
   "execution_count": null,
   "metadata": {},
   "outputs": [],
   "source": [
    "from bokeh.plotting import figure, output_file, save\n",
    "from IPython.core.display import display, HTML\n",
    "import os\n",
    "\n",
    "# Create a simple plot\n",
    "data = {'x': [1, 2, 3, 4, 5], 'y': [6, 7, 2, 4, 5]}\n",
    "p = figure(title=\"Simple Line Chart\", x_axis_label='X-Axis', y_axis_label='Y-Axis')\n",
    "\n",
    "# Add a line renderer\n",
    "p.line(data['x'], data['y'], legend_label=\"Line\", line_width=2)\n",
    "\n",
    "# Save the plot to an HTML file\n",
    "filename = \"plot.html\"\n",
    "save(p, filename)\n"
   ]
  },
  {
   "cell_type": "code",
   "execution_count": null,
   "metadata": {},
   "outputs": [],
   "source": [
    "# Read the content of the HTML file into a variable\n",
    "with open(filename, 'r') as f:\n",
    "    html_content = f.read()\n",
    "\n",
    "# Display the HTML content inline in the notebook\n",
    "display(HTML(html_content))\n",
    "\n",
    "# Optionally, remove the file after displaying\n",
    "os.remove(filename)"
   ]
  },
  {
   "cell_type": "markdown",
   "metadata": {
    "id": "XO5CJb9_HzTJ"
   },
   "source": [
    "</details>\n",
    "\n",
    "<details><summary>"
   ]
  },
  {
   "cell_type": "markdown",
   "metadata": {
    "id": "oYaTYUo-blsu"
   },
   "source": [
    "### MatPlotLib\n",
    "</summary>"
   ]
  },
  {
   "cell_type": "code",
   "execution_count": null,
   "metadata": {
    "id": "al2bAjH5bnPV"
   },
   "outputs": [],
   "source": [
    "# https://pandas.pydata.org/pandas-docs/stable/user_guide/visualization.html#plotting-directly-with-matplotlib\n",
    "# Series and DataFrame objects behave like arrays and can therefore be passed directly to matplotlib functions without explicit casts.\n",
    "import pandas as pd\n",
    "import matplotlib.pyplot as plt\n",
    "import numpy as np\n",
    "price = pd.Series( np.random.randn(150).cumsum(), index=pd.date_range(\"2000-1-1\", periods=150, freq=\"B\") )\n",
    "ma = price.rolling(20).mean()\n",
    "mstd = price.rolling(20).std()\n",
    "plt.figure();\n",
    "plt.plot(price.index, price, \"k\");\n",
    "plt.plot(ma.index, ma, \"b\");\n",
    "plt.fill_between(mstd.index, ma - 2 * mstd, ma + 2 * mstd, color=\"b\", alpha=0.2);"
   ]
  },
  {
   "cell_type": "code",
   "execution_count": null,
   "metadata": {
    "id": "6rsxYd49sp4h"
   },
   "outputs": [],
   "source": [
    "dd = pd.DataFrame(np.random.randn(10, 10)).applymap(abs)\n",
    "dd = dd.cumsum()\n",
    "plt.figure();\n",
    "dd.plot.bar(colormap=\"Greens\");"
   ]
  },
  {
   "cell_type": "markdown",
   "metadata": {},
   "source": [
    "</details><details><summary>"
   ]
  },
  {
   "cell_type": "markdown",
   "metadata": {
    "id": "7WVfEFAPRZOh"
   },
   "source": [
    "### networkx - Plotly\n",
    "</summary>"
   ]
  },
  {
   "cell_type": "markdown",
   "metadata": {
    "id": "EJaV_SF8VNR_"
   },
   "source": [
    "[Network Graphs](https://plotly.com/python/network-graphs/)"
   ]
  },
  {
   "cell_type": "code",
   "execution_count": 1,
   "metadata": {
    "id": "kQ3BwAS5VNv6"
   },
   "outputs": [],
   "source": [
    "#hide\n",
    "import plotly.graph_objects as go\n",
    "import networkx as nx\n",
    "G = nx.random_geometric_graph(200, 0.125)"
   ]
  },
  {
   "cell_type": "code",
   "execution_count": 2,
   "metadata": {
    "id": "myWAznVUVUZj"
   },
   "outputs": [],
   "source": [
    "#hide\n",
    "edge_x = []\n",
    "edge_y = []\n",
    "for edge in G.edges():\n",
    "    x0, y0 = G.nodes[edge[0]]['pos']\n",
    "    x1, y1 = G.nodes[edge[1]]['pos']\n",
    "    edge_x.append(x0)\n",
    "    edge_x.append(x1)\n",
    "    edge_x.append(None)\n",
    "    edge_y.append(y0)\n",
    "    edge_y.append(y1)\n",
    "    edge_y.append(None)\n",
    "\n",
    "edge_trace = go.Scatter(\n",
    "    x=edge_x, y=edge_y,\n",
    "    line=dict(width=0.5, color='#888'),\n",
    "    hoverinfo='none',\n",
    "    mode='lines')\n",
    "\n",
    "node_x = []\n",
    "node_y = []\n",
    "for node in G.nodes():\n",
    "    x, y = G.nodes[node]['pos']\n",
    "    node_x.append(x)\n",
    "    node_y.append(y)\n",
    "\n",
    "node_trace = go.Scatter(\n",
    "    x=node_x, y=node_y,\n",
    "    mode='markers',\n",
    "    hoverinfo='text',\n",
    "    marker=dict(\n",
    "        showscale=True,\n",
    "        # colorscale options\n",
    "        #'Greys' | 'YlGnBu' | 'Greens' | 'YlOrRd' | 'Bluered' | 'RdBu' |\n",
    "        #'Reds' | 'Blues' | 'Picnic' | 'Rainbow' | 'Portland' | 'Jet' |\n",
    "        #'Hot' | 'Blackbody' | 'Earth' | 'Electric' | 'Viridis' |\n",
    "        colorscale='YlGnBu',\n",
    "        reversescale=True,\n",
    "        color=[],\n",
    "        size=10,\n",
    "        colorbar=dict(\n",
    "            thickness=15,\n",
    "            title='Node Connections',\n",
    "            xanchor='left',\n",
    "            titleside='right'\n",
    "        ),\n",
    "        line_width=2))"
   ]
  },
  {
   "cell_type": "code",
   "execution_count": 3,
   "metadata": {
    "id": "Wkf34HUvVXVw"
   },
   "outputs": [],
   "source": [
    "#hide\n",
    "node_adjacencies = []\n",
    "node_text = []\n",
    "for node, adjacencies in enumerate(G.adjacency()):\n",
    "    node_adjacencies.append(len(adjacencies[1]))\n",
    "    node_text.append('# of connections: '+str(len(adjacencies[1])))\n",
    "\n",
    "node_trace.marker.color = node_adjacencies\n",
    "node_trace.text = node_text"
   ]
  },
  {
   "cell_type": "code",
   "execution_count": 4,
   "metadata": {
    "id": "VH144BvhVZjc"
   },
   "outputs": [],
   "source": [
    "#hide_input\n",
    "fig = go.Figure(data=[edge_trace, node_trace],\n",
    "             layout=go.Layout(\n",
    "                title='<br>Network graph made with Python',\n",
    "                titlefont_size=16,\n",
    "                showlegend=False,\n",
    "                hovermode='closest',\n",
    "                margin=dict(b=20,l=5,r=5,t=40),\n",
    "                annotations=[ dict(\n",
    "                    text=\"Python code: <a href='https://plotly.com/ipython-notebooks/network-graphs/'> https://plotly.com/ipython-notebooks/network-graphs/</a>\",\n",
    "                    showarrow=False,\n",
    "                    xref=\"paper\", yref=\"paper\",\n",
    "                    x=0.005, y=-0.002 ) ],\n",
    "                xaxis=dict(showgrid=False, zeroline=False, showticklabels=False),\n",
    "                yaxis=dict(showgrid=False, zeroline=False, showticklabels=False))\n",
    "                )\n",
    "# fig.show()\n",
    "fig.write_html(\"./file.html\")"
   ]
  },
  {
   "cell_type": "code",
   "execution_count": null,
   "metadata": {},
   "outputs": [],
   "source": [
    "from IPython.display import display, HTML\n",
    "\n",
    "# retrieve from ./file.html\n",
    "with open(\"./file.html\", \"r\") as f:\n",
    "    html = f.read()\n",
    "\n",
    "# print(html)"
   ]
  },
  {
   "cell_type": "markdown",
   "metadata": {
    "id": "bIO9qslqItax"
   },
   "source": [
    "</details><details><summary>"
   ]
  },
  {
   "cell_type": "markdown",
   "metadata": {
    "id": "8VlhVnsL-eKX"
   },
   "source": [
    "### Google Colabs\n",
    "</summary>"
   ]
  },
  {
   "cell_type": "markdown",
   "metadata": {
    "id": "mIdIbjYtHSd1"
   },
   "source": [
    "The output of each cell (while in colabs) is hosted in a separate sandboxed iframe without direct access to the contents of other cells, but they can create [BroadcastChannel](https://developer.mozilla.org/en-US/docs/Web/API/BroadcastChannel/BroadcastChannel)s to communicate between cells on the same page."
   ]
  },
  {
   "cell_type": "markdown",
   "metadata": {
    "id": "0YyfqR9cqZYx"
   },
   "source": [
    "This will execute and trigger in realtime in the converted HTML doc:"
   ]
  },
  {
   "cell_type": "code",
   "execution_count": null,
   "metadata": {
    "id": "C6EUBnQw87Wj"
   },
   "outputs": [],
   "source": [
    "%%javascript\n",
    "const listenerChannel = new BroadcastChannel('channel_one');\n",
    "listenerChannel.onmessage = (msg) => {\n",
    "  window.localStorage.setItem('localStorageVariable', msg.data);\n",
    "  console.log('recieved: ', msg.data);\n",
    "};"
   ]
  },
  {
   "cell_type": "markdown",
   "metadata": {
    "id": "8xCTPsqJqc74"
   },
   "source": [
    "This will not run on start"
   ]
  },
  {
   "cell_type": "code",
   "execution_count": null,
   "metadata": {
    "id": "8fT7bf0lT4-H"
   },
   "outputs": [],
   "source": [
    "from google.colab import output\n",
    "value = output.eval_js(\"window.localStorage.getItem('localStorageVariable')\");\n",
    "value"
   ]
  },
  {
   "cell_type": "markdown",
   "metadata": {
    "id": "SKYS8N_JqX5I"
   },
   "source": [
    "This will execute on start (converted HTML doc) and any time you run the cell (in Colabs):"
   ]
  },
  {
   "cell_type": "code",
   "execution_count": null,
   "metadata": {
    "id": "Pu5Ru49M9B-H"
   },
   "outputs": [],
   "source": [
    "%%javascript\n",
    "const senderChannel = new BroadcastChannel('channel_one');\n",
    "senderChannel.postMessage('55');"
   ]
  },
  {
   "cell_type": "code",
   "execution_count": null,
   "metadata": {
    "id": "Ya40AdO7Ysow"
   },
   "outputs": [],
   "source": [
    "%%javascript\n",
    "console.log('Cross-output communication')"
   ]
  },
  {
   "cell_type": "markdown",
   "metadata": {
    "id": "cQYQsWbaG0Ri"
   },
   "source": [
    "</details> "
   ]
  },
  {
   "cell_type": "markdown",
   "metadata": {},
   "source": [
    "</details>"
   ]
  }
 ],
 "metadata": {
  "colab": {
   "collapsed_sections": [
    "ssbD-99zdUby",
    "wQvgNYW7dUcC",
    "_0NybzfNK71c",
    "gZ1TGICzUVqB",
    "FHQYN1r4JRK9",
    "hnI2xCfXJXOf",
    "K4PCxMq3KVbi",
    "mQz3p1WlTPWg",
    "oFSO0FTlHZvp",
    "IpQdoqHWQeA1",
    "W-_naVoQ4Nok",
    "oYaTYUo-blsu",
    "7WVfEFAPRZOh",
    "x1_GAAzAItan",
    "8VlhVnsL-eKX"
   ],
   "provenance": []
  },
  "kernelspec": {
   "display_name": ".venv",
   "language": "python",
   "name": "python3"
  },
  "language_info": {
   "codemirror_mode": {
    "name": "ipython",
    "version": 3
   },
   "file_extension": ".py",
   "mimetype": "text/x-python",
   "name": "python",
   "nbconvert_exporter": "python",
   "pygments_lexer": "ipython3",
   "version": "3.11.6"
  }
 },
 "nbformat": 4,
 "nbformat_minor": 0
}
