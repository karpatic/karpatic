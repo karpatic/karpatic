{
 "cells": [
  {
   "cell_type": "markdown",
   "metadata": {
    "id": "mjQRsWXX_iMf"
   },
   "source": [
    "# NB2HTML TEST\n",
    "> This is a test colab publication.\n",
    "\n",
    "- prettify: true\n",
    "- hide_sitemap: false\n",
    "- hide_toc: true\n",
    "- hide_transition: true\n",
    "- description: this isnt working\n",
    "- image: images/company_logo.png\n",
    "- keywords: thisworks\n",
    "- badges: true\n",
    "- comments: true\n",
    "- categories: [test]\n",
    "- metadata_key1: metadata_value1\n",
    "- metadata_key2: metadata_value2"
   ]
  },
  {
   "cell_type": "markdown",
   "metadata": {},
   "source": [
    "<br>\n",
    "\n",
    "[![Colab](https://pete88b.github.io/fastpages/assets/badges/colab.svg)](https://colab.research.google.com/github/karpatic/karpatic/blob/main/src/ipynb/labs/01_nb_2_html_tests.ipynb)\n",
    "[![Binder](https://mybinder.org/badge_logo.svg)](https://mybinder.org/v2/gh/karpatic/karpatic/main?filepath=%2Fsrc%2Fipynb%2Flabs%2F01_nb_2_html_tests.ipynb)\n",
    "[![Binder](https://pete88b.github.io/fastpages/assets/badges/github.svg)](https://github.com/karpatic/karpatic/tree/main/src/ipynb/labs/01_nb_2_html_tests.ipynb) \n",
    "[![Open Source Love svg3](https://badges.frapsoft.com/os/v3/open-source.svg?v=103)](https://github.com/ellerbrock/open-source-badges/)\n",
    "<br>\n",
    "[![NPM License](https://img.shields.io/npm/l/all-contributors.svg?style=flat)](https://github.com/karpatic/karpatic/blob/main/LICENSE)\n",
    "[![Active](http://img.shields.io/badge/Status-Active-green.svg)](https://karpatic.github.io)\n",
    "[![GitHub last commit](https://img.shields.io/github/last-commit/karpatic/karpatic.svg?style=flat)]()\n",
    "<br>\n",
    "[![GitHub stars](https://img.shields.io/github/stars/karpatic/karpatic.svg?style=social&label=Star)](https://github.com/karpatic/karpatic)\n",
    "[![GitHub watchers](https://img.shields.io/github/watchers/karpatic/karpatic.svg?style=social&label=Watch)](https://github.com/karpatic/karpatic)\n",
    "[![GitHub forks](https://img.shields.io/github/forks/karpatic/karpatic.svg?style=social&label=Fork)](https://github.com/karpatic/karpatic)\n",
    "[![GitHub followers](https://img.shields.io/github/followers/karpatic.svg?style=social&label=Follow)](https://github.com/karpatic/karpatic) "
   ]
  },
  {
   "cell_type": "markdown",
   "metadata": {},
   "source": [
    "<script src='https://cdn.bokeh.org/bokeh/release/bokeh-3.7.3.min.js'></script>\n",
    "<script>\n",
    "  console.log(window)\n",
    "  console.log(window.Bokeh)\n",
    "</script>"
   ]
  },
  {
   "cell_type": "markdown",
   "metadata": {
    "id": "t0cxLfLyIUr1"
   },
   "source": [
    "## Ipynb's were made for the web"
   ]
  },
  {
   "cell_type": "code",
   "execution_count": null,
   "metadata": {},
   "outputs": [],
   "source": [
    "Cell flags have to be on the first row to work with a space between\n",
    "\"#collapse_input_open\",\n",
    "\"#collapse_input\",\n",
    "\"#collapse_output_open\",\n",
    "\"#collapse_output\",\n",
    "\"#hide_input\",\n",
    "\"#hide_output\",\n",
    "\"#hide\",\n",
    "\"%%capture\",\n",
    "\"%%javascript\",\n",
    "\"%%html\",\n",
    "\"#export\""
   ]
  },
  {
   "cell_type": "markdown",
   "metadata": {},
   "source": [
    "<style>\n",
    ".shapedImage {\n",
    "  float: left;\n",
    "  width: 250px;\n",
    "  shape-outside: url(https://interactive-examples.mdn.mozilla.net/media/examples/round-balloon.png);\n",
    "  shape-margin:20px;\n",
    "  margin-right: 20px;\n",
    "  margin-bottom: 20px;\n",
    "  padding-top: 30px;\n",
    "}\n",
    ".shapedImage + p::first-letter {\n",
    "  font-size: 1.5rem;\n",
    "  font-weight: bold;\n",
    "  color: brown;\n",
    "}\n",
    "</style> \n",
    "\n",
    "<img class=\"shapedImage\" src=\"https://interactive-examples.mdn.mozilla.net/media/examples/round-balloon.png\" alt=\"Sample Image\"> \n",
    "\n",
    "Did you know Python notebooks  <b>(.ipynb)'s are just JSON objects</b> that get shown from a web browser? Cells and their outputs are all interactive HTML elements rendered from the JSON. When you execute python code in a python cell, it gets sent to the Jupyter backend service which runs the python code, updates the JSON, and returns the results back to the webpage. This is true for all notebook environments, even in VS Code.  \n",
    "\n",
    "Go Figure!  \n",
    "\n",
    "Subsequently, I built <a href='https://ipynb2web.com/'>Ipynb2Web</a> and this demo page. [![Colab](https://pete88b.github.io/fastpages/assets/badges/colab.svg)](https://colab.research.google.com/github/karpatic/karpatic/blob/main/src/ipynb/labs/01_nb_2_html_tests.ipynb) \n",
    "<br><br>"
   ]
  },
  {
   "cell_type": "markdown",
   "metadata": {},
   "source": [
    "<br>"
   ]
  },
  {
   "cell_type": "code",
   "execution_count": null,
   "metadata": {
    "id": "PViBbVXPdUbv",
    "outputId": "f1682121-f257-497a-f531-911fbff6d218"
   },
   "outputs": [],
   "source": [
    "#hide_input\n",
    "from IPython.display import display, HTML\n",
    "display(HTML(\"\"\"<div id=\"observablehq-viz2\"></div>\n",
    "<script type=\"module\">\n",
    "import {Runtime, Inspector} from \"https://cdn.jsdelivr.net/npm/@observablehq/runtime@4/dist/runtime.js\";\n",
    "import define from \"https://api.observablehq.com/@karpatic/colab-to-website@latest.js?v=4\";\n",
    "new Runtime().module(define, name => {\n",
    "  if (name === \"vswp\") return new Inspector(document.querySelector(\"#observablehq-viz2\"));\n",
    "  if (name === \"colabShortcode`\") return new Inspector(document.querySelector(\"#observablehq-viz2\"));\n",
    "});\n",
    "</script>\"\"\") )"
   ]
  },
  {
   "cell_type": "markdown",
   "metadata": {
    "id": "6XJMThGj857-"
   },
   "source": [
    "<br>\n",
    "The converter starts by reading in YAML FrontMatter and then processesing each markdown and code cell. Code cells input and outputs may get conditional treatment using flags. \n",
    "<br><br>"
   ]
  },
  {
   "cell_type": "code",
   "execution_count": null,
   "metadata": {
    "id": "ZutAYsJSdUbx"
   },
   "outputs": [],
   "source": [
    "#hide_input\n",
    "from IPython.display import display, HTML\n",
    "display(HTML(\"\"\"<div id=\"observablehq-viz4\"></div>\n",
    "<script type=\"module\">\n",
    "import {Runtime, Inspector} from \"https://cdn.jsdelivr.net/npm/@observablehq/runtime@4/dist/runtime.js\";\n",
    "import define from \"https://api.observablehq.com/@karpatic/ipynb-convert-to-html.js?v=4&t=4\";\n",
    "new Runtime().module(define, name => {\n",
    "  if (name === \"vswp\") return new Inspector(document.querySelector(\"#observablehq-viz4\"));\n",
    "  if (name === \"colabShortcode\") return new Inspector(document.querySelector(\"#observablehq-viz4\"));\n",
    "});\n",
    "</script>\"\"\") )"
   ]
  },
  {
   "cell_type": "markdown",
   "metadata": {},
   "source": [
    "Inspired by [nbdev](http://nbdev.fast.ai/tutorial/) and [nbConvert](https://nbconvert.readthedocs.io/en/latest/)."
   ]
  },
  {
   "cell_type": "code",
   "execution_count": null,
   "metadata": {},
   "outputs": [],
   "source": [
    "%%html\n",
    "<canvas id=\"waveCanvas\"></canvas>\n",
    "<script>\n",
    "    const canvas = document.getElementById('waveCanvas');\n",
    "    const ctx = canvas.getContext('2d');\n",
    "    let hueOffset = 0;\n",
    "\n",
    "    function setCanvasSize() {\n",
    "        const width = 800\n",
    "        canvas.width = width;\n",
    "        canvas.height = 100;\n",
    "    }\n",
    "    setCanvasSize();\n",
    "    window.addEventListener('resize', setCanvasSize);\n",
    "\n",
    "    function createCyclingGradient(ctx, width, offset) {\n",
    "        const gradient = ctx.createLinearGradient(0, 0, width, 0);\n",
    "        for (let i = 0; i <= 1; i += 0.16) {\n",
    "            const hue = (offset + i * 360) % 360;\n",
    "            gradient.addColorStop(i, `hsl(${hue}, 100%, 50%)`);\n",
    "        }\n",
    "        return gradient;\n",
    "    }\n",
    "\n",
    "function animate() {\n",
    "ctx.clearRect(0, 0, canvas.width, canvas.height);\n",
    "\n",
    "const linesCount = 1;\n",
    "const lineSpacing = 50;\n",
    "\n",
    "for (let n = 0; n < linesCount; n++) {\n",
    "    // Slightly shift the hue for each line:\n",
    "    const gradient = createCyclingGradient(ctx, canvas.width, hueOffset + n * 10);\n",
    "    ctx.strokeStyle = gradient;\n",
    "    ctx.lineWidth = 6;\n",
    "    ctx.beginPath();\n",
    "\n",
    "    for (let i = 0; i < canvas.width; i += 2) {\n",
    "        const x = i;\n",
    "        const timeOffset = Date.now() / 2000;\n",
    "        // Offset each line vertically:\n",
    "        const y = 50 + n * lineSpacing +\n",
    "            Math.cos(timeOffset - i / 5) * \n",
    "            Math.cos(timeOffset - i / 20) * 35;\n",
    "\n",
    "        if (i === 0) {\n",
    "            ctx.moveTo(x, y);\n",
    "        } else {\n",
    "            ctx.lineTo(x, y);\n",
    "        }\n",
    "    }\n",
    "    ctx.stroke();\n",
    "}\n",
    "\n",
    "hueOffset += 1;\n",
    "requestAnimationFrame(animate);\n",
    "}\n",
    "\n",
    "\n",
    "    animate();\n",
    "</script>"
   ]
  },
  {
   "cell_type": "markdown",
   "metadata": {},
   "source": [
    "## Examples"
   ]
  },
  {
   "cell_type": "markdown",
   "metadata": {
    "id": "amJSA0sIdUby"
   },
   "source": [
    "<details open>\n",
    "<summary>"
   ]
  },
  {
   "cell_type": "markdown",
   "metadata": {
    "id": "ssbD-99zdUby"
   },
   "source": [
    "### Built In's\n",
    "</summary>"
   ]
  },
  {
   "cell_type": "markdown",
   "metadata": {},
   "source": [
    "<style> \n",
    ".border {\n",
    "  border: 2px solid black;\n",
    "  padding: 10px;\n",
    "  margin: 10px;\n",
    "  border-radius: 5px;\n",
    "} \n",
    " \n",
    "</style> "
   ]
  },
  {
   "cell_type": "markdown",
   "metadata": {},
   "source": [
    "[This is *some text*]{.class key=\"val\"}"
   ]
  },
  {
   "cell_type": "markdown",
   "metadata": {},
   "source": [
    "::: {.border}\n",
    "1. **Simple** ~~markdown~~ ***still*** _works_ as `expected`.  \n",
    "    + [ ] lists work\n",
    "    + [ ] Checklists work\n",
    "        - [x] Twice Nested Checklist work\n",
    "2. [![Caption](https://www.aacc.edu/media/admin/style-assets/images/logo.png)](https://charleskarpati.com)  \n",
    "  `[![caption](image_url)](hyperlink)`\n",
    "3. \\<b> Escape special chars in markdown using backslashes. \\<b>  \n",
    ":::"
   ]
  },
  {
   "cell_type": "markdown",
   "metadata": {},
   "source": [
    "::: {.border}\n",
    "You can put raw html and js in markdown but not the other way around. \n",
    "\n",
    "<div id='special_markdown_example'> \n",
    "This approach really cool because I can write html in markdown without a hitch.\n",
    "<br>\n",
    "For example, click this blue text. I put javascript right in the mid<style> #special_markdown_example{color:blue} .folium-map{ width:200px} </style><script src=\"https://cdn.jsdelivr.net/npm/canvas-confetti@1.5.1/dist/confetti.browser.min.js\"></script><script>document.querySelectorAll('#special_markdown_example')[0].onclick = (function() { confetti(); console.log('you clicked special_markdown_example!') } );</script>dle of this sentence within the .ipynb doc.\n",
    "</div>  \n",
    "::: "
   ]
  },
  {
   "cell_type": "markdown",
   "metadata": {},
   "source": [
    "::: {.border} \n",
    "Naturally, code cells show executed code; So run the cells!\n",
    "\n",
    "System outputs however, do not get rendered (error, install & import messages, etc..)\n",
    " \n",
    "::: "
   ]
  },
  {
   "cell_type": "markdown",
   "metadata": {},
   "source": [
    "::: {.border}\n",
    "\n",
    "    :::::: {.border}\n",
    "    Create a div using three colons and nest them by adding 3 colons outwards.\n",
    "\n",
    "    ::: { #idName .className }\n",
    "        Your interior div here.\n",
    "    :::\n",
    "    ::::::  \n",
    ":::"
   ]
  },
  {
   "cell_type": "markdown",
   "metadata": {},
   "source": [
    "::: {.border}\n",
    "Create span elements similar to hyperlinks.\n",
    "\n",
    "    [This text will be highlighted]{.className.highlight #id}\n",
    "\n",
    "[This text will be highlighted]{.className.highlight #id}\n",
    ":::\n",
    "<style>\n",
    ".highlight{\n",
    "  background: yellow;\n",
    "}\n",
    "</style>"
   ]
  },
  {
   "cell_type": "markdown",
   "metadata": {},
   "source": [
    "::: {.tip}\n",
    "This is a tip\n",
    ":::\n",
    "::: {.info}\n",
    "This is info box\n",
    "::: \n",
    "::: {.warning}\n",
    "This is a warning box\n",
    ":::\n",
    "::: {.important}\n",
    "This is a important box\n",
    ":::\n",
    "::: {.caution}\n",
    "This is a caution box\n",
    ":::"
   ]
  },
  {
   "cell_type": "markdown",
   "metadata": {},
   "source": [
    "::: {.border}\n",
    "\n",
    "Here is an inline note you can click. ^[Inlines notes are easier to write,\n",
    "since you don't have to pick an identifier and move down to\n",
    "type the note.]\n",
    "\n",
    ":::\n"
   ]
  },
  {
   "cell_type": "code",
   "execution_count": null,
   "metadata": {},
   "outputs": [],
   "source": [
    "#hide_input\n",
    "print('<details>')"
   ]
  },
  {
   "cell_type": "markdown",
   "metadata": {},
   "source": [
    "<summary>Running %%Javascript"
   ]
  },
  {
   "cell_type": "markdown",
   "metadata": {},
   "source": [
    "</summary>"
   ]
  },
  {
   "cell_type": "markdown",
   "metadata": {},
   "source": [
    "When you use %%javascript to run JavaScript code in a Jupyter notebook, the code gets executed within a `script` tag. This means that variables or functions you define will be added to the global scope and are thus accessible to all the other cells (remember that the notebook is actually a webpage)."
   ]
  },
  {
   "cell_type": "markdown",
   "metadata": {},
   "source": [
    "    %%javascript \n",
    "    console.log('hello world')\n",
    "\n",
    "Running the above code in an .ipynb then check your dev tool logs.  \n",
    "In VSCode this can be found by navigating to help>toggle dev tools"
   ]
  },
  {
   "cell_type": "markdown",
   "metadata": {},
   "source": [
    "<div id='output-area1'> </div>"
   ]
  },
  {
   "cell_type": "code",
   "execution_count": null,
   "metadata": {},
   "outputs": [],
   "source": [
    "%%javascript\n",
    "window.localStorage.setItem(\"greeting\", 'This text was inserted using Javascript.');"
   ]
  },
  {
   "cell_type": "code",
   "execution_count": null,
   "metadata": {},
   "outputs": [],
   "source": [
    "%%javascript\n",
    "\n",
    "var result = window.localStorage.getItem(\"greeting\");\n",
    "// Display in notebook\n",
    "// var output_area = this;\n",
    "// output_area.append_output({output_type: \"display_data\", data: {\"text/plain\": result}});\n",
    "document.querySelector(\"#output-area1\").innerHTML = result\n"
   ]
  },
  {
   "cell_type": "code",
   "execution_count": null,
   "metadata": {},
   "outputs": [],
   "source": [
    "%%javascript\n",
    "if(typeof element != 'undefined'){\n",
    "    console.log('Dom Element')\n",
    "    // Create a new DOM element to hold the output\n",
    "    var outputElem = document.createElement('div');\n",
    "    outputElem.textContent = \"This is the output from JavaScript!\";\n",
    "    // Append the new element to the current cell's output area\n",
    "    element[0].innerHTML = ''\n",
    "    element[0].appendChild(outputElem);\n",
    "}\n",
    "else{\n",
    "    console.log('No Dom Element')\n",
    "}"
   ]
  },
  {
   "cell_type": "code",
   "execution_count": null,
   "metadata": {},
   "outputs": [],
   "source": [
    "%%javascript\n",
    "/*\n",
    "var allOutputs = document.querySelectorAll('.output');\n",
    "var thisOutput = element[0]; // .parentElement\n",
    "var currentIndex = [...allOutputs].indexOf(thisOutput)\n",
    "let nextElement = allOutputs[currentIndex-1];\n",
    "console.log(allOutputs);\n",
    "console.log(nextElement);\n",
    "nextElement.innerHTML = nextElement.innerHTML+':WHATCHOUT:';\n",
    "*/"
   ]
  },
  {
   "cell_type": "code",
   "execution_count": null,
   "metadata": {},
   "outputs": [],
   "source": [
    "%%javascript\n",
    "        var currentScriptTag = window.currentScript;\n",
    "        console.log(currentScriptTag);\n",
    "        var parentOfScriptTag = currentScriptTag?.parentElement;\n",
    "        console.log(parentOfScriptTag);"
   ]
  },
  {
   "cell_type": "code",
   "execution_count": null,
   "metadata": {},
   "outputs": [],
   "source": [
    "%%javascript\n",
    "console.log('console message from within an %%javascript cell')\n",
    "console.log(window.IPython)"
   ]
  },
  {
   "cell_type": "code",
   "execution_count": null,
   "metadata": {},
   "outputs": [],
   "source": [
    "%%javascript\n",
    "window.jsFlagSetValue = 'This text is stored in window.jsFlagSetValue using the `%%javascript` cell tag'"
   ]
  },
  {
   "cell_type": "markdown",
   "metadata": {},
   "source": [
    "<div id='output-area'> </div>"
   ]
  },
  {
   "cell_type": "code",
   "execution_count": null,
   "metadata": {},
   "outputs": [],
   "source": [
    "%%javascript\n",
    "document.querySelector(\"#output-area\").innerHTML= \"This text was inserted at run time. It retrieved the following text as a value from the window after setting it in another cell: '\"+window.jsFlagSetValue + \"'.\";"
   ]
  },
  {
   "cell_type": "markdown",
   "metadata": {},
   "source": [
    "</details>"
   ]
  },
  {
   "cell_type": "code",
   "execution_count": null,
   "metadata": {
    "id": "UxM0nev6-K4N"
   },
   "outputs": [],
   "source": [
    "%%html\n",
    "<details>\n",
    "  <summary> Running %%html  </summary>\n",
    "   This text and it's container was written in an html flag code cell.\n",
    "\n",
    "  It operates in page how it does in notebook... \n",
    "</details>\n",
    "<script> console.log('console message from within an html flag code cell') </script>"
   ]
  },
  {
   "cell_type": "code",
   "execution_count": null,
   "metadata": {
    "id": "Iuof6bWBZSG5"
   },
   "outputs": [],
   "source": [
    "#hide_input #collapse_output_open\n",
    "print(\"#hide_input #collapse_output_open: will show only the output cell in a collapsed container\")"
   ]
  },
  {
   "cell_type": "code",
   "execution_count": null,
   "metadata": {
    "id": "B537cKHFdUbz"
   },
   "outputs": [],
   "source": [
    "#hide_output #collapse_input_open\n",
    "print(\"#hide_output #collapse_input_open: <- Adding this to the top of the cell keeps and prettifies the input cell while hiding the output.\") "
   ]
  },
  {
   "cell_type": "markdown",
   "metadata": {
    "id": "AyVZ4B2zHSN_"
   },
   "source": [
    "<link rel=\"stylesheet\" href=\"https://pro.fontawesome.com/releases/v5.10.0/css/all.css\" integrity=\"sha384-AYmEC3Yw5cVb3ZcuHtOA93w35dYTsvhLPVnYs9eStHfGJvOvKxVfELGroGkvsg+p\" crossorigin=\"anonymous\"/>\n",
    "<script>\n",
    "  console.log('console message from within an unflagged markdown cell')\n",
    "</script>"
   ]
  },
  {
   "cell_type": "code",
   "execution_count": null,
   "metadata": {
    "id": "Nju2dbqAOpIc"
   },
   "outputs": [],
   "source": [
    "%%capture\n",
    "! pip install geopandas dataplay\n",
    "! pip install folium\n",
    "! pip install fiona\n",
    "! pip install psycopg2-binary \n",
    "! pip install geopy\n",
    "! pip install matplotlib"
   ]
  },
  {
   "cell_type": "markdown",
   "metadata": {},
   "source": [
    "Here's Some Python Output"
   ]
  },
  {
   "cell_type": "code",
   "execution_count": null,
   "metadata": {
    "id": "0yHyL5vTOV1x"
   },
   "outputs": [],
   "source": [
    "#hide_input\n",
    "#collapse_output\n",
    "import dataplay.geoms as gm\n",
    "import geopandas as gpd\n",
    "from IPython import display\n",
    "from IPython.display import clear_output\n",
    "csa_gdf = gpd.read_file(\"https://services1.arcgis.com/mVFRs7NF4iFitgbY/ArcGIS/rest/services/Hhchpov/FeatureServer/0/query?where=1%3D1&outFields=*&returnGeometry=true&f=pgeojson\");\n",
    "geoloom = gpd.read_file(\"https://services1.arcgis.com/mVFRs7NF4iFitgbY/ArcGIS/rest/services/Geoloom_Crowd/FeatureServer/0/query?where=1%3D1&outFields=*&returnGeometry=true&f=pgeojson\");\n",
    "geoloom['POINT_X'] = geoloom['geometry'].centroid.x\n",
    "geoloom['POINT_Y'] = geoloom['geometry'].centroid.y\n",
    "geoloom = geoloom.dropna(subset=['POINT_Y', 'POINT_X'])\n",
    "clear_output()\n",
    "geoloom = geoloom[geoloom['geometry'].centroid.x < -75]\n",
    "geoloom = geoloom[geoloom['geometry'].centroid.x > -80]\n",
    "geoloom = geoloom[geoloom['geometry'].centroid.y > 39]\n",
    "geoloom.plot()"
   ]
  },
  {
   "cell_type": "markdown",
   "metadata": {},
   "source": [
    "Missing: pygal, bokeh, holoviews, plotly, prophet, tensorflow, web components. TODO - Make new line breaks occur with double spaces too.. <Notes> <INFO> <WARNING>"
   ]
  },
  {
   "cell_type": "markdown",
   "metadata": {
    "id": "uZpVjS7nR3my"
   },
   "source": [
    "</details><details open><summary>"
   ]
  },
  {
   "cell_type": "markdown",
   "metadata": {
    "id": "wQvgNYW7dUcC"
   },
   "source": [
    "### Ipython\n",
    "</summary>"
   ]
  },
  {
   "cell_type": "markdown",
   "metadata": {},
   "source": [
    "<details open><summary>"
   ]
  },
  {
   "cell_type": "markdown",
   "metadata": {
    "id": "_0NybzfNK71c"
   },
   "source": [
    "#### Display Javascript\n",
    "</summary>"
   ]
  },
  {
   "cell_type": "code",
   "execution_count": null,
   "metadata": {},
   "outputs": [],
   "source": [
    "from IPython.display import display, HTML, Javascript\n",
    "display(Javascript(\"\"\"\n",
    "document.body.style.backgroundColor = '';\n",
    "\"\"\"))"
   ]
  },
  {
   "cell_type": "code",
   "execution_count": null,
   "metadata": {},
   "outputs": [],
   "source": [
    "display(Javascript(\"\"\"\n",
    "        var currentScriptTag = document.currentScript;\n",
    "        console.log('currentScriptTag', currentScriptTag);\n",
    "        var parentOfScriptTag = currentScriptTag?.parentElement;\n",
    "        console.log(parentOfScriptTag);\n",
    "\"\"\"))"
   ]
  },
  {
   "cell_type": "markdown",
   "metadata": {
    "id": "6pPx9TxvHImZ"
   },
   "source": [
    "Using this method Javascript is persisted in the outputs of the cell and will be executed when the document is reloaded."
   ]
  },
  {
   "cell_type": "code",
   "execution_count": null,
   "metadata": {
    "id": "g6yRE4UddUcD"
   },
   "outputs": [],
   "source": [
    "import IPython\n",
    "IPython.display.Javascript(\"\"\"window.displaySetValue=3;\"\"\")"
   ]
  },
  {
   "cell_type": "code",
   "execution_count": null,
   "metadata": {
    "id": "GDXW6pZrdUcD"
   },
   "outputs": [],
   "source": [
    "#hide_input\n",
    "IPython.display.Javascript('''console.log('console message from within an IPython.display.Javascript()')''')"
   ]
  },
  {
   "cell_type": "markdown",
   "metadata": {
    "id": "FN_3cUGMdUcD"
   },
   "source": [
    "<div id=\"output-area2\">This text should be overwritten to show displaySetValue from above</div>"
   ]
  },
  {
   "cell_type": "code",
   "execution_count": null,
   "metadata": {
    "id": "wvIW8OX7Jm20"
   },
   "outputs": [],
   "source": [
    "#hide_input\n",
    "import IPython\n",
    "from datetime import datetime\n",
    "\n",
    "js_code = '''\n",
    "document.querySelector(\"#output-area2\").innerHTML= \"displaySetValue=\"+window.displaySetValue+\": ( Retrieved from Ipython Display set widow value).<br/>\";\n",
    "'''\n",
    "\n",
    "IPython.display.Javascript(js_code)"
   ]
  },
  {
   "cell_type": "markdown",
   "metadata": {
    "id": "ddZsYBJtdUcD"
   },
   "source": [
    "<div id=\"output-area4\">This text should be overwritten to show displaySetValue from above</div>"
   ]
  },
  {
   "cell_type": "code",
   "execution_count": null,
   "metadata": {
    "id": "oI1lezymdUcD"
   },
   "outputs": [],
   "source": [
    "%%javascript\n",
    "document.querySelector(\"#output-area4\").innerHTML= \"displaySetValue=\"+window.displaySetValue + \": ( Retrieved from \\%\\%javascript Flag set window value).\";"
   ]
  },
  {
   "cell_type": "markdown",
   "metadata": {
    "id": "d8-jR4MudUcD"
   },
   "source": [
    "Information obtained from: [Advanced Outputs](https://colab.research.google.com/notebooks/snippets/advanced_outputs.ipynb)"
   ]
  },
  {
   "cell_type": "markdown",
   "metadata": {
    "id": "3jMN8aQ-dUcD"
   },
   "source": [
    "::: {.info}\n",
    "`eval_js` differs from `display.Javascript` because `eval_js` expressions are not persisted in the notebook document and will not be executed when the document is reloaded.\n",
    ":::"
   ]
  },
  {
   "cell_type": "markdown",
   "metadata": {
    "id": "HZz6LenFG3yl"
   },
   "source": [
    "</details><details><summary>"
   ]
  },
  {
   "cell_type": "markdown",
   "metadata": {
    "id": "gZ1TGICzUVqB"
   },
   "source": [
    "#### Display Html & Py Templating\n",
    "</summary>"
   ]
  },
  {
   "cell_type": "code",
   "execution_count": null,
   "metadata": {},
   "outputs": [],
   "source": [
    "#hide_output #collapse_input_open\n",
    "import requests\n",
    "\n",
    "resp = requests.get('https://charleskarpati.com')\n",
    "\n",
    "from IPython.display import display, HTML\n",
    "\n",
    "display(HTML(resp.content.decode('utf-8')[:-4]))"
   ]
  },
  {
   "cell_type": "code",
   "execution_count": null,
   "metadata": {
    "id": "dJ_m6Zz4Rron"
   },
   "outputs": [],
   "source": [
    "#hide_input\n",
    "import IPython\n",
    "template = \"\"\"Heres an example: <button id=\"{callback_id}\">{title}</button>\n",
    "    <script>\n",
    "      document.querySelectorAll('#{callback_id}')[0].onclick = (function(){{ console.log('you clicked {callback_id}!') }} );\n",
    "    </script>\"\"\"\n",
    "html = template.format(title='Click me and check your console!', callback_id='callthis')\n",
    "IPython.display.HTML(html)"
   ]
  },
  {
   "cell_type": "markdown",
   "metadata": {
    "id": "smlHTvBrdUcD"
   },
   "source": [
    "</details>"
   ]
  },
  {
   "cell_type": "markdown",
   "metadata": {
    "id": "H1t0e4-FdUcE"
   },
   "source": [
    "</details><details><summary>"
   ]
  },
  {
   "cell_type": "markdown",
   "metadata": {
    "id": "FHQYN1r4JRK9"
   },
   "source": [
    "### Altair / Vega-Embed\n",
    "</summary>"
   ]
  },
  {
   "cell_type": "markdown",
   "metadata": {
    "id": "A4D6GSpu10-D"
   },
   "source": [
    "[vega-embed](https://github.com/vega/vega-embed)\n",
    "\n",
    "[embed](https://vega.github.io/vega-lite/usage/embed.html)"
   ]
  },
  {
   "cell_type": "markdown",
   "metadata": {
    "id": "N1CGS9HXl5me"
   },
   "source": [
    "[hello-vega-embed](https://observablehq.com/@vega/hello-vega-embed)"
   ]
  },
  {
   "cell_type": "code",
   "execution_count": null,
   "metadata": {},
   "outputs": [],
   "source": [
    "# %%capture\n",
    "import altair as alt\n",
    "from vega_datasets import data\n",
    "alt.renderers.enable('default')\n",
    "\n",
    "source = data.cars()\n",
    "\n",
    "chart = alt.Chart(source).mark_circle(size=60).encode(\n",
    "    x='Horsepower',\n",
    "    y='Miles_per_Gallon',\n",
    "    color='Origin',\n",
    "    tooltip=['Name', 'Origin', 'Horsepower', 'Miles_per_Gallon']\n",
    ").interactive()"
   ]
  },
  {
   "cell_type": "code",
   "execution_count": null,
   "metadata": {},
   "outputs": [],
   "source": [
    "chart"
   ]
  },
  {
   "cell_type": "code",
   "execution_count": null,
   "metadata": {},
   "outputs": [],
   "source": [
    "import html\n",
    "\n",
    "html_output = chart.to_html()\n",
    "escaped = html.escape(html_output)\n",
    "print(f\"<iframe srcdoc='{escaped}' width='800' height='530' style='border:none;'></iframe>\")"
   ]
  },
  {
   "cell_type": "code",
   "execution_count": null,
   "metadata": {},
   "outputs": [],
   "source": [
    "import pandas as pd\n",
    "import numpy as np\n",
    "import altair as alt\n",
    "\n",
    "\n",
    "# Create timeseries data\n",
    "rng = np.random.default_rng(905)\n",
    "ex_ts = pd.DataFrame(\n",
    "    rng.random((10, 4)),\n",
    "    columns=['a', 'b', 'c', 'd'],\n",
    ").assign(\n",
    "    date=pd.date_range(\n",
    "        start=pd.to_datetime('2022-02-22')-pd.Timedelta(9, unit='D'),\n",
    "        end=pd.to_datetime('2022-02-22')).strftime('%Y-%m-%d'),\n",
    ")\n",
    "\n",
    "# Create heatmap with selection\n",
    "select_x = alt.selection_point(fields=['level_0'], name='select_x', value='b')\n",
    "select_y = alt.selection_point(fields=['level_1'], name='select_y', value='d')\n",
    "heatmap = alt.Chart(\n",
    "    ex_ts.drop(columns='date').corr().stack().reset_index().rename(columns={0: 'correlation'}),\n",
    "    title='Click a tile to compare timeseries',\n",
    "    height=250,\n",
    "    width=250,\n",
    ").mark_rect().encode(\n",
    "    alt.X('level_0').title(None),\n",
    "    alt.Y('level_1').title(None),\n",
    "    alt.Color('correlation').scale(domain=[-1, 1], scheme='blueorange'),\n",
    "    opacity=alt.when(select_x, select_y).then(alt.value(1)).otherwise(alt.value(0.4)),\n",
    ").add_params(\n",
    "    select_x, select_y\n",
    ")\n",
    "\n",
    "# Create chart with individual lines/timeseries\n",
    "base = alt.Chart(\n",
    "    ex_ts.melt(\n",
    "        id_vars='date',\n",
    "        var_name='category',\n",
    "        value_name='value',\n",
    "    ),\n",
    "    height=100,\n",
    "    width=300,\n",
    "    title='Individual timeseries',\n",
    ")\n",
    "lines = base.transform_filter(\n",
    "    # If the category is not in the selected values, the returned index is -1\n",
    "    'indexof(datum.category, select_x.level_0) !== -1'\n",
    "   '| indexof(datum.category, select_y.level_1) !== -1'\n",
    ").mark_line().encode(\n",
    "    alt.X('date:T').axis(labels=False).title(None),\n",
    "    alt.Y('value').scale(domain=(0, 1)),\n",
    "    alt.Color('category').legend(orient='top', offset=-20).title(None)\n",
    ")\n",
    "\n",
    "# Create chart with difference between lines/timeseries\n",
    "dynamic_title = alt.Title(alt.expr(f'\"Difference \" + {select_x.name}.level_0 + \" - \" + {select_y.name}.level_1'))\n",
    "# We pivot transform to get each category as a column\n",
    "lines_diff = base.transform_pivot(\n",
    "    'category', 'value', groupby=['date']\n",
    "# In the calculate transform we use the values from the selection to subset the columns to substract\n",
    ").transform_calculate(\n",
    "    difference = f'datum[{select_x.name}.level_0] - datum[{select_y.name}.level_1]'\n",
    ").mark_line(color='grey').encode(\n",
    "    alt.X('date:T').axis(format='%Y-%m-%d').title(None),\n",
    "    alt.Y('difference:Q').scale(domain=(-1, 1)),\n",
    ").properties(\n",
    "    title=dynamic_title\n",
    ")\n",
    "\n",
    "# Layout the charts\n",
    "(lines & lines_diff) | heatmap"
   ]
  },
  {
   "cell_type": "markdown",
   "metadata": {
    "id": "MJHu97YCGlKd"
   },
   "source": [
    "</details><details><summary>"
   ]
  },
  {
   "cell_type": "markdown",
   "metadata": {
    "id": "hnI2xCfXJXOf"
   },
   "source": [
    "### Folium / Dataplay\n",
    "</summary>"
   ]
  },
  {
   "cell_type": "markdown",
   "metadata": {
    "id": "vXWG3rVG4Noj"
   },
   "source": [
    "1. Folium [JavascriptLink](https://github.com/python-visualization/folium/search?q=JavascriptLink&unscoped_q=JavascriptLink)\n",
    "\n",
    "2. Folium [Adding Javascript](https://stackoverflow.com/questions/60479995/adding-javascript-to-folium-map)\n",
    "\n",
    "3. Folium [How to Use Custom Javascript](https://github.com/python-visualization/folium/issues/765)\n",
    "\n",
    "4. Folium [Custom HTML JS](https://github.com/python-visualization/folium/issues/86)\n",
    "\n",
    "5. Folium [Click Event](https://gis.stackexchange.com/questions/313382/click-event-on-maps-with-folium-and-information-retrieval)\n"
   ]
  },
  {
   "cell_type": "code",
   "execution_count": null,
   "metadata": {
    "id": "qHjAnuZ16xqh"
   },
   "outputs": [],
   "source": [
    "%%capture\n",
    "!pip install geopandas\n",
    "!pip install dataplay\n",
    "!pip install dexplot"
   ]
  },
  {
   "cell_type": "code",
   "execution_count": null,
   "metadata": {
    "id": "b6q_GINYbVNN"
   },
   "outputs": [],
   "source": [
    "#hide_input\n",
    "import folium\n",
    "from IPython.display import display, HTML \n",
    "start_coords = (39.2904, -76.6122)\n",
    "f = folium.Figure(width=800, height=300)\n",
    "m = folium.Map(start_coords, zoom_start=15).add_to(f)\n",
    "pp = folium.Html('<a href=\"'+ 'give your url here'+'\"target=\"_blank\">'+ 'popup text' + '</a>', script=True)\n",
    "popup = folium.Popup(pp, max_width=2650)\n",
    "folium.Marker(location=[46.9540700, 142.7360300], popup=popup).add_to(m)\n",
    "m=m._repr_html_()\n",
    "display(HTML( m ))"
   ]
  },
  {
   "cell_type": "code",
   "execution_count": null,
   "metadata": {},
   "outputs": [],
   "source": [
    "!pip install geodatasets\n"
   ]
  },
  {
   "cell_type": "code",
   "execution_count": null,
   "metadata": {},
   "outputs": [],
   "source": [
    "import geopandas as gpd\n",
    "\n",
    "# 1. Read and reproject\n",
    "url = (\n",
    "    \"https://services1.arcgis.com/mVFRs7NF4iFitgbY/ArcGIS/rest/services/\"\n",
    "    \"Hhchpov/FeatureServer/0/query?\"\n",
    "    \"where=1%3D1&outFields=*&returnGeometry=true&f=pgeojson\"\n",
    ")\n",
    "csa_gdf = gpd.read_file(url).to_crs(epsg=3857)\n",
    "\n",
    "# 2. Plot\n",
    "csa_gdf.plot(edgecolor=\"black\", facecolor=\"none\")\n"
   ]
  },
  {
   "cell_type": "code",
   "execution_count": null,
   "metadata": {
    "id": "W0q91AUbRiTI"
   },
   "outputs": [],
   "source": [
    "#hide\n",
    "import dataplay\n",
    "help(dataplay)"
   ]
  },
  {
   "cell_type": "code",
   "execution_count": null,
   "metadata": {
    "id": "8ac5Hf3W1pDT"
   },
   "outputs": [],
   "source": [
    "#hide _input\n",
    "#collapse_output\n",
    "import geopandas as gpd\n",
    "import dataplay\n",
    "from IPython import display\n",
    "from IPython.display import clear_output\n",
    "csa_gdf = gpd.read_file(\"https://services1.arcgis.com/mVFRs7NF4iFitgbY/ArcGIS/rest/services/Hhchpov/FeatureServer/0/query?where=1%3D1&outFields=*&returnGeometry=true&f=pgeojson\");\n",
    "geoloom = gpd.read_file(\"https://services1.arcgis.com/mVFRs7NF4iFitgbY/ArcGIS/rest/services/Geoloom_Crowd/FeatureServer/0/query?where=1%3D1&outFields=*&returnGeometry=true&f=pgeojson\");\n",
    "geoloom['POINT_X'] = geoloom['geometry'].centroid.x\n",
    "geoloom['POINT_Y'] = geoloom['geometry'].centroid.y\n",
    "geoloom = geoloom.dropna(subset=['POINT_Y', 'POINT_X'])\n",
    "clear_output() \n",
    "# help(dataplay.geoms)\n",
    "# .map_points(geoloom, lat_col='POINT_Y', lon_col='POINT_X', zoom_start=11, plot_points=True, pt_radius=15, draw_heatmap=True, heat_map_weights_col=None, heat_map_weights_normalize=True, heat_map_radius=15)"
   ]
  },
  {
   "cell_type": "markdown",
   "metadata": {
    "id": "iAejh0F9GLYA"
   },
   "source": [
    "</details><details><summary>"
   ]
  },
  {
   "cell_type": "code",
   "execution_count": null,
   "metadata": {},
   "outputs": [],
   "source": [
    "from dataplay import geoms\n",
    "help(geoms)"
   ]
  },
  {
   "cell_type": "code",
   "execution_count": null,
   "metadata": {},
   "outputs": [],
   "source": [
    "from dataplay.geoms import map_points\n",
    "\n",
    "# assuming `geoloom` is already loaded and has POINT_X/POINT_Y\n",
    "m = map_points(\n",
    "    geoloom\n",
    ")\n"
   ]
  },
  {
   "cell_type": "markdown",
   "metadata": {
    "id": "VbAjb6H9UaFC"
   },
   "source": [
    "### ObservableHQ"
   ]
  },
  {
   "cell_type": "markdown",
   "metadata": {},
   "source": [
    "</summary>"
   ]
  },
  {
   "cell_type": "markdown",
   "metadata": {},
   "source": [
    "You've seen them with the diagrams at the intro!"
   ]
  },
  {
   "cell_type": "code",
   "execution_count": null,
   "metadata": {
    "id": "jw_WuoB2dUb7",
    "outputId": "0fda0de5-18ed-484c-c706-851ed3a95708"
   },
   "outputs": [],
   "source": [
    "#hide_input\n",
    "from IPython.display import display, HTML\n",
    "display(HTML(\"\"\"<div id=\"observablehq-viz1\"></div>\n",
    "<script type=\"module\">\n",
    "import {Runtime, Inspector} from \"https://cdn.jsdelivr.net/npm/@observablehq/runtime@4/dist/runtime.js\";\n",
    "import define from \"https://api.observablehq.com/@karpatic/website-code-diagram.js?v=4\";\n",
    "new Runtime().module(define, name => {\n",
    "  if (['vswp', 'colabShortcode'].includes(name)) return new Inspector(document.querySelector(\"#observablehq-viz1\"));\n",
    "});</script>\"\"\") )"
   ]
  },
  {
   "cell_type": "markdown",
   "metadata": {
    "id": "XhnYP4jYTql4"
   },
   "source": [
    "</details><details><summary>"
   ]
  },
  {
   "cell_type": "markdown",
   "metadata": {
    "id": "K4PCxMq3KVbi"
   },
   "source": [
    "### pivottablejs\n",
    "</summary>"
   ]
  },
  {
   "cell_type": "code",
   "execution_count": null,
   "metadata": {},
   "outputs": [],
   "source": [
    "import pandas as pd\n",
    "df = pd.DataFrame({\"book\":[\"A\",\"B\",\"C\",\"D\",\"E\",\"F\",\"G\",\"H\",\"I\",\"J\",\"K\"],\"scores\":[45,34,54,27,70,25,92,22,40,10,40]})"
   ]
  },
  {
   "cell_type": "markdown",
   "metadata": {
    "id": "tjjCGSYG40hV"
   },
   "source": [
    "[pivottablejs](https://pypi.org/project/pivottablejs/)"
   ]
  },
  {
   "cell_type": "code",
   "execution_count": null,
   "metadata": {
    "id": "uoRfSZK84y9n"
   },
   "outputs": [],
   "source": [
    "%%capture\n",
    "!pip install pivottablejs"
   ]
  },
  {
   "cell_type": "code",
   "execution_count": null,
   "metadata": {},
   "outputs": [],
   "source": [
    "import pandas as pd\n",
    "from pivottablejs import pivot_ui\n",
    "\n",
    "# Create DataFrame\n",
    "df = pd.DataFrame({\n",
    "    \"book\": [\"A\", \"B\", \"C\", \"D\", \"E\", \"F\", \"G\", \"H\", \"I\", \"J\", \"K\"],\n",
    "    \"scores\": [45, 34, 54, 27, 70, 25, 92, 22, 40, 10, 40]\n",
    "})\n",
    "\n",
    "# Inline display of pivot table in Jupyter Notebook\n",
    "pivot_ui(df, outfile_path='pivottablejs.html')\n"
   ]
  },
  {
   "cell_type": "code",
   "execution_count": null,
   "metadata": {},
   "outputs": [],
   "source": [
    "from IPython.display import HTML\n",
    "\n",
    "# Embed the pivot table as an iframe\n",
    "HTML('<iframe src=\"pivottablejs.html\" width=\"100%\" height=\"500\" frameborder=\"0\" allowfullscreen></iframe>')\n"
   ]
  },
  {
   "cell_type": "code",
   "execution_count": null,
   "metadata": {},
   "outputs": [],
   "source": [
    "import os\n",
    "if os.path.exists('pivottablejs.html'):\n",
    "    print(\"File generated successfully!\")\n",
    "else:\n",
    "    print(\"File was not generated.\")\n"
   ]
  },
  {
   "cell_type": "code",
   "execution_count": null,
   "metadata": {},
   "outputs": [],
   "source": [
    "IFrame('/home/carlos/Documents/GitHub/karpatic/src/ipynb/labs/pivottablejs.html', width=1000, height=500)\n"
   ]
  },
  {
   "cell_type": "code",
   "execution_count": null,
   "metadata": {},
   "outputs": [],
   "source": [
    "from IPython.display import IFrame, display\n",
    "\n",
    "# Display the pivot table inline using IFrame\n",
    "display(IFrame('pivottablejs.html', width=1000, height=500))\n"
   ]
  },
  {
   "cell_type": "code",
   "execution_count": null,
   "metadata": {},
   "outputs": [],
   "source": []
  },
  {
   "cell_type": "markdown",
   "metadata": {
    "id": "2Cc8EPcbUaE5"
   },
   "source": [
    "</details>\n",
    "<details><summary>"
   ]
  },
  {
   "cell_type": "markdown",
   "metadata": {
    "id": "58zc-rOJZzl9"
   },
   "source": [
    "### MPLD3\n",
    "</summary>"
   ]
  },
  {
   "cell_type": "markdown",
   "metadata": {
    "id": "NMtzbiwNbQk9"
   },
   "source": [
    "The mpld3 project brings together Matplotlib, the popular Python-based graphing library, and D3js, the popular JavaScript library for creating interactive data visualizations for the web. The result is a simple API for exporting your matplotlib graphics to HTML code which can be used within the browser, within standard web pages, blogs, or tools such as the IPython notebook."
   ]
  },
  {
   "cell_type": "code",
   "execution_count": null,
   "metadata": {},
   "outputs": [],
   "source": [
    "%%capture\n",
    "import numpy as np\n",
    "import matplotlib.pyplot as plt\n",
    "import mpld3\n",
    "from IPython.display import display, HTML\n",
    "\n",
    "# Sample data\n",
    "x = np.linspace(0, 10, 200)\n",
    "y = np.sin(2 * np.pi * x)\n",
    "\n",
    "fig, ax = plt.subplots()\n",
    "ax.plot(x, y, label='sin(2πx)')\n",
    "ax.set_xlabel('x')\n",
    "ax.set_ylabel('sin(2πx)')\n",
    "ax.set_title('Interactive mpld3 Plot')\n",
    "ax.legend()"
   ]
  },
  {
   "cell_type": "code",
   "execution_count": null,
   "metadata": {},
   "outputs": [],
   "source": [
    "%%capture\n",
    "\n",
    "import numpy as np\n",
    "import matplotlib\n",
    "import matplotlib.pyplot as plt\n",
    "\n",
    "import mpld3\n",
    "from mpld3 import plugins, utils\n",
    "\n",
    "\n",
    "X, y, _ = utils.load_test_dataset(\"iris\")\n",
    "\n",
    "# dither the data for clearer plotting\n",
    "X += 0.1 * np.random.random(X.shape)\n",
    "\n",
    "fig, ax = plt.subplots(4, 4, sharex=\"col\", sharey=\"row\", figsize=(8, 8))\n",
    "fig.subplots_adjust(left=0.05, right=0.95, bottom=0.05, top=0.95,\n",
    "                    hspace=0.1, wspace=0.1)\n",
    "\n",
    "for i in range(4):\n",
    "    for j in range(4):\n",
    "        points = ax[3 - i, j].scatter(X[:, j], X[:, i],\n",
    "                                      c=y, s=40, alpha=0.6)\n",
    "\n",
    "# remove tick labels\n",
    "for axi in ax.flat:\n",
    "    for axis in [axi.xaxis, axi.yaxis]:\n",
    "        axis.set_major_formatter(plt.NullFormatter())\n",
    "\n",
    "# Here we connect the linked brush plugin\n",
    "plugins.connect(fig, plugins.LinkedBrush(points))"
   ]
  },
  {
   "cell_type": "code",
   "execution_count": null,
   "metadata": {},
   "outputs": [],
   "source": [
    "%%capture\n",
    "# display(HTML(mpld3.fig_to_html(fig)))\n",
    "\n",
    "html_output = mpld3.fig_to_html(fig)\n",
    "\n",
    "html_output = html_output.replace(\"https://mpld3.github.io/js/mpld3.v0.5.11-dev.js\", \"https://cdn.jsdelivr.net/npm/mpld3@0.5.10/mpld3.v0.5.10.min.js\")\n"
   ]
  },
  {
   "cell_type": "code",
   "execution_count": null,
   "metadata": {},
   "outputs": [],
   "source": [
    "# with open(\"mpld3.html\",\"w\") as f:\n",
    "    # f.write(html_output)"
   ]
  },
  {
   "cell_type": "code",
   "execution_count": null,
   "metadata": {},
   "outputs": [],
   "source": [
    "import html\n",
    "\n",
    "escaped = html.escape(html_output)\n",
    "print(f\"<iframe srcdoc='{escaped}' width='800' height='530' style='border:none;'></iframe>\")"
   ]
  },
  {
   "cell_type": "markdown",
   "metadata": {
    "id": "AcvBllklF-ak"
   },
   "source": [
    "</details><details><summary>"
   ]
  },
  {
   "cell_type": "markdown",
   "metadata": {
    "id": "IpQdoqHWQeA1"
   },
   "source": [
    "### NVD3 python-nvd3\n",
    "</summary>"
   ]
  },
  {
   "cell_type": "markdown",
   "metadata": {
    "id": "ehwOj9wJQfW8"
   },
   "source": [
    "python-nvd3 [homepage](https://github.com/areski/python-nvd3]) and [docs](https://python-nvd3.readthedocs.io/en/latest/)\n",
    "\n",
    "NVD3 is an attempt to build re-usable charts and chart components for d3.js without taking away the power that d3.js offers you.\n",
    "\n",
    "This will output the following HTML to render a live chart. The HTML could be stored into a HTML file, used in a Web application"
   ]
  },
  {
   "cell_type": "code",
   "execution_count": null,
   "metadata": {
    "id": "m_fxKJMyR7LD"
   },
   "outputs": [],
   "source": [
    "%%capture\n",
    "! pip install python-nvd3"
   ]
  },
  {
   "cell_type": "code",
   "execution_count": null,
   "metadata": {
    "id": "Emt7Z5SRRmt5"
   },
   "outputs": [],
   "source": [
    "#hide \n",
    "from nvd3 import pieChart\n",
    "type = 'pieChart'\n",
    "chart = pieChart(name=type, color_category='category20c', height=450, width=450)\n",
    "xdata = [\"Orange\", \"Banana\", \"Pear\", \"Kiwi\", \"Apple\", \"Strawberry\", \"Pineapple\"]\n",
    "ydata = [3, 4, 0, 1, 5, 7, 3]\n",
    "extra_serie = {\"tooltip\": {\"y_start\": \"\", \"y_end\": \" cal\"}}\n",
    "chart.add_serie(y=ydata, x=xdata, extra=extra_serie) \n",
    "chart.buildhtml()\n",
    "chart_html = chart.htmlcontent\n",
    "display(HTML(chart_html))"
   ]
  },
  {
   "cell_type": "code",
   "execution_count": null,
   "metadata": {},
   "outputs": [],
   "source": [
    "import html\n",
    "\n",
    "escaped = html.escape(chart_html)\n",
    "print(f\"<iframe srcdoc='{escaped}' width='800' height='530' style='border:none;'></iframe>\")"
   ]
  },
  {
   "cell_type": "code",
   "execution_count": null,
   "metadata": {
    "id": "qI6W65OSXcoR"
   },
   "outputs": [],
   "source": [
    "#hide \n",
    "from nvd3 import discreteBarChart\n",
    "chart = discreteBarChart(name='discreteBarChart', height=400, width=400)\n",
    "\n",
    "xdata = [\"A\", \"B\", \"C\", \"D\", \"E\", \"F\"]\n",
    "ydata = [3, 4, 0, -3, 5, 7]\n",
    "\n",
    "chart.add_serie(y=ydata, x=xdata)\n",
    "chart.buildhtml()\n",
    "chart_html = chart.htmlcontent \n",
    "display(HTML(chart_html))"
   ]
  },
  {
   "cell_type": "code",
   "execution_count": null,
   "metadata": {},
   "outputs": [],
   "source": [
    "import html\n",
    "\n",
    "escaped = html.escape(chart_html)\n",
    "print(f\"<iframe srcdoc='{escaped}' width='800' height='600' style='border:none;'></iframe>\")"
   ]
  },
  {
   "cell_type": "code",
   "execution_count": null,
   "metadata": {},
   "outputs": [],
   "source": [
    "#hide \n",
    "from nvd3 import stackedAreaChart\n",
    "chart = stackedAreaChart(name='stackedAreaChart', height=400, width=400)\n",
    "\n",
    "xdata = [100, 101, 102, 103, 104, 105, 106,]\n",
    "ydata = [6, 11, 12, 7, 11, 10, 11]\n",
    "ydata2 = [8, 20, 16, 12, 20, 28, 28]\n",
    "\n",
    "extra_serie = {\"tooltip\": {\"y_start\": \"There is \", \"y_end\": \" min\"}}\n",
    "chart.add_serie(name=\"Serie 1\", y=ydata, x=xdata, extra=extra_serie)\n",
    "chart.add_serie(name=\"Serie 2\", y=ydata2, x=xdata, extra=extra_serie)\n",
    "chart.buildhtml()\n",
    "chart_html = chart.htmlcontent \n",
    "display(HTML(chart_html))"
   ]
  },
  {
   "cell_type": "code",
   "execution_count": null,
   "metadata": {},
   "outputs": [],
   "source": [
    "import html\n",
    "\n",
    "escaped = html.escape(chart_html)\n",
    "print(f\"<iframe srcdoc='{escaped}' width='800' height='600' style='border:none;'></iframe>\")"
   ]
  },
  {
   "cell_type": "markdown",
   "metadata": {
    "id": "hNuCLn0NHW6K"
   },
   "source": [
    "</details>\n",
    "\n",
    "<details><summary>"
   ]
  },
  {
   "cell_type": "markdown",
   "metadata": {
    "id": "W-_naVoQ4Nok"
   },
   "source": [
    "### Bokeh\n",
    "</summary>\n"
   ]
  },
  {
   "cell_type": "code",
   "execution_count": null,
   "metadata": {},
   "outputs": [],
   "source": [
    "%%capture\n",
    "pip install bokeh"
   ]
  },
  {
   "cell_type": "code",
   "execution_count": null,
   "metadata": {},
   "outputs": [],
   "source": [
    "%%capture\n",
    "from bokeh.plotting import figure, output_file, save\n",
    "from IPython.display import display, HTML\n",
    "import os\n",
    "\n",
    "# Create a simple plot\n",
    "data = {'x': [1, 2, 3, 4, 5], 'y': [6, 7, 2, 4, 5]}\n",
    "p = figure(title=\"Simple Line Chart\", x_axis_label='X-Axis', y_axis_label='Y-Axis')\n",
    "\n",
    "# Add a line renderer\n",
    "p.line(data['x'], data['y'], legend_label=\"Line\", line_width=2)\n",
    "\n",
    "# Save the plot to an HTML file\n",
    "filename = \"plot.html\"\n",
    "save(p, filename)\n"
   ]
  },
  {
   "cell_type": "code",
   "execution_count": null,
   "metadata": {},
   "outputs": [],
   "source": [
    "from IPython.display import display, HTML\n",
    "\n",
    "# Read the content of the HTML file into a variable\n",
    "with open(filename, 'r') as f:\n",
    "    html_content = f.read()\n",
    "\n",
    "# Display the HTML content inline in the notebook\n",
    "# display(HTML(html_content))\n",
    "\n",
    "# Optionally, remove the file after displaying\n",
    "# os.remove(filename)"
   ]
  },
  {
   "cell_type": "code",
   "execution_count": null,
   "metadata": {},
   "outputs": [],
   "source": [
    "import html\n",
    "\n",
    "with open(filename, 'r') as f:\n",
    "    html_content = f.read()\n",
    "\n",
    "escaped = html.escape(html_content)\n",
    "print(f\"<iframe srcdoc='{escaped}' width='800' height='600' style='border:none;'></iframe>\")\n",
    "\n"
   ]
  },
  {
   "cell_type": "markdown",
   "metadata": {
    "id": "XO5CJb9_HzTJ"
   },
   "source": [
    "</details>\n",
    "\n",
    "<details><summary>"
   ]
  },
  {
   "cell_type": "markdown",
   "metadata": {
    "id": "oYaTYUo-blsu"
   },
   "source": [
    "### MatPlotLib\n",
    "</summary>"
   ]
  },
  {
   "cell_type": "code",
   "execution_count": null,
   "metadata": {
    "id": "6rsxYd49sp4h"
   },
   "outputs": [],
   "source": [
    "%matplotlib inline\n",
    "import matplotlib.pyplot as plt\n",
    "import pandas as pd\n",
    "import numpy as np\n",
    "dd = pd.DataFrame(np.random.randn(10, 10)).map(abs)\n",
    "dd = dd.cumsum()\n",
    "plt.figure();\n",
    "dd.plot.bar(colormap=\"Greens\");"
   ]
  },
  {
   "cell_type": "markdown",
   "metadata": {},
   "source": [
    "</details><details><summary>"
   ]
  },
  {
   "cell_type": "markdown",
   "metadata": {
    "id": "7WVfEFAPRZOh"
   },
   "source": [
    "### networkx - Plotly\n",
    "</summary>"
   ]
  },
  {
   "cell_type": "markdown",
   "metadata": {
    "id": "EJaV_SF8VNR_"
   },
   "source": [
    "[Network Graphs](https://plotly.com/python/network-graphs/)"
   ]
  },
  {
   "cell_type": "code",
   "execution_count": null,
   "metadata": {},
   "outputs": [],
   "source": [
    "!pip install plotly networkx"
   ]
  },
  {
   "cell_type": "code",
   "execution_count": null,
   "metadata": {
    "id": "kQ3BwAS5VNv6"
   },
   "outputs": [],
   "source": [
    "#hide\n",
    "import plotly.graph_objects as go\n",
    "import networkx as nx\n",
    "G = nx.random_geometric_graph(200, 0.125)"
   ]
  },
  {
   "cell_type": "code",
   "execution_count": null,
   "metadata": {
    "id": "myWAznVUVUZj"
   },
   "outputs": [],
   "source": [
    "#hide\n",
    "edge_x = []\n",
    "edge_y = []\n",
    "for edge in G.edges():\n",
    "    x0, y0 = G.nodes[edge[0]]['pos']\n",
    "    x1, y1 = G.nodes[edge[1]]['pos']\n",
    "    edge_x.append(x0)\n",
    "    edge_x.append(x1)\n",
    "    edge_x.append(None)\n",
    "    edge_y.append(y0)\n",
    "    edge_y.append(y1)\n",
    "    edge_y.append(None)\n",
    "\n",
    "edge_trace = go.Scatter(\n",
    "    x=edge_x, y=edge_y,\n",
    "    line=dict(width=0.5, color='#888'),\n",
    "    hoverinfo='none',\n",
    "    mode='lines')\n",
    "\n",
    "node_x = []\n",
    "node_y = []\n",
    "for node in G.nodes():\n",
    "    x, y = G.nodes[node]['pos']\n",
    "    node_x.append(x)\n",
    "    node_y.append(y)\n",
    "\n",
    "node_trace = go.Scatter(\n",
    "    x=node_x, y=node_y,\n",
    "    mode='markers',\n",
    "    hoverinfo='text',\n",
    "    marker=dict(\n",
    "        showscale=True,\n",
    "        # colorscale options\n",
    "        #'Greys' | 'YlGnBu' | 'Greens' | 'YlOrRd' | 'Bluered' | 'RdBu' |\n",
    "        #'Reds' | 'Blues' | 'Picnic' | 'Rainbow' | 'Portland' | 'Jet' |\n",
    "        #'Hot' | 'Blackbody' | 'Earth' | 'Electric' | 'Viridis' |\n",
    "        colorscale='YlGnBu',\n",
    "        reversescale=True,\n",
    "        color=[],\n",
    "        size=10,\n",
    "        colorbar=dict(\n",
    "            thickness=15,\n",
    "            title='Node Connections',\n",
    "            xanchor='left',\n",
    "            title_side='right'\n",
    "        ),\n",
    "        line_width=2))"
   ]
  },
  {
   "cell_type": "code",
   "execution_count": null,
   "metadata": {
    "id": "Wkf34HUvVXVw"
   },
   "outputs": [],
   "source": [
    "#hide\n",
    "node_adjacencies = []\n",
    "node_text = []\n",
    "for node, adjacencies in enumerate(G.adjacency()):\n",
    "    node_adjacencies.append(len(adjacencies[1]))\n",
    "    node_text.append('# of connections: '+str(len(adjacencies[1])))\n",
    "\n",
    "node_trace.marker.color = node_adjacencies\n",
    "node_trace.text = node_text"
   ]
  },
  {
   "cell_type": "code",
   "execution_count": null,
   "metadata": {
    "id": "VH144BvhVZjc"
   },
   "outputs": [],
   "source": [
    "#hide_input\n",
    "fig = go.Figure(data=[edge_trace, node_trace],\n",
    "             layout=go.Layout(\n",
    "                title='<br>Network graph made with Python',\n",
    "                title_font_size=16,\n",
    "                showlegend=False,\n",
    "                hovermode='closest',\n",
    "                margin=dict(b=20,l=5,r=5,t=40),\n",
    "                annotations=[ dict(\n",
    "                    text=\"Python code: <a href='https://plotly.com/ipython-notebooks/network-graphs/'> https://plotly.com/ipython-notebooks/network-graphs/</a>\",\n",
    "                    showarrow=False,\n",
    "                    xref=\"paper\", yref=\"paper\",\n",
    "                    x=0.005, y=-0.002 ) ],\n",
    "                xaxis=dict(showgrid=False, zeroline=False, showticklabels=False),\n",
    "                yaxis=dict(showgrid=False, zeroline=False, showticklabels=False))\n",
    "                )\n",
    "# fig.show()\n",
    "fig.write_html(\"./file.html\")"
   ]
  },
  {
   "cell_type": "code",
   "execution_count": null,
   "metadata": {},
   "outputs": [],
   "source": [
    "from IPython.display import display, HTML\n",
    "\n",
    "# retrieve from ./file.html\n",
    "with open(\"./file.html\", \"r\") as f:\n",
    "    html = f.read()\n",
    "\n",
    "# print(html)\n",
    "\n",
    "display(HTML(html))\n",
    "os.remove(\"./file.html\")"
   ]
  },
  {
   "cell_type": "markdown",
   "metadata": {
    "id": "bIO9qslqItax"
   },
   "source": [
    "</details><details><summary>"
   ]
  },
  {
   "cell_type": "markdown",
   "metadata": {
    "id": "8VlhVnsL-eKX"
   },
   "source": [
    "### Google Colabs\n",
    "</summary>"
   ]
  },
  {
   "cell_type": "markdown",
   "metadata": {
    "id": "mIdIbjYtHSd1"
   },
   "source": [
    "The output of each cell (while in colabs) is hosted in a separate sandboxed iframe without direct access to the contents of other cells, but they can create [BroadcastChannel](https://developer.mozilla.org/en-US/docs/Web/API/BroadcastChannel/BroadcastChannel)s to communicate between cells on the same page."
   ]
  },
  {
   "cell_type": "markdown",
   "metadata": {
    "id": "0YyfqR9cqZYx"
   },
   "source": [
    "This will execute and trigger in realtime in the converted HTML doc:"
   ]
  },
  {
   "cell_type": "code",
   "execution_count": null,
   "metadata": {
    "id": "C6EUBnQw87Wj"
   },
   "outputs": [],
   "source": [
    "%%javascript\n",
    "const listenerChannel = new BroadcastChannel('channel_one');\n",
    "listenerChannel.onmessage = (msg) => {\n",
    "  window.localStorage.setItem('localStorageVariable', msg.data);\n",
    "  console.log('recieved: ', msg.data);\n",
    "};"
   ]
  },
  {
   "cell_type": "markdown",
   "metadata": {
    "id": "8xCTPsqJqc74"
   },
   "source": [
    "This will not run on start"
   ]
  },
  {
   "cell_type": "code",
   "execution_count": null,
   "metadata": {
    "id": "8fT7bf0lT4-H"
   },
   "outputs": [],
   "source": [
    "from google.colab import output\n",
    "value = output.eval_js(\"window.localStorage.getItem('localStorageVariable')\");\n",
    "value"
   ]
  },
  {
   "cell_type": "markdown",
   "metadata": {
    "id": "SKYS8N_JqX5I"
   },
   "source": [
    "This will execute on start (converted HTML doc) and any time you run the cell (in Colabs):"
   ]
  },
  {
   "cell_type": "code",
   "execution_count": null,
   "metadata": {
    "id": "Pu5Ru49M9B-H"
   },
   "outputs": [],
   "source": [
    "%%javascript\n",
    "const senderChannel = new BroadcastChannel('channel_one');\n",
    "senderChannel.postMessage('55');"
   ]
  },
  {
   "cell_type": "code",
   "execution_count": null,
   "metadata": {
    "id": "Ya40AdO7Ysow"
   },
   "outputs": [],
   "source": [
    "%%javascript\n",
    "console.log('Cross-output communication')"
   ]
  },
  {
   "cell_type": "markdown",
   "metadata": {
    "id": "cQYQsWbaG0Ri"
   },
   "source": [
    "</details> "
   ]
  },
  {
   "cell_type": "markdown",
   "metadata": {},
   "source": [
    "</details>"
   ]
  }
 ],
 "metadata": {
  "colab": {
   "collapsed_sections": [
    "ssbD-99zdUby",
    "wQvgNYW7dUcC",
    "_0NybzfNK71c",
    "gZ1TGICzUVqB",
    "FHQYN1r4JRK9",
    "hnI2xCfXJXOf",
    "K4PCxMq3KVbi",
    "mQz3p1WlTPWg",
    "oFSO0FTlHZvp",
    "IpQdoqHWQeA1",
    "W-_naVoQ4Nok",
    "oYaTYUo-blsu",
    "7WVfEFAPRZOh",
    "x1_GAAzAItan",
    "8VlhVnsL-eKX"
   ],
   "provenance": []
  },
  "kernelspec": {
   "display_name": ".venv",
   "language": "python",
   "name": "python3"
  },
  "language_info": {
   "codemirror_mode": {
    "name": "ipython",
    "version": 3
   },
   "file_extension": ".py",
   "mimetype": "text/x-python",
   "name": "python",
   "nbconvert_exporter": "python",
   "pygments_lexer": "ipython3",
   "version": "3.11.6"
  }
 },
 "nbformat": 4,
 "nbformat_minor": 0
}
