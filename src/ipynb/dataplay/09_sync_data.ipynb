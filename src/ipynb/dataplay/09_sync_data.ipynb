{
 "cells": [
  {
   "cell_type": "markdown",
   "metadata": {},
   "source": [
    "# Sync Data\n",
    "\n",
    "> Sync and display data.\n",
    "- toc: tocHere\n",
    "- prettify: true\n",
    "- default_exp: sync\n",
    "- audio: https://charleskarpati.com/audio/09_sync_data.mp3"
   ]
  },
  {
   "cell_type": "markdown",
   "metadata": {},
   "source": [
    "## Welcome to my test page! <i class=\"fas fa-adjust\"></i>"
   ]
  },
  {
   "cell_type": "markdown",
   "metadata": {},
   "source": [
    "<br>\n",
    "\n",
    "[![Binder](https://mybinder.org/badge_logo.svg)](https://mybinder.org/v2/gh/bnia/datalabs/main?filepath=%2Fnotebooks%2F07_nb_2_html_tests.ipynb)\n",
    "[![Binder](https://pete88b.github.io/fastpages/assets/badges/colab.svg)](https://colab.research.google.com/github/bnia/datalabs/blob/main/notebooks/07_nb_2_html_tests.ipynb)\n",
    "[![Binder](https://pete88b.github.io/fastpages/assets/badges/github.svg)](https://github.com/bnia/datalabs/tree/main/notebooks/07_nb_2_html_tests.ipynb)\n",
    "[![Open Source Love svg3](https://badges.frapsoft.com/os/v3/open-source.svg?v=103)](https://github.com/ellerbrock/open-source-badges/)\n",
    "<br>\n",
    "[![NPM License](https://img.shields.io/npm/l/all-contributors.svg?style=flat)](https://github.com/bnia/datalabs/blob/main/LICENSE)\n",
    "[![Active](http://img.shields.io/badge/Status-Active-green.svg)](https://bnia.github.io)\n",
    "[![GitHub last commit](https://img.shields.io/github/last-commit/bnia/datalabs.svg?style=flat)]()  \n",
    "\n",
    "[![GitHub stars](https://img.shields.io/github/stars/bnia/datalabs.svg?style=social&label=Star)](https://github.com/bnia/datalabs)\n",
    "[![GitHub watchers](https://img.shields.io/github/watchers/bnia/datalabs.svg?style=social&label=Watch)](https://github.com/bnia/datalabs)\n",
    "[![GitHub forks](https://img.shields.io/github/forks/bnia/datalabs.svg?style=social&label=Fork)](https://github.com/bnia/datalabs)\n",
    "[![GitHub followers](https://img.shields.io/github/followers/bnia.svg?style=social&label=Follow)](https://github.com/bnia/datalabs)\n",
    "<br>\n",
    "[![Tweet](https://img.shields.io/twitter/url/https/github.com/bnia/datalabs.svg?style=social)](https://twitter.com/intent/tweet?text=Check%20out%20this%20%E2%9C%A8%20colab%20by%20@bniajfi%20https://github.com/bnia/datalabs%20%F0%9F%A4%97)\n",
    "[![Twitter Follow](https://img.shields.io/twitter/follow/bniajfi.svg?style=social)](https://twitter.com/bniajfi)"
   ]
  },
  {
   "cell_type": "markdown",
   "metadata": {},
   "source": [
    "<details open>\n",
    "<summary>"
   ]
  },
  {
   "cell_type": "markdown",
   "metadata": {},
   "source": [
    "## Table of Contents"
   ]
  },
  {
   "cell_type": "markdown",
   "metadata": {},
   "source": [
    "</summary>"
   ]
  },
  {
   "cell_type": "markdown",
   "metadata": {},
   "source": [
    "<div id='tocHere'></div>"
   ]
  },
  {
   "cell_type": "markdown",
   "metadata": {},
   "source": [
    "</details>\n",
    "<details open>\n",
    "<summary>"
   ]
  },
  {
   "cell_type": "markdown",
   "metadata": {},
   "source": [
    "### How it works"
   ]
  },
  {
   "cell_type": "markdown",
   "metadata": {},
   "source": [
    "</summary>"
   ]
  },
  {
   "cell_type": "markdown",
   "metadata": {},
   "source": [
    "<style>\n",
    ".shapedImage {\n",
    "  float: left;\n",
    "  width: 250px;\n",
    "  shape-outside: url(https://interactive-examples.mdn.mozilla.net/media/examples/round-balloon.png);\n",
    "  shape-margin:20px;\n",
    "  margin-right: 20px;\n",
    "  margin-bottom: 20px;\n",
    "  padding-top: 30px;\n",
    "}\n",
    ".shapedImage + p::first-letter {\n",
    "  font-size: 1.5rem;\n",
    "  font-weight: bold;\n",
    "  color: brown;\n",
    "}\n",
    "</style> \n",
    "\n",
    "<img class=\"shapedImage\" src=\"https://interactive-examples.mdn.mozilla.net/media/examples/round-balloon.png\" alt=\"Sample Image\"> \n",
    "\n",
    "I want to create interactive ipynb visualizations which share and update linked data between cells and persists when converted to html. Jupyter Notebooks being a web app makes this possible as Ipynb's cell outputs are actually just IFRAMES. Jupyter notebooks run a web server responsible for routing communication from your browser to your local machine. \n",
    "\n",
    "(((info:: Everything you are reading was made in an ipynb ))) \n",
    "\n",
    "Doing this will store the dataset into the browsers window.\n",
    "\n",
    "This way, you no longer need to pass the dataset to create Multiple Visualizations."
   ]
  },
  {
   "cell_type": "markdown",
   "metadata": {},
   "source": [
    "</details>"
   ]
  },
  {
   "cell_type": "markdown",
   "metadata": {},
   "source": [
    "<details open>\n",
    "<summary>"
   ]
  },
  {
   "cell_type": "markdown",
   "metadata": {},
   "source": [
    "## Similar Tools"
   ]
  },
  {
   "cell_type": "markdown",
   "metadata": {},
   "source": [
    "</summary>"
   ]
  },
  {
   "cell_type": "markdown",
   "metadata": {},
   "source": [
    "- [Pandoc](https://pandoc.org/): A universal document converter. That's it.\n",
    "- - [quarto](https://quarto.org/): Uses Pandoc to publish webpages with styled flair and web functionality.\n",
    "- - - [nbdev](https://nbdev.fast.ai/): Focuses as a dev tool but uses quarto for documentation. Previously used a combination of nbconvert and jekyll to get the same effect.\n",
    "- - [nbconvert](https://nbconvert.readthedocs.io/en/latest/): Uses pandoc to publish with styled flair.\n",
    "- - - [Jupyter Book](https://jupyterbook.org/): Creates books from Jupyter Notebooks. Uses nbconvert.\n",
    "- - - [Voilà](https://voila.readthedocs.io/en/stable/): Transforms Jupyter notebooks into web applications. Uses nbconvert.\n",
    "- - - [Papermill](https://papermill.readthedocs.io/): Execute and parameterize notebooks. Uses nbconvert.\n",
    "- - - [Jupytext](https://jupytext.readthedocs.io/en/latest/): Pairs notebooks with Markdown or Python scripts. Uses nbconvert.\n",
    "- [Sphinx](https://www.sphinx-doc.org/en/master/): Generates documentation from source code, not directly focused on Jupyter Notebooks but still relevant for documentation.\n",
    "- - [Read The Docs](https://readthedocs.org/): Hosts documentation, integrates with Sphinx and MkDocs.\n",
    "- Other Tools \n",
    "- - [Docusaurus](https://docusaurus.io/): Builds optimized websites and supports Markdown, relevant for webpage generation.\n",
    "- - [MkDocs](https://www.mkdocs.org/): Generates documentation from Markdown files, similar in producing web content. \n",
    "- - [Jekyll](https://jekyllrb.com/): A static site generator, adaptable for documentation, similar in web content generation.\n",
    "- - [Asciidoctor](https://asciidoctor.org/): Processes AsciiDoc files for documentation, less directly related but still in the realm of web documentation. \n"
   ]
  },
  {
   "cell_type": "markdown",
   "metadata": {},
   "source": [
    "</details>\n",
    "<details open>\n",
    "<summary>"
   ]
  },
  {
   "cell_type": "markdown",
   "metadata": {},
   "source": [
    "# How it works"
   ]
  },
  {
   "cell_type": "markdown",
   "metadata": {},
   "source": [
    "</summary>"
   ]
  },
  {
   "cell_type": "code",
   "execution_count": null,
   "metadata": {},
   "outputs": [],
   "source": [
    "#export #hide_input\n",
    "import os\n",
    "from IPython.display import display, HTML, Javascript\n",
    "import pandas as pd\n",
    "import json\n",
    "from dataplay import pivot\n",
    "\n",
    "import json\n",
    "def getValidDf(ds):\n",
    "    # Convert DataFrame to a serializable format if it's a DataFrame\n",
    "    if isinstance(ds, pd.DataFrame):\n",
    "        # Convert DataFrame to a dictionary in a format that can be serialized\n",
    "        data = ds.to_dict(orient='records')\n",
    "        data_str = json.dumps(data)\n",
    "    else:\n",
    "        data_str = \"undefined\"\n",
    "    return data_str\n",
    "\n",
    "def getValidNames(names):\n",
    "    # Default to not using any.\n",
    "    # But if it's a string, check if it's a comma separated list\n",
    "    if names == False: return 'false'\n",
    "    if names == None: names = []\n",
    "    if type(names) == str: \n",
    "        if \",\" in names: names = names.split(\",\")\n",
    "        else: names = [names]\n",
    "    return names\n",
    "\n",
    "def init(usePivot=True):\n",
    "    pivot_code = \"\"\"\n",
    "        window.loadScripts = (scripts) => {{\n",
    "            let index = 0;\n",
    "            function loadScript(url, onload) {{\n",
    "                var script = document.createElement(\"script\");\n",
    "                script.src = url;\n",
    "                onload && (script.onload = onload);\n",
    "                document.head.appendChild(script);\n",
    "            }} \n",
    "            function loadNext() {{\n",
    "                if (index < scripts.length) {{\n",
    "                    console.log('loadScripts', scripts[index])\n",
    "                    loadScript(scripts[index], () => {{ index++; loadNext(); }});\n",
    "                }}\n",
    "            }}\n",
    "            loadNext();\n",
    "        }}\n",
    "        //   \"http://localhost:8080/ipynb/dataplay/renderer_d3.js\"\n",
    "        //   \"http://localhost:8080/ipynb/dataplay/renderer_c3.js\",\n",
    "        //   \"https://cdnjs.cloudflare.com/ajax/libs/jquery/1.11.2/jquery.min.js\", \n",
    "\t    //   \"https://cdnjs.cloudflare.com/ajax/libs/c3/0.4.11/c3.min.js\",\n",
    "        //   \"https://cdnjs.cloudflare.com/ajax/libs/d3/3.5.5/d3.min.js\",\n",
    "            \"http://localhost:8080/ipynb/dataplay/renderer_pivottable.js\",\n",
    "        window.scripts = [\n",
    "            \"https://cdnjs.cloudflare.com/ajax/libs/jquery/1.11.2/jquery.min.js\", \n",
    "            \"https://api.charleskarpati.com/vanillapivottable/sortable.js\",\n",
    "            \"https://cdnjs.cloudflare.com/ajax/libs/PapaParse/5.3.0/papaparse.min.js\",\n",
    "            \"https://api.charleskarpati.com/vanillapivottable/pivottable.js\",\n",
    "            \"https://api.charleskarpati.com/vanillapivottable/renderer_pivottable_copy.js\",\n",
    "        ];\n",
    "        loadScripts(scripts);\n",
    "    \"\"\"\n",
    "    js_file_path = os.path.join(os.getcwd(), 'dataplay.js') \n",
    "    with open(js_file_path, 'r') as file:\n",
    "        js_code = file.read()\n",
    "        if(usePivot==True): js_code = js_code + pivot_code\n",
    "        html_code = f\"<script>{js_code}</script>\"\n",
    "        if(usePivot==True): html_code += \"<link rel='stylesheet' type='text/css' href='https://pivottable.js.org/dist/pivot.css'><link rel='stylesheet' type='text/css' href='https://cdnjs.cloudflare.com/ajax/libs/c3/0.4.11/c3.min.css'>\"\n",
    "        display(HTML(html_code)) \n",
    "\n",
    "def setData(label, data):\n",
    "    # Link data to a label. Updates existing or adds new \n",
    "    display(HTML(f\"<script>window.setData('{label}', {getValidDf(data)})</script>\"))\n",
    "\n",
    "def setMapping(label='', vizid='', viztype='', rows=False, cols=False):\n",
    "    # Link element_id to a label. Updates existing or adds new\n",
    "    display(HTML(f'<script>window.setMapping(\"{label}\", \"{vizid}\", \"{viztype}\", {getValidNames(rows)}, {getValidNames(cols)});</script>'))\n",
    "\n",
    "def setVizType(vizid, viztype, rows=False, cols=False):\n",
    "    # Make a best effort attempt to update an existing record even when no label was provided\n",
    "    display(HTML(f'<script>window.setVizType(\"{vizid}\", \"{viztype}, {getValidNames(rows)}, {getValidNames(cols)});'))\n",
    "\n",
    "def unsetMapping(vizid):\n",
    "    # Remove a specific mapping based on vizid\n",
    "    display(HTML(f'<script>window.unsetMapping(\"{vizid}\");'))\n",
    "\n",
    "def displayElements(label):\n",
    "    # Display all Mappings for a given label\n",
    "    display(HTML(f'<div><script>window.displayElements(\"{label}\")</script></div>')) \n",
    "\n",
    "def displayElement(data, vizid='', viztype='Table', rows=False, cols=False):\n",
    "    # Display a single element with dataset\n",
    "    display(HTML(f'<div><script>window.displayElement({getValidDf(data)}, \"{vizid}\", \"{viztype}\", {getValidNames(rows)}, {getValidNames(cols)} )</script></div>')) \n",
    "\n",
    "def update(label='', vizid='', viztype='', ds=None, unset=False, rows=False, cols=False):\n",
    "    update_command = f'window.update({{ \\\n",
    "        \"label\": \"{label}\", \\\n",
    "        \"vizid\": \"{vizid}\", \\\n",
    "        \"viztype\": \"{viztype}\", \\\n",
    "        \"ds\": {getValidDf(ds)}, \\\n",
    "        \"unset\": {str(unset).lower()}, \\\n",
    "        \"rows\": {getValidNames(rows)}, \\\n",
    "        \"cols\": {getValidNames(cols)} \\\n",
    "    }});'\n",
    "    display(HTML(f\"<div><script>{update_command}</script></div>\"))\n",
    "\n",
    "init()"
   ]
  },
  {
   "cell_type": "code",
   "execution_count": null,
   "metadata": {},
   "outputs": [],
   "source": [
    "import pandas as pd\n",
    "\n",
    "# Example DataFrame\n",
    "data = {\n",
    "    'Name': ['Alice', 'Bob', 'Charlie'],\n",
    "    'Age': [25, 30, 35],\n",
    "    'City': ['New York', 'Paris', 'London'] \n",
    "}\n",
    "df = pd.DataFrame(data) \n",
    "\n",
    "# displayElement(df) \n",
    "# OR EVEN \n",
    "displayElement(df, \n",
    "               viztype='Table', \n",
    "               rows='Name', \n",
    "               cols='Age'\n",
    "               )"
   ]
  },
  {
   "cell_type": "code",
   "execution_count": null,
   "metadata": {},
   "outputs": [],
   "source": [
    "# displayElement(df) \n",
    "# OR EVEN \n",
    "displayElement(df, \n",
    "               viztype='Table', \n",
    "               rows='Name', \n",
    "               cols='PetalWidth'\n",
    "               )"
   ]
  },
  {
   "cell_type": "code",
   "execution_count": null,
   "metadata": {},
   "outputs": [],
   "source": [
    "df = pd.read_csv('https://raw.githubusercontent.com/plotly/datasets/master/iris.csv') \n",
    "displayElement(df) "
   ]
  },
  {
   "cell_type": "code",
   "execution_count": null,
   "metadata": {},
   "outputs": [],
   "source": [
    "displayElement(df) "
   ]
  },
  {
   "cell_type": "markdown",
   "metadata": {},
   "source": [
    "I will first cover basic core functions before showing the convenience function that makes it all easier to use.\n",
    "\n",
    "<br>\n",
    "Terms:\n",
    "\n",
    "- label - For the dataset  \n",
    "- ds - the pands dataframe mapped to the label\n",
    "- vizId - To update the visual\n",
    "- vizType - Specifies the default viz type\n",
    "- rows / cols - To be used on the viztype\n",
    "\n",
    "To use the tool, first perform typical python data science operations "
   ]
  },
  {
   "cell_type": "code",
   "execution_count": null,
   "metadata": {},
   "outputs": [],
   "source": [
    "import pandas as pd\n",
    "\n",
    "# Example DataFrame\n",
    "data = {\n",
    "    'Name': ['Alice', 'Bob', 'Charlie'],\n",
    "    'Age': [25, 30, 35],\n",
    "    'City': ['New York', 'Paris', 'London'] \n",
    "}\n",
    "df = pd.DataFrame(data) "
   ]
  },
  {
   "cell_type": "markdown",
   "metadata": {},
   "source": [
    "From there, it is possible to..."
   ]
  },
  {
   "cell_type": "markdown",
   "metadata": {},
   "source": [
    "0. Display the data as is. This will visualize the dataframe that is non-updateable"
   ]
  },
  {
   "cell_type": "code",
   "execution_count": null,
   "metadata": {},
   "outputs": [],
   "source": [
    "# displayElement(df) \n",
    "# OR EVEN \n",
    "displayElement(df, \n",
    "               viztype='Table', \n",
    "               rows='Name', \n",
    "               cols='Age'\n",
    "               )"
   ]
  },
  {
   "cell_type": "markdown",
   "metadata": {},
   "source": [
    "1. Save the current state of the df to a label and then display it using the label name. \n",
    "\n",
    "((( tip:: Calling ```displayElements``` on a label with no mapping will render a non-configured Table that is non-updateable ))) "
   ]
  },
  {
   "cell_type": "code",
   "execution_count": null,
   "metadata": {},
   "outputs": [],
   "source": [
    "setData('label1', df)\n",
    "\n",
    "displayElements('label1')"
   ]
  },
  {
   "cell_type": "markdown",
   "metadata": {},
   "source": [
    "2. Create a mapping between a label and an elementId so it may be later updated. "
   ]
  },
  {
   "cell_type": "code",
   "execution_count": null,
   "metadata": {},
   "outputs": [],
   "source": [
    "# setMapping('label1', 'viz1')\n",
    "# setMapping('label1', 'viz1', 'Table')\n",
    "setMapping(label='label1', vizid='viz1', viztype='Table', cols='Name', rows='Age')"
   ]
  },
  {
   "cell_type": "markdown",
   "metadata": {},
   "source": [
    "3. Render the mappings"
   ]
  },
  {
   "cell_type": "code",
   "execution_count": null,
   "metadata": {},
   "outputs": [],
   "source": [
    "displayElements('label1')"
   ]
  },
  {
   "cell_type": "markdown",
   "metadata": {},
   "source": [
    "4. Multiple labels, and mappings to the labels may be made. To update the data and mappings (above), it's just more of the same. "
   ]
  },
  {
   "cell_type": "markdown",
   "metadata": {},
   "source": [
    "(((tip::Notice how the the tables directly above and below have been updated but the very first two tables did not.)))\n",
    "\n",
    "(((warning:: Creating multiple labels will render the tables one after another if the element ID does not already exist )))"
   ]
  },
  {
   "cell_type": "code",
   "execution_count": null,
   "metadata": {},
   "outputs": [],
   "source": [
    "setMapping('label1', 'viz2')\n",
    "\n",
    "# df.loc[df['Name'] == 'Alice', 'Age'] = 3 \n",
    "df.loc[len(df)] = {'Name': 'Diana', 'Age': 28, 'City': 'Berlin'}\n",
    "\n",
    "setData('label1', df)\n",
    "\n",
    "displayElements('label1')"
   ]
  },
  {
   "cell_type": "markdown",
   "metadata": {},
   "source": [
    "```update``` combines the three functions. Toss it w/e - and w/e will update or be made."
   ]
  },
  {
   "cell_type": "code",
   "execution_count": null,
   "metadata": {},
   "outputs": [],
   "source": [
    "df.loc[df['Name'] == 'Alice', 'Age'] = 16\n",
    "update(label='label1', ds=df)"
   ]
  },
  {
   "cell_type": "markdown",
   "metadata": {},
   "source": [
    "Lets create another visual mapping for the existing label"
   ]
  },
  {
   "cell_type": "code",
   "execution_count": null,
   "metadata": {},
   "outputs": [],
   "source": [
    "update(label='label1', vizid='viz3', viztype='Table')"
   ]
  },
  {
   "cell_type": "markdown",
   "metadata": {},
   "source": [
    "And to create a new saved dataset and visualize in one go we just add the ds"
   ]
  },
  {
   "cell_type": "code",
   "execution_count": null,
   "metadata": {},
   "outputs": [],
   "source": [
    "df.loc[df['Name'] == 'Alice', 'Age'] = 6\n",
    "\n",
    "update(label='label2', ds=df, vizid='viz4', viztype='Table')\n"
   ]
  },
  {
   "cell_type": "markdown",
   "metadata": {},
   "source": [
    "As ininusated earlier, it's possible specify where the visual should be placed by using ```display(HTML('<div id=\"insertHere1\"></div>'))``` or magic```%%html <div id=\"insertHere1\"></div>``` to render the html div with an id of the vizId specified in your mapping \n",
    "\n",
    "``````"
   ]
  },
  {
   "cell_type": "code",
   "execution_count": null,
   "metadata": {},
   "outputs": [],
   "source": [
    "%%html\n",
    "<div id=\"insertHere1\"></div>"
   ]
  },
  {
   "cell_type": "markdown",
   "metadata": {},
   "source": [
    "\n",
    "And now data can be inserted into it. The container can be placed anywhere, but must be executed before the call for visualizing."
   ]
  },
  {
   "cell_type": "code",
   "execution_count": null,
   "metadata": {},
   "outputs": [],
   "source": [
    "df.loc[df['Name'] == 'Alice', 'Age'] = 7\n",
    "\n",
    "update(label='label2', ds=df, vizid='insertHere1', viztype='Table', unset=False)\n"
   ]
  },
  {
   "cell_type": "markdown",
   "metadata": {},
   "source": [
    "</details>"
   ]
  }
 ],
 "metadata": {
  "kernelspec": {
   "display_name": "Python 3",
   "language": "python",
   "name": "python3"
  },
  "language_info": {
   "codemirror_mode": {
    "name": "ipython",
    "version": 3
   },
   "file_extension": ".py",
   "mimetype": "text/x-python",
   "name": "python",
   "nbconvert_exporter": "python",
   "pygments_lexer": "ipython3",
   "version": "3.11.7"
  }
 },
 "nbformat": 4,
 "nbformat_minor": 2
}
