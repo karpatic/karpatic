{
 "cells": [
  {
   "cell_type": "markdown",
   "metadata": {},
   "source": [
    "# Table Of Contents"
   ]
  },
  {
   "cell_type": "markdown",
   "metadata": {},
   "source": [
    "0. **Background**\n",
    "1. **Business Understanding**\n",
    "- 1. **Meta-Data**  \n",
    "- 2. **Data Types** - Text, Number, Date/Time, other\n",
    "- 3. **Data Attributes** - Nominal, Symmetry, Skew, modality, kurtosis, etc\n",
    "2. **Data Understanding**\n",
    "- 1. **Data Exploration**\n",
    "- 2. **Graphics**\n",
    "3. **Data Preparation**\n",
    "4. **Data Modeling**\n",
    "5. **Evaluation**\n"
   ]
  },
  {
   "cell_type": "markdown",
   "metadata": {},
   "source": [
    "## 0. Background"
   ]
  },
  {
   "cell_type": "markdown",
   "metadata": {},
   "source": [
    "#### **What is Data Science**\n",
    "\n",
    "Principally, a data scientists job is to apply scientific methods to data in a process often refered to as data-mining. The purpose of this mining is to find informative patterns in the data and to then make meaningful /actionable knowledge of said information. Often times the exploration of the data and development of something actionable is accompanied Machine Learning Algorithms. While [contentious](https://priceonomics.com/whats-the-difference-between-data-science-and/), Statistics is generally understood as more focused on quantative descriptions of data and that data science grew out of statistics as an applied branch of the field with an emphasis on  qualatative data and actionability of their output. [source](https://en.wikipedia.org/wiki/Data_science#:~:text=Data%20science%20is%20a%20%22concept,domain%20knowledge%20and%20information%20science.) "
   ]
  },
  {
   "cell_type": "markdown",
   "metadata": {},
   "source": [
    "> The manual extraction of patterns from data has occurred for centuries. Early methods of identifying patterns in data include Bayes' theorem (1700s) and regression analysis (1800s)... **Data mining is the process of applying [machine learning] methods with the intention of uncovering hidden patterns.**[[16]](https://archive.org/details/dataminingconcep0000kant) in large data sets. It bridges the gap from applied statistics and artificial intelligence."
   ]
  },
  {
   "cell_type": "markdown",
   "metadata": {},
   "source": [
    "**Data Mining [Tasks](https://www.kdnuggets.com/gpspubs/aimag-kdd-overview-1996-Fayyad.pdf)**\n",
    "- Anomaly Detection\n",
    "- Association Rule Learning\n",
    "- Clustering\n",
    "- Classification\n",
    "- Regression\n",
    "- Summarization"
   ]
  },
  {
   "cell_type": "markdown",
   "metadata": {},
   "source": [
    ">  Other terms used include data archaeology, information harvesting, information discovery, knowledge extraction, etc. Gregory Piatetsky-Shapiro coined the term \"knowledge discovery in databases\" for the first workshop on the same topic (KDD-1989) and this term became more popular in AI and machine learning community. However, the term data mining became more popular in the business and press communities.[14] Currently, **the terms data mining and knowledge discovery are used interchangeably.** [data-mining](https://en.wikipedia.org/wiki/Data_mining)"
   ]
  },
  {
   "cell_type": "markdown",
   "metadata": {},
   "source": [
    "The most simple conceptual model of the the data scientists job is as follows:\n",
    "1. **Preproces**\n",
    "2. **Data Mine**\n",
    "3. **Resuls Validation**\n",
    "\n",
    "The Knowledge Discovery in Database (KDD) Process uses these 5 steps:\n",
    "1. **Selection**\n",
    "2. **Pre-processing**\n",
    "3. **Transformation**\n",
    "4. **Data mining**\n",
    "5. **Interpretation/evaluation**\n",
    " \n",
    "And a more modern competing approach is  to use the [CRISP-DM](https://en.wikipedia.org/wiki/Cross-industry_standard_process_for_data_mining) approach which splits the data scientists responsibility along these 6 themes\n",
    "1. **Business understanding**\n",
    "2. **Data understanding**\n",
    "3. **Data preparation**\n",
    "4. **Modeling**\n",
    "5. **Evaluation**\n",
    "6. **Deployment**"
   ]
  },
  {
   "cell_type": "markdown",
   "metadata": {},
   "source": [
    "I like to break out data science steps as so:\n",
    "1. **Acquire** - (Selection & Business Understanding) Understanding what's needed, Retrieving data and injesting it through the act of preliminary exploration and storage\n",
    "2. **Explore** - (Data Understanding) find extremes, range within, distributions, anomolies, etc. Performed after any data processing is done. \n",
    "3. **Pre-process** - Cleaning the data for further analytical activities and exploration by filtering or performing non-critical prep work on the data like removing noise or missing vals or meet size/time limit constraints. Typically only done once.\n",
    "4. **Process** - Once the raw data is cleaned and generically prepped, additional transformational processes may be required to make applicable use of data for a scientific specific model. augmentations may include sorting, filtering and arranging, and aggregating and integration. Many different models and precesses may be used, each deserving an exploration.\n",
    "5. **Model** - test train predict, regressions, clusterings, etc. Analysis is performed by applying models on data and recording the output, Includes finding Correlations, and aontextualize any discoveries. \n",
    "6. **Act** - Inteperite the data and draw evaluative conclusions and communicating them in the form of something presentable/ actionable.\n",
    "\n",
    "This way of thinking differentiates itself from the former two models of thought is that the first step is idealy only performed once wheras the 2nd step is performed after any data is changed. The third step is conditinoally applied from CRISP-DM in that in breaks out the pre-processing and integration/transformations steps as they can are sometimes optional and a big enough topic to deserve their own section. This article has been sectioned along CRISP-DM Standards. "
   ]
  },
  {
   "cell_type": "markdown",
   "metadata": {},
   "source": [
    "At One Point in time I also described it like so:"
   ]
  },
  {
   "cell_type": "markdown",
   "metadata": {},
   "source": [
    "**Process** - Data - raw/ processed data.\n",
    "\n",
    "**Figures** - exploratory/ final figures.\n",
    "\n",
    "**Code** - raw scripts, final scripts.\n",
    "\n",
    "**Text** - readme / analysis.\n",
    "\n",
    "**Steps** - define the question, define the ideal data, obtain data, clean data, exploratory data analysis, statistical prediction/modeling, interpret results, challenge results, synthesize/write up results. Create reproducible code.\n",
    "\n",
    "**Language** ( describe, correlate/associated, lead to/causes, predicts). Interpret and explain\n",
    "\n",
    "**Challenge all steps** - question, data, processing, analysis, conclusion\n",
    "\n",
    "**synthesize/write up** results -\\&gt; lead with question, summarize analysis, order analyses as story rather than chronologically. Include pretty figures."
   ]
  },
  {
   "cell_type": "markdown",
   "metadata": {},
   "source": [
    "#### **Geo-Spatial-Time-Series**\n",
    "To work with this data, ds's can use these tools:\n",
    "- Model \n",
    "- Process \n",
    "- Visual\n",
    "- Exploratory spatial analysis\n",
    "- spatial autocorrolation\n",
    "- spatial regression\n",
    "- interpolation\n",
    "- grid based stats\n",
    "- point based stats\n",
    "- spatial network analysis\n",
    "- spatial clustering."
   ]
  },
  {
   "cell_type": "markdown",
   "metadata": {},
   "source": [
    "### Free Softwares"
   ]
  },
  {
   "cell_type": "markdown",
   "metadata": {},
   "source": [
    "\n",
    "**Free software for data analysis**\n",
    "\n",
    "- DevInfo – a database system endorsed by the United Nations Development Group for monitoring and analyzing human development.\n",
    "\n",
    "- ELKI – data mining framework in Java with data mining oriented visualization functions.\n",
    "\n",
    "- KNIME – the Konstanz Information Miner, a user friendly and comprehensive data analytics framework.\n",
    "\n",
    "- Orange – A visual programming tool featuring interactive data visualization and methods for statistical data analysis, data mining, and machine learning.\n",
    "\n",
    "- Pandas – Python library for data analysis\n",
    "\n",
    "- PAW – FORTRAN/C data analysis framework developed at CERN\n",
    "\n",
    "- R – a programming language and software environment for statistical computing and graphics.\n",
    "\n",
    "- ROOT – C++ data analysis framework developed at CERN\n",
    "\n",
    "- SciPy – Python library for data analysis\n",
    "\n",
    "- Vega-Lite{ description, name, title, data, mark, encoding, transform}\n"
   ]
  },
  {
   "cell_type": "markdown",
   "metadata": {},
   "source": [
    "**Existing Services**\n",
    "- Northstar \n",
    "- automl\n",
    "- h20.autokeras\n",
    "- autosklearn\n",
    "- googlecloudml\n",
    "- tpot\n",
    "- dive \n",
    "- orange\n",
    "- xl\n",
    "- spss\n",
    "- vega\\_2"
   ]
  },
  {
   "cell_type": "markdown",
   "metadata": {},
   "source": [
    "**Existing Service Features**\n",
    "\n",
    "- Available attributes -\\&gt; Principle-Axis Visualization, Secondary/Tertiary Axis&#39;s\n",
    "\n",
    "- Sources | sheet1| + | + | + | + ..\n",
    "\n",
    "- Hierarchy Maps -\\&gt; Dimensions\n",
    "\n",
    "- Marks(map.bar.etc) colors, label, tooltip, size, detail\n",
    "\n",
    "- Filter(range), show only relevant, include nulls\n",
    "\n",
    "- Colrs -\\&gt; by freq or what?\n",
    "\n",
    "- Specific style rules for each column/row\n",
    "\n",
    "- transformation/prediction, nlp/queries"
   ]
  },
  {
   "cell_type": "markdown",
   "metadata": {},
   "source": [
    "##1. Business Understanding"
   ]
  },
  {
   "cell_type": "markdown",
   "metadata": {},
   "source": [
    "Systems = Infrastructure =\\&gt; Technical, (hw, ppl, processes), integrate\n",
    "\n",
    "Software = Apps =\\&gt; Business\n",
    "\n",
    "Data provenance\n",
    "\n",
    "Features Geometry = Coordinates/ Rings"
   ]
  },
  {
   "cell_type": "markdown",
   "metadata": {},
   "source": [
    "### Challenges \n"
   ]
  },
  {
   "cell_type": "markdown",
   "metadata": {},
   "source": [
    "80% of the time of client requests is spent on [access, format, connect, and fix], often the solutions to these client requests are client specific artifacts or heuristics/ classifications requirements.\t"
   ]
  },
  {
   "cell_type": "markdown",
   "metadata": {},
   "source": [
    "Administrative data is heavily Biased and Dependent. Survey data less so\n",
    "\n",
    "Dependent data does not lend itself to Bayesian methods.\n",
    "\n",
    "Depending on Collection Methodology\n",
    "\n",
    "* I need to know (which/if any) of these are not applicable for our purposes\n",
    "*   Census(descriptive), \n",
    "*   Observational study(inferential), \n",
    "*   convenience sample(all types-may be biased), \n",
    "*   randomized trial (causal). \n",
    "Other types:\n",
    "*   prediction study(prediction), \n",
    "*   studies over time [cross sectional(inferential), \n",
    "*   longitudinal(inferential, predictive) ], \n",
    "*   retrospective ( inferential)"
   ]
  },
  {
   "cell_type": "markdown",
   "metadata": {},
   "source": [
    "**Conceptual Challenges**:\n",
    "\n",
    "AutoEda Project Challenges\n",
    "- Noteable Free Software\n",
    "- What's Novel?\n",
    "\n",
    "- philosophy - Semantic -> noideal, structure/ ai \n",
    "- data and methodolgies reflect goals\n",
    "- complexity - Basic, many ways\n",
    "- Visualy - Basic, many ways, using the right tool\n",
    "- meaning - All relative\n",
    "- Resource utilization - Synergy capture\n",
    "- Conflict Of Interest statements. \n",
    "- Data provenance, results, purpose, assupmtions\n",
    "- Whats important to encode and why?\n",
    "- Types of systems\n",
    "- Central Limit Theorem applications\n",
    "\n",
    "Options When Cleaning Unclean Data\n",
    "- Fill Drop Replace\n",
    "- isnan, isfinite, defaultVal\n",
    "- Col Info / Processing Outline\n",
    "- GisHandler()\n",
    "- readFile()\n",
    "- mergeBounds()\n",
    "- filterBounds()"
   ]
  },
  {
   "cell_type": "markdown",
   "metadata": {},
   "source": [
    "### Ideal Data:"
   ]
  },
  {
   "cell_type": "markdown",
   "metadata": {},
   "source": [
    "- Descriptive - a whole population\n",
    "- Exploratory - a random sample with many variables\n",
    "- Inferential - the right population, randomly sampled\n",
    "- Predictive - a training and test data set from the same population\n",
    "- Causal - data from a randomized study\n",
    "- Mechanistic - data about all components of the system."
   ]
  },
  {
   "cell_type": "markdown",
   "metadata": {},
   "source": [
    "### Critical Questions\n"
   ]
  },
  {
   "cell_type": "markdown",
   "metadata": {},
   "source": [
    "- Dimensionality\n",
    "- Table Multi Indexies\n",
    "- Grouping Identifiers\n",
    "- Arima/Kriging\n",
    "- Anova/Ancova\n",
    "- Temporal/Physical bounds\n",
    "- Analysis of Avg of AVg's\n",
    "- Data provenance\n",
    "- Features Geometry = Coordinates/ Rings\n",
    "- Is this an act of classifying or categorizing?\n",
    "\n",
    "Classes are categorized ideas. \n",
    "\n",
    "- Which and what to apply? Does it truly matter in the end? \n",
    "\n",
    "Yes because shannon encoding. The approximation of the truth is not the truth but can be sometimes useful."
   ]
  },
  {
   "cell_type": "markdown",
   "metadata": {},
   "source": [
    "## 2. Data Understanding"
   ]
  },
  {
   "cell_type": "markdown",
   "metadata": {},
   "source": [
    "### Meta Data"
   ]
  },
  {
   "cell_type": "markdown",
   "metadata": {},
   "source": [
    "We won't get too deep into this but: data is like an ogre in that hey both have layers. Data about data is called meta-data. Universal law: Any and all 'observable' data has meta-data which then too is also 'observable'. There are thought to be 6 meta-physical cascading layers of meta-data that expand onto themselves indefinetely. When humans perform their superficial observation about the world around them, at that 'instant' all the data and its accompanying meta-data is 'metabolized' by our sensory processors solely at the 'instance' level of this Hierarchy. Illicitation of further understanding of the data may be derived by critically introspecting into the observation. The deepest people feel comfortable without getting too abstract is to the structural level (3), ie: \"The relations between the observable properties of the original observation\". lower levels get into abstract concepts like observing the relations between words and language itself."
   ]
  },
  {
   "cell_type": "markdown",
   "metadata": {},
   "source": [
    "0. **Rules** - cuts across other layers. buried in code at all levels\n",
    "- **0A.** Reaction & Transformation Rules -> Derivation Rules -> Facts / Quries -> Integration Constraints\n",
    "- **0B.** Example: From the Piano axioms in math we may derive further rules. From these rules \n",
    "1. **Domain** - express local in terms of global. the sphere of all things local app should know\n",
    "2. **Referent** (understand linkages between data models -> xsl/t, topic maps, data driven) languages, abstractions\n",
    "3. **Structural** (relational, object, hierarchical)\n",
    "4. **Syntactic** (type, language, msg length, source, bitrate, encryption level),\n",
    "5. **Instance** (actual data)"
   ]
  },
  {
   "cell_type": "markdown",
   "metadata": {},
   "source": [
    "### Data Types"
   ]
  },
  {
   "cell_type": "markdown",
   "metadata": {},
   "source": [
    "**Text Types**\n",
    "\n",
    "- CHAR( ) A fixed section from 0 to 255 characters long. VARCHAR( ) A variable section from 0 to 255 characters long. TINYTEXT A string with a maximum length of 255 characters.\n",
    "- TEXT A string with a maximum length of 65535 characters. \n",
    "- BLOB A string with a maximum length of 65535 characters. \n",
    "- MEDIUMTEXT A string with a maximum length of 16777215 characters. \n",
    "- MEDIUMBLOB A string with a maximum length of 16777215 characters. \n",
    "- LONGTEXT A string with a maximum length of 4294967295 characters. \n",
    "- LONGBLOB A string with a maximum length of 4294967295 characters.\n",
    "- ENUM(x,y,z,etc.)\n",
    "- SET A logical field can be displayed as Yes/No, True/False, or On/Off"
   ]
  },
  {
   "cell_type": "markdown",
   "metadata": {},
   "source": [
    "**Number Types**\n",
    "\n",
    "- TINYINT -128 to 127 normal 0 to 255 \n",
    "- SMALLINT -32768 to 32767 normal 0 to 65535 \n",
    "- MEDIUMINT -8388608 to 8388607 normal 16777215\n",
    "- INT -2147483648 to 2147483647 normal 0 to 4294967295 \n",
    "- BIGINT -9223372036854775808 to 9223372036854775807 normal 0 to 18446744073709551615 \n",
    "- FLOAT DOUBLE - A large number with a floating decimal point. \n",
    "- DECIMAL - A DOUBLE stored as a string, allowing for a fixed decimal point.\n",
    "- Money\n",
    "- Real"
   ]
  },
  {
   "cell_type": "markdown",
   "metadata": {},
   "source": [
    "**Date/Time Types**\n",
    "\n",
    "Prefered Data Format : yyyy-mm-dd&#39;T&#39;hh:mm:ss.mmm\n",
    "\n",
    "- DATE: YYYY-MM-DD \n",
    "- DATETIMEL YYYY-MM-DD HH:MM:SS \n",
    "- TIMESTAMP: YYYYMMDDHHMMSS \n",
    "- TIME: HH:MM:SS \n",
    "- YEAR: YYYY\n"
   ]
  },
  {
   "cell_type": "markdown",
   "metadata": {},
   "source": [
    "**Other Types of Data :**\n",
    "- Records\n",
    "- Objects\n",
    "- Graph/Network\n",
    "- Text\n",
    "- Multimedia\n",
    "- Relational/ Transactional\n",
    "- **PYTHON** (Integer, Boolean, Float, Object)\n",
    "- **GIS**( Point, Line, Polygon )( Spatial Projections )"
   ]
  },
  {
   "cell_type": "markdown",
   "metadata": {},
   "source": [
    "### Data Attributes"
   ]
  },
  {
   "cell_type": "markdown",
   "metadata": {},
   "source": [
    "Collection Methodology attributes\n",
    "\n",
    "- **Census** (descriptive),\n",
    "- **Observational study** (inferential),\n",
    "- **convenience sample** (all types-may be biased),\n",
    "- **randomized trial** (causal).\n",
    "- **prediction study** (prediction)\n",
    "- **studies over time** [cross sectional(inferential)\n",
    "- **longitudinal** (inferential, predictive)\n",
    "- **retrospective** ( inferential)"
   ]
  },
  {
   "cell_type": "markdown",
   "metadata": {},
   "source": [
    "Basics attributes\n",
    "\n",
    "- **Categorical Qualitative** (Binomial, Nominal, Ordinal)\n",
    "- **Numerical Quantitative** (Discrete or Continuous)(Interval/ Ratio)\n",
    "- [**Binary**](https://support.sas.com/documentation/cdl/en/statug/63033/HTML/default/viewer.htm#statug_distance_sect003.htm)- 1 or 0\n",
    "- **Nominal** - (Hair color, Gender, Favorite Ice Cream ) (Frequencies, Proportions, Percentages)(Transform to Numerical using One Hot Encoding)(Display using Pie or Bar Chart)\n",
    "- **Ordinal** - Ordered without a known Magnitude"
   ]
  },
  {
   "cell_type": "markdown",
   "metadata": {},
   "source": [
    "**DESCRIPTIVE STATISTICS**"
   ]
  },
  {
   "cell_type": "markdown",
   "metadata": {},
   "source": [
    "**What are Basic Statistics?**\n",
    "Descriptive Statistics, Correlations, t-tests, frequency tables, cross tabulation\n",
    "\n",
    "\n",
    "**One basic and straightforward method for analyzing data is via crosstabulation. Log-Linear provides a more &quot;sophisticated&quot; way of looking at crosstabulation tables. Specifically, you can test the different factors that are used in the crosstabulation (e.g., gender, region, etc.) and their** [**interactions**](http://www.statsoft.com/textbook/statistics-glossary/i.aspx?button=i#Interactions) **for statistical significance\n",
    " Fitting marginal frequencies.** Let us now turn to the analysis of our example table. We could ask ourselves what the frequencies would look like if there were no relationship between variables (the null hypothesis). Without going into details, intuitively one could expect that the frequencies in each cell would proportionately reflect the marginal frequencies (Totals). For example, consider the following table:"
   ]
  },
  {
   "cell_type": "markdown",
   "metadata": {},
   "source": [
    "**Meta-Data**\n",
    "- Population\n",
    "- Statistical power\n",
    "- Sample size\n",
    "- Treating Missing data"
   ]
  },
  {
   "cell_type": "markdown",
   "metadata": {},
   "source": [
    "**Central Tendency** \n",
    "- Mean \n",
    "- arithmetic \n",
    "- geometric \n",
    "- harmonic\n",
    "- Median\n",
    "- Mode"
   ]
  },
  {
   "cell_type": "markdown",
   "metadata": {},
   "source": [
    "**Dispersion** \n",
    "- Variance\n",
    "- Standard deviation\n",
    "- Percentile\n",
    "- Range\n",
    "- Interquartile range"
   ]
  },
  {
   "cell_type": "markdown",
   "metadata": {},
   "source": [
    "Advanced attributes\n",
    "\n",
    "- **Dispersion** - Median, Min, Max, Quartiles, Box Plots, Iqr, Normal distribution\n",
    "- **Bias** - Expanded further below\n",
    "- **Variance** - Standard deviation, Square root means\n",
    "- **Symmetry** - Values are equally weighted. Folding a histogram in half.\n",
    "- **Skew** - Mean is smaller/larger than the median.\n",
    "- **Kurtosis** - Fat/Thing Tails\n",
    "- **Normality - z-score**\n",
    "- **Linearity -** Alternative (Splines)\n",
    "- **Heteroscedasticity -** variability of a variable is unequal across the range of values of a second variable it predicts.\n",
    "- **Monotonicity -** slope remains Unchanged in the + or - direction"
   ]
  },
  {
   "cell_type": "markdown",
   "metadata": {},
   "source": [
    "Analytical attributes\n",
    "\n",
    "\n",
    "Statistics[Summary\\_statistics](https://en.wikipedia.org/wiki/Summary_statistics)\n",
    "\n",
    "- [https://en.wikipedia.org/wiki/Sufficient\\_statistic](https://en.wikipedia.org/wiki/Sufficient_statistic)\n",
    "- [https://en.wikipedia.org/wiki/Descriptive\\_statistics](https://en.wikipedia.org/wiki/Descriptive_statistics)\n",
    "- **Location** - Common measures of location, or [central tendency](https://en.wikipedia.org/wiki/Central_tendency), are the [arithmetic mean](https://en.wikipedia.org/wiki/Arithmetic_mean), [median](https://en.wikipedia.org/wiki/Median), [mode](https://en.wikipedia.org/wiki/Mode_(statistics)), and [interquartile mean](https://en.wikipedia.org/wiki/Interquartile_mean).[[2]](https://en.wikipedia.org/wiki/Summary_statistics#cite_note-2)[[3]](https://en.wikipedia.org/wiki/Summary_statistics#cite_note-3)\n",
    "- **Spread** - Common measures of [statistical dispersion](https://en.wikipedia.org/wiki/Statistical_dispersion) are the [standard deviation](https://en.wikipedia.org/wiki/Standard_deviation), [variance](https://en.wikipedia.org/wiki/Variance), [range](https://en.wikipedia.org/wiki/Range_(statistics)), [interquartile range](https://en.wikipedia.org/wiki/Interquartile_range), [absolute deviation](https://en.wikipedia.org/wiki/Absolute_deviation), [mean absolute difference](https://en.wikipedia.org/wiki/Mean_absolute_difference) and the [distance standard deviation](https://en.wikipedia.org/wiki/Distance_standard_deviation). Measures that assess spread in comparison to the typical size of data values include the [coefficient of variation](https://en.wikipedia.org/wiki/Coefficient_of_variation). The [Gini coefficient](https://en.wikipedia.org/wiki/Gini_coefficient) was originally developed to measure income inequality and is equivalent to one of the [L-moments](https://en.wikipedia.org/wiki/L-moment). A simple summary of a dataset is sometimes given by quoting particular [order statistics](https://en.wikipedia.org/wiki/Order_statistics) as approximations to selected [percentiles](https://en.wikipedia.org/wiki/Percentiles) of a distribution.\n",
    "- **Shape** - Common measures of the shape of a distribution are [skewness](https://en.wikipedia.org/wiki/Skewness) or [kurtosis](https://en.wikipedia.org/wiki/Kurtosis), while alternatives can be based on [L-moments](https://en.wikipedia.org/wiki/L-moment). A different measure is the [distance skewness](https://en.wikipedia.org/wiki/Skewness#Distance_skewness), for which a value of zero implies central symmetry.\n",
    "- **Dependence** - The common measure of dependence between paired random variables is the [Pearson product-moment correlation coefficient](https://en.wikipedia.org/wiki/Pearson_product-moment_correlation_coefficient), while a common alternative summary statistic is [Spearman&#39;s rank correlation coefficient](https://en.wikipedia.org/wiki/Spearman%27s_rank_correlation_coefficient). A value of zero for the [distance correlation](https://en.wikipedia.org/wiki/Distance_correlation) implies independence."
   ]
  },
  {
   "cell_type": "markdown",
   "metadata": {},
   "source": [
    "**Attribute set operators**\n",
    "- Boolean an or not\n",
    "- Location adjacent contains intersects distance With.touches.crosses.overlaps\n",
    "- Analy distance-;inner/outer/ mean avg std/ first second order effecs, analy centrography,\n",
    "- analyze global and local densities, quadrratic/kernal.\n",
    "- semanticweb-w3cdataintegrity- domain ontology solve syntax/structure\n",
    "- Innventory Systems show\n",
    "- Query systems reveal\n",
    "- Analysis systems explore\n",
    "- Decisions systems support\n",
    "- Modeling systems process\n",
    "- Monitoring systems are time centric\n",
    "- Gis analysis - img processing, classifier sufface analysis, visibility gradient, aspect, network slows\n",
    "- Voronoi for knn/iwd"
   ]
  },
  {
   "cell_type": "markdown",
   "metadata": {},
   "source": [
    "[Central Tendency](http://pysal.org/notebooks/explore/pointpats/distance_statistics)\n",
    "- mean_center: calculate the mean center of the unmarked point pattern.\n",
    "- weighted_mean_center: calculate the weighted mean center of the marked point pattern.\n",
    "- manhattan_median: calculate the manhattan median\n",
    "- euclidean_median: calculate the Euclidean median Dispersion and Orientation\n",
    "- std_distance: calculate the standard distance"
   ]
  },
  {
   "cell_type": "markdown",
   "metadata": {},
   "source": [
    "_ **Descriptive statistics.**\n",
    "_ _When one&#39;s data are not normally distributed, and the measurements at best contain rank order information, then computing the \n",
    "- standard descriptive statistics (e.g., mean, standard deviation) is sometimes not the most informative way to summarize the data."
   ]
  },
  {
   "cell_type": "markdown",
   "metadata": {},
   "source": [
    " Nonparametrics and Distributions will compute a wide variety of measures of location (_ [_mean_](http://www.statsoft.com/textbook/statistics-glossary/m.aspx?button=m#Mean)_,_[_median_](http://www.statsoft.com/textbook/statistics-glossary/m.aspx?button=m#Median)_,_[_mode_](http://www.statsoft.com/textbook/statistics-glossary/m.aspx?button=m#Mode)_, etc.) and dispersion (_[_variance_](http://www.statsoft.com/textbook/statistics-glossary/v.aspx?button=v#variance)_, average deviation, quartile range, etc.) to provide the &quot;complete picture&quot; of one&#39;s data._"
   ]
  },
  {
   "cell_type": "markdown",
   "metadata": {},
   "source": [
    "__Dataset__\n",
    "- Size -> Number of variables\n",
    "- Shape -> Number of observations\n",
    "- Dimension\n",
    "- total missing, memory, avg size\n",
    "- count of columns by type\n",
    "- important info/ warnings"
   ]
  },
  {
   "cell_type": "markdown",
   "metadata": {},
   "source": [
    "__Univariate__\n",
    "\n",
    "setDtype\n",
    "- getUnique/Count/Percent/Rate\n",
    "- getMissing/Count/Percent/Rate\n",
    "\n",
    "getDtype\n",
    "*   Categorical Qualitative (Binomial, Nominal, Ordinal)\n",
    "*   Numerical Quantitative (Discrete or Continuous)(Interval/ Ratio)\n",
    "*   Binary - 1 or 0\n",
    "*   Nominal - (Hair color, Gender, Favorite Ice Cream ) (Frequencies, Proportions, Percentages)(Transform to Numerical using One Hot *   Encoding)(Display using Pie or Bar Chart)\n",
    "*   Ordinal - Ordered without a known Magnitude\n",
    "------------------------\n",
    "- Boolean\n",
    "- Numeric\n",
    "-- Skew \n",
    "-- kurtosis \n",
    "-- Normality Test\n",
    "-- Mean \n",
    "-- stdev \n",
    "-- median \n",
    "-- mode \n",
    "-- min \n",
    "-- max\n",
    "-- Visualization of (Sample) Data\n",
    "------------------------\n",
    "*   Dispersion - Median, Min, Max, Quartiles, Box Plots, Iqr, Normal distribution \n",
    "*   Bias - Expanded further below\n",
    "*   Variance - Standard deviation, Square root means\n",
    "*   Symmetry - Values are equally weighted. Folding a histogram in half.\n",
    "*   Skew - Mean is smaller/larger than the median.\n",
    "*   Kurtosis - Fat/Thing Tails\n",
    "*   Normality - z-score\n",
    "*   Linearity - Alternative (Splines)\n",
    "*   Heteroscedasticity - variability of a variable is unequal across the range of values of a second variable it predicts.\n",
    "*   Monotonicity - slope remains Unchanged in the + or - direction\n",
    "*   Big-Data, Structure(Semi/Un), Time-Stamped, Spatial, Spatio-Temporal, Ordered, Stream, Dimensionality, \n",
    "*   Primary Keys, Unique Values, Index, Spatial, Auto Increment, Default Values, Null Values\n",
    "- noise \n",
    "- Categorical\n",
    "- Geospatial (country,countrycode, city, metro, etc...)\n",
    "- String\n",
    "------------------------\n",
    "*   Location - Common measures of location, or central tendency, are the arithmetic mean, median, mode, and interquartile mean. \n",
    "*   Spread - Common measures of statistical dispersion are the standard deviation, variance, range, interquartile range, absolute deviation, mean absolute difference and the distance standard deviation. Measures that assess spread in comparison to the typical size of data values include the coefficient of variation. The Gini coefficient was originally developed to measure income inequality and is equivalent to one of the L-moments. A simple summary of a dataset is sometimes given by quoting particular order statistics as approximations to selected percentiles of a distribution.\n",
    "*   Shape - Common measures of the shape of a distribution are skewness or kurtosis, while alternatives can be based on L-moments. A different measure is the distance skewness, for which a value of zero implies central symmetry.\n",
    "*   Dependence - The common measure of dependence between paired random variables is the Pearson product-moment correlation coefficient, while a common alternative summary statistic is Spearman's rank correlation coefficient. A value of zero for the distance correlation implies independence. The Chi-Square test helps you determine if two discrete variables are associated\n",
    "------------------------\n",
    "- Outlier detection:\n",
    "- - BoxPlot -> IQR\n",
    "- - Q3+1.5IQR\n",
    "- - Count, Mean, Std, Min, 25%, 50%, 75%, Max\n",
    "- - Z score -> Z = (x-u)/o. U = Standard Deviation from x =Mean.\n",
    "- - stats.zscore(df)\n",
    "------------------------\n",
    "- Date/Time Types\n",
    "(quarter, month, dayofweek, dayofmonth, hour, minute\n",
    "*   DATE \t\tYYYY-MM-DD \t\t \t\t \t\t\t \t\t\t\n",
    "*   DATETIME \tYYYY-MM-DD HH:MM:SS \t\t \t\t \t\t\t \t\n",
    "*   TIMESTAMP \tYYYYMMDDHHMMSS \t\t \t\t \t\t\t \t\t\n",
    "*   TIME \t\tHH:MM:SS \t\t \t\t \t\t\t \t\t\t\n",
    "*   YEAR \t\tYYYY\n",
    "------------------------"
   ]
  },
  {
   "cell_type": "markdown",
   "metadata": {},
   "source": [
    "### **Data Exploration**"
   ]
  },
  {
   "cell_type": "markdown",
   "metadata": {},
   "source": [
    "Refere to `methods_tutorial.ipynb` and `Viz Notes Examples.ipynb` and *DistributionsAndTest.ipynb* for more "
   ]
  },
  {
   "cell_type": "markdown",
   "metadata": {},
   "source": [
    "Median difference from Quartiles represent skew. Whiskers represent variance."
   ]
  },
  {
   "cell_type": "markdown",
   "metadata": {},
   "source": [
    "## 4. Data Preparation"
   ]
  },
  {
   "cell_type": "markdown",
   "metadata": {},
   "source": [
    "### Data Prep"
   ]
  },
  {
   "cell_type": "markdown",
   "metadata": {},
   "source": [
    "[Data prep](https://en.wikipedia.org/wiki/Data_preparation)\n",
    "> Data preparation is the act of manipulating (or pre-processing) raw data (which may come from disparate data sources) into a form that can readily and accurately be analysed, e.g. for business purposes... Data preparation is the first step in data analytics projects and can include many discrete tasks such as loading data or data ingestion, data fusion, data cleaning, data augmentation, and data delivery... The issues to be dealt with fall into two main categories: systematic errors involving large numbers of data records, probably because they have come from different sources;\n",
    "individual errors affecting small numbers of data records, probably due to errors in the original data entry."
   ]
  },
  {
   "cell_type": "markdown",
   "metadata": {},
   "source": [
    "[pre-processing](https://en.wikipedia.org/wiki/Data_pre-processing)\n",
    "\n",
    "> Data preprocessing has the objective to add missing values, aggregate information, label data with categories (Data binning) and smooth a trajectory\n",
    ">\n",
    ">Tasks of data pre-processing\n",
    "- Data [cleansing](https://en.wikipedia.org/wiki/Data_cleansing#Data_quality) -  replacing, modifying, or deleting incomplete, incorrect, inaccurate or irrelevant parts of the data\n",
    "- Data [editing](https://en.wikipedia.org/wiki/Data_editing) - For Quality Control\n",
    "- Data [reduction](https://en.wikipedia.org/wiki/Data_reduction)\n",
    "- Data [wrangling](https://en.wikipedia.org/wiki/Data_wrangling) - Transforming the data format for better handling"
   ]
  },
  {
   "cell_type": "markdown",
   "metadata": {},
   "source": [
    "OUT OF ALL THESE LINKS PLEASE READ THE WIKI PAGE ON [Data cleansing](https://en.wikipedia.org/wiki/Data_cleansing#Data_Quality) and [Data Quality](https://en.wikipedia.org/wiki/Data_quality). \n",
    "\n",
    "It covers materials for High-quality data needs to pass a set of quality criteria and the process thereinvolved"
   ]
  },
  {
   "cell_type": "markdown",
   "metadata": {},
   "source": [
    "[Data\\_processing](https://en.wikipedia.org/wiki/Data_processing) \n",
    "> Data processing may involve various processes, including:\n",
    "- [Validation](https://en.wikipedia.org/wiki/Data_validation) – Ensuring that supplied data is correct and relevant.\n",
    "- [Sorting](https://en.wikipedia.org/wiki/Sorting) – &quot;arranging items in some sequence and/or in different sets.&quot;\n",
    "- [Summarization](https://en.wikipedia.org/wiki/Summary_statistic) – reducing detail data to its main points.\n",
    "- [Aggregation](https://en.wikipedia.org/wiki/Aggregate_data) – combining multiple pieces of data.\n",
    "- [Analysis](https://en.wikipedia.org/wiki/Statistical_analysis) – the &quot;collection, [organization](https://en.wikipedia.org/wiki/Organization), analysis, interpretation and presentation of data.&quot;\n",
    "- [Reporting](https://en.wikipedia.org/wiki/Business_reporting) – list detail or summary data or computed information.\n",
    "- [Classification](https://en.wikipedia.org/wiki/Data_classification_(business_intelligence)) – separation of data into various categories.\n"
   ]
  },
  {
   "cell_type": "markdown",
   "metadata": {},
   "source": [
    "Data processing system [Data\\_processing\\_system](https://en.wikipedia.org/wiki/Data_processing_system)\n",
    "\n",
    "A Data processing system may involve some combination of:\n",
    "\n",
    "- [Conversion](https://en.wikipedia.org/wiki/Data_conversion) converting data to another form or Language.\n",
    "- Reporting – list detail or summary data or computed information."
   ]
  },
  {
   "cell_type": "markdown",
   "metadata": {},
   "source": [
    "Data Processing Systems by service type\n",
    "\n",
    "- [Transaction processing systems](https://en.wikipedia.org/wiki/Transaction_processing_system)\n",
    "- [Information storage and retrieval systems](https://en.wikipedia.org/wiki/Information_retrieval)\n",
    "- Command and control systems\n",
    "- Computing service systems\n",
    "- [Process control systems](https://en.wikipedia.org/wiki/Control_system)\n",
    "- Message switching systems"
   ]
  },
  {
   "cell_type": "markdown",
   "metadata": {},
   "source": [
    "### Validation"
   ]
  },
  {
   "cell_type": "markdown",
   "metadata": {},
   "source": [
    "Validation Types [Data\\_validation](https://en.wikipedia.org/wiki/Data_validation)\n",
    "\n",
    "- Range and constraint validation;\n",
    "- Code and Cross-reference validation;\n",
    "- Structured validation\n"
   ]
  },
  {
   "cell_type": "markdown",
   "metadata": {},
   "source": [
    "Validation methods\n",
    "\n",
    "- Allowed character checks\n",
    "- Batch totals\n",
    "- Cardinality check\n",
    "- Check digits\n",
    "- Consistency checks\n",
    "- Control totals\n",
    "- Cross-system consistency checks\n",
    "- Data type checks\n",
    "- File existence check\n",
    "- Format or picture check\n",
    "- Hash totals\n",
    "- Limit check\n",
    "- Logic check\n",
    "- Presence check\n",
    "- Range check\n",
    "- Referential integrity\n",
    "- Spelling and grammar check\n",
    "- Uniqueness check\n",
    "- Table lookup check"
   ]
  },
  {
   "cell_type": "markdown",
   "metadata": {},
   "source": [
    "Post-Validation Actions\n",
    "\n",
    "- **Enforcement Action**\n",
    "- **Advisory Action**\n",
    "- **Verification Action**\n",
    "- **Log of validation**\n"
   ]
  },
  {
   "cell_type": "markdown",
   "metadata": {},
   "source": [
    "###  Data [Transformation](https://en.wikipedia.org/wiki/Data_transformation)"
   ]
  },
  {
   "cell_type": "markdown",
   "metadata": {},
   "source": [
    ""
   ]
  },
  {
   "cell_type": "markdown",
   "metadata": {},
   "source": [
    "May include: Projecting data, Transforming Multiple Classes to Binary ones, Calibrating Class Probabilities, Cleaning the data and even sampling it. Typically it follows the following path:"
   ]
  },
  {
   "cell_type": "markdown",
   "metadata": {},
   "source": [
    "> - **Data discovery** is the first step in the data transformation process. Typically the data is profiled using profiling tools or sometimes using manually written profiling scripts to better understand the structure and characteristics of the data and decide how it needs to be transformed.\n",
    "- **Data mapping** is the process of defining how individual fields are mapped, modified, joined, filtered, aggregated etc. to produce the final desired output. Developers or technical data analysts traditionally perform data mapping since they work in the specific technologies to define the transformation rules (e.g. visual ETL tools,[[3]](https://en.wikipedia.org/wiki/Data_transformation#cite_note-3) transformation languages).\n",
    "- **Code generation** is the process of generating executable code (e.g. SQL, Python, R, or other executable instructions) that will transform the data based on the desired and defined data mapping rules.[[4]](https://en.wikipedia.org/wiki/Data_transformation#cite_note-4) Typically, the data transformation technologies generate this code[[5]](https://en.wikipedia.org/wiki/Data_transformation#cite_note-5) based on the definitions or metadata defined by the developers.\n",
    "- **Code execution** is the step whereby the generated code is executed against the data to create the desired output. The executed code may be tightly integrated into the transformation tool, or it may require separate steps by the developer to manually execute the generated code.\n",
    "- **Data review** is the final step in the process, which focuses on ensuring the output data meets the transformation requirements. It is typically the business user or final end-user of the data that performs this step. Any anomalies or errors in the data that are found and communicated back to the developer or data analyst as new requirements to be implemented in the transformation process.[1](https://en.wikipedia.org/wiki/Data_transformation)\n"
   ]
  },
  {
   "cell_type": "markdown",
   "metadata": {},
   "source": [
    "## 5. Modeling"
   ]
  },
  {
   "cell_type": "markdown",
   "metadata": {},
   "source": [
    "### Statistical Challenges With Data"
   ]
  },
  {
   "cell_type": "markdown",
   "metadata": {},
   "source": [
    "\n",
    "- Options tree to show Pessimistic, Nominal Optimistic versions\n",
    "- Performance vs Risk vs Design analysis\n",
    "\n",
    "**Changing variance** - what can you do\n",
    " - box cox transform\n",
    " - variance stabilizing transform\n",
    " - weighted least squares\n",
    " - huber white standard errors\n",
    "\n",
    "**ANOVA Requirements**\n",
    "- Normal Distribution\n",
    "- Independent Samples/Groups\n",
    "- Independent Samples _t_ Test requires the assumption of _homogeneity of variance._ \n",
    "- a test for the homogeneity of variance, called **Levene&#39;s Test** , whenever you run an independent samples T test\n",
    "\n",
    "**MISC**\n",
    "- P Values require knowing how many records exist are in the database.\n",
    "- Outliers profoundly influence on the slope of the regression line and the correlation coefficient.\n",
    "- Correlation coefficient alone is not enough for decision making (i.e., scatterplots are always recommended)\n",
    "- Prefered Data Format : yyyy-mm-dd&#39;T&#39;hh:mm:ss.mmm\n",
    "\n",
    "**Bias:**\n",
    "- Quantitative Approach to Outliers.\n",
    "- Correlations in Non-homogeneous Groups\n",
    "- Nonlinear Relations between Variables. - Pearson R measures linearity\n",
    "- Exploratory Examination of Correlation Matrices\n",
    "- Casewise vs. Pairwise Deletion of Missing Data\n",
    "- Overfitting: Pruning/ Cross Validation\n",
    "- Breakdown Analysis\n",
    "- Frequency Tables\n",
    "- Cross Tabulation\n",
    "- Marginal Frequencies\n",
    "- Association Rules"
   ]
  },
  {
   "cell_type": "markdown",
   "metadata": {},
   "source": [
    "### **ML and ADE**\n",
    "ML is a helpful tool that can help us with our data exploration and more and more, tools can even be used to make predictions! \n",
    "\n",
    "Services usually satisfy one or more of these steps:\n",
    "- processing\n",
    "- - Partitions\n",
    "- - Parallelizations\n",
    "- - Map Reduce\n",
    "- visualizing\n",
    "- exploring\n",
    "- feature engineering\n",
    "- model validation\n",
    "- predictive modeling\n",
    "- - Train, Test, Appply\n",
    "- Feature eng\n",
    "- architecture search/transfer learning \n",
    "- parameter tunin g \n",
    "- model selection \n",
    "- model ensambling \n",
    "- model distillation"
   ]
  },
  {
   "cell_type": "markdown",
   "metadata": {},
   "source": [
    "## 6. Evaluation"
   ]
  }
 ],
 "metadata": {
  "kernelspec": {
   "display_name": "Python 3",
   "name": "python3"
  }
 },
 "nbformat": 4,
 "nbformat_minor": 0
}
