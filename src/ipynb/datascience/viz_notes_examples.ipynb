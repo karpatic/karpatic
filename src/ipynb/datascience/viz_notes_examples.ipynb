{
 "cells": [
  {
   "cell_type": "markdown",
   "metadata": {},
   "source": [
    "Check relationships between the target variable and numeric features. Via _ **seaborn heatmap** _ plot."
   ]
  },
  {
   "cell_type": "markdown",
   "metadata": {},
   "source": [
    "**Graphics** \n",
    "- Contingency tables\n",
    "- Scatter plot\n",
    "- Bar chart\n",
    "- Biplot\n",
    "- Box plot\n",
    "- Control chart\n",
    "- Correlogram\n",
    "- Fan chart\n",
    "- Forest plot\n",
    "- Histogram\n",
    "- Pie chart\n",
    "- Q–Q plot\n",
    "- Run chart\n",
    "- Scatter plot\n",
    "- Stem-and-leaf display\n",
    "- Radar chart"
   ]
  },
  {
   "cell_type": "markdown",
   "metadata": {},
   "source": [
    "### Non-hierarchical\n",
    "- Histogram\n",
    "- Pi\n",
    "- Stack\n",
    "- Chord\n",
    "- Force\n",
    "\n",
    "Hierarchical\n",
    "- Tree\n",
    "- Cluster\n",
    "- Tree map\n",
    "- Partition\n",
    "- Pack"
   ]
  },
  {
   "cell_type": "markdown",
   "metadata": {},
   "source": [
    "**T-Distribution** - Visualize high density"
   ]
  },
  {
   "cell_type": "markdown",
   "metadata": {},
   "source": [
    "Check relationships between the target variable and numeric features. Via _ **seaborn heatmap** _ plot."
   ]
  },
  {
   "cell_type": "markdown",
   "metadata": {},
   "source": [
    "## Basic Summary"
   ]
  },
  {
   "cell_type": "code",
   "execution_count": null,
   "metadata": {},
   "outputs": [],
   "source": [
    "# Define a summary function\n",
    "def summary(x, **kwargs):\n",
    "    # Convert to a pandas series\n",
    "    x = pd.Series(x)\n",
    "    \n",
    "    # Get stats for the series\n",
    "    label = x.describe()[['mean', 'std', 'min', '50%', 'max']]\n",
    "    \n",
    "    # Convert from log to regular scale\n",
    "    # Adjust the column names for presentation\n",
    "    if label.name == 'log_pop':\n",
    "        label = 10 ** label\n",
    "        label.name = 'pop stats'\n",
    "    elif label.name == 'log_gdp_per_cap':\n",
    "        label = 10 ** label\n",
    "        label.name = 'gdp_per_cap stats'\n",
    "    else:\n",
    "        label.name = 'life_exp stats'\n",
    "       \n",
    "    # Round the labels for presentation\n",
    "    label = label.round()\n",
    "    ax = plt.gca()\n",
    "    ax.set_axis_off()\n",
    "\n",
    "    # Add the labels to the plot\n",
    "    ax.annotate(pd.DataFrame(label),\n",
    "               xy = (0.1, 0.2), size = 20, xycoords = ax.transAxes)    \n",
    "    \n",
    "\n",
    "# Create a pair grid instance\n",
    "grid = sns.PairGrid(data= df[df['year'] == 2007],\n",
    "                    vars = ['life_exp', 'log_pop', 'log_gdp_per_cap'], size = 4)\n",
    "\n",
    "# Fill in the mappings\n",
    "grid = grid.map_upper(plt.scatter, color = 'darkred')\n",
    "grid = grid.map_upper(corr)\n",
    "grid = grid.map_lower(sns.kdeplot, cmap = 'Reds')\n",
    "grid = grid.map_diag(summary);"
   ]
  },
  {
   "cell_type": "markdown",
   "metadata": {},
   "source": [
    "Below is the code to plot the univariate distribution of the numerical columns which contains the histograms and the estimated PDF. We use displot of the seaborn library to plot this graph:"
   ]
  },
  {
   "cell_type": "code",
   "execution_count": null,
   "metadata": {},
   "outputs": [],
   "source": [
    "col_names = ['StrengthFactor','PriceReg', 'ReleaseYear', 'ItemCount', 'LowUserPrice', 'LowNetPrice']\n",
    "\n",
    "fig, ax = plt.subplots(len(col_names), figsize=(16,12))\n",
    "\n",
    "for i, col_val in enumerate(col_names):\n",
    "\n",
    "    sns.distplot(sales_data_hist[col_val], hist=True, ax=ax[i])\n",
    "    ax[i].set_title('Freq dist '+col_val, fontsize=10)\n",
    "    ax[i].set_xlabel(col_val, fontsize=8)\n",
    "    ax[i].set_ylabel('Count', fontsize=8)\n",
    "\n",
    "plt.show()"
   ]
  },
  {
   "cell_type": "markdown",
   "metadata": {},
   "source": [
    "# Visualizations"
   ]
  },
  {
   "cell_type": "markdown",
   "metadata": {},
   "source": [
    "## Graphical Integrity"
   ]
  },
  {
   "cell_type": "markdown",
   "metadata": {},
   "source": [
    "https://www.amazon.com/Visual-Display-Quantitative-Information/dp/1930824130\n",
    "\n",
    "there are six principles to ensure Graphical Integrity:\n",
    "\n",
    "- Make the representation of numbers proportional to quantities\n",
    "- Use clear, detailed, and thorough labeling\n",
    "- Show data variation, not design variation\n",
    "- Use standardized units, not nominal values\n",
    "- Depict ’n’ data dimensions with less than or equal to ’n’ variable dimensions\n",
    "- Quote data in full context"
   ]
  },
  {
   "cell_type": "markdown",
   "metadata": {},
   "source": [
    "## Misc Visualization Notes"
   ]
  },
  {
   "cell_type": "markdown",
   "metadata": {},
   "source": [
    "https://realpython.com/python-data-visualization-bokeh\n",
    "\n",
    "Histograms and Density Plots\n",
    "\n",
    "Histograms work very well for display a single variable from one category (in this case the one category was all the flights). However, for displaying multiple categories, a histogram does not work well because the plots are obscured.\n",
    "\n",
    "Solution 1: Side-by-Side Histograms\n",
    "\n",
    "Solution 2: Stacked Histograms\n",
    "\n",
    "Solution 3: Density Plots\n",
    "\n",
    "Density with Rug Plot"
   ]
  },
  {
   "cell_type": "code",
   "execution_count": null,
   "metadata": {},
   "outputs": [],
   "source": [
    "DataFrame.plot([x, y, kind, ax, ….])\tDataFrame plotting accessor and method\n",
    "DataFrame.plot.area([x, y])\tDraw a stacked area plot.\n",
    "DataFrame.plot.bar([x, y])\tVertical bar plot.\n",
    "DataFrame.plot.barh([x, y])\tMake a horizontal bar plot.\n",
    "DataFrame.plot.box([by])\tMake a box plot of the DataFrame columns.\n",
    "DataFrame.plot.density([bw_method, ind])\tGenerate Kernel Density Estimate plot using Gaussian kernels.\n",
    "DataFrame.plot.hexbin(x, y[, C, …])\tGenerate a hexagonal binning plot.\n",
    "DataFrame.plot.hist([by, bins])\tDraw one histogram of the DataFrame’s columns.\n",
    "DataFrame.plot.kde([bw_method, ind])\tGenerate Kernel Density Estimate plot using Gaussian kernels.\n",
    "DataFrame.plot.line([x, y])\tPlot DataFrame columns as lines.\n",
    "DataFrame.plot.pie([y])\tGenerate a pie plot.\n",
    "DataFrame.plot.scatter(x, y[, s, c])\tCreate a scatter plot with varying marker point size and color.\n",
    "DataFrame.boxplot([column, by, ax, …])\tMake a box plot from DataFrame columns.\n",
    "DataFrame.hist([column, by, grid, …])\tMake a histogram of the DataFrame’s."
   ]
  },
  {
   "cell_type": "markdown",
   "metadata": {},
   "source": [
    "### Create a Pairplot Using a Scatter, Histogram, Density Plots"
   ]
  },
  {
   "cell_type": "markdown",
   "metadata": {},
   "source": [
    "Default Pair Plot with All Data\n",
    "Let's use the entire dataset and sns.pairplot to create a simple, yet useful plot.\n",
    "\n",
    "\n",
    "Group and Color by a Variable\n",
    "In order to better understand the data, we can color the pairplot using a categorical variable and the hue keyword. First, we will color the plots by the continent.\n",
    "\n",
    "\n",
    "Customizing pairplot\n",
    "First, let's change the diagonal from a histogram to a kde which can better show the differences between continents. We can also adjust the alpha (intensity) of the scatter plots to better show all the data and change the size of the markers on the scatter plot. Finally, I increase the size of all the plots to better show the data.\n",
    "\n",
    "sns.pairplot(df, hue = 'continent', diag_kind = 'kde', plot_kws = {'alpha': 0.6, 's': 80, 'edgecolor': 'k'}, size = 4);\n",
    "\n",
    "\n",
    "The density plots on the diagonal are better for when we have data in multiple categories to make comparisons. We can color the plot by any variable we like. For example, here is a plot colored by a decade categorical variable we create from the year column.\n",
    "\n",
    "\n",
    "df['decade'] = pd.cut(df['year'], bins = range(1950, 2010, 10))\n",
    "\n",
    "sns.pairplot(df, hue = 'decade', diag_kind = 'kde', vars = ['life_exp', 'log_pop', 'log_gdp_per_cap'],\n",
    "             plot_kws = {'alpha': 0.6, 's': 80, 'edgecolor': 'k'}, size = 4);"
   ]
  },
  {
   "cell_type": "code",
   "execution_count": null,
   "metadata": {},
   "outputs": [],
   "source": [
    "# Define a summary function\n",
    "def summary(x, **kwargs):\n",
    "    # Convert to a pandas series\n",
    "    x = pd.Series(x)\n",
    "    \n",
    "    # Get stats for the series\n",
    "    label = x.describe()[['mean', 'std', 'min', '50%', 'max']]\n",
    "    \n",
    "    # Convert from log to regular scale\n",
    "    # Adjust the column names for presentation\n",
    "    if label.name == 'log_pop':\n",
    "        label = 10 ** label\n",
    "        label.name = 'pop stats'\n",
    "    elif label.name == 'log_gdp_per_cap':\n",
    "        label = 10 ** label\n",
    "        label.name = 'gdp_per_cap stats'\n",
    "    else:\n",
    "        label.name = 'life_exp stats'\n",
    "       \n",
    "    # Round the labels for presentation\n",
    "    label = label.round()\n",
    "    ax = plt.gca()\n",
    "    ax.set_axis_off()\n",
    "\n",
    "    # Add the labels to the plot\n",
    "    ax.annotate(pd.DataFrame(label),\n",
    "               xy = (0.1, 0.2), size = 20, xycoords = ax.transAxes)    \n",
    "    \n",
    "\n",
    "# Create a pair grid instance\n",
    "grid = sns.PairGrid(data= df[df['year'] == 2007],\n",
    "                    vars = ['life_exp', 'log_pop', 'log_gdp_per_cap'], size = 4)\n",
    "\n",
    "# Fill in the mappings\n",
    "grid = grid.map_upper(plt.scatter, color = 'darkred')\n",
    "grid = grid.map_upper(corr)\n",
    "grid = grid.map_lower(sns.kdeplot, cmap = 'Reds')\n",
    "grid = grid.map_diag(summary);"
   ]
  },
  {
   "cell_type": "markdown",
   "metadata": {},
   "source": [
    "Below is the code to plot the univariate distribution of the numerical columns which contains the histograms and the estimated PDF. We use displot of the seaborn library to plot this graph:"
   ]
  },
  {
   "cell_type": "code",
   "execution_count": null,
   "metadata": {},
   "outputs": [],
   "source": [
    "col_names = ['StrengthFactor','PriceReg', 'ReleaseYear', 'ItemCount', 'LowUserPrice', 'LowNetPrice']\n",
    "\n",
    "fig, ax = plt.subplots(len(col_names), figsize=(16,12))\n",
    "\n",
    "for i, col_val in enumerate(col_names):\n",
    "\n",
    "    sns.distplot(sales_data_hist[col_val], hist=True, ax=ax[i])\n",
    "    ax[i].set_title('Freq dist '+col_val, fontsize=10)\n",
    "    ax[i].set_xlabel(col_val, fontsize=8)\n",
    "    ax[i].set_ylabel('Count', fontsize=8)\n",
    "\n",
    "plt.show()"
   ]
  },
  {
   "cell_type": "markdown",
   "metadata": {},
   "source": [
    "### BoxPlot\n"
   ]
  },
  {
   "cell_type": "markdown",
   "metadata": {},
   "source": [
    "Below is the code to plot the box plot of all the column names mentioned in the list col_names. The box plot allows us to visually analyze the outliers in the dataset.\n",
    "​\n",
    "The key terminology to note here are as follows:\n",
    "​\n",
    "- The range of the data provides us with a measure of spread and is equal to a value between the smallest data point (min) and the largest one (Max)\n",
    "​\n",
    "- The interquartile range (IQR), which is the range covered by the middle 50% of the data.\n",
    "​\n",
    "- IQR = Q3 - Q1, the difference between the third and first quartiles. The first quartile (Q1) is the value such that one quarter (25%) of the data points fall below it, or the median of the bottom half of the data. The third quartile is the value such that three quarters (75%) of the data points fall below it, or the median of the top half of the data.\n",
    "​\n",
    "- The IQR can be used to detect outliers using the 1.5(IQR) criteria. Outliers are observations that fall below Q1 - 1.5(IQR) or above Q3 + 1.5(IQR).\n",
    "​\n",
    "​\n",
    "Based on the above definition of how we identify outliers the black dots are outliers in the strength factor attribute and the red colored box is the IQR range."
   ]
  },
  {
   "cell_type": "code",
   "execution_count": null,
   "metadata": {},
   "outputs": [],
   "source": [
    "# To check if there are any null values in the dataset : True False\n",
    "\n",
    "data_frame.isnull().values.any()\n",
    "\n",
    "# snippet returns the total number of missing values across different columns\n",
    "\n",
    "data_frame.isnull().sum()\n",
    "\n",
    "# replace the missing values\n",
    "data_frame['col_name'].fillna(0, inplace=True)\n",
    "\n",
    "col_names = ['StrengthFactor','PriceReg', 'ReleaseYear', 'ItemCount', 'LowUserPrice', 'LowNetPrice']\n",
    "\n",
    "fig, ax = plt.subplots(len(col_names), figsize=(8,40))\n",
    "\n",
    "for i, col_val in enumerate(col_names):\n",
    "\n",
    "    sns.boxplot(y=sales_data_hist[col_val], ax=ax[i])\n",
    "    ax[i].set_title('Box plot - {}'.format(col_val), fontsize=10)\n",
    "    ax[i].set_xlabel(col_val, fontsize=8)\n",
    "\n",
    "plt.show()"
   ]
  },
  {
   "cell_type": "markdown",
   "metadata": {},
   "source": [
    "## Word Cloud"
   ]
  },
  {
   "cell_type": "code",
   "execution_count": null,
   "metadata": {},
   "outputs": [],
   "source": [
    "def word_cloud(tweets):\n",
    "    \n",
    "    #We get the directory that we are working on\n",
    "    file = os.getcwd()\n",
    "    #We read the mask image into a numpy array\n",
    "    avengers_mask = np.array(Image.open(os.path.join(file, \"avengers.png\")))\n",
    "    #Now we store the tweets into a series to be able to process \n",
    "    #tweets_list = pd.Series([t for t in tweet_table.tweet]).str.cat(sep=' ')  \n",
    "    #We generate the wordcloud using the series created and the mask \n",
    "    word_cloud = WordCloud(width=2000, height=1000, max_font_size=200, background_color=\"black\", max_words=2000, mask=avengers_mask, contour_width=1, \n",
    "                           contour_color=\"steelblue\", colormap=\"nipy_spectral\", stopwords=[\"avengers\"])\n",
    "    word_cloud.generate(tweets)\n",
    "    \n",
    "    #wordcloud = WordCloud(width=1600, height=800,max_font_size=200).generate(tweets_list)\n",
    "    \n",
    "    #Now we plot both figures, the wordcloud and the mask\n",
    "    #plt.figure(figsize=(15,15))\n",
    "    plt.figure(figsize=(10,10))\n",
    "    plt.imshow(word_cloud, interpolation=\"hermite\")\n",
    "    plt.axis(\"off\")\n",
    "    #plt.imshow(avengers_mask, cmap=plt.cm.gray, interpolation=\"bilinear\")\n",
    "    #plt.axis(\"off\")    \n",
    "    plt.show()  "
   ]
  },
  {
   "cell_type": "code",
   "execution_count": null,
   "metadata": {},
   "outputs": [],
   "source": [
    ""
   ]
  }
 ],
 "metadata": {
  "kernelspec": {
   "display_name": "Python 3",
   "name": "python3"
  }
 },
 "nbformat": 4,
 "nbformat_minor": 0
}
