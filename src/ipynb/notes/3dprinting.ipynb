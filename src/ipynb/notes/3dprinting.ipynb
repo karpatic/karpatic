{
 "cells": [
  {
   "cell_type": "code",
   "execution_count": null,
   "metadata": {},
   "outputs": [],
   "source": [
    "3DP"
   ]
  },
  {
   "cell_type": "markdown",
   "metadata": {},
   "source": [
    "0.25mm z distance.\n",
    "75% xy distance.\n",
    "3mm support spacing.\n",
    "4 interface layers.\n",
    "0.2mm interface layer spacing.\n",
    " the standard 0.1 mm contact z distance should be 0.15 or 2 mm.\n",
    "\n",
    "\n",
    "https://www.3dhubs.com/knowledge-base/how-assemble-3d-printed-parts-threaded-fasteners/#self-tapping-screws\n",
    "https://www.3dhubs.com/knowledge-base/how-design-living-hinges-3d-printing/\n",
    "https://www.3dhubs.com/knowledge-base/how-assemble-3d-printed-parts-threaded-fasteners/\n",
    "https://www.font-generator.com/\n",
    "https://www.3dhubs.com/knowledge-base/how-design-snap-fit-joints-3d-printing/\n",
    "https://www.3dhubs.com/knowledge-base/enclosure-design-3d-printing-step-step-guide/\n",
    "\n",
    "https://www.thingiverse.com/search?q=Hamsa&type=things&sort=relevant\n",
    "https://www.thingiverse.com/thing:39898\n",
    "https://www.thingiverse.com/thing:451292\n",
    "\n",
    "Titebond H6838 - III Ultimate Wood Glue, 16 oz.\n",
    "\n",
    "https://www.thingiverse.com/thing:1613211\n",
    "https://www.thingiverse.com/davemakesstuff/designs\n",
    "https://www.thingiverse.com/thing:4645791\n",
    "https://www.thingiverse.com/thing:1201466\n",
    "https://www.thingiverse.com/thing:31581\n",
    "https://www.thingiverse.com/apps/customizer/run?thing_id=1046664\n",
    "grammmar \n",
    "--------------------------------------\n",
    "\n",
    "I want to create GIFs of 3D maps where the height is determined by real-world data about the place being shown. Object textures (+more), scene lighting, background and animations would be controllable aspects.\n",
    "\n",
    "algo sets certain parameters. mix of attributes randomly generated during minting process itself.\n",
    "\n",
    "- year - acs all - lighting - text on back - rotating - infoboxonclick\n",
    "\n",
    "Buy maps about the real world to sponsor a better CV world\n",
    "bundled items\n",
    "rarity and editions\n",
    "staggered listing and giveaways show transfers happening\n",
    "scale the price up\n",
    "\n",
    "- dynamic nfts\n",
    "- nft licenses\n",
    "- virtual worlds -> restricted access + discounts"
   ]
  }
 ],
 "metadata": {
  "language_info": {
   "name": "python"
  },
  "orig_nbformat": 4
 },
 "nbformat": 4,
 "nbformat_minor": 2
}
