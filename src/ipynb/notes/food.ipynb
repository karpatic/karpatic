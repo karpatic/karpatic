{
 "cells": [
  {
   "cell_type": "code",
   "execution_count": null,
   "metadata": {},
   "outputs": [],
   "source": []
  },
  {
   "cell_type": "markdown",
   "metadata": {},
   "source": [
    "asparagus and cheese"
   ]
  },
  {
   "cell_type": "markdown",
   "metadata": {},
   "source": [
    "sauce the water \n",
    "poaching temp 160-180 F ~= bring water to simmer then back off the heat so as to remove bubbles\n",
    "season the water! bayleave or bouillon \n",
    "boneless skinless chicken thights have higher fat content \n",
    "skin off - 100g or 3.5oz 175calories@24Gramsprotien. \n",
    "skin on - 227c@23gramsProtien\n",
    "\n",
    "chilequles - salsa verde + chicken stock to reduce then add onion, sourcream and chicken\n",
    "(brocolli + cloves + salt + black pep ) + chicken + (hot sauce and rice wine vinegar?) \n",
    "\n"
   ]
  }
 ],
 "metadata": {
  "language_info": {
   "name": "python"
  }
 },
 "nbformat": 4,
 "nbformat_minor": 2
}
