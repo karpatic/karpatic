{
 "cells": [
  {
   "cell_type": "code",
   "execution_count": null,
   "metadata": {},
   "outputs": [],
   "source": [
    "https://en.wikipedia.org/wiki/ISM_band"
   ]
  },
  {
   "cell_type": "code",
   "execution_count": null,
   "metadata": {},
   "outputs": [],
   "source": [
    "rf jamming, automated sniffing, demodulation, replay attacks"
   ]
  },
  {
   "cell_type": "code",
   "execution_count": null,
   "metadata": {},
   "outputs": [],
   "source": [
    ""
   ]
  },
  {
   "cell_type": "markdown",
   "metadata": {},
   "source": [
    "FCC ID\n",
    "any device that transmits radio frequency in the US must have an FCCID visibly on it.\n",
    "\n",
    "FCC REgulates transmission in the us.\n",
    "All information is public information\n",
    "FCC.IO allows you to search the fcc for this public information using the FCCID\n",
    "\n",
    "includes pictures, where it came from, frequency range.\n"
   ]
  },
  {
   "cell_type": "markdown",
   "metadata": {},
   "source": [
    "RF Jamming is done by occupying the frequency with a signal."
   ]
  },
  {
   "cell_type": "markdown",
   "metadata": {},
   "source": [
    "HAck RF. Several 100$. \n",
    "read and transmit huge spectrum\n",
    "\n",
    "Can permit GPS Spoofing.\n",
    "\n",
    "permits recording and replaying signals.. \n",
    "This can be used to copy a secret signal but is combated using a 'rolling' password."
   ]
  },
  {
   "cell_type": "markdown",
   "metadata": {},
   "source": [
    "RTL-SDR - Software Defined Radio.\n",
    "like 20$\n",
    "\n",
    "its public transmission.\n",
    "\n",
    "planes trasnmit their gps coordinates and name through radio waves that can be picked up using this.\n",
    "\n",
    "There are planes circling LA. FBI planes.\n",
    "\n"
   ]
  },
  {
   "cell_type": "markdown",
   "metadata": {},
   "source": [
    "GQRX/ sdrsharp - allows you analyze spectrum using real time frequency analysis to find frequencies when the FCCID is not known"
   ]
  },
  {
   "cell_type": "markdown",
   "metadata": {},
   "source": [
    "102.7 on the radio is at 102.7 megahertz. \n",
    "The amplitude of the radio signal is set through software defined modulation.\n",
    "\n",
    "AM - Amplitude modulation\n",
    "FM - Frequency modulation\n",
    "\n",
    "\n",
    "\n"
   ]
  },
  {
   "cell_type": "markdown",
   "metadata": {},
   "source": [
    "De Bruyne attack takes advantage of bit shift registers the fact that no 'start password' sequence is defined."
   ]
  },
  {
   "cell_type": "markdown",
   "metadata": {},
   "source": [
    "Jam + Listen then Replay\n",
    "\n",
    "Jam + Listen for multiple clicks then Replay only one. This surpasses Rolling Codes. This is automated - rollcam"
   ]
  },
  {
   "cell_type": "markdown",
   "metadata": {},
   "source": [
    "different commands need different rolling codes. Hash the key with the command. Time ased alg."
   ]
  },
  {
   "cell_type": "code",
   "execution_count": null,
   "metadata": {},
   "outputs": [],
   "source": [
    ""
   ]
  }
 ],
 "metadata": {
  "kernelspec": {
   "display_name": "Python 3",
   "name": "python3"
  }
 },
 "nbformat": 4,
 "nbformat_minor": 0
}
