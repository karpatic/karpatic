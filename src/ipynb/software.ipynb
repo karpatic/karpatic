{
 "cells": [
  {
   "attachments": {},
   "cell_type": "markdown",
   "metadata": {},
   "source": [
    "# Software\n",
    "> Listing out my web dev notes in article form.\n",
    " \n",
    "- tab: 00_software\n",
    "- keywords: ['software']\n",
    "- hide_sitemap: true"
   ]
  },
  {
   "attachments": {},
   "cell_type": "markdown",
   "metadata": {},
   "source": [
    "<details open class=\"details\">\n",
    "<summary>"
   ]
  },
  {
   "attachments": {},
   "cell_type": "markdown",
   "metadata": {},
   "source": [
    "## Links:"
   ]
  },
  {
   "cell_type": "markdown",
   "metadata": {},
   "source": [
    "</summary>"
   ]
  },
  {
   "attachments": {},
   "cell_type": "markdown",
   "metadata": {},
   "source": [
    "I have a bunch of notes on random things I catalog here. \n",
    "\n",
    "The article contents may stray from the page title.\n",
    "\n",
    "Contact charles.karpati@gmail.com should you have any revisions, questions, comments, or concerns!\n",
    "<script>\n",
    "/*\n",
    "- <a href='index.html'>Wordpress</a> - Notes \n",
    "- <a href='index.html'>VR</a> - Meta Quest Notes\n",
    "- <a href='index.html'>ChatGPT3</a> - Notes\n",
    "- <a href='index.html'>Termux</a> - Notes\n",
    "- <a href='index.html'>Visualization</a> - Approaches\n",
    "- Web <a href='index.html'>Workers</a> - About\n",
    "*/\n",
    "</script>"
   ]
  },
  {
   "attachments": {},
   "cell_type": "markdown",
   "metadata": {},
   "source": [
    "</details>"
   ]
  }
 ],
 "metadata": {
  "kernelspec": {
   "display_name": "Python 3.10.2 64-bit",
   "language": "python",
   "name": "python3"
  },
  "language_info": {
   "codemirror_mode": {
    "name": "ipython",
    "version": 3
   },
   "file_extension": ".py",
   "mimetype": "text/x-python",
   "name": "python",
   "nbconvert_exporter": "python",
   "pygments_lexer": "ipython3",
   "version": "3.10.2"
  },
  "orig_nbformat": 4,
  "vscode": {
   "interpreter": {
    "hash": "046b844cfe77f56867adc884800e389906328c66f60829dd4497d230d7e2d321"
   }
  }
 },
 "nbformat": 4,
 "nbformat_minor": 2
}
