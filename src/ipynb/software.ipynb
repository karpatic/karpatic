{
 "cells": [
  {
   "attachments": {},
   "cell_type": "markdown",
   "metadata": {},
   "source": [
    "# Software\n",
    "> Listing out my software notes in article form.\n",
    " \n",
    "- tab: 00_software\n",
    "- keywords: ['software']\n",
    "- hide_sitemap: true\n",
    "- hide_toc: true\n",
    "- hide_breadcrumbs: true"
   ]
  },
  {
   "attachments": {},
   "cell_type": "markdown",
   "metadata": {},
   "source": [
    "<details open class=\"details\">\n",
    "<summary>"
   ]
  },
  {
   "attachments": {},
   "cell_type": "markdown",
   "metadata": {},
   "source": [
    "## Featured "
   ]
  },
  {
   "cell_type": "markdown",
   "metadata": {},
   "source": [
    "</summary>"
   ]
  },
  {
   "attachments": {},
   "cell_type": "markdown",
   "metadata": {},
   "source": [
    "I have a bunch of notes on random things I catalog here. \n",
    "\n",
    "The article contents may stray from the page title.\n",
    "\n",
    "Contact charles.karpati@gmail.com should you have any revisions, questions, comments, or concerns!  \n"
   ]
  },
  {
   "cell_type": "markdown",
   "metadata": {},
   "source": [
    "**GitHub** – Version control workflows, Git fundamentals, and GitHub usage. [Notes](/software/01_github.html)  \n",
    "\n",
    "**Colabs** – Using Google Colab for development, collaboration, and experimentation. [Notes](/software/02_colabs.html)  \n",
    "\n",
    "**Shell Basics** – Command-line operations and scripting essentials. [Notes](/software/03_shell_basics.html)  \n",
    "\n",
    "**APIs** – Interfacing with APIs, requests, and data integration. [Notes](/software/04_apis.html)  \n",
    "\n",
    "**Webscraping** – Techniques to extract and process data from the web. [Notes](/software/05_webscraping.html)  \n",
    "\n",
    "**nbdev** – Literate programming and Python packaging using `nbdev`. [Notes](/software/06_nbdev.html)  \n",
    "\n",
    "**JavaScript Packages** – Managing JS dependencies with npm, yarn, and bundlers. [Notes](/software/07_javascript_packages.html)  \n",
    "\n",
    "**Cloud Functions** – Deploying and managing serverless functions. [Notes](/software/08_cloud_functions.html)  \n",
    "\n",
    "**Browser Extensions** – Building and deploying browser-based extensions. [Notes](/software/09_browser_extensions.html)  \n",
    "\n",
    "**Path** – Handling filesystem paths and navigation programmatically. [Notes](/software/10_path.html)  \n",
    "\n",
    "**CSS Animations** – Crafting motion and interactivity with CSS. [Notes](/software/css_animations.html)  \n",
    "\n",
    "**Fonts, Unicode & ASCII** – Working with text rendering and encoding systems. [Notes](/software/fonts_unicode_ascii.html)  \n",
    "\n",
    "**LLM** – Concepts and applications around large language models. [Notes](/software/llm.html)  \n",
    "\n",
    "**Protocols** – Network protocols, architecture, and communication standards. [Notes](/software/protocols.html)  \n",
    "\n",
    "**Websites** – Design, development, and deployment of modern websites. [Notes](/software/websites.html)  \n",
    "\n",
    "**CSS** – Styling web content with cascading style sheets. [Notes](/software/css.html)  \n",
    "\n",
    "**JavaScript** – Core JS concepts, patterns, and browser scripting. [Notes](/software/javascript.html)  \n",
    "\n",
    "**Paradigms** – Programming paradigms and architectural design. [Notes](/software/paradigms.html)  \n",
    "\n",
    "**WebRTC** – Real-time communication via browser-based technologies. [Notes](/software/webrtc.html)  \n",
    "\n",
    "**Windows** – Tools, scripting, and automation in Windows environments. [Notes](/software/windows.html)  \n"
   ]
  },
  {
   "attachments": {},
   "cell_type": "markdown",
   "metadata": {},
   "source": [
    "</details>"
   ]
  }
 ],
 "metadata": {
  "kernelspec": {
   "display_name": "Python 3.10.2 64-bit",
   "language": "python",
   "name": "python3"
  },
  "language_info": {
   "codemirror_mode": {
    "name": "ipython",
    "version": 3
   },
   "file_extension": ".py",
   "mimetype": "text/x-python",
   "name": "python",
   "nbconvert_exporter": "python",
   "pygments_lexer": "ipython3",
   "version": "3.10.2"
  },
  "orig_nbformat": 4,
  "vscode": {
   "interpreter": {
    "hash": "046b844cfe77f56867adc884800e389906328c66f60829dd4497d230d7e2d321"
   }
  }
 },
 "nbformat": 4,
 "nbformat_minor": 2
}
