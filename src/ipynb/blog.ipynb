{
 "cells": [
  {
   "cell_type": "code",
   "execution_count": null,
   "metadata": {},
   "outputs": [],
   "source": [
    "#  My Blog\n",
    "> Written thoughts.\n",
    "\n",
    "- keywords: ['3D','3D Printing', 'Crypto', 'metaverse', 'navigation']"
   ]
  },
  {
   "cell_type": "markdown",
   "metadata": {},
   "source": []
  },
  {
   "cell_type": "code",
   "execution_count": null,
   "metadata": {},
   "outputs": [],
   "source": [
    "%%javascript\n",
    "    setInterval(() => {\n",
    "      const min = 40, max = 60;\n",
    "      document.getElementById('blob').style.borderRadius = \n",
    "        Array.from({length: 8}, () => min + Math.random() * (max - min))\n",
    "        .map(v => v + '%')\n",
    "        .join(' ')\n",
    "        .replace(/(.+) (.+) (.+) (.+)/, '$1 $2 $3 $4 / $1 $2 $3 $4');\n",
    "    }, 2000);"
   ]
  },
  {
   "cell_type": "markdown",
   "metadata": {},
   "source": [
    "<div id='shapecontainer'>\n",
    "<div id=\"shape\">\n",
    "  <img src=\"https://avatars.githubusercontent.com/u/10605109?v=4\" alt=\"placeholder\" style=\"width: 70%; height: 70%; object-fit: cover;\" />\n",
    "</div>\n",
    "</div>\n",
    "<style>\n",
    "#shapecontainer{\n",
    "  display: flex; \n",
    "  justify-content: center; \n",
    "  align-items: center;\n",
    "  margin-bottom: 60px;\n",
    "}\n",
    "#shape{\n",
    "  width:200px;height:200px;\n",
    "  display: flex; justify-content: center; align-items: center;\n",
    "  background:linear-gradient(45deg,rgb(48,35,174)0%,rgb(255,0,153)100%);\n",
    "  border-radius:40%60%60%40%/40%55%45%60%;\n",
    "  box-shadow:rgba(255,255,255,.07)-10px 10px;\n",
    "  animation:m 5s infinite alternate ease-in-out}\n",
    "  @keyframes m{\n",
    "    0%{transform:scale(1)translate(0,0)}\n",
    "    20%{transform:scale(1.2)translate(10px,10px);border-radius:45%55%42%58%/52%45%55%48%}\n",
    "    40%{transform:scale(1.1)translate(-10px,10px);border-radius:58%42%55%45%/45%62%38%55%}\n",
    "    60%{transform:scale(1.3)translate(1px,-10px);border-radius:42%58%48%52%/55%45%55%45%}\n",
    "    80%{transform:scale(1.1)translate(-10px,10px);border-radius:52%48%55%45%/48%55%45%52%}\n",
    "    100%{transform:scale(1)translate(0,0);border-radius:40%60%60%40%/40%55%45%60%}\n",
    "  }\n",
    "</style>\n"
   ]
  },
  {
   "cell_type": "code",
   "execution_count": null,
   "metadata": {},
   "outputs": [
    {
     "data": {
      "application/javascript": "console.log('start')\n// document.getElementById('shape').style.borderRadius = \"30% 70% 70% 30% / 30% 47% 53% 70%\"\nconsole.log(document.getElementById('shape').style.borderRadius)\n",
      "text/plain": [
       "<IPython.core.display.Javascript object>"
      ]
     },
     "metadata": {},
     "output_type": "display_data"
    }
   ],
   "source": [
    "%%javascript\n",
    "console.log('start')\n",
    "// document.getElementById('shape').style.borderRadius = \"70% 30% 30% 70% / 70% 74% 35% 30%;\"\n",
    "console.log(document.getElementById('shape').style.borderRadius)"
   ]
  },
  {
   "attachments": {},
   "cell_type": "markdown",
   "metadata": {},
   "source": [
    "</details>\n",
    "<details open class=\"details\">\n",
    "<summary>"
   ]
  },
  {
   "attachments": {},
   "cell_type": "markdown",
   "metadata": {},
   "source": [
    "## Featured"
   ]
  },
  {
   "attachments": {},
   "cell_type": "markdown",
   "metadata": {},
   "source": [
    "</summary>"
   ]
  },
  {
   "attachments": {},
   "cell_type": "markdown",
   "metadata": {},
   "source": [
    "- About [my site](./blog/aboutmysite.html)"
   ]
  },
  {
   "attachments": {},
   "cell_type": "markdown",
   "metadata": {},
   "source": [
    "</details>\n",
    "<details open>\n",
    "<summary>"
   ]
  },
  {
   "attachments": {},
   "cell_type": "markdown",
   "metadata": {},
   "source": [
    "## All Entries"
   ]
  },
  {
   "attachments": {},
   "cell_type": "markdown",
   "metadata": {},
   "source": [
    "</summary>"
   ]
  },
  {
   "attachments": {},
   "cell_type": "markdown",
   "metadata": {},
   "source": [
    "- About [me](./blog/aboutme.html)\n",
    "- About [my site](./blog/aboutmysite.html)\n",
    "- Site [stats](./blog/sitestats.html) "
   ]
  },
  {
   "attachments": {},
   "cell_type": "markdown",
   "metadata": {},
   "source": [
    "</details>"
   ]
  }
 ],
 "metadata": {
  "kernelspec": {
   "display_name": "Python 3",
   "language": "python",
   "name": "python3"
  },
  "language_info": {
   "name": "python",
   "version": "3.11.6"
  },
  "orig_nbformat": 4
 },
 "nbformat": 4,
 "nbformat_minor": 2
}
