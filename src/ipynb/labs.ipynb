{
 "cells": [
  {
   "attachments": {},
   "cell_type": "markdown",
   "metadata": {
    "id": "Rz_EKGBceH4u"
   },
   "source": [
    "# Labs: Real Projects\n",
    "> This can be referenced  along your Pythonic development journey.\n",
    "\n",
    "- tab: 00_labs\n",
    "- keywords: ['Labs']\n",
    "- hide_sitemap: true\n",
    "- hide_toc: true\n",
    "- hide_breadcrumbs: true"
   ]
  },
  {
   "cell_type": "markdown",
   "metadata": {},
   "source": [
    "## Whats inside?\n",
    "\n",
    "Notebooks mostly made by me. Two articles are from students from this past program I helped with\n",
    "\n",
    "<iframe width=\"560\" height=\"315\" src=\"https://www.youtube.com/embed/sWKrTzY8yQ4\" frameborder=\"0\" allowfullscreen></iframe>\n",
    "\n",
    "These are their finished articles:\n",
    "\n",
    "1. <a href=\"https://bniajfi.org/2021/02/08/social-media-alert-system-for-covid-19-illicit-behavior/\">Social Media Alert System for COVID-19 Illicit Behavior</a>\n",
    "\n",
    "2. <a href=\"https://bniajfi.org/2021/11/15/exploration-of-data-works-mds-membership/\">Exploration of Data Works MDS Membership</a>\n",
    "\n",
    "3. <a href=\"https://bniajfi.org/2020/09/02/is-baltimore-city-getting-fast-enough-internet-speeds/\">Is Baltimore City Getting Fast Enough Internet Speeds?</a>\n",
    "\n",
    "4. <a href=\"https://bniajfi.org/2020/09/02/an-analysis-of-baltimore-city-e-scooter-distribution/\">An Analysis of Baltimore City E-Scooter Distribution</a>"
   ]
  },
  {
   "cell_type": "markdown",
   "metadata": {},
   "source": [
    "<details open class=\"details\">\n",
    "<summary>"
   ]
  },
  {
   "cell_type": "markdown",
   "metadata": {},
   "source": [
    "## Featured "
   ]
  },
  {
   "cell_type": "markdown",
   "metadata": {},
   "source": [
    "</summary>"
   ]
  },
  {
   "cell_type": "markdown",
   "metadata": {},
   "source": [
    "**NB to HTML Tests** – Testing workflows for converting notebooks to HTML. [Notes](./labs/01_nb_2_html_tests.html)  \n",
    "\n",
    "**211 Web Scraper** – Targeted scraping tasks for course 211-related data. [Notes](./labs/02_211_web_scraper.html)  \n",
    "\n",
    "**Wordclouds** – Generating and customizing word cloud visualizations. [Notes](./labs/05_wordclouds.html)  \n",
    "\n",
    "**Looking at Data** – Exploratory techniques for inspecting raw datasets. [Notes](./labs/09_looking_at_data.html)  \n",
    "\n",
    "**Satellites** – Visual and data-driven analysis of satellite information. [Notes](./labs/_10_satellltes.html)  \n",
    "\n",
    "**OpenAI** – Utilizing OpenAI APIs and integrating LLM capabilities. [Notes](./labs/11_openAi.html)  \n",
    "\n",
    "**Chart** – Pre-built or custom HTML chart visualizations. [Notes](./labs/chart.html)  \n",
    "\n",
    "**Naomi NLP** – Natural language processing workflows using Naomi datasets. [Notes](./labs/naomi_nlp.html)  \n",
    "\n",
    "**Nomi** – Analysis and modeling involving the Nomi dataset. [Notes](./labs/nomi.html)  \n"
   ]
  },
  {
   "cell_type": "markdown",
   "metadata": {},
   "source": [
    "</details>"
   ]
  }
 ],
 "metadata": {
  "colab": {
   "collapsed_sections": [],
   "name": "index.ipynb",
   "provenance": []
  },
  "kernelspec": {
   "display_name": "Python 3",
   "language": "python",
   "name": "python3"
  }
 },
 "nbformat": 4,
 "nbformat_minor": 0
}
