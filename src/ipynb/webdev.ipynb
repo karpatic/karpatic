{
 "cells": [
  {
   "cell_type": "markdown",
   "metadata": {},
   "source": [
    "# Webdev\n",
    "> Listing out my misc notes in article form.\n",
    "\n",
    "- tab: 00_webdev\n",
    "- keywords: ['WebDev']\n",
    "- hide_sitemap: true\n",
    "- hide_toc: true\n",
    "- hide_breadcrumbs: true"
   ]
  },
  {
   "cell_type": "markdown",
   "metadata": {},
   "source": [
    "<details open class=\"details\">\n",
    "<summary>"
   ]
  },
  {
   "cell_type": "markdown",
   "metadata": {},
   "source": [
    "## Featured "
   ]
  },
  {
   "cell_type": "markdown",
   "metadata": {},
   "source": [
    "</summary>"
   ]
  },
  {
   "cell_type": "markdown",
   "metadata": {},
   "source": [
    "I have a bunch of notes on random things I catalog here. \n",
    "\n",
    "The article contents may stray from the page title.\n",
    "\n",
    "Contact charles.karpati@gmail.com should you have any revisions, questions, comments, or concerns!  \n",
    " "
   ]
  },
  {
   "cell_type": "markdown",
   "metadata": {},
   "source": [
    "**Fonts, Unicode & ASCII** – Working with text rendering, encoding, and character sets. [Notes](./webdev/fonts_unicode_ascii.html)  \n",
    "\n",
    "**JavaScript** – Core JavaScript concepts, browser scripting, and interactive logic. [Notes](./webdev/javascript.html)  \n",
    "\n",
    "**Visualization Notes** – Techniques and tools for effective data visualization. [Notes](./webdev/visualization_notes.html)  \n",
    "\n",
    "**Websites** – Development, structure, and deployment of web applications. [Notes](./webdev/websites.html)  \n"
   ]
  },
  {
   "cell_type": "markdown",
   "metadata": {},
   "source": [
    "</details>"
   ]
  }
 ],
 "metadata": {
  "kernelspec": {
   "display_name": "Python 3.10.2 64-bit",
   "language": "python",
   "name": "python3"
  },
  "language_info": {
   "codemirror_mode": {
    "name": "ipython",
    "version": 3
   },
   "file_extension": ".py",
   "mimetype": "text/x-python",
   "name": "python",
   "nbconvert_exporter": "python",
   "pygments_lexer": "ipython3",
   "version": "3.10.2"
  },
  "orig_nbformat": 4,
  "vscode": {
   "interpreter": {
    "hash": "046b844cfe77f56867adc884800e389906328c66f60829dd4497d230d7e2d321"
   }
  }
 },
 "nbformat": 4,
 "nbformat_minor": 2
}
