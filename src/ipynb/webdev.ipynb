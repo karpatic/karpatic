{
 "cells": [
  {
   "cell_type": "markdown",
   "metadata": {},
   "source": [
    "# Webdev\n",
    "> Listing out my misc notes in article form.\n",
    "\n",
    "- tab: 00_webdev\n",
    "- keywords: ['WebDev']\n",
    "- hide_sitemap: true\n",
    "- hide_toc: true\n",
    "- hide_breadcrumbs: true"
   ]
  },
  {
   "cell_type": "markdown",
   "metadata": {},
   "source": [
    "<details open class=\"details\">\n",
    "<summary>"
   ]
  },
  {
   "cell_type": "markdown",
   "metadata": {},
   "source": [
    "## Featured "
   ]
  },
  {
   "cell_type": "markdown",
   "metadata": {},
   "source": [
    "</summary>"
   ]
  },
  {
   "cell_type": "markdown",
   "metadata": {},
   "source": [
    "I have a bunch of notes on random things I catalog here. \n",
    "\n",
    "The article contents may stray from the page title.\n",
    "\n",
    "Contact charles.karpati@gmail.com should you have any revisions, questions, comments, or concerns!  \n",
    " "
   ]
  },
  {
   "cell_type": "markdown",
   "metadata": {},
   "source": [
    "**Carlos Wp** – A collection of notes and resources related to the Carlos WP project. [Notes](./webdev/carlos_wp.html)  \n",
    "\n",
    "**Meta Quest Notes** – Insights and observations gathered from working with Meta Quest. [Notes](./webdev/meta_quest_notes.html)  \n",
    "\n",
    "**Openaichatgpt3** – Documentation and resources on OpenAI's GPT-3, its capabilities, and implementations. [Notes](./webdev/openaichatgpt3.html)  \n",
    "\n",
    "**Openainotes** – Detailed notes on OpenAI's offerings, technologies, and research. [Notes](./webdev/openainotes.html)  \n",
    "\n",
    "**Stickynotes** – Information and notes on the Stickynotes tool and its uses. [Notes](./webdev/stickynotes.html)  \n",
    "\n",
    "**Termux Notes** – Resources and configurations related to the Termux terminal emulator. [Notes](./webdev/termux_notes.html)  \n",
    "\n",
    "**Visualization Notes** – Guidelines and examples for creating effective visualizations in data analysis. [Notes](./webdev/visualization_notes.html)  \n",
    "\n",
    "**Vpn** – A detailed guide on using VPN services and their applications for secure connections. [Notes](./webdev/vpn.html)  \n",
    "\n",
    "**Cloudflare** – Notes on Cloudflare's services, including security, CDN, and DNS management. [Notes](./webdev/Cloudflare.html)  \n",
    "\n",
    "**Css** – Comprehensive resources on CSS, styling techniques, and best practices for web design. [Notes](./webdev/CSS.html)  \n",
    "\n",
    "**Descriptions** – A collection of text descriptions and documentation for various web development projects. [Notes](./webdev/Descriptions.html)  \n",
    "\n",
    "**DevOps** – Insights into DevOps practices, tools, and workflows for modern software development. [Notes](./webdev/DevOps.html)  \n",
    "\n",
    "**Generators** – Guides and resources for using generators in web development to automate and streamline tasks. [Notes](./webdev/Generators.html)  \n",
    "\n",
    "**Google** – Documentation and resources related to Google technologies, tools, and platforms. [Notes](./webdev/Google.html)  \n",
    "\n",
    "**Misc** – A collection of miscellaneous notes on various web development topics. [Notes](./webdev/Misc.html)  \n",
    "\n",
    "**Ml** – Machine Learning concepts, libraries, and tutorials for applying ML techniques in web development. [Notes](./webdev/ML.html)  \n",
    "\n",
    "**React** – In-depth notes and resources on React, including its features and how to build dynamic web applications. [Notes](./webdev/React.html)  \n",
    "\n",
    "**Tutorials** – A selection of tutorials covering various web development topics and technologies. [Notes](./webdev/Tutorials.html)  \n",
    "\n",
    "**Js** – JavaScript resources, techniques, and best practices for web development. [Notes](./webdev/JS.html)  \n",
    "\n",
    "**Html** – Detailed notes on HTML, its elements, structure, and usage in web development. [Notes](./webdev/HTML.html)  \n"
   ]
  },
  {
   "cell_type": "markdown",
   "metadata": {},
   "source": [
    "</details>"
   ]
  }
 ],
 "metadata": {
  "kernelspec": {
   "display_name": "Python 3.10.2 64-bit",
   "language": "python",
   "name": "python3"
  },
  "language_info": {
   "codemirror_mode": {
    "name": "ipython",
    "version": 3
   },
   "file_extension": ".py",
   "mimetype": "text/x-python",
   "name": "python",
   "nbconvert_exporter": "python",
   "pygments_lexer": "ipython3",
   "version": "3.10.2"
  },
  "orig_nbformat": 4,
  "vscode": {
   "interpreter": {
    "hash": "046b844cfe77f56867adc884800e389906328c66f60829dd4497d230d7e2d321"
   }
  }
 },
 "nbformat": 4,
 "nbformat_minor": 2
}
