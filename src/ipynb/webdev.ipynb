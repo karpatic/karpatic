{
 "cells": [
  {
   "cell_type": "markdown",
   "metadata": {},
   "source": [
    "# Webdev\n",
    "\n",
    "> Listing out my misc notes in article form.\n",
    "\n",
    "- tab: 00_webdev\n",
    "- keywords: ['test','test test'] "
   ]
  },
  {
   "attachments": {},
   "cell_type": "markdown",
   "metadata": {},
   "source": [
    "<details open class=\"details\">\n",
    "<summary>"
   ]
  },
  {
   "attachments": {},
   "cell_type": "markdown",
   "metadata": {},
   "source": [
    "## Links:"
   ]
  },
  {
   "cell_type": "markdown",
   "metadata": {},
   "source": [
    "</summary>"
   ]
  },
  {
   "attachments": {},
   "cell_type": "markdown",
   "metadata": {},
   "source": []
  },
  {
   "cell_type": "markdown",
   "metadata": {},
   "source": [
    "\n",
    "\n",
    "https://blog.jetbrains.com/webstorm/2024/10/javascript-best-practices-2024/?ref=dailydev\n",
    "\n",
    "const obj = { name: 'Alice' };\n",
    "const hiddenKey = Symbol('hidden');\n",
    "obj[hiddenKey] = 'Secret Value';\n",
    "console.log(Object.keys(obj)); // ['name'] (Symbol keys won't appear)\n",
    "console.log(Object.getOwnPropertySymbols(obj)); // [Symbol(hidden)] (accessible only if specifically retrieved)\n",
    "\n",
    "Why it matters: Map is a more flexible and predictable way of associating values with any kind of key, whether primitive or non-primitive. It preserves the type and order of keys, unlike plain objects, which convert keys to strings.\n",
    "const map = new Map();\n",
    "const key = { id: 1 };\n",
    "// Using a non-primitive object as a key in a Map\n",
    "map.set(key, 'value');\n",
    "console.log(map.get(key)); // 'value'\n",
    "\n",
    "\n",
    "Why it matters: Arrow functions enhance readability by removing boilerplate code, making callback functions and inline expressions much more concise. In addition, they are particularly valuable when working with classes or event handlers, as they automatically bind this to the surrounding lexical scope. This avoids common bugs related to this in traditional function expressions, especially in asynchronous or callback-heavy code.\n",
    "\n",
    "Advice: When you really need private fields in classes, JavaScript now has real private fields using the # syntax. This is an official language feature that enforces true privacy.\n",
    "\n",
    "class Person {\n",
    "  #name\n",
    "  constructor(name) {\n",
    "    this.#name = name;\n",
    "  }\n",
    "  getName() {\n",
    "    return this.#name\n",
    "  }\n",
    "}\n",
    "const p = new Person('A');\n",
    "console.log(p.getName()); // 'A'\n",
    "Why it matters: Using real private fields ensures that the data is truly encapsulated, preventing accidental or malicious access from outside the class. The underscore convention only provides a visual cue and can easily be misused, while # private fields guarantee privacy by design. This results in more robust and maintainable code.\n"
   ]
  },
  {
   "attachments": {},
   "cell_type": "markdown",
   "metadata": {},
   "source": [
    "</details>"
   ]
  }
 ],
 "metadata": {
  "kernelspec": {
   "display_name": "Python 3.10.2 64-bit",
   "language": "python",
   "name": "python3"
  },
  "language_info": {
   "codemirror_mode": {
    "name": "ipython",
    "version": 3
   },
   "file_extension": ".py",
   "mimetype": "text/x-python",
   "name": "python",
   "nbconvert_exporter": "python",
   "pygments_lexer": "ipython3",
   "version": "3.10.2"
  },
  "orig_nbformat": 4,
  "vscode": {
   "interpreter": {
    "hash": "046b844cfe77f56867adc884800e389906328c66f60829dd4497d230d7e2d321"
   }
  }
 },
 "nbformat": 4,
 "nbformat_minor": 2
}
