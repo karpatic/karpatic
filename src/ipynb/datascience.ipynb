{
 "cells": [
  {
   "cell_type": "markdown",
   "metadata": {},
   "source": [
    "# Data Science\n",
    "> Listing out my misc notes in article form.\n",
    "\n",
    "- tab: 00_datascience\n",
    "- keywords: ['Data Science'] \n",
    "- hide_sitemap: true"
   ]
  },
  {
   "attachments": {},
   "cell_type": "markdown",
   "metadata": {},
   "source": [
    "<details open class=\"details\">\n",
    "<summary>"
   ]
  },
  {
   "cell_type": "markdown",
   "metadata": {},
   "source": [
    "## Links:"
   ]
  },
  {
   "cell_type": "markdown",
   "metadata": {},
   "source": [
    "<summary>"
   ]
  },
  {
   "cell_type": "markdown",
   "metadata": {},
   "source": [
    "'09_Looking at data.ipynb.txt'                    geospatial_timeseries_notes.ipynb   process.ipynb\n",
    " clustering_association_notes.ipynb               linear_regressions.ipynb            python_eda.ipynb\n",
    "'Discriminant Analysis, Regression, Anova.docx'   _menu.ipynb                         spatial.ipynb\n",
    " distributions_and_regression_tests.ipynb         _misctricks.ipynb                   stationarity.ipynb\n",
    "'DS Sorted Notes.xlsx'                            ml.ipynb                            viz_notes_examples.ipynb"
   ]
  },
  {
   "attachments": {},
   "cell_type": "markdown",
   "metadata": {},
   "source": [
    "</details>"
   ]
  }
 ],
 "metadata": {
  "kernelspec": {
   "display_name": "Python 3.10.2 64-bit",
   "language": "python",
   "name": "python3"
  },
  "language_info": {
   "codemirror_mode": {
    "name": "ipython",
    "version": 3
   },
   "file_extension": ".py",
   "mimetype": "text/x-python",
   "name": "python",
   "nbconvert_exporter": "python",
   "pygments_lexer": "ipython3",
   "version": "3.10.2"
  },
  "orig_nbformat": 4,
  "vscode": {
   "interpreter": {
    "hash": "046b844cfe77f56867adc884800e389906328c66f60829dd4497d230d7e2d321"
   }
  }
 },
 "nbformat": 4,
 "nbformat_minor": 2
}
