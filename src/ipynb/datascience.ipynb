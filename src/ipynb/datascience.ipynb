{
 "cells": [
  {
   "cell_type": "markdown",
   "metadata": {},
   "source": [
    "# Data Science\n",
    "> Listing out my Data notes in article form.\n",
    "\n",
    "- tab: 00_datascience\n",
    "- keywords: ['Data Science']  \n",
    "- hide_sitemap: true\n",
    "- hide_toc: true\n",
    "- hide_breadcrumbs: true"
   ]
  },
  {
   "attachments": {},
   "cell_type": "markdown",
   "metadata": {},
   "source": [
    "<details open class=\"details\">\n",
    "<summary>"
   ]
  },
  {
   "cell_type": "markdown",
   "metadata": {},
   "source": [
    "## Featured "
   ]
  },
  {
   "cell_type": "markdown",
   "metadata": {},
   "source": [
    "</summary>"
   ]
  },
  {
   "cell_type": "markdown",
   "metadata": {},
   "source": [
    "I have a bunch of notes on random things I catalog here. \n",
    "\n",
    "The article contents may stray from the page title.\n",
    "\n",
    "Contact charles.karpati@gmail.com should you have any revisions, questions, comments, or concerns!  \n",
    " "
   ]
  },
  {
   "cell_type": "markdown",
   "metadata": {},
   "source": [
    "  \n",
    "**Clustering & Association** – Explore methods for grouping and identifying patterns within data. [Notes](./datascience/clustering_association_notes.html)  \n",
    "\n",
    "**Distributions & Regression Tests** – Dive into statistical analysis and prediction. [Notes](./datascience/distributions_and_regression_tests.html)  \n",
    "\n",
    "**Geospatial Time Series** – Analyze and visualize time-based geospatial data. [Notes](./datascience/geospatial_timeseries_notes.html)  \n",
    "\n",
    "**Linear Regressions** – Understand the fundamentals of regression analysis and predictive modeling. [Notes](./datascience/linear_regressions.html)  \n",
    "\n",
    "**Machine Learning** – Get started with ML concepts and applications. [Notes](./datascience/ml.html)  \n",
    "\n",
    "**Data Processing** – Learn how to clean, prepare, and process data. [Notes](./datascience/process.html)  \n",
    "\n",
    "**Python EDA** – Python tools for data exploration and visualization. [Notes](./datascience/python_eda.html)  \n",
    "\n",
    "**Spatial Analysis** – Understand the complexities of spatial data and its analysis. [Notes](./datascience/spatial.html)  \n",
    "\n",
    "**Stationarity** – Learn about stationarity in time‑series data and its implications. [Notes](./datascience/stationarity.html)  \n",
    "\n",
    "**Visualization** – Discover techniques to visualize and interpret data effectively. [Notes](./datascience/viz_notes_examples.html)  \n"
   ]
  },
  {
   "attachments": {},
   "cell_type": "markdown",
   "metadata": {},
   "source": [
    "</details>"
   ]
  }
 ],
 "metadata": {
  "kernelspec": {
   "display_name": "Python 3.10.2 64-bit",
   "language": "python",
   "name": "python3"
  },
  "language_info": {
   "codemirror_mode": {
    "name": "ipython",
    "version": 3
   },
   "file_extension": ".py",
   "mimetype": "text/x-python",
   "name": "python",
   "nbconvert_exporter": "python",
   "pygments_lexer": "ipython3",
   "version": "3.10.2"
  },
  "orig_nbformat": 4,
  "vscode": {
   "interpreter": {
    "hash": "046b844cfe77f56867adc884800e389906328c66f60829dd4497d230d7e2d321"
   }
  }
 },
 "nbformat": 4,
 "nbformat_minor": 2
}
