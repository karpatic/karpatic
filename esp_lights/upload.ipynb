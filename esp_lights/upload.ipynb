{
 "cells": [
  {
   "attachments": {},
   "cell_type": "markdown",
   "metadata": {},
   "source": [
    "# Setup Localhost on Colabs"
   ]
  },
  {
   "attachments": {},
   "cell_type": "markdown",
   "metadata": {},
   "source": [
    "Run this in the local terminal:\n",
    "\n",
    "**<code>\n",
    "jupyter notebook \\ \\\n",
    "  --NotebookApp.allow_origin='https://colab.research.google.com' \\ \\\n",
    "  --port=8888 \\ \\\n",
    "  --NotebookApp.port_retries=0 \\ \\\n",
    "</code>**\n",
    "\n",
    "'Then hit the CONNECT dropdown on the top right of this screen to Connect to the Localhost "
   ]
  },
  {
   "attachments": {},
   "cell_type": "markdown",
   "metadata": {},
   "source": [
    "Setting Path at Unix/Linux\n",
    "To add the Python directory to the path for a particular session in Unix −\n",
    "\n",
    "In the csh shell − type setenv PATH \"$PATH:/usr/local/bin/python3\" and press Enter.\n",
    "\n",
    "In the bash shell (Linux) − type export PYTHONPATH=/usr/local/bin/python3.4 and press Enter.\n",
    "\n",
    "In the sh or ksh shell − type PATH = \"$PATH:/usr/local/bin/python3\" and press Enter.\n",
    "\n",
    "Note − /usr/local/bin/python3 is the path of the Python directory."
   ]
  },
  {
   "cell_type": "code",
   "execution_count": 1,
   "metadata": {},
   "outputs": [],
   "source": [
    "import subprocess\n",
    "from IPython.display import display, clear_output\n",
    "import os\n",
    "\n",
    "def upload_code(code): \n",
    "    # Save the code to a file \n",
    "    with open('src/main.cpp', 'w') as f:\n",
    "        f.write(code) \n",
    "\n",
    "    # Compile the code\n",
    "    cmd = 'C:\\\\Users\\\\carlos\\\\.platformio\\\\penv\\\\Scripts\\\\platformio.exe run --target upload -v'\n",
    "    process = subprocess.Popen(cmd, shell=True, stdout=subprocess.PIPE, stderr=subprocess.PIPE)\n",
    "    show = False\n",
    "\n",
    "    # Wait for the words \"Serial port\" to appear in the output\n",
    "    while True:\n",
    "        output = process.stdout.readline().decode()\n",
    "        if output == '' and process.poll() is not None:\n",
    "            break\n",
    "        if 'Serial port' in output:\n",
    "            show = True \n",
    "        if show:\n",
    "            display(output.strip())\n",
    "\n",
    "    # Get the output and errors after the process has completed\n",
    "    output, error = process.communicate()\n",
    "    # print(output.decode())\n",
    "    # print(error.decode())\n",
    "\n",
    "    # Clear the output once the process has completed\n",
    "    clear_output()\n",
    "\n",
    "def read_and_upload_code(file_path): \n",
    "    with open(file_path, 'r') as f:\n",
    "        code = f.read() \n",
    "        upload_code(code)\n",
    "\n",
    "directory = os.path.join(os.getcwd(), 'samples')\n",
    "files = os.listdir(directory)\n",
    "for file in files:\n",
    "    ''\n",
    "    # print(file)"
   ]
  },
  {
   "cell_type": "code",
   "execution_count": 4,
   "metadata": {},
   "outputs": [],
   "source": [
    "# file = 'a_FastLedFTT.cpp'\n",
    "file = 'analogSoundSampleSketch.cpp'\n",
    "# file = 'gpt4_v4.cpp'"
   ]
  },
  {
   "cell_type": "code",
   "execution_count": 5,
   "metadata": {},
   "outputs": [],
   "source": [
    "read_and_upload_code(directory+'/'+file)"
   ]
  },
  {
   "attachments": {},
   "cell_type": "markdown",
   "metadata": {},
   "source": [
    "This is a simple example to read the serial output"
   ]
  },
  {
   "cell_type": "code",
   "execution_count": 6,
   "metadata": {},
   "outputs": [
    {
     "ename": "UnicodeDecodeError",
     "evalue": "'utf-8' codec can't decode byte 0x80 in position 3: invalid start byte",
     "output_type": "error",
     "traceback": [
      "\u001b[1;31m---------------------------------------------------------------------------\u001b[0m",
      "\u001b[1;31mUnicodeDecodeError\u001b[0m                        Traceback (most recent call last)",
      "\u001b[1;32mc:\\Users\\carlos\\Documents\\GitHub\\karpatic\\esp_lights\\upload.ipynb Cell 8\u001b[0m in \u001b[0;36m<module>\u001b[1;34m\u001b[0m\n\u001b[0;32m     <a href='vscode-notebook-cell:/c%3A/Users/carlos/Documents/GitHub/karpatic/esp_lights/upload.ipynb#X10sZmlsZQ%3D%3D?line=10'>11</a>\u001b[0m     \u001b[39mwhile\u001b[39;00m \u001b[39mTrue\u001b[39;00m:\n\u001b[0;32m     <a href='vscode-notebook-cell:/c%3A/Users/carlos/Documents/GitHub/karpatic/esp_lights/upload.ipynb#X10sZmlsZQ%3D%3D?line=11'>12</a>\u001b[0m         inpt \u001b[39m=\u001b[39m ser\u001b[39m.\u001b[39mreadline()\n\u001b[1;32m---> <a href='vscode-notebook-cell:/c%3A/Users/carlos/Documents/GitHub/karpatic/esp_lights/upload.ipynb#X10sZmlsZQ%3D%3D?line=12'>13</a>\u001b[0m         \u001b[39mprint\u001b[39m(inpt\u001b[39m.\u001b[39;49mdecode(\u001b[39m'\u001b[39;49m\u001b[39mutf-8\u001b[39;49m\u001b[39m'\u001b[39;49m)\u001b[39m.\u001b[39mstrip())\n\u001b[0;32m     <a href='vscode-notebook-cell:/c%3A/Users/carlos/Documents/GitHub/karpatic/esp_lights/upload.ipynb#X10sZmlsZQ%3D%3D?line=13'>14</a>\u001b[0m \u001b[39mexcept\u001b[39;00m \u001b[39mKeyboardInterrupt\u001b[39;00m:\n\u001b[0;32m     <a href='vscode-notebook-cell:/c%3A/Users/carlos/Documents/GitHub/karpatic/esp_lights/upload.ipynb#X10sZmlsZQ%3D%3D?line=14'>15</a>\u001b[0m     \u001b[39mprint\u001b[39m(\u001b[39m\"\u001b[39m\u001b[39mKeyboard Interrupt. Exiting...\u001b[39m\u001b[39m\"\u001b[39m)\n",
      "\u001b[1;31mUnicodeDecodeError\u001b[0m: 'utf-8' codec can't decode byte 0x80 in position 3: invalid start byte"
     ]
    }
   ],
   "source": [
    "import serial\n",
    "from IPython.display import clear_output\n",
    "\n",
    "ser = serial.Serial()\n",
    "ser.baudrate = 9600\n",
    "ser.port = 'COM8'\n",
    "ser.open()\n",
    "ser.flushInput()\n",
    "\n",
    "try:\n",
    "    while True:\n",
    "        inpt = ser.readline()\n",
    "        print(inpt.decode('utf-8').strip())\n",
    "except KeyboardInterrupt:\n",
    "    print(\"Keyboard Interrupt. Exiting...\")\n",
    "finally: \n",
    "    clear_output()"
   ]
  },
  {
   "attachments": {},
   "cell_type": "markdown",
   "metadata": {},
   "source": [
    "this is a more complex example"
   ]
  },
  {
   "cell_type": "code",
   "execution_count": 7,
   "metadata": {},
   "outputs": [
    {
     "ename": "UnicodeDecodeError",
     "evalue": "'utf-8' codec can't decode byte 0x81 in position 8: invalid start byte",
     "output_type": "error",
     "traceback": [
      "\u001b[1;31m---------------------------------------------------------------------------\u001b[0m",
      "\u001b[1;31mUnicodeDecodeError\u001b[0m                        Traceback (most recent call last)",
      "\u001b[1;32mc:\\Users\\carlos\\Documents\\GitHub\\karpatic\\esp_lights\\upload.ipynb Cell 10\u001b[0m in \u001b[0;36m<module>\u001b[1;34m\u001b[0m\n\u001b[0;32m     <a href='vscode-notebook-cell:/c%3A/Users/carlos/Documents/GitHub/karpatic/esp_lights/upload.ipynb#X12sZmlsZQ%3D%3D?line=23'>24</a>\u001b[0m \u001b[39mtry\u001b[39;00m:\n\u001b[0;32m     <a href='vscode-notebook-cell:/c%3A/Users/carlos/Documents/GitHub/karpatic/esp_lights/upload.ipynb#X12sZmlsZQ%3D%3D?line=24'>25</a>\u001b[0m     \u001b[39mwhile\u001b[39;00m \u001b[39mTrue\u001b[39;00m:\n\u001b[0;32m     <a href='vscode-notebook-cell:/c%3A/Users/carlos/Documents/GitHub/karpatic/esp_lights/upload.ipynb#X12sZmlsZQ%3D%3D?line=25'>26</a>\u001b[0m         \u001b[39m# Read a line of data from the serial port\u001b[39;00m\n\u001b[1;32m---> <a href='vscode-notebook-cell:/c%3A/Users/carlos/Documents/GitHub/karpatic/esp_lights/upload.ipynb#X12sZmlsZQ%3D%3D?line=26'>27</a>\u001b[0m         inpt \u001b[39m=\u001b[39m ser\u001b[39m.\u001b[39;49mreadline()\u001b[39m.\u001b[39;49mdecode(\u001b[39m'\u001b[39;49m\u001b[39mutf-8\u001b[39;49m\u001b[39m'\u001b[39;49m)\u001b[39m.\u001b[39mstrip()\n\u001b[0;32m     <a href='vscode-notebook-cell:/c%3A/Users/carlos/Documents/GitHub/karpatic/esp_lights/upload.ipynb#X12sZmlsZQ%3D%3D?line=28'>29</a>\u001b[0m         \u001b[39m# Parse the data and append it to the list\u001b[39;00m\n\u001b[0;32m     <a href='vscode-notebook-cell:/c%3A/Users/carlos/Documents/GitHub/karpatic/esp_lights/upload.ipynb#X12sZmlsZQ%3D%3D?line=29'>30</a>\u001b[0m         \u001b[39mtry\u001b[39;00m:\n",
      "\u001b[1;31mUnicodeDecodeError\u001b[0m: 'utf-8' codec can't decode byte 0x81 in position 8: invalid start byte"
     ]
    },
    {
     "data": {
      "image/png": "[encoded data removed]",
      "text/plain": [
       "<Figure size 432x288 with 1 Axes>"
      ]
     },
     "metadata": {
      "needs_background": "light"
     },
     "output_type": "display_data"
    }
   ],
   "source": [
    "import serial\n",
    "from IPython.display import clear_output, display\n",
    "import matplotlib.pyplot as plt\n",
    "import csv\n",
    "import time\n",
    "\n",
    "ser = serial.Serial()\n",
    "ser.baudrate = 9600\n",
    "ser.port = 'COM8'\n",
    "ser.open()\n",
    "ser.flushInput()\n",
    "\n",
    "# Create an empty list to store the data\n",
    "data = [0] * 100\n",
    "\n",
    "# Create the plot\n",
    "plt.ion() # Turn on interactive mode\n",
    "fig, ax = plt.subplots()\n",
    "line, = ax.plot(data)\n",
    "ax.set_title(\"Random Data\")\n",
    "ax.set_xlabel(\"Data Point\")\n",
    "ax.set_ylabel(\"Value\")\n",
    "\n",
    "try:\n",
    "    while True:\n",
    "        # Read a line of data from the serial port\n",
    "        inpt = ser.readline().decode('utf-8').strip()\n",
    "\n",
    "        # Parse the data and append it to the list\n",
    "        try:\n",
    "            value = int(inpt)\n",
    "            data.pop(0)  # Remove the first value from the list\n",
    "            data.append(value)  # Append the new value to the end of the list\n",
    "        except IndexError:\n",
    "            pass\n",
    "\n",
    "        # Update the plot\n",
    "        line.set_ydata(data)\n",
    "        ax.relim()\n",
    "        ax.autoscale_view()\n",
    "        fig.canvas.draw()\n",
    "        fig.canvas.flush_events()\n",
    "\n",
    "        # Display the plot\n",
    "        clear_output(wait=True)\n",
    "        display(fig)\n",
    "\n",
    "        # save the output \n",
    "        with open(\"test_data.csv\",\"a\", newline=\"\") as f:\n",
    "            writer = csv.writer(f,delimiter=\",\")\n",
    "            writer.writerow([time.time(),value])\n",
    "\n",
    "except KeyboardInterrupt:\n",
    "    print(\"Keyboard Interrupt. Exiting...\")\n",
    "finally:\n",
    "    ser.close()\n",
    "    clear_output()\n"
   ]
  },
  {
   "attachments": {},
   "cell_type": "markdown",
   "metadata": {},
   "source": [
    "https://github.com/atuline/WLED/wiki\n",
    "\n",
    "- Several volume reactive effects.\n",
    "- Several FFT (frequency) reactive effects.\n",
    "- Some new non-reactive 1D effects.\n",
    "\n",
    "https://github.com/atuline/WLED/wiki/Analog-Audio-Input-Options\n",
    "\n",
    "- Adafruit - $6.95 - Electret Microphone Amp - [MAX4466](https://www.adafruit.com/product/1063) with Adjustable Gain\n",
    "- Digikey - $7.95 - Electret Microphone Amp Audio Evaluation Board - [MAX9814](https://www.digikey.com/en/products/detail/adafruit-industries-llc/1713/4990777?s=N4IgjCBcoLQBxVAYygMwIYBsDOBTANCAPZQDa4ArAEwIC6AvvYVWeAOxgDMIDQA)\n",
    "- SparkFun - $6.95 - MEMS Microphone Breakout - [ICS-40180](https://www.sparkfun.com/products/18011)\n",
    "- AliExpress - $1.61 - I2S MEMS Microphone - [ INMP441](https://www.aliexpress.com/i/2251832776111658.html?gatewayAdapt=4itemAdapt)"
   ]
  },
  {
   "attachments": {},
   "cell_type": "markdown",
   "metadata": {},
   "source": [
    "background noise filtering (or squelch)"
   ]
  },
  {
   "attachments": {},
   "cell_type": "markdown",
   "metadata": {},
   "source": [
    "Tge ESP32 uses a 12 bit ADC"
   ]
  },
  {
   "attachments": {},
   "cell_type": "markdown",
   "metadata": {},
   "source": [
    "https://github.com/atuline/WLED/wiki/Reactive-Animations\n",
    "\n",
    "https://github.com/atuline/WLED/wiki/My--device--is-not-working\n",
    "\n",
    "- Are you compiling from IDE? We are no longer supporting the Arduino IDE.\n",
    "- Leave the MAX4466 gain untouched. It works fine out of the box.\n",
    "- https://github.com/atuline/WLED/wiki/Analog-Sound-Sampling-Sketch-Example \n",
    "- https://github.com/atuline/WLED/wiki/Digital-Sound-Sampling-Sketch-Example\n",
    "- - What are the results of that sketch? Does it respond to your speech? A MAX4466 and INMP401 should average about 1875 on an ESP32, a MAX9814 about 1350 for all gain settings.\n",
    "- SR WLED had to change from the default 'partition size' because we outgrew the default 1MB. As a result, you need to perform a 'Factory reset' after flashing it.\n",
    "- You may need to re-flash/clear the device completely especially after a major update.\n",
    "\n",
    "https://github.com/atuline/WLED/wiki/Installing-and-Compiling\n",
    "\n",
    "Compiling from Platform IO\n",
    "\n",
    "- ⇛ first read https://kno.wled.ge/advanced/compiling-wled/\n",
    "- → use source code from https://github.com/atuline/WLED/tree/master\n",
    "- → start with one of the sound reactive compile environments, like env:soundReactive_esp32dev\n",
    "- → read wled00/wled.h, add your own settings to wled00/my_config.h\n",
    "- → put your own compile environment(s) into platformio_override.ini.\n",
    "\n",
    "SoundReactive has some additional compile time options - see wled00/audio_reactive.h and wled00/audio_source.h.\n",
    "\n",
    "https://github.com/atuline/WLED/wiki/UDP-Sound-Sync\n",
    "\n",
    "UDP Sound Sync does not sync the actual animations, but rather transmits summary audio sampling information to several devices that still run their own animations locally. In a nutshell, it means that several devices can share a single microphone.\n",
    "\n",
    "https://github.com/atuline/WLED/wiki/First-Time-Setup\n",
    "\n",
    "Analog or I2S Digital?\n",
    "\n",
    "- We recommend using an I2S digital microphone with ESP32 boards - like INMP441, ICS-43434, or PDM microphones.\n",
    "- Analog input (Microphone or Line-in) is also possible, however you might have power fluctuation (3.3V) and noise issues when using these. **Analog devices are handled by the \"ADC1\" unit of your ESP32. Problems can be expected when connecting \"analog buttons\" (Potentiometer) to the same ADC1 unit.**\n",
    "- Finally **Analog Microphones often work best when placed very close to the sound source, while digital ones like the INMP441 can easily pick up sound from several meters apart**. With the analog MAX4466, we found that 30-50cm is an optimal distance.\n",
    "\n",
    "While providing a lot of functionality, the ESP8266 and the ESP32 boards (typical ones) we have been using, have experienced a lot of spurious noise on their ADC pins\n",
    "\n",
    "- On ESP32, use an I2S microphone, such as the INMP441, SPH0645 or ICS-43434.\n",
    "- Isolate the power between the LED strips and the controller.\n",
    "- Don't power your LED stripe from the ESP32 3.3v or 5v pins.\n",
    "- Don't use USB power from your PC.\n",
    "- Some batches of analog microphones are just no good.\n",
    "\n"
   ]
  },
  {
   "attachments": {},
   "cell_type": "markdown",
   "metadata": {},
   "source": []
  },
  {
   "cell_type": "code",
   "execution_count": null,
   "metadata": {},
   "outputs": [],
   "source": [
    "https://install.wled.me/"
   ]
  },
  {
   "attachments": {},
   "cell_type": "markdown",
   "metadata": {},
   "source": [
    "https://github.com/Aircoookie/WLED/blob/d1fed11d0d0e93b727d8156e9523f3d1a47ce05f/usermods/audioreactive/audio_reactive.h#L95\n",
    "\n",
    "https://github.com/Aircoookie/WLED/blob/d1fed11d0d0e93b727d8156e9523f3d1a47ce05f/wled00/data/index.js#L781\n",
    "\n",
    "https://github.com/Aircoookie/WLED/blob/d1fed11d0d0e93b727d8156e9523f3d1a47ce05f/.envrc\n",
    "\n",
    "https://github.com/atuline/WLED\n",
    "\n",
    "https://github.com/atuline/WLED/wiki/My--device--is-not-working\n",
    "\n",
    "https://github.com/atuline/WLED/wiki/Analog-Sound-Sampling-Sketch-Example\n",
    "\n",
    "https://github.com/search?q=repo%3AAircoookie%2FWLED%20audio&type=code\n",
    "\n",
    "https://www.youtube.com/watch?v=KplepH9BT9w&t=68s\n",
    "\n",
    "https://install.wled.me/\n",
    "\n"
   ]
  }
 ],
 "metadata": {
  "kernelspec": {
   "display_name": "Python 3",
   "language": "python",
   "name": "python3"
  },
  "language_info": {
   "codemirror_mode": {
    "name": "ipython",
    "version": 3
   },
   "file_extension": ".py",
   "mimetype": "text/x-python",
   "name": "python",
   "nbconvert_exporter": "python",
   "pygments_lexer": "ipython3",
   "version": "3.10.2"
  },
  "orig_nbformat": 4
 },
 "nbformat": 4,
 "nbformat_minor": 2
}
