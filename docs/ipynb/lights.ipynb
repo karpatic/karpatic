{
 "cells": [
  {
   "attachments": {},
   "cell_type": "markdown",
   "metadata": {},
   "source": [
    "# Lights\n",
    "> Connect and control LED's with this tool.\n",
    "\n",
    "- keywords: ['3D','3D Printing', 'Crypto', 'metaverse', 'navigation']"
   ]
  },
  {
   "cell_type": "markdown",
   "metadata": {},
   "source": [
    "<img src='/images/covers/lights1.webp'>"
   ]
  },
  {
   "attachments": {},
   "cell_type": "markdown",
   "metadata": {},
   "source": [
    "<details open class=\"details\">\n",
    "<summary>"
   ]
  },
  {
   "attachments": {},
   "cell_type": "markdown",
   "metadata": {},
   "source": [
    "## Intro\n",
    "</summary>"
   ]
  },
  {
   "attachments": {},
   "cell_type": "markdown",
   "metadata": {},
   "source": [
    "This section is dedicated to a work in [progress](./lights/aboutlights.html)!"
   ]
  },
  {
   "cell_type": "markdown",
   "metadata": {},
   "source": [
    "</details>\n",
    "<details open class=\"details\">\n",
    "<summary>"
   ]
  },
  {
   "cell_type": "markdown",
   "metadata": {},
   "source": [
    "## Section Links\n",
    "</summary>"
   ]
  },
  {
   "cell_type": "markdown",
   "metadata": {},
   "source": [
    "- [About](./lights/aboutlights.html) - \"The Big Picture\"\n",
    "- [Wled](./lights/wled.html) - Reference Notes for installing WLED's firmware\n",
    "- [Upload](./lights/upload.html) - Using A serial terminal within an IPYNB to flash firmware and log/plot outputs \n",
    "- [Misc Notes](./lights/esp_notes.html) - All the nitty gritty details"
   ]
  },
  {
   "attachments": {},
   "cell_type": "markdown",
   "metadata": {},
   "source": [
    "</details>\n",
    "<details open>\n",
    "<summary>"
   ]
  },
  {
   "attachments": {},
   "cell_type": "markdown",
   "metadata": {},
   "source": [
    "## Dashboard"
   ]
  },
  {
   "attachments": {},
   "cell_type": "markdown",
   "metadata": {},
   "source": [
    "</summary>"
   ]
  },
  {
   "cell_type": "markdown",
   "metadata": {},
   "source": [
    "If you have a node, get to your dashboard by connecting with your device here:"
   ]
  },
  {
   "attachments": {},
   "cell_type": "markdown",
   "metadata": {},
   "source": [
    "<script>\n",
    "    console.log('heckya');\n",
    "    // current solution of conditionally loading article-dependent scripts from main.js is bloaty\n",
    "    // having ipynb import/execute scripts is cleaner but mean's scripts aren't webpacked unless done elsewhere. \n",
    "</script>"
   ]
  },
  {
   "cell_type": "markdown",
   "metadata": {},
   "source": [
    "<button id=\"btConnect\" onclick=\"window.ble()\">BT Connect</button>\n",
    "<script> window.w=window</script>\n",
    "<div id=\"btDash\" style='display:none'> \n",
    "  <style> input { width: 100px; clip: auto; } </style>\n",
    "  <div>\n",
    "    <div> Color One: <input type=\"color\" id=\"colorOne\" value=\"#ff00cb\" /> </div>\n",
    "    <div> Color Two: <input type=\"color\" id=\"colorTwo\" value=\"#00ffcb\" /> </div>\n",
    "    <div> Color Three: <input type=\"color\" id=\"colorThree\" value=\"#cb00ff\" /> </div>\n",
    "    <div> Animation Delay: <input type=\"number\" min=\"0\" step=\"5\" id=\"animationDelay\" value=\"100\"> </div>\n",
    "    <div> Brightness: <input type=\"number\" step=\"5\" min=\"0\" max=\"256\" id=\"brightness\" value=\"100\"/> </div>\n",
    "  </div>\n",
    "  <div style=\"display: flex; flex-direction: row; height: 65px;\"> \n",
    "    <!-- brightness, lightmode, colorone, colortwo, colorthree, animationdelay -->\n",
    "    <button onclick=\"w.myData.lightmode = 'setColor'; w.bleWrite()\"> Set Color </button>\n",
    "    <button onclick=\"w.myData.lightmode = 'swipe'; w.bleWrite()\"> Color Swipe </button>\n",
    "    <button onclick=\"w.myData.lightmode = 'theaterChase'; w.bleWrite()\"> Theater Chase </button>\n",
    "    <button onclick=\"w.myData.lightmode = 'rainbow'; w.bleWrite()\"> Rainbow </button>\n",
    "    <button onclick=\"w.myData.lightmode = 'theaterChaseRainbow'; w.bleWrite()\"> Theater Chase Rainbow </button>\n",
    "    <button onclick=\"w.myData.lightmode = 'multiColorSizzle'; w.bleWrite()\"> Multi-Color Sizzle </button>\n",
    "    <button onclick=\"w.myData.lightmode = 'multiColorWipe'; w.bleWrite()\"> Multi-Color Wipe </button>\n",
    "    <button onclick=\"w.myData.lightmode = 'multiTheaterSizzle'; w.bleWrite()\"> Multi-Theater Sizzle </button>\n",
    "    <button onclick=\"w.myData.lightmode = 'multiTheaterWipe'; w.bleWrite()\"> Multi-Theater Wipe </button>\n",
    "    <button onclick=\"w.myData.colorone = w.getRandomColor(); w.bleWrite()\">  RANDOM </button>\n",
    "  </div>\n",
    "</div>"
   ]
  },
  {
   "cell_type": "code",
   "execution_count": 17,
   "metadata": {},
   "outputs": [
    {
     "data": {
      "text/html": [
       "<script type=\"module\">\n",
       "  console.log('Starting'); \n",
       "  async function loadScript() {  \n",
       "    let isDev = window.location.origin.includes('localhost'); \n",
       "    try { const module = await import('/ipynb/lights/lights.js');\n",
       "    } catch (error) { console.error('Failed to load script from', filename); }\n",
       "    window.lights = document.getElementById('lights');\n",
       "    console.log('window', window); \n",
       "  } \n",
       "  loadScript();\n",
       "</script>\n"
      ],
      "text/plain": [
       "<IPython.core.display.HTML object>"
      ]
     },
     "metadata": {},
     "output_type": "display_data"
    }
   ],
   "source": [
    "%%html\n",
    "<script type=\"module\">\n",
    "  console.log('Starting'); \n",
    "  async function loadScript() {  \n",
    "    let isDev = window.location.origin.includes('localhost'); \n",
    "    try { const module = await import('/ipynb/lights/lights.js');\n",
    "    } catch (error) { console.error('Failed to load script from', filename); }\n",
    "    window.lights = document.getElementById('lights');\n",
    "    console.log('window', window); \n",
    "  } \n",
    "  loadScript();\n",
    "</script>"
   ]
  },
  {
   "attachments": {},
   "cell_type": "markdown",
   "metadata": {},
   "source": [
    "</details>"
   ]
  }
 ],
 "metadata": {
  "kernelspec": {
   "display_name": "Python 3",
   "language": "python",
   "name": "python3"
  },
  "language_info": {
   "codemirror_mode": {
    "name": "ipython",
    "version": 3
   },
   "file_extension": ".py",
   "mimetype": "text/x-python",
   "name": "python",
   "nbconvert_exporter": "python",
   "pygments_lexer": "ipython3",
   "version": "3.11.6"
  },
  "orig_nbformat": 4,
  "vscode": {
   "interpreter": {
    "hash": "046b844cfe77f56867adc884800e389906328c66f60829dd4497d230d7e2d321"
   }
  }
 },
 "nbformat": 4,
 "nbformat_minor": 2
}
