{
 "cells": [
  {
   "attachments": {},
   "cell_type": "markdown",
   "metadata": {},
   "source": [
    "# Lights\n",
    "> Connect and control you LED's with this tool.\n",
    "\n",
    "- keywords: ['3D','3D Printing', 'Crypto', 'metaverse', 'navigation']"
   ]
  },
  {
   "attachments": {},
   "cell_type": "markdown",
   "metadata": {},
   "source": [
    "<details open class=\"details\">\n",
    "<summary>"
   ]
  },
  {
   "attachments": {},
   "cell_type": "markdown",
   "metadata": {},
   "source": [
    "## Intro"
   ]
  },
  {
   "attachments": {},
   "cell_type": "markdown",
   "metadata": {},
   "source": [
    "</summary>"
   ]
  },
  {
   "attachments": {},
   "cell_type": "markdown",
   "metadata": {},
   "source": [
    "https://www.google.com/search?q=INMP441&oq=INMP441&aqs=chrome..69i57.880j0j7&client=ms-android-samsung-rvo1&sourceid=chrome-mobile&ie=UTF-8#scso=_QdQQZMmTLIuq5NoP2YOImAs_27:0\\n\n",
    "\n",
    "This page is a wokr in [progress](./lights/aboutlights.html)!\n",
    "\n",
    "Not gonna explain what it is. You'll just have to figure that part out.\n",
    "\n",
    "I'll need some feedback too once this is all over. ktx"
   ]
  },
  {
   "attachments": {},
   "cell_type": "markdown",
   "metadata": {},
   "source": [
    "</details>"
   ]
  },
  {
   "attachments": {},
   "cell_type": "markdown",
   "metadata": {},
   "source": [
    "<details open>\n",
    "<summary>"
   ]
  },
  {
   "attachments": {},
   "cell_type": "markdown",
   "metadata": {},
   "source": [
    "## Dashboard"
   ]
  },
  {
   "attachments": {},
   "cell_type": "markdown",
   "metadata": {},
   "source": [
    "</summary>"
   ]
  },
  {
   "attachments": {},
   "cell_type": "markdown",
   "metadata": {},
   "source": [
    "<script>\n",
    "    console.log('heckya');\n",
    "    // current solution of conditionally loading article-dependent scripts from main.js is bloaty\n",
    "    // having ipynb import/execute scripts is cleaner but mean's scripts aren't webpacked unless done elsewhere. \n",
    "</script>"
   ]
  },
  {
   "attachments": {},
   "cell_type": "markdown",
   "metadata": {},
   "source": [
    "<div id='lights'></div>\n",
    "<!-- index.html -->\n",
    "<!-- script type=\"module\" src=\"js/lights.js\"></script -->\n",
    "<script type=\"module\">\n",
    "  import { getContent } from './js/lights.js';\n",
    "  console.log(getContent)\n",
    "  console.log('whooo')\n",
    "  console.log(window.lights)\n",
    "  window.lights.innerHTML = getContent()\n",
    "</script>"
   ]
  },
  {
   "attachments": {},
   "cell_type": "markdown",
   "metadata": {},
   "source": [
    "</details>"
   ]
  }
 ],
 "metadata": {
  "kernelspec": {
   "display_name": "Python 3",
   "language": "python",
   "name": "python3"
  },
  "language_info": {
   "name": "python",
   "version": "3.10.2"
  },
  "orig_nbformat": 4,
  "vscode": {
   "interpreter": {
    "hash": "046b844cfe77f56867adc884800e389906328c66f60829dd4497d230d7e2d321"
   }
  }
 },
 "nbformat": 4,
 "nbformat_minor": 2
}
