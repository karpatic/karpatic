{
 "cells": [
  {
   "attachments": {},
   "cell_type": "markdown",
   "metadata": {},
   "source": [
    "# About My Site\n",
    "> Why and how I made my site.\n",
    "\n",
    "- keywords: ['3D','3D Printing', 'Crypto', 'metaverse', 'navigation']"
   ]
  },
  {
   "attachments": {},
   "cell_type": "markdown",
   "metadata": {},
   "source": [
    "</details>\n",
    "<details open class=\"details\">\n",
    "<summary>"
   ]
  },
  {
   "attachments": {},
   "cell_type": "markdown",
   "metadata": {},
   "source": [
    "## What's in a Site?"
   ]
  },
  {
   "attachments": {},
   "cell_type": "markdown",
   "metadata": {},
   "source": [
    "</summary>"
   ]
  },
  {
   "attachments": {},
   "cell_type": "markdown",
   "metadata": {},
   "source": [
    "As a software developer, building your own site can be daunting. A homepage is often the first impression people have of you and your work. So what is the right message to send and how does you convey it? Should the quality of design match your job title?\n",
    "\n",
    "An ugly website? What will people think?\n",
    "\n",
    "Styling a site is not hard either... That's not REALLY the problem.. No. Not with modern component libraries, at any rate. I find that the messaging problem REALLY begins when someone looks at your code.\n",
    "\n",
    "A cookie cutters website filled with bloat (((As of 2023, the average website sits at 2200kbs in size)))? What *should* people think?\n",
    "\n",
    "I wracked by brain to be original.  \n",
    "\n",
    "In the end I created an understated but packed website. Something incredibly light, sophisticated and simple. You're looking at it!\n",
    "\n",
    "Apart from appearances, what does this look like?\n",
    "\n",
    "[Read on](./sitestats) "
   ]
  },
  {
   "cell_type": "markdown",
   "metadata": {},
   "source": [
    "</details>"
   ]
  }
 ],
 "metadata": {
  "language_info": {
   "name": "python"
  },
  "orig_nbformat": 4
 },
 "nbformat": 4,
 "nbformat_minor": 2
}
