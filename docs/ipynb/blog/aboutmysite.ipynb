{
 "cells": [
  {
   "attachments": {},
   "cell_type": "markdown",
   "metadata": {},
   "source": [
    "# About My Site\n",
    "> Why and how I made my site.\n",
    "\n",
    "- keywords: ['3D','3D Printing', 'Crypto', 'metaverse', 'navigation']\n",
    "- tab: My Site\n",
    "- template: template_article\n",
    "- hide_sitemap: true"
   ]
  },
  {
   "attachments": {},
   "cell_type": "markdown",
   "metadata": {},
   "source": [
    "</details>\n",
    "<details open class=\"details\">\n",
    "<summary>"
   ]
  },
  {
   "attachments": {},
   "cell_type": "markdown",
   "metadata": {},
   "source": [
    "## What's in a Site?"
   ]
  },
  {
   "attachments": {},
   "cell_type": "markdown",
   "metadata": {},
   "source": [
    "</summary>"
   ]
  },
  {
   "attachments": {},
   "cell_type": "markdown",
   "metadata": {},
   "source": [
    "As a software developer, building your own site can be daunting. A homepage is often the first impression people have of you and your work. So what is the right message to send and how does you convey it? Should the design match your \n",
    "\n",
    "Certainly a pythonista  visually appealing front-end is a good start. \n",
    "\n",
    "Below you will find a list of \n",
    "\n",
    "uninspired and filled with bloat ((( As of 2023, the average website sits at 2200kbs in size)))\n",
    "\n",
    "Well not me!\n",
    "\n",
    "To counter that, I took a page from [The Best Website](https://thebestmotherfucking.website/) and made it even better. \n",
    "\n",
    "In the end I created an understated but packed website. Something sophisticated yet simple; And you're looking at it!\n",
    "\n",
    "So apart from appearances, what does that look like?"
   ]
  },
  {
   "attachments": {},
   "cell_type": "markdown",
   "metadata": {},
   "source": [
    "</details>\n",
    "<details open>\n",
    "<summary>"
   ]
  },
  {
   "attachments": {},
   "cell_type": "markdown",
   "metadata": {},
   "source": [
    "## Under the Hood"
   ]
  },
  {
   "attachments": {},
   "cell_type": "markdown",
   "metadata": {},
   "source": [
    "</summary>"
   ]
  },
  {
   "attachments": {},
   "cell_type": "markdown",
   "metadata": {},
   "source": [
    "- Everything here was hand-written for optimal performance ((( This page is 99.99848% the size of googles homepage and loads 3.5 times faster - .2 seconds )))\n",
    "- Pages were built for speed. Delivered in [under 15kbs](https://endtimes.dev/why-your-website-should-be-under-14kb-in-size/), as a single html file, on a single line. Html renders first, then css, and then js. ((( Near all JS [frameworks](https://krausest.github.io/js-framework-benchmark/current.html) are over 15kb compressed. That's before even using it! )))\n",
    "\n",
    "Sounds good? We are just getting started.\n",
    "\n",
    "- It's a mobile-first JAMSTACK that supports multiple nested SPA's with each their own fallbacks, manifests, and service workers. \n",
    "- It also boasts a perfect [lighthouse](https://pagespeed.web.dev/) score (((Lighthouse wont check my PWA because the manifest and service worker are only loaded once a user navigates from the page)))\n",
    "\n",
    "But that's not even the half of it:\n",
    "\n",
    "- The design is understated and soft. It has 15+ GPU accelerated animations and plenty of effects that all run at a cool, non-interrupting, 60fps.\n",
    "- By default, pages are enhanced by, but not dependent on, JS. \n",
    "- It also uses semantic html and was built with accessibility in mind.\n",
    "- Webpack compresses every single assets during the build step and\n",
    "- Each page gets prerendered and the loading script gets teased apart for optimal lazy loading or removal entirely(((Typical rehydration strategies have got nothing on my loading strategy.))) \n",
    "\n",
    "Very considerate, I know. But wait! There's more!\n",
    "\n",
    "- Relevant pages are SEO enriched using JSON-LD and are listed in the sitemap.txt file.\n",
    "- I'm using all the good meta tags. You know the ones ;)\n",
    "\n",
    "And here's the best part :D\n",
    "\n",
    "- Content is pulled and converted, from IPYNB's to HTML using a mix of markdown and special syntax's. (((Inspired by [NbDev](https://nbdev.fast.ai/), these footnotes are an example of special ipynb markup)))\n",
    "- On a per-page basis, IPYNB frontmatter (YAML) is used for setting the template, meta-tags, progress bars, sitemaps, table of contents, and more.\n",
    "- The use of IPYNB's also means I can publish exploratory analysis's effortlessly. Special tooling (((There are lots of python libraries that spit out or export javascript. To name a few: Plotly, ObservableHQ, [dataplay](https://github.com/BNIA/dataplay) (A mapping library I made using leaflet), and more! )))means the output can even be interactive online! But that typicaly breaks the 15kb size limits."
   ]
  },
  {
   "attachments": {},
   "cell_type": "markdown",
   "metadata": {},
   "source": [
    "</details>"
   ]
  }
 ],
 "metadata": {
  "language_info": {
   "name": "python"
  },
  "orig_nbformat": 4
 },
 "nbformat": 4,
 "nbformat_minor": 2
}
