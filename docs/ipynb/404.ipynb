{
 "cells": [
  {
   "cell_type": "code",
   "execution_count": null,
   "metadata": {},
   "outputs": [],
   "source": [
    "# 404\n",
    "> The page you are looking for does not exist or has been moved.\n",
    "\n",
    "- template: template_article\n",
    "- hide_sitemap: true"
   ]
  },
  {
   "attachments": {},
   "cell_type": "markdown",
   "metadata": {},
   "source": [
    "Please contact me at Charles.karpati@gmail.com if you think this is a mistake.\n",
    "\n",
    "Thank you!"
   ]
  }
 ],
 "metadata": {
  "language_info": {
   "name": "python"
  },
  "orig_nbformat": 4
 },
 "nbformat": 4,
 "nbformat_minor": 2
}
