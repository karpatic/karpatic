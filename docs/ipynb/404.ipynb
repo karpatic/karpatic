{
 "cells": [
  {
   "cell_type": "code",
   "execution_count": null,
   "metadata": {},
   "outputs": [],
   "source": [
    "# 404\n",
    "> The page you are looking for does not exist or has been moved.\n",
    "\n",
    "- badges: false\n",
    "- comments: false\n",
    "- filename: 404\n",
    "- hide: false\n",
    "- image: images/company_logo.png\n",
    "- keywords: ['3D','3D Printing', 'Crypto', 'metaverse', 'navigation']\n",
    "- tab: 404\n",
    "- template: template_article\n",
    "- sitemap: mapsitemap.json\n",
    "- toc: false"
   ]
  },
  {
   "attachments": {},
   "cell_type": "markdown",
   "metadata": {},
   "source": [
    "Please contact me at Charles.karpati@gmail.com if you think this is a mistake.\n",
    "\n",
    "Thank you!"
   ]
  }
 ],
 "metadata": {
  "language_info": {
   "name": "python"
  },
  "orig_nbformat": 4
 },
 "nbformat": 4,
 "nbformat_minor": 2
}
