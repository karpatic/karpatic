{
 "cells": [
  {
   "cell_type": "markdown",
   "metadata": {},
   "source": [
    "# About ESP32\n",
    "> A brief description of what the esp has to offer.\n",
    "\n",
    "- keywords: ['esp32', 'navigation']\n",
    "- prettify: true"
   ]
  },
  {
   "cell_type": "markdown",
   "metadata": {},
   "source": [
    "<img src='/images/covers/esp_notes1.webp'>"
   ]
  },
  {
   "cell_type": "markdown",
   "metadata": {},
   "source": [
    "## Background"
   ]
  },
  {
   "cell_type": "markdown",
   "metadata": {},
   "source": [
    "ARM vs Risc\n",
    "- arm = advanced risc machine. - David Braben and ian bell created ARM which was built on RISC.\n",
    "- risc = reduced instruction set computing - David Patterson created the original RISC processor\n",
    "\n",
    "History 1978\n",
    "- Riscv1= 80, Riscv2= 83(16bit), riscv3=84(32bit), riscv4=88\n",
    "- ARMv1 = 85, 32bit, 1watt chip\n",
    "- ARMv2 = 87\n",
    "- ARMv3 = appl partnership\n",
    "- ARM4=current\n",
    "- risc5=start2010, open source, OISA not OSH, 32,64\n",
    "\n",
    "Mems vs Asic\n",
    "- MEMS - Micro-electromechanical systems and \n",
    "- ASIC - Application-specific integrated circuit respectively.\n",
    "\n",
    "ARM Cortex A vs ARM Cortex M\n",
    "- A(asic) - (for phontes-laptops) \"32bits is dead as of 2023\"\n",
    "- M(mems) - microcontrollers, offers 32bits - 12k gate processors in size"
   ]
  },
  {
   "cell_type": "markdown",
   "metadata": {},
   "source": [
    "## Misc"
   ]
  },
  {
   "cell_type": "markdown",
   "metadata": {},
   "source": [
    "esp32 takes 3.3v. and uses an ams1117 to step down the 5v usb input used to first power the uart\n",
    "http://www.advanced-monolithic.com/pdf/ds1117.pdf\n",
    "https://www.mouser.com/c/semiconductors/power-management-ics/voltage-regulators-voltage-controllers/linear-voltage-regulators/?q=7805&package%20%2F%20case=TO-220\n"
   ]
  },
  {
   "cell_type": "markdown",
   "metadata": {},
   "source": [
    "25 microns .025mm\n",
    "razor blade = 100 microns or .1mm\n",
    "1 micron =~ 1k atoms"
   ]
  },
  {
   "cell_type": "markdown",
   "metadata": {},
   "source": [
    "https://www.google.com/search?q=INMP441&oq=INMP441&aqs=chrome..69i57.880j0j7&client=ms-android-samsung-rvo1&sourceid=chrome-mobile&ie=UTF-8#scso=_QdQQZMmTLIuq5NoP2YOImAs_27:0\\n"
   ]
  },
  {
   "cell_type": "markdown",
   "metadata": {},
   "source": [
    "c=discharge rate\n",
    "- - connecting in serial increases voltage"
   ]
  },
  {
   "cell_type": "markdown",
   "metadata": {},
   "source": [
    "## ESP Specific"
   ]
  },
  {
   "cell_type": "markdown",
   "metadata": {},
   "source": [
    "https://hackaday.com/2023/07/28/the-esp32-doesnt-need-much/\n",
    "\n",
    "https://www.youtube.com/watch?app=desktop&v=tQ0dL_9M1wI"
   ]
  },
  {
   "cell_type": "markdown",
   "metadata": {},
   "source": [
    "http://192.168.4.1/\n",
    "https://www.youtube.com/watch?v=BP1Dz66faf4\n",
    "ESP32_NAT_Router"
   ]
  },
  {
   "cell_type": "markdown",
   "metadata": {},
   "source": [
    "https://github.com/cnlohr/esp32-c3-playground\n",
    "https://github.com/cnlohr/esp32s2-cookbook/tree/master\n",
    "\n",
    "compiled arduion code:  go to File -> Preferences and then select Show verbose output during -> compilation. Finally, when you are compiling, the program will show you lots of data. At the last lines, you will find the path1 to the . hex file"
   ]
  },
  {
   "cell_type": "markdown",
   "metadata": {},
   "source": [
    "## "
   ]
  },
  {
   "cell_type": "markdown",
   "metadata": {},
   "source": [
    "## Non-Light/Audio/Module Hardware"
   ]
  },
  {
   "cell_type": "markdown",
   "metadata": {},
   "source": [
    "802.11 broadcast packets don't need wifi connection to be recieved so long as the reciever is on the channel"
   ]
  },
  {
   "cell_type": "markdown",
   "metadata": {},
   "source": [
    "just the chip designs need to be fcc certified but the modules are ok"
   ]
  },
  {
   "cell_type": "markdown",
   "metadata": {},
   "source": [
    "jst connectors are out. not enough current run through em"
   ]
  },
  {
   "cell_type": "markdown",
   "metadata": {},
   "source": [
    "pcb screw terminals run a lot of resistance compared to butt connectors, bogo or soldering\n",
    "\n",
    "pcv screw terminals produce a .22w power loss at 10Amps\n",
    "\n",
    "r = 2.2milliohms. pl=2.2r*10a=.22w"
   ]
  },
  {
   "cell_type": "markdown",
   "metadata": {},
   "source": [
    "## Powering LEDS"
   ]
  },
  {
   "cell_type": "markdown",
   "metadata": {},
   "source": [
    "100w LED strip which runs at 24v and needs 5 meters of cable this requires 4Amps of power. which require a wire of 0.75mm2 to transfer it over those 5 meters. If you however double feed the cable (from both ends) the requirement per cable is only ~2A so thinner cables can be used!\n",
    "\n",
    "*Power distribution is never 100% equal and it’s good practice making sure both ends can handle the full load, maybe use 2/3rd of the thickness instead of half for instance\n",
    "\n",
    "150leds or less use 2.0\n",
    "under 300 go w 10amps dc barrel jacks\n",
    "300 + go w AC DC converter"
   ]
  },
  {
   "cell_type": "markdown",
   "metadata": {},
   "source": [
    "18 AWGauge,  0.75 mm^2, 3 core copper wire"
   ]
  },
  {
   "cell_type": "markdown",
   "metadata": {},
   "source": [
    "Specification:Connectors:rated voltage: 0-36V;rated current: 0-5A. Extension wire: rated voltage:0-300V;rated current:0-2A"
   ]
  },
  {
   "cell_type": "markdown",
   "metadata": {},
   "source": [
    "logic level shift 3.3 2 5v to ensure data signal doesnt get corrupted over long distances.\n"
   ]
  },
  {
   "cell_type": "markdown",
   "metadata": {},
   "source": [
    "50a @ .05A each 5v LED or .03A 4 12V's\n",
    "\n",
    "If I need the 60 per. thatd be 40amps needed."
   ]
  },
  {
   "cell_type": "markdown",
   "metadata": {},
   "source": [
    "Drive 1000LEDS w: \n",
    "- 5v 50A == 250watts or \n",
    "- 12v 29A = 350watts power supplys"
   ]
  },
  {
   "cell_type": "markdown",
   "metadata": {},
   "source": [
    "5v inject ever 5m\n",
    "12v inject every 10m\n",
    "homerun injection - power supply runs wire to each injection point.\n",
    "parallel run - homerun till split and run inside multiple aluminum channels.\n",
    "inject using 22gague solid core and apply at begining and end of each strip\n",
    "14gauge from 5v 40amp supply"
   ]
  },
  {
   "cell_type": "markdown",
   "metadata": {},
   "source": [
    "connecting power injection lines from alternate power adapter from original will cause grounding problems."
   ]
  },
  {
   "cell_type": "markdown",
   "metadata": {},
   "source": [
    "power supplys should never connect"
   ]
  },
  {
   "cell_type": "markdown",
   "metadata": {},
   "source": [
    "5v AC to DC Power Adapter Converter/ Transformer "
   ]
  },
  {
   "cell_type": "markdown",
   "metadata": {},
   "source": [
    "BTF-LIGHTING DC5V Power Adapter \n",
    "5V10A 50W- $22.99\n",
    "5V3A 15W - $9.99\n",
    "5V6A 30W - $15.99\n",
    "5V8A 40W - $17.99"
   ]
  },
  {
   "cell_type": "markdown",
   "metadata": {},
   "source": [
    "## Factsheet"
   ]
  },
  {
   "cell_type": "markdown",
   "metadata": {},
   "source": [
    "small, 2A 480Mbps\n",
    "small, 2.0 3A 480Mbps\n",
    "small 2A 480Mbps - not good for magsafe unless 15W input\n",
    "\n",
    "gen2. @ 1000Mbps (10Gbps) (supports 4k), is 2x 3.0 & 20x 2.0 (novideo), \n",
    "\n",
    "long, usba-usbc -> 3.0 gen2, 100W Fast Charging, not magsafe nor macbook\n",
    "long, usba-usbc -> 3.0 3->2.4A 500Mbps, \n",
    "long, usbc-usba -> 3.0 3A 500Mbps"
   ]
  },
  {
   "cell_type": "markdown",
   "metadata": {},
   "source": [
    "Specification:Connectors:rated voltage: 0-36V;rated current: 0-5A. Extension wire: rated voltage:0-300V;rated current:0-2A"
   ]
  },
  {
   "cell_type": "markdown",
   "metadata": {},
   "source": [
    "30x5 -> 150 = 3A/9a"
   ]
  },
  {
   "cell_type": "markdown",
   "metadata": {},
   "source": [
    "## Diffusers"
   ]
  },
  {
   "cell_type": "markdown",
   "metadata": {},
   "source": [
    "leds should be further away from the diffuser than eachtoher to avoid brightspots. "
   ]
  },
  {
   "cell_type": "markdown",
   "metadata": {},
   "source": [
    "average diffuser heights: \n",
    "6.5 - 22% drop \n",
    "13.5\n",
    "16 - 36% less bright then no diffuser. spotless = 56% reduction"
   ]
  },
  {
   "cell_type": "markdown",
   "metadata": {},
   "source": [
    "model U4 is best! "
   ]
  },
  {
   "cell_type": "markdown",
   "metadata": {},
   "source": [
    "https://www.btf-lighting.com/products/sk6812rgbw-led-neon-rope-tube-ws2811-ws2812b-ws2813-flexible-gel-soft-tube-1m-5m-ip67-waterproof?variant=42978175484130\n",
    "\n",
    "1018 - 15 - 46\n",
    "1220 - 19 - 58\n",
    "1220-3 - 18 - 56\n",
    "1023 - 19 - 59\n",
    "1616 - 16 - 55\n",
    "1616s - 13-60\n",
    "\n",
    "[1018 (1220s-3)] 1023 1616s 2020s\n",
    "https://ae01.alicdn.com/kf/Hf32caccc1db14c26a816422e69d9a71bz.jpg\n",
    "https://ae01.alicdn.com/kf/H821463ec18f54850b847715c9b71a2a9j.png"
   ]
  },
  {
   "cell_type": "markdown",
   "metadata": {},
   "source": [
    "At full brighness(60mA) (20perRgb), \n",
    "30Leds/Meter from a 5V uses 1.8 Amps.\n",
    "5meters is the longest you can buy which would be 9Amps"
   ]
  },
  {
   "cell_type": "markdown",
   "metadata": {},
   "source": [
    "## Light"
   ]
  },
  {
   "cell_type": "markdown",
   "metadata": {},
   "source": [
    "27.87   -> BTF-LIGHTING 2 Pack WS2812B ECO RGB Alloy Wires 5050SMD Individual Addressable 8X32 256 Pixel LED Matrix. 37.99 for 2 "
   ]
  },
  {
   "cell_type": "markdown",
   "metadata": {},
   "source": [
    "- ip65- water repelent - rated for splash and rainproof. \n",
    "- ip67 - sealed silicon sleaves. wont work in thin channels\n",
    "- sk6812 is rgbw, ws2812b\n",
    "- 30 leds per meter w spottless diffuser and black deep channel"
   ]
  },
  {
   "cell_type": "markdown",
   "metadata": {},
   "source": [
    "5V power supply @ 20mah/60mah per pixel draw:\n",
    "- 2.1a - 10w = 100/35 LEDs - (USB2.0)\n",
    "- 5a - 25w - 250/83, \n",
    "- 8a - 40w - 400/134\n",
    "- 10 - 50w - 500/167\n",
    "- 15a - 75w - 750/250\n",
    "- 20a - 100w - 1000/334\n",
    "- 30a - 150w - 1500/500\n",
    "- 40a - 200w - 2000/750\n",
    "- 50a - 250w - 2500/834\n",
    "- 60a - 300w - 3000/1000"
   ]
  },
  {
   "cell_type": "markdown",
   "metadata": {},
   "source": [
    "30x5m -> 150leds = 3A/9a"
   ]
  },
  {
   "cell_type": "markdown",
   "metadata": {},
   "source": [
    "LED strip width: \n",
    "- IP30 IP65 :10mm\n",
    "- IP67:12mm( include silicone sheathing)"
   ]
  },
  {
   "cell_type": "markdown",
   "metadata": {},
   "source": [
    "30Leds/m = 32.9mm\n",
    "60/m = 16.2\n",
    "144/m= 6.6"
   ]
  },
  {
   "cell_type": "markdown",
   "metadata": {},
   "source": [
    "1000? 750? 5-600 leds per nodemcu. all work but fps probs drop"
   ]
  },
  {
   "cell_type": "markdown",
   "metadata": {},
   "source": [
    "## Audio"
   ]
  },
  {
   "cell_type": "markdown",
   "metadata": {},
   "source": [
    "background noise filtering (or squelch)\n",
    "Tge ESP32 uses a 12 bit ADC"
   ]
  },
  {
   "cell_type": "markdown",
   "metadata": {},
   "source": [
    "- https://learn.sparkfun.com/tutorials/sound-detector-hookup-guide\n",
    "- https://learn.sparkfun.com/tutorials/electret-mic-breakout-board-hookup-guide/all\n",
    "- https://www.instructables.com/Electret-microphone/\n",
    "- https://learn.sparkfun.com/tutorials/mems-microphone-hookup-guide/all\n",
    "- https://forum.arduino.cc/t/drums-trigger-led-with-a-mic/948511/12"
   ]
  },
  {
   "cell_type": "markdown",
   "metadata": {},
   "source": [
    "INMP441"
   ]
  },
  {
   "cell_type": "markdown",
   "metadata": {},
   "source": [
    "- Leave the MAX4466 gain untouched. It works fine out of the box.\n",
    "\n",
    "A MAX4466 and INMP401 should average about 1875 on an ESP32, a MAX9814 about 1350 for all gain settings."
   ]
  },
  {
   "cell_type": "markdown",
   "metadata": {},
   "source": [
    "[Options](https://github.com/atuline/WLED/wiki/Analog-Audio-Input-Options)\n",
    "\n",
    "- Adafruit - $6.95 - Electret Microphone Amp - [MAX4466](https://www.adafruit.com/product/1063) with Adjustable Gain\n",
    "- Digikey - $7.95 - Electret Microphone Amp Audio Evaluation Board - [MAX9814](https://www.digikey.com/en/products/detail/adafruit-industries-llc/1713/4990777?s=N4IgjCBcoLQBxVAYygMwIYBsDOBTANCAPZQDa4ArAEwIC6AvvYVWeAOxgDMIDQA)\n",
    "- SparkFun - $6.95 - MEMS Microphone Breakout - [ICS-40180](https://www.sparkfun.com/products/18011)\n",
    "- AliExpress - $1.61 - I2S MEMS Microphone - [ INMP441](https://www.aliexpress.com/i/2251832776111658.html?gatewayAdapt=4itemAdapt)"
   ]
  },
  {
   "cell_type": "markdown",
   "metadata": {},
   "source": [
    "#### Analog or I2S Digital?\n",
    "\n",
    "- We recommend using an I2S digital microphone with ESP32 boards - like INMP441, ICS-43434, or PDM microphones.\n",
    "- Analog input (Microphone or Line-in) is also possible, however you might have power fluctuation (3.3V) and noise issues when using these. **Analog devices are handled by the \"ADC1\" unit of your ESP32. Problems can be expected when connecting \"analog buttons\" (Potentiometer) to the same ADC1 unit.**\n",
    "- Finally **Analog Microphones often work best when placed very close to the sound source, while digital ones like the INMP441 can easily pick up sound from several meters apart**. With the analog MAX4466, we found that 30-50cm is an optimal distance.\n",
    "\n",
    "While providing a lot of functionality, the ESP8266 and the ESP32 boards (typical ones) we have been using, have experienced a lot of spurious noise on their ADC pins\n",
    "\n",
    "- On ESP32, use an I2S microphone, such as the INMP441, SPH0645 or ICS-43434.\n",
    "- Isolate the power between the LED strips and the controller.\n",
    "- Don't power your LED stripe from the ESP32 3.3v or 5v pins.\n",
    "- Don't use USB power from your PC.\n",
    "- Some batches of analog microphones are just no good."
   ]
  },
  {
   "cell_type": "markdown",
   "metadata": {},
   "source": [
    "## Other Projects"
   ]
  },
  {
   "cell_type": "markdown",
   "metadata": {},
   "source": [
    "- https://github.com/AEFeinstein/Super-2023-Swadge-HW\n",
    "- https://github.com/AEFeinstein/Super-2023-Swadge-FW\n",
    "- https://github.com/cnlohr/Super-2021-Swadge-FW-Sandbox\n",
    "- https://github.com/cnlohr/Super-2021-Swadge-HW\n",
    "- https://github.com/cnlohr/swadgeguide - 2020\n",
    "- https://github.com/AEFeinstein/Super-2020-Swadge-HW\n",
    "- https://github.com/cnlohr/swadge2019\n",
    "- https://github.com/cnlohr/swadges2017"
   ]
  },
  {
   "cell_type": "markdown",
   "metadata": {},
   "source": [
    "guy on lighting board changing lights sends data to arduino via DMX shield. Arduino was INITIALLY connected to a laptop which would send data over wifi to main server which would send updates out via unicast to each of the badges in the concert hall. The central server would log every espthat connects to it for broadcasting.  The Server ran in a container enviornment (a prox box stack). This was later changed LIVE during the event because w 1.3k esp's the channel utilization for the wifi 2.4ghz band range shot up to 86% (dropped packets b/c of all the back and forth comms) before switching to send out raw 802.11 packets (espnow esque) via ESP's. 3 esps on 3 different broadcast channels would do the unicasting after being directly connected to the arduino (Cutting out the laptop and central broadcast server).  The dmx broadcasts an array of data corresponding to a lighting command. 20x/s. Can be an array of array [of lighting commands] -> the mac address would get modulod by 3 to sort which esp would be the broadcaster\n",
    "\n",
    "2 batteries lasted 20 hours so they used sleep to keep it going for weeks (.3ma). every 30 seconds would wake up and look for the network. admin badges existsed. no ota"
   ]
  },
  {
   "cell_type": "markdown",
   "metadata": {},
   "source": [
    "- https://www.youtube.com/watch?v=S_p0YV-JlfU\n",
    "- https://easyeda.com/editor#id=fbcc60cfb0d247e59f691554a623c02f|e093c929dbea4fbebbdd9a1d95c63ab3|3beaebc196b2425db179dfd6e55c2b23"
   ]
  }
 ],
 "metadata": {
  "language_info": {
   "name": "python"
  }
 },
 "nbformat": 4,
 "nbformat_minor": 2
}
