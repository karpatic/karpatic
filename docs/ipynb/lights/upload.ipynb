{
 "cells": [
  {
   "cell_type": "markdown",
   "metadata": {},
   "source": [
    "# Upload \n",
    "> Notes on Writing and Flashing firmware using an IPYNB\n",
    "\n",
    "- prettify: true"
   ]
  },
  {
   "cell_type": "markdown",
   "metadata": {},
   "source": [
    "<img src='/images/covers/upload1.webp'>"
   ]
  },
  {
   "cell_type": "markdown",
   "metadata": {},
   "source": [
    "<details>\n",
    "<summary>"
   ]
  },
  {
   "attachments": {},
   "cell_type": "markdown",
   "metadata": {},
   "source": [
    "## Optional - Setup Localhost on Colabs"
   ]
  },
  {
   "cell_type": "markdown",
   "metadata": {},
   "source": [
    "</summary>"
   ]
  },
  {
   "attachments": {},
   "cell_type": "markdown",
   "metadata": {},
   "source": [
    "Run this in the local terminal:"
   ]
  },
  {
   "cell_type": "code",
   "execution_count": null,
   "metadata": {},
   "outputs": [],
   "source": [
    "jupyter notebook \\ \\\n",
    "  --NotebookApp.allow_origin='https://colab.research.google.com' \\ \\\n",
    "  --port=8888 \\ \\\n",
    "  --NotebookApp.port_retries=0 \\ \\"
   ]
  },
  {
   "cell_type": "markdown",
   "metadata": {},
   "source": [
    "'Then hit the CONNECT dropdown on the top right of this screen to Connect to the Localhost "
   ]
  },
  {
   "cell_type": "markdown",
   "metadata": {},
   "source": [
    "</details>\n",
    "<details open>\n",
    "<summary>"
   ]
  },
  {
   "cell_type": "markdown",
   "metadata": {},
   "source": [
    "## Upload Function"
   ]
  },
  {
   "cell_type": "markdown",
   "metadata": {},
   "source": [
    "</summary>"
   ]
  },
  {
   "cell_type": "markdown",
   "metadata": {},
   "source": [
    "This is the upload script:"
   ]
  },
  {
   "cell_type": "code",
   "execution_count": 1,
   "metadata": {},
   "outputs": [],
   "source": [
    "#collapse_input #hide_output\n",
    "import subprocess\n",
    "from IPython.display import display, clear_output\n",
    "import os\n",
    "\n",
    "def upload_code(code): \n",
    "    # Save the code to a file \n",
    "    with open('src/main.cpp', 'w') as f:\n",
    "        f.write(code) \n",
    "\n",
    "    # Compile the code\n",
    "    cmd = 'C:\\\\Users\\\\carlos\\\\.platformio\\\\penv\\\\Scripts\\\\platformio.exe run --target upload -v'\n",
    "    process = subprocess.Popen(cmd, shell=True, stdout=subprocess.PIPE, stderr=subprocess.PIPE)\n",
    "    show = False\n",
    "\n",
    "    # Wait for the words \"Serial port\" to appear in the output\n",
    "    while True:\n",
    "        output = process.stdout.readline().decode()\n",
    "        if output == '' and process.poll() is not None:\n",
    "            break\n",
    "        if 'Serial port' in output:\n",
    "            show = True \n",
    "        if show:\n",
    "            display(output.strip())\n",
    "\n",
    "    # Get the output and errors after the process has completed\n",
    "    output, error = process.communicate()\n",
    "    # print(output.decode())\n",
    "    # print(error.decode())\n",
    "\n",
    "    # Clear the output once the process has completed\n",
    "    clear_output()\n",
    "\n",
    "def read_and_upload_code(file_path): \n",
    "    with open(file_path, 'r') as f:\n",
    "        code = f.read() \n",
    "        upload_code(code)\n",
    "\n",
    "directory = os.path.join(os.getcwd(), 'samples')\n",
    "files = os.listdir(directory)\n",
    "for file in files:\n",
    "    ''\n",
    "    # print(file)"
   ]
  },
  {
   "cell_type": "markdown",
   "metadata": {},
   "source": [
    "</details>\n",
    "<details open>\n",
    "<summary>"
   ]
  },
  {
   "cell_type": "markdown",
   "metadata": {},
   "source": [
    "## Uploading"
   ]
  },
  {
   "cell_type": "markdown",
   "metadata": {},
   "source": [
    "</summary>"
   ]
  },
  {
   "cell_type": "markdown",
   "metadata": {},
   "source": [
    "This is the uplaod fn in use:"
   ]
  },
  {
   "cell_type": "code",
   "execution_count": 4,
   "metadata": {},
   "outputs": [],
   "source": [
    "# file = 'a_FastLedFTT.cpp'\n",
    "file = 'analogSoundSampleSketch.cpp'\n",
    "# file = 'gpt4_v4.cpp'"
   ]
  },
  {
   "cell_type": "code",
   "execution_count": 5,
   "metadata": {},
   "outputs": [],
   "source": [
    "read_and_upload_code(directory+'/'+file)"
   ]
  },
  {
   "cell_type": "markdown",
   "metadata": {},
   "source": [
    "</details>\n",
    "<details open>\n",
    "<summary>"
   ]
  },
  {
   "cell_type": "markdown",
   "metadata": {},
   "source": [
    "## Serial Logging"
   ]
  },
  {
   "cell_type": "markdown",
   "metadata": {},
   "source": [
    "</summary>"
   ]
  },
  {
   "attachments": {},
   "cell_type": "markdown",
   "metadata": {},
   "source": [
    "This is a simple example to read the serial output"
   ]
  },
  {
   "cell_type": "code",
   "execution_count": 6,
   "metadata": {},
   "outputs": [
    {
     "ename": "UnicodeDecodeError",
     "evalue": "'utf-8' codec can't decode byte 0x80 in position 3: invalid start byte",
     "output_type": "error",
     "traceback": [
      "\u001b[1;31m---------------------------------------------------------------------------\u001b[0m",
      "\u001b[1;31mUnicodeDecodeError\u001b[0m                        Traceback (most recent call last)",
      "\u001b[1;32mc:\\Users\\carlos\\Documents\\GitHub\\karpatic\\esp_lights\\upload.ipynb Cell 8\u001b[0m in \u001b[0;36m<module>\u001b[1;34m\u001b[0m\n\u001b[0;32m     <a href='vscode-notebook-cell:/c%3A/Users/carlos/Documents/GitHub/karpatic/esp_lights/upload.ipynb#X10sZmlsZQ%3D%3D?line=10'>11</a>\u001b[0m     \u001b[39mwhile\u001b[39;00m \u001b[39mTrue\u001b[39;00m:\n\u001b[0;32m     <a href='vscode-notebook-cell:/c%3A/Users/carlos/Documents/GitHub/karpatic/esp_lights/upload.ipynb#X10sZmlsZQ%3D%3D?line=11'>12</a>\u001b[0m         inpt \u001b[39m=\u001b[39m ser\u001b[39m.\u001b[39mreadline()\n\u001b[1;32m---> <a href='vscode-notebook-cell:/c%3A/Users/carlos/Documents/GitHub/karpatic/esp_lights/upload.ipynb#X10sZmlsZQ%3D%3D?line=12'>13</a>\u001b[0m         \u001b[39mprint\u001b[39m(inpt\u001b[39m.\u001b[39;49mdecode(\u001b[39m'\u001b[39;49m\u001b[39mutf-8\u001b[39;49m\u001b[39m'\u001b[39;49m)\u001b[39m.\u001b[39mstrip())\n\u001b[0;32m     <a href='vscode-notebook-cell:/c%3A/Users/carlos/Documents/GitHub/karpatic/esp_lights/upload.ipynb#X10sZmlsZQ%3D%3D?line=13'>14</a>\u001b[0m \u001b[39mexcept\u001b[39;00m \u001b[39mKeyboardInterrupt\u001b[39;00m:\n\u001b[0;32m     <a href='vscode-notebook-cell:/c%3A/Users/carlos/Documents/GitHub/karpatic/esp_lights/upload.ipynb#X10sZmlsZQ%3D%3D?line=14'>15</a>\u001b[0m     \u001b[39mprint\u001b[39m(\u001b[39m\"\u001b[39m\u001b[39mKeyboard Interrupt. Exiting...\u001b[39m\u001b[39m\"\u001b[39m)\n",
      "\u001b[1;31mUnicodeDecodeError\u001b[0m: 'utf-8' codec can't decode byte 0x80 in position 3: invalid start byte"
     ]
    }
   ],
   "source": [
    "#collapse_input #hide_output\n",
    "import serial\n",
    "from IPython.display import clear_output\n",
    "\n",
    "ser = serial.Serial()\n",
    "ser.baudrate = 9600\n",
    "ser.port = 'COM8'\n",
    "ser.open()\n",
    "ser.flushInput()\n",
    "\n",
    "try:\n",
    "    while True:\n",
    "        inpt = ser.readline()\n",
    "        print(inpt.decode('utf-8').strip())\n",
    "except KeyboardInterrupt:\n",
    "    print(\"Keyboard Interrupt. Exiting...\")\n",
    "finally: \n",
    "    clear_output()"
   ]
  },
  {
   "cell_type": "markdown",
   "metadata": {},
   "source": [
    "</details>\n",
    "<details open>\n",
    "<summary>"
   ]
  },
  {
   "cell_type": "markdown",
   "metadata": {},
   "source": [
    "## Serial Plotting"
   ]
  },
  {
   "cell_type": "markdown",
   "metadata": {},
   "source": [
    "</summary>"
   ]
  },
  {
   "attachments": {},
   "cell_type": "markdown",
   "metadata": {},
   "source": [
    "this is a more complex example"
   ]
  },
  {
   "cell_type": "code",
   "execution_count": null,
   "metadata": {},
   "outputs": [],
   "source": [
    "#collapse_input #hide_output\n",
    "import serial\n",
    "from IPython.display import clear_output, display\n",
    "import matplotlib.pyplot as plt\n",
    "import csv\n",
    "import time\n",
    "\n",
    "ser = serial.Serial()\n",
    "ser.baudrate = 9600\n",
    "ser.port = 'COM8'\n",
    "ser.open()\n",
    "ser.flushInput()\n",
    "\n",
    "# Create an empty list to store the data\n",
    "data = [0] * 100\n",
    "\n",
    "# Create the plot\n",
    "plt.ion() # Turn on interactive mode\n",
    "fig, ax = plt.subplots()\n",
    "line, = ax.plot(data)\n",
    "ax.set_title(\"Random Data\")\n",
    "ax.set_xlabel(\"Data Point\")\n",
    "ax.set_ylabel(\"Value\")\n",
    "\n",
    "try:\n",
    "    while True:\n",
    "        # Read a line of data from the serial port\n",
    "        inpt = ser.readline().decode('utf-8').strip()\n",
    "\n",
    "        # Parse the data and append it to the list\n",
    "        try:\n",
    "            value = int(inpt)\n",
    "            data.pop(0)  # Remove the first value from the list\n",
    "            data.append(value)  # Append the new value to the end of the list\n",
    "        except IndexError:\n",
    "            pass\n",
    "\n",
    "        # Update the plot\n",
    "        line.set_ydata(data)\n",
    "        ax.relim()\n",
    "        ax.autoscale_view()\n",
    "        fig.canvas.draw()\n",
    "        fig.canvas.flush_events()\n",
    "\n",
    "        # Display the plot\n",
    "        clear_output(wait=True)\n",
    "        display(fig)\n",
    "\n",
    "        # save the output \n",
    "        with open(\"test_data.csv\",\"a\", newline=\"\") as f:\n",
    "            writer = csv.writer(f,delimiter=\",\")\n",
    "            writer.writerow([time.time(),value])\n",
    "\n",
    "except KeyboardInterrupt:\n",
    "    print(\"Keyboard Interrupt. Exiting...\")\n",
    "finally:\n",
    "    ser.close()\n",
    "    clear_output()\n"
   ]
  },
  {
   "cell_type": "code",
   "execution_count": null,
   "metadata": {},
   "outputs": [],
   "source": []
  },
  {
   "cell_type": "markdown",
   "metadata": {},
   "source": [
    "</details>"
   ]
  }
 ],
 "metadata": {
  "kernelspec": {
   "display_name": "Python 3",
   "language": "python",
   "name": "python3"
  },
  "language_info": {
   "codemirror_mode": {
    "name": "ipython",
    "version": 3
   },
   "file_extension": ".py",
   "mimetype": "text/x-python",
   "name": "python",
   "nbconvert_exporter": "python",
   "pygments_lexer": "ipython3",
   "version": "3.10.2"
  },
  "orig_nbformat": 4
 },
 "nbformat": 4,
 "nbformat_minor": 2
}
