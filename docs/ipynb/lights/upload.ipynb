{
 "cells": [
  {
   "cell_type": "markdown",
   "metadata": {},
   "source": [
    "# Upload \n",
    "> Notes on Writing and Flashing firmware using an IPYNB\n",
    "\n",
    "- prettify: true"
   ]
  },
  {
   "cell_type": "markdown",
   "metadata": {},
   "source": [
    "<img src='/images/covers/upload1.webp'>"
   ]
  },
  {
   "cell_type": "markdown",
   "metadata": {},
   "source": [
    "<details>\n",
    "<summary>"
   ]
  },
  {
   "attachments": {},
   "cell_type": "markdown",
   "metadata": {},
   "source": [
    "## Optional - Setup Localhost on Colabs"
   ]
  },
  {
   "cell_type": "markdown",
   "metadata": {},
   "source": [
    "</summary>"
   ]
  },
  {
   "attachments": {},
   "cell_type": "markdown",
   "metadata": {},
   "source": [
    "Run this in the local terminal:"
   ]
  },
  {
   "cell_type": "markdown",
   "metadata": {},
   "source": [
    "```\n",
    "jupyter notebook \\ \\\n",
    "  --NotebookApp.allow_origin='https://colab.research.google.com' \\ \\\n",
    "  --port=8888 \\ \\\n",
    "  --NotebookApp.port_retries=0 \\ \\\n",
    "```"
   ]
  },
  {
   "cell_type": "markdown",
   "metadata": {},
   "source": [
    "'Then hit the CONNECT dropdown on the top right of this screen to Connect to the Localhost "
   ]
  },
  {
   "cell_type": "markdown",
   "metadata": {},
   "source": [
    "</details>\n",
    "<details open>\n",
    "<summary>"
   ]
  },
  {
   "cell_type": "markdown",
   "metadata": {},
   "source": [
    "## Upload Function"
   ]
  },
  {
   "cell_type": "markdown",
   "metadata": {},
   "source": [
    "</summary>"
   ]
  },
  {
   "cell_type": "markdown",
   "metadata": {},
   "source": [
    "This is the upload script:"
   ]
  },
  {
   "cell_type": "code",
   "execution_count": 60,
   "metadata": {},
   "outputs": [],
   "source": [
    "import subprocess\n",
    "import time\n",
    "import os\n",
    "from IPython.display import clear_output \n",
    "\n",
    "def upload_code(code): \n",
    "    # Save the code to a file \n",
    "    with open('./src/main.cpp', 'w') as f:\n",
    "        f.write(code) \n",
    "\n",
    "    # Compile the code\n",
    "    cmd = \"C:\\\\Users\\\\charl\\\\.platformio\\\\penv\\\\Scripts\\\\platformio.exe run --target upload\"\n",
    "    process = subprocess.Popen(cmd, shell=True, stdout=subprocess.PIPE, stderr=subprocess.PIPE, bufsize=1, universal_newlines=True)\n",
    "    timeout = time.time() + 60*2  # 2 minutes from now\n",
    "\n",
    "    # Process output\n",
    "    while True:\n",
    "        if time.time() > timeout:\n",
    "            print(\"Timeout reached\")\n",
    "            process.kill()\n",
    "            break\n",
    "\n",
    "        output = process.stdout.readline()\n",
    "        if output == '' and process.poll() is not None:\n",
    "            clear_output() \n",
    "            break\n",
    "        if output.strip().startswith(\"Writing at\"): \n",
    "            clear_output() \n",
    "        print(output.strip())\n",
    "\n",
    "    # Get the output and errors after the process has completed\n",
    "    output, error = process.communicate()\n",
    "    # print(output)\n",
    "    if error:\n",
    "        print(\"Error:\", error)\n",
    "\n",
    "def read_and_upload_code(file_path): \n",
    "    with open(file_path, 'r') as f:\n",
    "        code = f.read() \n",
    "        upload_code(code)\n"
   ]
  },
  {
   "cell_type": "markdown",
   "metadata": {},
   "source": [
    "</details>\n",
    "<details open>\n",
    "<summary>"
   ]
  },
  {
   "cell_type": "markdown",
   "metadata": {},
   "source": [
    "## Uploading"
   ]
  },
  {
   "cell_type": "markdown",
   "metadata": {},
   "source": [
    "</summary>"
   ]
  },
  {
   "cell_type": "markdown",
   "metadata": {},
   "source": [
    "This is the uplaod fn in use:"
   ]
  },
  {
   "cell_type": "code",
   "execution_count": 61,
   "metadata": {},
   "outputs": [
    {
     "name": "stdout",
     "output_type": "stream",
     "text": [
      "a_FastLedFTT.cpp\n",
      "a_mic_2_envelope_analyzed.cpp\n",
      "a_sound2light3.cpp\n",
      "a_theatersound.cpp\n",
      "blink_monitor.cpp\n",
      "blink_serial.cpp\n",
      "_analogAudio.cpp\n",
      "_digitalAudio.cpp\n",
      "_fft_v1.cpp\n",
      "_fft_v2.cpp\n"
     ]
    }
   ],
   "source": [
    "import os\n",
    "directory = os.path.join(os.getcwd(), 'samples')\n",
    "files = os.listdir(directory)\n",
    "for file in files:\n",
    "    print(file)\n",
    "# file = 'a_FastLedFTT.cpp'\n",
    "# file = 'analogSoundSampleSketch.cpp'\n",
    "# file = 'gpt4_v4.cpp' \n",
    "# file = 'blink.cpp'"
   ]
  },
  {
   "cell_type": "code",
   "execution_count": 62,
   "metadata": {},
   "outputs": [],
   "source": [
    "directory = os.path.join(os.getcwd(), 'lightstrip') \n",
    "file = 'main.cpp'"
   ]
  },
  {
   "cell_type": "code",
   "execution_count": 63,
   "metadata": {},
   "outputs": [],
   "source": [
    "read_and_upload_code(directory+'/'+file)"
   ]
  },
  {
   "cell_type": "markdown",
   "metadata": {},
   "source": [
    "</details>\n",
    "<details open>\n",
    "<summary>"
   ]
  },
  {
   "cell_type": "markdown",
   "metadata": {},
   "source": [
    "## Serial Logging"
   ]
  },
  {
   "cell_type": "markdown",
   "metadata": {},
   "source": [
    "</summary>"
   ]
  },
  {
   "attachments": {},
   "cell_type": "markdown",
   "metadata": {},
   "source": [
    "This is a simple example to read the serial output"
   ]
  },
  {
   "cell_type": "code",
   "execution_count": 2,
   "metadata": {},
   "outputs": [],
   "source": [
    "import serial\n",
    "import time\n",
    "from IPython.display import clear_output\n",
    "\n",
    "ser = serial.Serial()\n",
    "ser.baudrate = 115200\n",
    "ser.port = 'COM11'\n",
    "ser.timeout = 1  # Set a short read timeout, e.g., 1 second\n",
    "ser.open()\n",
    "ser.flushInput()\n",
    "timeout = 30\n",
    "\n",
    "start_time = time.time()  # Record the start time\n",
    "\n",
    "try:\n",
    "    while True:\n",
    "        current_time = time.time()\n",
    "        if current_time - start_time > timeout: \n",
    "            print(\"Time elapsed. Exiting...\")\n",
    "            break\n",
    "\n",
    "        inpt = ser.readline()\n",
    "        if inpt:\n",
    "            print(inpt.decode('utf-8').strip())\n",
    "except KeyboardInterrupt:\n",
    "    print(\"Keyboard Interrupt. Exiting...\")\n",
    "finally: \n",
    "    ser.close()  # Ensure the serial connection is closed\n",
    "    clear_output()\n"
   ]
  },
  {
   "cell_type": "markdown",
   "metadata": {},
   "source": [
    "</details>\n",
    "<details open>\n",
    "<summary>"
   ]
  },
  {
   "cell_type": "markdown",
   "metadata": {},
   "source": [
    "## Serial Plotting"
   ]
  },
  {
   "cell_type": "markdown",
   "metadata": {},
   "source": [
    "</summary>"
   ]
  },
  {
   "attachments": {},
   "cell_type": "markdown",
   "metadata": {},
   "source": [
    "this is a more complex example"
   ]
  },
  {
   "cell_type": "code",
   "execution_count": 65,
   "metadata": {},
   "outputs": [],
   "source": [
    "#collapse_input #hide_output\n",
    "monitor = \"\"\"\n",
    "import serial\n",
    "from IPython.display import clear_output, display\n",
    "import matplotlib.pyplot as plt\n",
    "import csv\n",
    "import time\n",
    "\n",
    "ser = serial.Serial()\n",
    "ser.baudrate = 115200\n",
    "ser.port = 'COM11'\n",
    "ser.open()\n",
    "ser.flushInput()\n",
    "\n",
    "# Create an empty list to store the data\n",
    "data = [0] * 100\n",
    "\n",
    "# Create the plot\n",
    "plt.ion() # Turn on interactive mode\n",
    "fig, ax = plt.subplots()\n",
    "line, = ax.plot(data)\n",
    "ax.set_title(\"Random Data\")\n",
    "ax.set_xlabel(\"Data Point\")\n",
    "ax.set_ylabel(\"Value\")\n",
    "\n",
    "try:\n",
    "    while True:\n",
    "        # Read a line of data from the serial port\n",
    "        inpt = ser.readline().decode('utf-8').strip()\n",
    "\n",
    "        # Parse the data and append it to the list\n",
    "        try:\n",
    "            value = int(inpt)\n",
    "            data.pop(0)  # Remove the first value from the list\n",
    "            data.append(value)  # Append the new value to the end of the list\n",
    "        except IndexError:\n",
    "            pass\n",
    "\n",
    "        # Update the plot\n",
    "        line.set_ydata(data)\n",
    "        ax.relim()\n",
    "        ax.autoscale_view()\n",
    "        fig.canvas.draw()\n",
    "        fig.canvas.flush_events()\n",
    "\n",
    "        # Display the plot\n",
    "        clear_output(wait=True)\n",
    "        display(fig)\n",
    "\n",
    "        # save the output \n",
    "        with open(\"test_data.csv\",\"a\", newline=\"\") as f:\n",
    "            writer = csv.writer(f,delimiter=\",\")\n",
    "            writer.writerow([time.time(),value])\n",
    "\n",
    "except KeyboardInterrupt:\n",
    "    print(\"Keyboard Interrupt. Exiting...\")\n",
    "finally:\n",
    "    ser.close()\n",
    "    clear_output()\n",
    "\"\"\""
   ]
  },
  {
   "cell_type": "markdown",
   "metadata": {},
   "source": [
    "This could be done in js using the [Web Serial API](https://developer.mozilla.org/en-US/docs/Web/API/Web_Serial_API) too"
   ]
  },
  {
   "cell_type": "code",
   "execution_count": 66,
   "metadata": {},
   "outputs": [
    {
     "name": "stdout",
     "output_type": "stream",
     "text": [
      "Index: 0, File: analogSoundSampleSketch\\analogSoundSampleSketch.ino\n",
      "Index: 1, File: buttoncycler\\buttoncycler.ino\n",
      "Index: 2, File: espblink\\espblink.ino\n",
      "Index: 3, File: march_25_2023_circuitplayground_fun\\march_25_2023_circuitplayground_fun.ino\n",
      "Index: 4, File: microphone_test_2\\microphone_test_2.ino\n",
      "Index: 5, File: microphone_test_3\\microphone_test_3.ino\n",
      "Index: 6, File: simple\\simple.ino\n",
      "Index: 7, File: simpleblinkesp32\\simpleblinkesp32.ino\n",
      "Index: 8, File: sketch_dec18a\\sketch_dec18a.ino\n",
      "Index: 9, File: sketch_feb10a\\sketch_feb10a.ino\n",
      "Index: 10, File: sketch_feb10b\\sketch_feb10b.ino\n",
      "Index: 11, File: sketch_feb10c_original_simple\\sketch_feb10c_original_simple.ino\n",
      "Index: 12, File: sketch_feb10_StrandtestBLE_nodelay\\sketch_feb10_StrandtestBLE_nodelay.ino\n",
      "Index: 13, File: sketch_jul07a\\sketch_jul07a.ino\n",
      "Index: 14, File: sketch_jul07b\\sketch_jul07b.ino\n",
      "Index: 15, File: sketch_jul07c\\sketch_jul07c.ino\n",
      "Index: 16, File: sketch_jul07f\\sketch_jul07f.ino\n",
      "Index: 17, File: sketch_jul07g\\sketch_jul07g.ino\n",
      "Index: 18, File: sketch_jul08a\\sketch_jul08a.ino\n",
      "Index: 19, File: sketch_jul08b\\sketch_jul08b.ino\n",
      "Index: 20, File: sketch_jul08c\\sketch_jul08c.ino\n",
      "Index: 21, File: sketch_mar02a\\sketch_mar02a.ino\n",
      "Index: 22, File: sketch_mar02a_microphone_test\\sketch_mar02a_microphone_test.ino\n",
      "Index: 23, File: sketch_mar02b\\sketch_mar02b.ino\n",
      "Index: 24, File: sketch_mar02b_fft_mic\\sketch_mar02b_fft_mic.ino\n",
      "Index: 25, File: sketch_mar02c\\sketch_mar02c.ino\n",
      "Index: 26, File: sketch_nov18a\\sketch_nov18a.ino\n",
      "Index: 27, File: sketch_nov18b\\sketch_nov18b.ino\n",
      "Index: 28, File: sketch_nov18c\\sketch_nov18c.ino\n"
     ]
    }
   ],
   "source": [
    "import os\n",
    "\n",
    "def list_ino_files(root_dir):\n",
    "    ino_files = []\n",
    "    for folder in os.listdir(root_dir):\n",
    "        folder_path = os.path.join(root_dir, folder)\n",
    "        if os.path.isdir(folder_path):\n",
    "            ino_file = os.path.join(folder_path, folder + '.ino')\n",
    "            if os.path.isfile(ino_file):\n",
    "                ino_files.append(ino_file)\n",
    "    return ino_files\n",
    "\n",
    "def print_ino_file_contents(file_index, ino_files):\n",
    "    if 0 <= file_index < len(ino_files):\n",
    "        with open(ino_files[file_index], 'r') as file:\n",
    "            contents = file.read()\n",
    "            print(ino_files[file_index])\n",
    "            print(contents)\n",
    "    else:\n",
    "        print(\"Invalid index.\")\n",
    "\n",
    "# Change this path to your root directory\n",
    "root_dir = r\"C:\\Users\\charl\\OneDrive\\Desktop\\code\\Arduino\\scripts\"\n",
    "\n",
    "# Listing and printing files with indexes\n",
    "ino_files = list_ino_files(root_dir)\n",
    "for index, file in enumerate(ino_files):\n",
    "    relative_path = os.path.relpath(file, root_dir)\n",
    "    print(f\"Index: {index}, File: {relative_path}\")"
   ]
  },
  {
   "cell_type": "code",
   "execution_count": 67,
   "metadata": {},
   "outputs": [],
   "source": [
    "# Example usage\n",
    "# print_ino_file_contents(28, ino_files)  # Replace 0 with your chosen index"
   ]
  },
  {
   "cell_type": "markdown",
   "metadata": {},
   "source": [
    "</details>"
   ]
  }
 ],
 "metadata": {
  "kernelspec": {
   "display_name": "Python 3",
   "language": "python",
   "name": "python3"
  },
  "language_info": {
   "codemirror_mode": {
    "name": "ipython",
    "version": 3
   },
   "file_extension": ".py",
   "mimetype": "text/x-python",
   "name": "python",
   "nbconvert_exporter": "python",
   "pygments_lexer": "ipython3",
   "version": "3.11.7"
  },
  "orig_nbformat": 4
 },
 "nbformat": 4,
 "nbformat_minor": 2
}
