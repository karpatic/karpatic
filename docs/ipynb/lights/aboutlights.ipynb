{
 "cells": [
  {
   "attachments": {},
   "cell_type": "markdown",
   "metadata": {},
   "source": [
    "# About Lights\n",
    "> A brief description of what the lights page has to offer.\n",
    "\n",
    "- keywords: ['3D','3D Printing', 'Crypto', 'metaverse', 'navigation']"
   ]
  },
  {
   "cell_type": "markdown",
   "metadata": {},
   "source": [
    "<img src='/images/covers/aboutlights1.webp'>"
   ]
  },
  {
   "attachments": {},
   "cell_type": "markdown",
   "metadata": {},
   "source": [
    "<details open class=\"details\">\n",
    "<summary>"
   ]
  },
  {
   "attachments": {},
   "cell_type": "markdown",
   "metadata": {},
   "source": [
    "## About"
   ]
  },
  {
   "attachments": {},
   "cell_type": "markdown",
   "metadata": {},
   "source": [
    "</summary>"
   ]
  },
  {
   "cell_type": "markdown",
   "metadata": {},
   "source": [
    "The goal of this project is to create a mesh network of lights.<br><br>"
   ]
  },
  {
   "cell_type": "markdown",
   "metadata": {},
   "source": [
    "This projects enables the mesh network of ESP32 boards to communicate with each other using the ESP-NOW protocol and allows a user's phone to keep the mesh network updated.\n",
    "<br><br>\n",
    "\n",
    "The code manages communication between a mesh network of ESP32 boards using the ESP-NOW protocol, as well as communication between individual ESP32 boards and a user's phone through a 1-to-1 Bluetooth connection. The code includes two functions:\n",
    "<br><br>\n",
    "\n",
    "The broadcast function sends stored data to every device in the mesh network that is within range.\n",
    "It also processes incoming ESP-NOW messages and updates the state of the built-in LED. If a device is connected to a user's phone through Bluetooth, the device will send notification to the phone and recieve back commands, allowing it to update the state of the mesh network.\n",
    "<br><br>"
   ]
  },
  {
   "cell_type": "markdown",
   "metadata": {},
   "source": [
    "Possible Kits:\n",
    "- USB 2.0 + 3 light meters  (2.1a can drive 35 LED using 60ma)\n",
    "- USB 3.0 + 5 light meters \n",
    "- 2x 18650 (3.7v, 25a, 3k mah each) \n",
    "- - Battery Holder, JST 2 DC switch w JSTv2 2 light\n",
    "- lifepi4 - 2100mah 6.6v \n",
    "- - JST2Light\n",
    "<br>"
   ]
  },
  {
   "attachments": {},
   "cell_type": "markdown",
   "metadata": {},
   "source": [
    "</details>"
   ]
  }
 ],
 "metadata": {
  "kernelspec": {
   "display_name": "Python 3",
   "language": "python",
   "name": "python3"
  },
  "language_info": {
   "name": "python",
   "version": "3.10.2"
  },
  "orig_nbformat": 4,
  "vscode": {
   "interpreter": {
    "hash": "046b844cfe77f56867adc884800e389906328c66f60829dd4497d230d7e2d321"
   }
  }
 },
 "nbformat": 4,
 "nbformat_minor": 2
}
