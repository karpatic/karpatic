{
 "cells": [
  {
   "attachments": {},
   "cell_type": "markdown",
   "metadata": {},
   "source": [
    "# Miscellaneous\n",
    "> Listing out my misc notes in article form.\n",
    " \n",
    "- keywords: ['3D','3D Printing', 'Crypto', 'metaverse', 'navigation'] \n",
    "- template: template_article "
   ]
  },
  {
   "attachments": {},
   "cell_type": "markdown",
   "metadata": {},
   "source": [
    "<details open class=\"details\">\n",
    "<summary>"
   ]
  },
  {
   "attachments": {},
   "cell_type": "markdown",
   "metadata": {},
   "source": [
    "## Links:"
   ]
  },
  {
   "cell_type": "markdown",
   "metadata": {},
   "source": [
    "</summary>"
   ]
  },
  {
   "attachments": {},
   "cell_type": "markdown",
   "metadata": {},
   "source": [
    "I have a bunch of notes on random things I catalog here. \n",
    "\n",
    "The article contents may stray from the page title.\n",
    "\n",
    "I can't speak to the veracity nor fidelity of it all but I'm sharing em!\n",
    "\n",
    "A lot if these pages are timelines or help put things into context for me.\n",
    "\n",
    "Contact charles.karpati@gmail.com should you have any revisions, questions, comments, or concerns!\n",
    "\n",
    "- <a href='index.html'>Philosophy</a> - History of \n",
    "- <a href='index.html'>Philosophers</a> - Concepts of\n",
    "- <a href='index.html'>Technology</a> - History of \n",
    "- <a href='index.html'>Computation</a> - Concepts within\n",
    "- <a href='index.html'>American Independence</a> - History of \n",
    "- Ontology, <a href='index.html'>Epistomology</a> - Concepts within\n",
    "- <a href='index.html'>Radios</a> \n",
    "- <a href='index.html'>3D Printing</a> "
   ]
  },
  {
   "attachments": {},
   "cell_type": "markdown",
   "metadata": {},
   "source": [
    "</details>"
   ]
  }
 ],
 "metadata": {
  "kernelspec": {
   "display_name": "Python 3.10.2 64-bit",
   "language": "python",
   "name": "python3"
  },
  "language_info": {
   "codemirror_mode": {
    "name": "ipython",
    "version": 3
   },
   "file_extension": ".py",
   "mimetype": "text/x-python",
   "name": "python",
   "nbconvert_exporter": "python",
   "pygments_lexer": "ipython3",
   "version": "3.10.2"
  },
  "orig_nbformat": 4,
  "vscode": {
   "interpreter": {
    "hash": "046b844cfe77f56867adc884800e389906328c66f60829dd4497d230d7e2d321"
   }
  }
 },
 "nbformat": 4,
 "nbformat_minor": 2
}
