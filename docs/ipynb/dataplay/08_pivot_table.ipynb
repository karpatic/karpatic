{
 "cells": [
  {
   "cell_type": "markdown",
   "metadata": {},
   "source": [
    "# Pivot Table\n",
    "\n",
    "> Injest and display tool for data.\n",
    "- toc: tocHere\n",
    "- prettify: true\n",
    "- default_exp: pivot\n",
    "- audio: https://charleskarpati.com/audio/08_pivot_table.mp3"
   ]
  },
  {
   "cell_type": "markdown",
   "metadata": {},
   "source": [
    "[![Binder](https://mybinder.org/badge_logo.svg)](https://mybinder.org/v2/gh/bnia/dataplay/main?filepath=%2Fnotebooks%2F01_Download_and_Load.ipynb)\n",
    "[![Binder](https://pete88b.github.io/fastpages/assets/badges/colab.svg)](https://colab.research.google.com/github/bnia/dataplay/blob/main/notebooks/01_Download_and_Load.ipynb)\n",
    "[![Binder](https://pete88b.github.io/fastpages/assets/badges/github.svg)](https://github.com/bnia/dataplay/tree/main/notebooks/01_Download_and_Load.ipynb)\n",
    "[![Open Source Love svg3](https://badges.frapsoft.com/os/v3/open-source.svg?v=103)](https://github.com/ellerbrock/open-source-badges/)\n",
    "<br>\n",
    "[![NPM License](https://img.shields.io/npm/l/all-contributors.svg?style=flat)](https://github.com/bnia/dataplay/blob/main/LICENSE)\n",
    "[![Active](http://img.shields.io/badge/Status-Active-green.svg)](https://bnia.github.io) \n",
    "[![Python Versions](https://img.shields.io/pypi/pyversions/dataplay.svg)](https://pypi.python.org/pypi/dataplay/)\n",
    "[![GitHub last commit](https://img.shields.io/github/last-commit/bnia/dataplay.svg?style=flat)]()  \n",
    "<br>\n",
    "[![GitHub stars](https://img.shields.io/github/stars/bnia/dataplay.svg?style=social&label=Star)](https://github.com/bnia/dataplay) \n",
    "[![GitHub watchers](https://img.shields.io/github/watchers/bnia/dataplay.svg?style=social&label=Watch)](https://github.com/bnia/dataplay) \n",
    "[![GitHub forks](https://img.shields.io/github/forks/bnia/dataplay.svg?style=social&label=Fork)](https://github.com/bnia/dataplay) \n",
    "[![GitHub followers](https://img.shields.io/github/followers/bnia.svg?style=social&label=Follow)](https://github.com/bnia/dataplay) \n",
    "<br>\n",
    "[![Tweet](https://img.shields.io/twitter/url/https/github.com/bnia/dataplay.svg?style=social)](https://twitter.com/intent/tweet?text=Check%20out%20this%20%E2%9C%A8%20colab%20by%20@bniajfi%20https://github.com/bnia/dataplay%20%F0%9F%A4%97) \n",
    "[![Twitter Follow](https://img.shields.io/twitter/follow/bniajfi.svg?style=social)](https://twitter.com/bniajfi)"
   ]
  },
  {
   "cell_type": "markdown",
   "metadata": {},
   "source": [
    "https://nbdev.fast.ai/tutorials/best_practices.html\n",
    "\n",
    "https://pandoc.org/MANUAL.html#pandocs-markdown\n",
    "\n",
    "https://quarto.org/docs/authoring/markdown-basics.html#tables\n",
    "\n",
    "https://quarto.org/docs/authoring/callouts.html"
   ]
  },
  {
   "cell_type": "code",
   "execution_count": null,
   "metadata": {},
   "outputs": [],
   "source": []
  },
  {
   "cell_type": "markdown",
   "metadata": {},
   "source": [
    "<details open>\n",
    "<summary>"
   ]
  },
  {
   "cell_type": "markdown",
   "metadata": {},
   "source": [
    "## Table of Contents"
   ]
  },
  {
   "cell_type": "markdown",
   "metadata": {},
   "source": [
    "</summary>"
   ]
  },
  {
   "cell_type": "markdown",
   "metadata": {},
   "source": [
    "<div id='tocHere'></div>"
   ]
  },
  {
   "cell_type": "markdown",
   "metadata": {},
   "source": [
    "</details>"
   ]
  },
  {
   "cell_type": "markdown",
   "metadata": {},
   "source": [
    "<details open>\n",
    "<summary>"
   ]
  },
  {
   "cell_type": "markdown",
   "metadata": {},
   "source": [
    "## Motiviation "
   ]
  },
  {
   "cell_type": "markdown",
   "metadata": {},
   "source": [
    "</summary>"
   ]
  },
  {
   "cell_type": "markdown",
   "metadata": {},
   "source": [
    "<br>"
   ]
  },
  {
   "cell_type": "markdown",
   "metadata": {},
   "source": [
    "<style>\n",
    ".shapedImage {\n",
    "  float: left;\n",
    "  width: 250px;\n",
    "  shape-outside: url(https://interactive-examples.mdn.mozilla.net/media/examples/round-balloon.png);\n",
    "  shape-margin:20px;\n",
    "  margin-right: 20px;\n",
    "  margin-bottom: 20px;\n",
    "  padding-top: 30px;\n",
    "}\n",
    ".shapedImage + p::first-letter {\n",
    "  font-size: 1.5rem;\n",
    "  font-weight: bold;\n",
    "  color: brown;\n",
    "}\n",
    "</style> \n",
    "\n",
    "<img class=\"shapedImage\" src=\"https://interactive-examples.mdn.mozilla.net/media/examples/round-balloon.png\" alt=\"Sample Image\"> \n",
    "\n",
    "I want to create interactive ipynb visualizations that persists when converted to html (without the use of using iframes). Jupyter Notebooks being a web app makes this possible as Ipynb's cell outputs are actually just IFRAMES. Jupyter notebooks run a web server responsible for routing communication from your browser to your local machine which means interactive visualizations are just a javascript script away. \n",
    "\n",
    "(((info:: Everything you are reading was made in an ipynb ))) "
   ]
  },
  {
   "cell_type": "markdown",
   "metadata": {},
   "source": [
    "</details>\n",
    "<details open>\n",
    "<summary>"
   ]
  },
  {
   "cell_type": "markdown",
   "metadata": {},
   "source": [
    "## Background"
   ]
  },
  {
   "cell_type": "markdown",
   "metadata": {},
   "source": [
    "</summary>"
   ]
  },
  {
   "cell_type": "markdown",
   "metadata": {},
   "source": [
    "- VSCODE: Help -> Toggle Developer Tools\n",
    "- Entire notebook stored in: Container: class=\"notebookOverlay notebook-editor notebook-editor-editable cell-title-toolbar-right cell-toolbar-click\"\n",
    "- Iframe: class=\"Notebook webview content\"\n",
    "\n",
    "https://bniajfi.org/wp-content/themes/Grido/Theme_v1_3/js/bnia.js\n",
    "https://bniajfi.org/guidepost/communityAdjacents.json \n",
    "\n",
    "https://bniajfi.org/guidepost/vega_renderer.js\n",
    "https://bniajfi.org/guidepost/custom_plotly_renderers.js\n",
    "\n",
    "https://bniajfi.org/guidepost/map_handler.js\n",
    "https://bniajfi.org/guidepost/script_vars_events.js\n",
    "https://bniajfi.org/guidepost/script.js\n",
    "\n",
    "\n",
    "https://github.com/nicolaskruchten/pivottable/wiki/Parameters#options-object-for-pivotui\n",
    "\n",
    "https://pivottable.js.org/dist/pivot.js\n",
    "\n",
    "\n",
    "<!-- Jquery --\n",
    "<script type=\"text/javascript\" src=\"https://cdnjs.cloudflare.com/ajax/libs/jquery/1.11.2/jquery.min.js\"></script>\n",
    "<script type=\"text/javascript\" src=\"https://cdnjs.cloudflare.com/ajax/libs/jqueryui/1.11.4/jquery-ui.min.js\"></script>\n",
    "<!-- Papa Parse --\n",
    "<script type=\"text/javascript\" src=\"https://cdnjs.cloudflare.com/ajax/libs/PapaParse/5.0.0/papaparse.min.js\"></script>\n",
    "<!-- Pivot --\n",
    "<script src=\"https://cdnjs.cloudflare.com/ajax/libs/jqueryui/1.11.4/jquery-ui.min.js\"></script> \n",
    "<script src=\"https://cdnjs.cloudflare.com/ajax/libs/pivottable/2.13.0/pivot.min.js\"></script> \n",
    "<style src=\"https://cdnjs.cloudflare.com/ajax/libs/pivottable/2.13.0/pivot.min.css\"></style>\n",
    "\n",
    "<!-- Charts Js https://www.w3schools.com/tags/att_meta_http_equiv.asp https://developer.mozilla.org/en-US/docs/Web/HTTP/Headers/Content-Security-Policy/img-src --\n",
    "<script type='text/javascript' src=\"https://bniajfi.org/vs_resources/charts/Chart.min.js\" ></script>\n",
    "<script type='text/javascript' src='https://bniajfi.org/vs_resources/charts/Chart.HorizontalBar.js'></script>\n",
    "<!-- Data Tables --\n",
    "<script type=\"text/javascript\" src=\"https://cdnjs.cloudflare.com/ajax/libs/jquery/3.4.1/core.js\"></script> \n",
    "<link href=\"https://cdn.datatables.net/1.10.20/css/jquery.dataTables.css\" rel=\"stylesheet\" type=\"text/css\" /> \n",
    "<script type=\"text/javascript\" charset=\"utf8\" src=\"https://cdn.datatables.net/1.10.20/js/jquery.dataTables.js\"></script>\n",
    "<!-- Leaflet --\n",
    "<link crossorigin=\"\" href=\"https://unpkg.com/leaflet@1.5.1/dist/leaflet.css\" rel=\"stylesheet\" />\n",
    "<script src=\"https://unpkg.com/leaflet@1.5.1/dist/leaflet.js\" crossorigin=\"\"></script>\n",
    "<!-- Font Awesome --\n",
    "<link href=\"https://maxcdn.bootstrapcdn.com/font-awesome/4.2.0/css/font-awesome.min.css\" rel=\"stylesheet\" />\n",
    "<!-- Load Esri Leaflet Geocoder from CDN --\n",
    "<link crossorigin=\"\" href=\"https://unpkg.com/esri-leaflet-geocoder@2.2.14/dist/esri-leaflet-geocoder.css\" rel=\"stylesheet\" /> \n",
    "<script src=\"https://unpkg.com/esri-leaflet-geocoder@2.2.14/dist/esri-leaflet-geocoder.js\" crossorigin=\"\"></script>\n",
    "<!-- PivotTable.js libs from ../dist --\n",
    "<script src=\"https://cdn.plot.ly/plotly-latest.min.js\"></script>\n",
    "<!-- Vega Light --\n",
    "<script src=\"https://cdn.jsdelivr.net/npm/vega@5.6.0\"></script> \n",
    "<script async src=\"https://cdn.jsdelivr.net/npm/vega-lite@4.0.0-beta.8\"></script> \n",
    "<script async src=\"https://cdn.jsdelivr.net/npm/vega-embed@5.1.3\"></script>\n",
    "<!-- Local Forage --\n",
    "<script type=\"text/javascript\" src=\"https://cdn.jsdelivr.net/npm/localforage@1.7.3/dist/localforage.min.js\"></script> \n",
    "<!-- ML JS --\n",
    "<script src=\"https://cdn.jsdelivr.net/gh/mljs/ml@5.1.1/dist/ml.min.js\"></script>\n",
    "<!-- Leaflet Pip --\n",
    "<script src=\"https://unpkg.com/@mapbox/leaflet-pip@latest/leaflet-pip.js\"></script> -->"
   ]
  },
  {
   "cell_type": "markdown",
   "metadata": {},
   "source": [
    "</details>\n",
    "<details open>\n",
    "<summary>"
   ]
  },
  {
   "cell_type": "markdown",
   "metadata": {},
   "source": [
    "## How to Use"
   ]
  },
  {
   "cell_type": "markdown",
   "metadata": {},
   "source": [
    "</summary>"
   ]
  },
  {
   "cell_type": "code",
   "execution_count": 2,
   "metadata": {},
   "outputs": [],
   "source": [
    "#export #hide_input\n",
    "import pandas as pd\n",
    "from IPython.display import display, HTML\n",
    "import random\n",
    "\n",
    "def pivot_init():\n",
    "    TEMPLATE = f\"\"\"\n",
    "    <script type=\"text/javascript\">\n",
    "        window.loadScripts = (scripts) => {{\n",
    "            let index = 0;\n",
    "            function loadScript(url, onload) {{\n",
    "                var script = document.createElement(\"script\");\n",
    "                script.src = url;\n",
    "                onload && (script.onload = onload);\n",
    "                document.head.appendChild(script);\n",
    "            }} \n",
    "            function loadNext() {{\n",
    "                if (index < scripts.length) {{\n",
    "                    console.log('loadScripts', scripts[index])\n",
    "                    loadScript(scripts[index], () => {{ index++; loadNext(); }});\n",
    "                }}\n",
    "            }}\n",
    "            loadNext();\n",
    "        }}\n",
    "        window.scripts = [\n",
    "            \"https://api.charleskarpati.com/vanillapivottable/sortable.js\",\n",
    "            \"https://cdnjs.cloudflare.com/ajax/libs/PapaParse/5.3.0/papaparse.min.js\",\n",
    "            \"https://api.charleskarpati.com/vanillapivottable/pivottable.js\"\n",
    "        ];\n",
    "        loadScripts(scripts);\n",
    "    </script>\n",
    "    <link rel=\"stylesheet\" type=\"text/css\" href=\"https://pivottable.js.org/dist/pivot.css\">\n",
    "    \"\"\"    \n",
    "    return display(HTML(TEMPLATE))"
   ]
  },
  {
   "cell_type": "code",
   "execution_count": 3,
   "metadata": {},
   "outputs": [
    {
     "data": {
      "text/html": [
       "\n",
       "    <script type=\"text/javascript\">\n",
       "        window.loadScripts = (scripts) => {\n",
       "            let index = 0;\n",
       "            function loadScript(url, onload) {\n",
       "                var script = document.createElement(\"script\");\n",
       "                script.src = url;\n",
       "                onload && (script.onload = onload);\n",
       "                document.head.appendChild(script);\n",
       "            } \n",
       "            function loadNext() {\n",
       "                if (index < scripts.length) {\n",
       "                    console.log('loadScripts', scripts[index])\n",
       "                    loadScript(scripts[index], () => { index++; loadNext(); });\n",
       "                }\n",
       "            }\n",
       "            loadNext();\n",
       "        }\n",
       "        window.scripts = [\n",
       "            \"https://api.charleskarpati.com/vanillapivottable/sortable.js\",\n",
       "            \"https://cdnjs.cloudflare.com/ajax/libs/PapaParse/5.3.0/papaparse.min.js\",\n",
       "            \"https://api.charleskarpati.com/vanillapivottable/pivottable.js\"\n",
       "        ];\n",
       "        loadScripts(scripts);\n",
       "    </script>\n",
       "    <link rel=\"stylesheet\" type=\"text/css\" href=\"https://pivottable.js.org/dist/pivot.css\">\n",
       "    "
      ],
      "text/plain": [
       "<IPython.core.display.HTML object>"
      ]
     },
     "metadata": {},
     "output_type": "display_data"
    }
   ],
   "source": [
    "pivot_init()"
   ]
  },
  {
   "cell_type": "code",
   "execution_count": 4,
   "metadata": {},
   "outputs": [],
   "source": [
    "#export #hide_input\n",
    "def pivot_data(df, output_id=None, rows=None, cols=None, renderName=\"Table\"):\n",
    "    if output_id is None:\n",
    "        output_id = \"output\" + str(random.randint(1000000, 9999999))\n",
    "    \n",
    "    # Default to not using any.\n",
    "    # But if it's a string, check if it's a comma separated list\n",
    "    if rows == None: rows = []\n",
    "    if type(rows) == str: \n",
    "        if \",\" in rows: rows = rows.split(\",\")\n",
    "        else: rows = [rows]\n",
    "            \n",
    "    # Same thing but for columns\n",
    "    if cols == None: cols = []\n",
    "    if type(cols) == str: \n",
    "        if \",\" in cols: cols = cols.split(\",\")\n",
    "        else: cols = [cols]\n",
    "            \n",
    "    # Convert DataFrame to JSON for JavaScript\n",
    "    json_data = df.to_json(orient='records')\n",
    "    \n",
    "    rows = str(rows).replace(\"'\", \"\\\"\")\n",
    "    cols = str(cols).replace(\"'\", \"\\\"\")\n",
    "\n",
    "    # HTML and JavaScript template\n",
    "    # Check if df is a label or if output_id maps to one.\n",
    "    # Use window.labels[label].data if it exists\n",
    "    # when a user pivots. update window.labels[label].mapping.rows / cols / viztype.\n",
    "    TEMPLATE = f\"\"\"\n",
    "    <div id=\"{output_id}\"></div> \n",
    "    \n",
    "    <script type=\"text/javascript\">\n",
    "    setTimeout(function() {{ \n",
    "        window.pivotUI(document.getElementById(\"{output_id}\"), \n",
    "            JSON.parse(`{json_data}`),\n",
    "            {{\n",
    "                rows: {rows},\n",
    "                cols: {cols},\n",
    "                rendererName: '{renderName}',\n",
    "                showUI: true\n",
    "            }}\n",
    "        ) \n",
    "    }}, 1000);\n",
    "    </script>\n",
    "    \"\"\" \n",
    "    # \"https://pivottable.js.org/dist/pivot.js\"\"http://localhost:8080/ipynb/dataplay/pivottable.js\"\n",
    "    # return HTML(TEMPLATE)\n",
    "    #return print(TEMPLATE) # TEMPLATE.replace(\"\\n\", \"\")\n",
    "    # Display the pivot table\n",
    "    return display(HTML(TEMPLATE))"
   ]
  },
  {
   "cell_type": "code",
   "execution_count": 6,
   "metadata": {},
   "outputs": [],
   "source": [
    "#hide \n",
    "import pandas as pd\n",
    "\n",
    "# Example DataFrame\n",
    "data = {\n",
    "    'Name': ['Alice', 'Bob', 'Charlie'],\n",
    "    'Age': [25, 30, 35],\n",
    "    'City': ['New York', 'Paris', 'London'] \n",
    "}\n",
    "df = pd.DataFrame(data)\n",
    "df = pd.read_csv('https://raw.githubusercontent.com/plotly/datasets/master/iris.csv') "
   ]
  },
  {
   "cell_type": "code",
   "execution_count": 7,
   "metadata": {},
   "outputs": [
    {
     "data": {
      "text/html": [
       "\n",
       "    <div id=\"output12\"></div> \n",
       "    \n",
       "    <script type=\"text/javascript\">\n",
       "    setTimeout(function() { \n",
       "        window.pivotUI(document.getElementById(\"output12\"), \n",
       "            JSON.parse(`[{\"SepalLength\":5.1,\"SepalWidth\":3.5,\"PetalLength\":1.4,\"PetalWidth\":0.2,\"Name\":\"Iris-setosa\"},{\"SepalLength\":4.9,\"SepalWidth\":3.0,\"PetalLength\":1.4,\"PetalWidth\":0.2,\"Name\":\"Iris-setosa\"},{\"SepalLength\":4.7,\"SepalWidth\":3.2,\"PetalLength\":1.3,\"PetalWidth\":0.2,\"Name\":\"Iris-setosa\"},{\"SepalLength\":4.6,\"SepalWidth\":3.1,\"PetalLength\":1.5,\"PetalWidth\":0.2,\"Name\":\"Iris-setosa\"},{\"SepalLength\":5.0,\"SepalWidth\":3.6,\"PetalLength\":1.4,\"PetalWidth\":0.2,\"Name\":\"Iris-setosa\"},{\"SepalLength\":5.4,\"SepalWidth\":3.9,\"PetalLength\":1.7,\"PetalWidth\":0.4,\"Name\":\"Iris-setosa\"},{\"SepalLength\":4.6,\"SepalWidth\":3.4,\"PetalLength\":1.4,\"PetalWidth\":0.3,\"Name\":\"Iris-setosa\"},{\"SepalLength\":5.0,\"SepalWidth\":3.4,\"PetalLength\":1.5,\"PetalWidth\":0.2,\"Name\":\"Iris-setosa\"},{\"SepalLength\":4.4,\"SepalWidth\":2.9,\"PetalLength\":1.4,\"PetalWidth\":0.2,\"Name\":\"Iris-setosa\"},{\"SepalLength\":4.9,\"SepalWidth\":3.1,\"PetalLength\":1.5,\"PetalWidth\":0.1,\"Name\":\"Iris-setosa\"},{\"SepalLength\":5.4,\"SepalWidth\":3.7,\"PetalLength\":1.5,\"PetalWidth\":0.2,\"Name\":\"Iris-setosa\"},{\"SepalLength\":4.8,\"SepalWidth\":3.4,\"PetalLength\":1.6,\"PetalWidth\":0.2,\"Name\":\"Iris-setosa\"},{\"SepalLength\":4.8,\"SepalWidth\":3.0,\"PetalLength\":1.4,\"PetalWidth\":0.1,\"Name\":\"Iris-setosa\"},{\"SepalLength\":4.3,\"SepalWidth\":3.0,\"PetalLength\":1.1,\"PetalWidth\":0.1,\"Name\":\"Iris-setosa\"},{\"SepalLength\":5.8,\"SepalWidth\":4.0,\"PetalLength\":1.2,\"PetalWidth\":0.2,\"Name\":\"Iris-setosa\"},{\"SepalLength\":5.7,\"SepalWidth\":4.4,\"PetalLength\":1.5,\"PetalWidth\":0.4,\"Name\":\"Iris-setosa\"},{\"SepalLength\":5.4,\"SepalWidth\":3.9,\"PetalLength\":1.3,\"PetalWidth\":0.4,\"Name\":\"Iris-setosa\"},{\"SepalLength\":5.1,\"SepalWidth\":3.5,\"PetalLength\":1.4,\"PetalWidth\":0.3,\"Name\":\"Iris-setosa\"},{\"SepalLength\":5.7,\"SepalWidth\":3.8,\"PetalLength\":1.7,\"PetalWidth\":0.3,\"Name\":\"Iris-setosa\"},{\"SepalLength\":5.1,\"SepalWidth\":3.8,\"PetalLength\":1.5,\"PetalWidth\":0.3,\"Name\":\"Iris-setosa\"},{\"SepalLength\":5.4,\"SepalWidth\":3.4,\"PetalLength\":1.7,\"PetalWidth\":0.2,\"Name\":\"Iris-setosa\"},{\"SepalLength\":5.1,\"SepalWidth\":3.7,\"PetalLength\":1.5,\"PetalWidth\":0.4,\"Name\":\"Iris-setosa\"},{\"SepalLength\":4.6,\"SepalWidth\":3.6,\"PetalLength\":1.0,\"PetalWidth\":0.2,\"Name\":\"Iris-setosa\"},{\"SepalLength\":5.1,\"SepalWidth\":3.3,\"PetalLength\":1.7,\"PetalWidth\":0.5,\"Name\":\"Iris-setosa\"},{\"SepalLength\":4.8,\"SepalWidth\":3.4,\"PetalLength\":1.9,\"PetalWidth\":0.2,\"Name\":\"Iris-setosa\"},{\"SepalLength\":5.0,\"SepalWidth\":3.0,\"PetalLength\":1.6,\"PetalWidth\":0.2,\"Name\":\"Iris-setosa\"},{\"SepalLength\":5.0,\"SepalWidth\":3.4,\"PetalLength\":1.6,\"PetalWidth\":0.4,\"Name\":\"Iris-setosa\"},{\"SepalLength\":5.2,\"SepalWidth\":3.5,\"PetalLength\":1.5,\"PetalWidth\":0.2,\"Name\":\"Iris-setosa\"},{\"SepalLength\":5.2,\"SepalWidth\":3.4,\"PetalLength\":1.4,\"PetalWidth\":0.2,\"Name\":\"Iris-setosa\"},{\"SepalLength\":4.7,\"SepalWidth\":3.2,\"PetalLength\":1.6,\"PetalWidth\":0.2,\"Name\":\"Iris-setosa\"},{\"SepalLength\":4.8,\"SepalWidth\":3.1,\"PetalLength\":1.6,\"PetalWidth\":0.2,\"Name\":\"Iris-setosa\"},{\"SepalLength\":5.4,\"SepalWidth\":3.4,\"PetalLength\":1.5,\"PetalWidth\":0.4,\"Name\":\"Iris-setosa\"},{\"SepalLength\":5.2,\"SepalWidth\":4.1,\"PetalLength\":1.5,\"PetalWidth\":0.1,\"Name\":\"Iris-setosa\"},{\"SepalLength\":5.5,\"SepalWidth\":4.2,\"PetalLength\":1.4,\"PetalWidth\":0.2,\"Name\":\"Iris-setosa\"},{\"SepalLength\":4.9,\"SepalWidth\":3.1,\"PetalLength\":1.5,\"PetalWidth\":0.1,\"Name\":\"Iris-setosa\"},{\"SepalLength\":5.0,\"SepalWidth\":3.2,\"PetalLength\":1.2,\"PetalWidth\":0.2,\"Name\":\"Iris-setosa\"},{\"SepalLength\":5.5,\"SepalWidth\":3.5,\"PetalLength\":1.3,\"PetalWidth\":0.2,\"Name\":\"Iris-setosa\"},{\"SepalLength\":4.9,\"SepalWidth\":3.1,\"PetalLength\":1.5,\"PetalWidth\":0.1,\"Name\":\"Iris-setosa\"},{\"SepalLength\":4.4,\"SepalWidth\":3.0,\"PetalLength\":1.3,\"PetalWidth\":0.2,\"Name\":\"Iris-setosa\"},{\"SepalLength\":5.1,\"SepalWidth\":3.4,\"PetalLength\":1.5,\"PetalWidth\":0.2,\"Name\":\"Iris-setosa\"},{\"SepalLength\":5.0,\"SepalWidth\":3.5,\"PetalLength\":1.3,\"PetalWidth\":0.3,\"Name\":\"Iris-setosa\"},{\"SepalLength\":4.5,\"SepalWidth\":2.3,\"PetalLength\":1.3,\"PetalWidth\":0.3,\"Name\":\"Iris-setosa\"},{\"SepalLength\":4.4,\"SepalWidth\":3.2,\"PetalLength\":1.3,\"PetalWidth\":0.2,\"Name\":\"Iris-setosa\"},{\"SepalLength\":5.0,\"SepalWidth\":3.5,\"PetalLength\":1.6,\"PetalWidth\":0.6,\"Name\":\"Iris-setosa\"},{\"SepalLength\":5.1,\"SepalWidth\":3.8,\"PetalLength\":1.9,\"PetalWidth\":0.4,\"Name\":\"Iris-setosa\"},{\"SepalLength\":4.8,\"SepalWidth\":3.0,\"PetalLength\":1.4,\"PetalWidth\":0.3,\"Name\":\"Iris-setosa\"},{\"SepalLength\":5.1,\"SepalWidth\":3.8,\"PetalLength\":1.6,\"PetalWidth\":0.2,\"Name\":\"Iris-setosa\"},{\"SepalLength\":4.6,\"SepalWidth\":3.2,\"PetalLength\":1.4,\"PetalWidth\":0.2,\"Name\":\"Iris-setosa\"},{\"SepalLength\":5.3,\"SepalWidth\":3.7,\"PetalLength\":1.5,\"PetalWidth\":0.2,\"Name\":\"Iris-setosa\"},{\"SepalLength\":5.0,\"SepalWidth\":3.3,\"PetalLength\":1.4,\"PetalWidth\":0.2,\"Name\":\"Iris-setosa\"},{\"SepalLength\":7.0,\"SepalWidth\":3.2,\"PetalLength\":4.7,\"PetalWidth\":1.4,\"Name\":\"Iris-versicolor\"},{\"SepalLength\":6.4,\"SepalWidth\":3.2,\"PetalLength\":4.5,\"PetalWidth\":1.5,\"Name\":\"Iris-versicolor\"},{\"SepalLength\":6.9,\"SepalWidth\":3.1,\"PetalLength\":4.9,\"PetalWidth\":1.5,\"Name\":\"Iris-versicolor\"},{\"SepalLength\":5.5,\"SepalWidth\":2.3,\"PetalLength\":4.0,\"PetalWidth\":1.3,\"Name\":\"Iris-versicolor\"},{\"SepalLength\":6.5,\"SepalWidth\":2.8,\"PetalLength\":4.6,\"PetalWidth\":1.5,\"Name\":\"Iris-versicolor\"},{\"SepalLength\":5.7,\"SepalWidth\":2.8,\"PetalLength\":4.5,\"PetalWidth\":1.3,\"Name\":\"Iris-versicolor\"},{\"SepalLength\":6.3,\"SepalWidth\":3.3,\"PetalLength\":4.7,\"PetalWidth\":1.6,\"Name\":\"Iris-versicolor\"},{\"SepalLength\":4.9,\"SepalWidth\":2.4,\"PetalLength\":3.3,\"PetalWidth\":1.0,\"Name\":\"Iris-versicolor\"},{\"SepalLength\":6.6,\"SepalWidth\":2.9,\"PetalLength\":4.6,\"PetalWidth\":1.3,\"Name\":\"Iris-versicolor\"},{\"SepalLength\":5.2,\"SepalWidth\":2.7,\"PetalLength\":3.9,\"PetalWidth\":1.4,\"Name\":\"Iris-versicolor\"},{\"SepalLength\":5.0,\"SepalWidth\":2.0,\"PetalLength\":3.5,\"PetalWidth\":1.0,\"Name\":\"Iris-versicolor\"},{\"SepalLength\":5.9,\"SepalWidth\":3.0,\"PetalLength\":4.2,\"PetalWidth\":1.5,\"Name\":\"Iris-versicolor\"},{\"SepalLength\":6.0,\"SepalWidth\":2.2,\"PetalLength\":4.0,\"PetalWidth\":1.0,\"Name\":\"Iris-versicolor\"},{\"SepalLength\":6.1,\"SepalWidth\":2.9,\"PetalLength\":4.7,\"PetalWidth\":1.4,\"Name\":\"Iris-versicolor\"},{\"SepalLength\":5.6,\"SepalWidth\":2.9,\"PetalLength\":3.6,\"PetalWidth\":1.3,\"Name\":\"Iris-versicolor\"},{\"SepalLength\":6.7,\"SepalWidth\":3.1,\"PetalLength\":4.4,\"PetalWidth\":1.4,\"Name\":\"Iris-versicolor\"},{\"SepalLength\":5.6,\"SepalWidth\":3.0,\"PetalLength\":4.5,\"PetalWidth\":1.5,\"Name\":\"Iris-versicolor\"},{\"SepalLength\":5.8,\"SepalWidth\":2.7,\"PetalLength\":4.1,\"PetalWidth\":1.0,\"Name\":\"Iris-versicolor\"},{\"SepalLength\":6.2,\"SepalWidth\":2.2,\"PetalLength\":4.5,\"PetalWidth\":1.5,\"Name\":\"Iris-versicolor\"},{\"SepalLength\":5.6,\"SepalWidth\":2.5,\"PetalLength\":3.9,\"PetalWidth\":1.1,\"Name\":\"Iris-versicolor\"},{\"SepalLength\":5.9,\"SepalWidth\":3.2,\"PetalLength\":4.8,\"PetalWidth\":1.8,\"Name\":\"Iris-versicolor\"},{\"SepalLength\":6.1,\"SepalWidth\":2.8,\"PetalLength\":4.0,\"PetalWidth\":1.3,\"Name\":\"Iris-versicolor\"},{\"SepalLength\":6.3,\"SepalWidth\":2.5,\"PetalLength\":4.9,\"PetalWidth\":1.5,\"Name\":\"Iris-versicolor\"},{\"SepalLength\":6.1,\"SepalWidth\":2.8,\"PetalLength\":4.7,\"PetalWidth\":1.2,\"Name\":\"Iris-versicolor\"},{\"SepalLength\":6.4,\"SepalWidth\":2.9,\"PetalLength\":4.3,\"PetalWidth\":1.3,\"Name\":\"Iris-versicolor\"},{\"SepalLength\":6.6,\"SepalWidth\":3.0,\"PetalLength\":4.4,\"PetalWidth\":1.4,\"Name\":\"Iris-versicolor\"},{\"SepalLength\":6.8,\"SepalWidth\":2.8,\"PetalLength\":4.8,\"PetalWidth\":1.4,\"Name\":\"Iris-versicolor\"},{\"SepalLength\":6.7,\"SepalWidth\":3.0,\"PetalLength\":5.0,\"PetalWidth\":1.7,\"Name\":\"Iris-versicolor\"},{\"SepalLength\":6.0,\"SepalWidth\":2.9,\"PetalLength\":4.5,\"PetalWidth\":1.5,\"Name\":\"Iris-versicolor\"},{\"SepalLength\":5.7,\"SepalWidth\":2.6,\"PetalLength\":3.5,\"PetalWidth\":1.0,\"Name\":\"Iris-versicolor\"},{\"SepalLength\":5.5,\"SepalWidth\":2.4,\"PetalLength\":3.8,\"PetalWidth\":1.1,\"Name\":\"Iris-versicolor\"},{\"SepalLength\":5.5,\"SepalWidth\":2.4,\"PetalLength\":3.7,\"PetalWidth\":1.0,\"Name\":\"Iris-versicolor\"},{\"SepalLength\":5.8,\"SepalWidth\":2.7,\"PetalLength\":3.9,\"PetalWidth\":1.2,\"Name\":\"Iris-versicolor\"},{\"SepalLength\":6.0,\"SepalWidth\":2.7,\"PetalLength\":5.1,\"PetalWidth\":1.6,\"Name\":\"Iris-versicolor\"},{\"SepalLength\":5.4,\"SepalWidth\":3.0,\"PetalLength\":4.5,\"PetalWidth\":1.5,\"Name\":\"Iris-versicolor\"},{\"SepalLength\":6.0,\"SepalWidth\":3.4,\"PetalLength\":4.5,\"PetalWidth\":1.6,\"Name\":\"Iris-versicolor\"},{\"SepalLength\":6.7,\"SepalWidth\":3.1,\"PetalLength\":4.7,\"PetalWidth\":1.5,\"Name\":\"Iris-versicolor\"},{\"SepalLength\":6.3,\"SepalWidth\":2.3,\"PetalLength\":4.4,\"PetalWidth\":1.3,\"Name\":\"Iris-versicolor\"},{\"SepalLength\":5.6,\"SepalWidth\":3.0,\"PetalLength\":4.1,\"PetalWidth\":1.3,\"Name\":\"Iris-versicolor\"},{\"SepalLength\":5.5,\"SepalWidth\":2.5,\"PetalLength\":4.0,\"PetalWidth\":1.3,\"Name\":\"Iris-versicolor\"},{\"SepalLength\":5.5,\"SepalWidth\":2.6,\"PetalLength\":4.4,\"PetalWidth\":1.2,\"Name\":\"Iris-versicolor\"},{\"SepalLength\":6.1,\"SepalWidth\":3.0,\"PetalLength\":4.6,\"PetalWidth\":1.4,\"Name\":\"Iris-versicolor\"},{\"SepalLength\":5.8,\"SepalWidth\":2.6,\"PetalLength\":4.0,\"PetalWidth\":1.2,\"Name\":\"Iris-versicolor\"},{\"SepalLength\":5.0,\"SepalWidth\":2.3,\"PetalLength\":3.3,\"PetalWidth\":1.0,\"Name\":\"Iris-versicolor\"},{\"SepalLength\":5.6,\"SepalWidth\":2.7,\"PetalLength\":4.2,\"PetalWidth\":1.3,\"Name\":\"Iris-versicolor\"},{\"SepalLength\":5.7,\"SepalWidth\":3.0,\"PetalLength\":4.2,\"PetalWidth\":1.2,\"Name\":\"Iris-versicolor\"},{\"SepalLength\":5.7,\"SepalWidth\":2.9,\"PetalLength\":4.2,\"PetalWidth\":1.3,\"Name\":\"Iris-versicolor\"},{\"SepalLength\":6.2,\"SepalWidth\":2.9,\"PetalLength\":4.3,\"PetalWidth\":1.3,\"Name\":\"Iris-versicolor\"},{\"SepalLength\":5.1,\"SepalWidth\":2.5,\"PetalLength\":3.0,\"PetalWidth\":1.1,\"Name\":\"Iris-versicolor\"},{\"SepalLength\":5.7,\"SepalWidth\":2.8,\"PetalLength\":4.1,\"PetalWidth\":1.3,\"Name\":\"Iris-versicolor\"},{\"SepalLength\":6.3,\"SepalWidth\":3.3,\"PetalLength\":6.0,\"PetalWidth\":2.5,\"Name\":\"Iris-virginica\"},{\"SepalLength\":5.8,\"SepalWidth\":2.7,\"PetalLength\":5.1,\"PetalWidth\":1.9,\"Name\":\"Iris-virginica\"},{\"SepalLength\":7.1,\"SepalWidth\":3.0,\"PetalLength\":5.9,\"PetalWidth\":2.1,\"Name\":\"Iris-virginica\"},{\"SepalLength\":6.3,\"SepalWidth\":2.9,\"PetalLength\":5.6,\"PetalWidth\":1.8,\"Name\":\"Iris-virginica\"},{\"SepalLength\":6.5,\"SepalWidth\":3.0,\"PetalLength\":5.8,\"PetalWidth\":2.2,\"Name\":\"Iris-virginica\"},{\"SepalLength\":7.6,\"SepalWidth\":3.0,\"PetalLength\":6.6,\"PetalWidth\":2.1,\"Name\":\"Iris-virginica\"},{\"SepalLength\":4.9,\"SepalWidth\":2.5,\"PetalLength\":4.5,\"PetalWidth\":1.7,\"Name\":\"Iris-virginica\"},{\"SepalLength\":7.3,\"SepalWidth\":2.9,\"PetalLength\":6.3,\"PetalWidth\":1.8,\"Name\":\"Iris-virginica\"},{\"SepalLength\":6.7,\"SepalWidth\":2.5,\"PetalLength\":5.8,\"PetalWidth\":1.8,\"Name\":\"Iris-virginica\"},{\"SepalLength\":7.2,\"SepalWidth\":3.6,\"PetalLength\":6.1,\"PetalWidth\":2.5,\"Name\":\"Iris-virginica\"},{\"SepalLength\":6.5,\"SepalWidth\":3.2,\"PetalLength\":5.1,\"PetalWidth\":2.0,\"Name\":\"Iris-virginica\"},{\"SepalLength\":6.4,\"SepalWidth\":2.7,\"PetalLength\":5.3,\"PetalWidth\":1.9,\"Name\":\"Iris-virginica\"},{\"SepalLength\":6.8,\"SepalWidth\":3.0,\"PetalLength\":5.5,\"PetalWidth\":2.1,\"Name\":\"Iris-virginica\"},{\"SepalLength\":5.7,\"SepalWidth\":2.5,\"PetalLength\":5.0,\"PetalWidth\":2.0,\"Name\":\"Iris-virginica\"},{\"SepalLength\":5.8,\"SepalWidth\":2.8,\"PetalLength\":5.1,\"PetalWidth\":2.4,\"Name\":\"Iris-virginica\"},{\"SepalLength\":6.4,\"SepalWidth\":3.2,\"PetalLength\":5.3,\"PetalWidth\":2.3,\"Name\":\"Iris-virginica\"},{\"SepalLength\":6.5,\"SepalWidth\":3.0,\"PetalLength\":5.5,\"PetalWidth\":1.8,\"Name\":\"Iris-virginica\"},{\"SepalLength\":7.7,\"SepalWidth\":3.8,\"PetalLength\":6.7,\"PetalWidth\":2.2,\"Name\":\"Iris-virginica\"},{\"SepalLength\":7.7,\"SepalWidth\":2.6,\"PetalLength\":6.9,\"PetalWidth\":2.3,\"Name\":\"Iris-virginica\"},{\"SepalLength\":6.0,\"SepalWidth\":2.2,\"PetalLength\":5.0,\"PetalWidth\":1.5,\"Name\":\"Iris-virginica\"},{\"SepalLength\":6.9,\"SepalWidth\":3.2,\"PetalLength\":5.7,\"PetalWidth\":2.3,\"Name\":\"Iris-virginica\"},{\"SepalLength\":5.6,\"SepalWidth\":2.8,\"PetalLength\":4.9,\"PetalWidth\":2.0,\"Name\":\"Iris-virginica\"},{\"SepalLength\":7.7,\"SepalWidth\":2.8,\"PetalLength\":6.7,\"PetalWidth\":2.0,\"Name\":\"Iris-virginica\"},{\"SepalLength\":6.3,\"SepalWidth\":2.7,\"PetalLength\":4.9,\"PetalWidth\":1.8,\"Name\":\"Iris-virginica\"},{\"SepalLength\":6.7,\"SepalWidth\":3.3,\"PetalLength\":5.7,\"PetalWidth\":2.1,\"Name\":\"Iris-virginica\"},{\"SepalLength\":7.2,\"SepalWidth\":3.2,\"PetalLength\":6.0,\"PetalWidth\":1.8,\"Name\":\"Iris-virginica\"},{\"SepalLength\":6.2,\"SepalWidth\":2.8,\"PetalLength\":4.8,\"PetalWidth\":1.8,\"Name\":\"Iris-virginica\"},{\"SepalLength\":6.1,\"SepalWidth\":3.0,\"PetalLength\":4.9,\"PetalWidth\":1.8,\"Name\":\"Iris-virginica\"},{\"SepalLength\":6.4,\"SepalWidth\":2.8,\"PetalLength\":5.6,\"PetalWidth\":2.1,\"Name\":\"Iris-virginica\"},{\"SepalLength\":7.2,\"SepalWidth\":3.0,\"PetalLength\":5.8,\"PetalWidth\":1.6,\"Name\":\"Iris-virginica\"},{\"SepalLength\":7.4,\"SepalWidth\":2.8,\"PetalLength\":6.1,\"PetalWidth\":1.9,\"Name\":\"Iris-virginica\"},{\"SepalLength\":7.9,\"SepalWidth\":3.8,\"PetalLength\":6.4,\"PetalWidth\":2.0,\"Name\":\"Iris-virginica\"},{\"SepalLength\":6.4,\"SepalWidth\":2.8,\"PetalLength\":5.6,\"PetalWidth\":2.2,\"Name\":\"Iris-virginica\"},{\"SepalLength\":6.3,\"SepalWidth\":2.8,\"PetalLength\":5.1,\"PetalWidth\":1.5,\"Name\":\"Iris-virginica\"},{\"SepalLength\":6.1,\"SepalWidth\":2.6,\"PetalLength\":5.6,\"PetalWidth\":1.4,\"Name\":\"Iris-virginica\"},{\"SepalLength\":7.7,\"SepalWidth\":3.0,\"PetalLength\":6.1,\"PetalWidth\":2.3,\"Name\":\"Iris-virginica\"},{\"SepalLength\":6.3,\"SepalWidth\":3.4,\"PetalLength\":5.6,\"PetalWidth\":2.4,\"Name\":\"Iris-virginica\"},{\"SepalLength\":6.4,\"SepalWidth\":3.1,\"PetalLength\":5.5,\"PetalWidth\":1.8,\"Name\":\"Iris-virginica\"},{\"SepalLength\":6.0,\"SepalWidth\":3.0,\"PetalLength\":4.8,\"PetalWidth\":1.8,\"Name\":\"Iris-virginica\"},{\"SepalLength\":6.9,\"SepalWidth\":3.1,\"PetalLength\":5.4,\"PetalWidth\":2.1,\"Name\":\"Iris-virginica\"},{\"SepalLength\":6.7,\"SepalWidth\":3.1,\"PetalLength\":5.6,\"PetalWidth\":2.4,\"Name\":\"Iris-virginica\"},{\"SepalLength\":6.9,\"SepalWidth\":3.1,\"PetalLength\":5.1,\"PetalWidth\":2.3,\"Name\":\"Iris-virginica\"},{\"SepalLength\":5.8,\"SepalWidth\":2.7,\"PetalLength\":5.1,\"PetalWidth\":1.9,\"Name\":\"Iris-virginica\"},{\"SepalLength\":6.8,\"SepalWidth\":3.2,\"PetalLength\":5.9,\"PetalWidth\":2.3,\"Name\":\"Iris-virginica\"},{\"SepalLength\":6.7,\"SepalWidth\":3.3,\"PetalLength\":5.7,\"PetalWidth\":2.5,\"Name\":\"Iris-virginica\"},{\"SepalLength\":6.7,\"SepalWidth\":3.0,\"PetalLength\":5.2,\"PetalWidth\":2.3,\"Name\":\"Iris-virginica\"},{\"SepalLength\":6.3,\"SepalWidth\":2.5,\"PetalLength\":5.0,\"PetalWidth\":1.9,\"Name\":\"Iris-virginica\"},{\"SepalLength\":6.5,\"SepalWidth\":3.0,\"PetalLength\":5.2,\"PetalWidth\":2.0,\"Name\":\"Iris-virginica\"},{\"SepalLength\":6.2,\"SepalWidth\":3.4,\"PetalLength\":5.4,\"PetalWidth\":2.3,\"Name\":\"Iris-virginica\"},{\"SepalLength\":5.9,\"SepalWidth\":3.0,\"PetalLength\":5.1,\"PetalWidth\":1.8,\"Name\":\"Iris-virginica\"}]`),\n",
       "            {\n",
       "                rows: [\"Name\"],\n",
       "                cols: [\"PetalWidth\"],\n",
       "                rendererName: 'Table',\n",
       "                showUI: true\n",
       "            }\n",
       "        ) \n",
       "    }, 1000);\n",
       "    </script>\n",
       "    "
      ],
      "text/plain": [
       "<IPython.core.display.HTML object>"
      ]
     },
     "metadata": {},
     "output_type": "display_data"
    }
   ],
   "source": [
    "pivot_data(df, rows='Name', cols=['PetalWidth'], output_id='output12', renderName='Table')"
   ]
  },
  {
   "cell_type": "code",
   "execution_count": null,
   "metadata": {},
   "outputs": [],
   "source": [
    "#hide \n",
    "pivot_init()\n",
    "\n",
    "# Table Table Barchart, Heatmap, Row Heatmap, Col Heatmap\n",
    "pivot_data(df, rows='Name', cols=['PetalWidth'], output_id='output12', renderName='Table')"
   ]
  },
  {
   "cell_type": "markdown",
   "metadata": {},
   "source": [
    "Perform typical python data science operations "
   ]
  },
  {
   "cell_type": "code",
   "execution_count": null,
   "metadata": {},
   "outputs": [],
   "source": [
    "#hide \n",
    "import pandas as pd\n",
    "\n",
    "# Example DataFrame\n",
    "data = {\n",
    "    'Name': ['Alice', 'Bob', 'Charlie'],\n",
    "    'Age': [25, 30, 35],\n",
    "    'City': ['New York', 'Paris', 'London'] \n",
    "}\n",
    "df = pd.DataFrame(data)\n",
    "df = pd.read_csv('https://raw.githubusercontent.com/plotly/datasets/master/iris.csv') "
   ]
  },
  {
   "cell_type": "markdown",
   "metadata": {},
   "source": [
    "Methods:"
   ]
  },
  {
   "cell_type": "markdown",
   "metadata": {},
   "source": [
    "1. Display the data interactively."
   ]
  },
  {
   "cell_type": "code",
   "execution_count": null,
   "metadata": {},
   "outputs": [],
   "source": [
    "#hide \n",
    "pivot_data(df)"
   ]
  },
  {
   "cell_type": "markdown",
   "metadata": {},
   "source": [
    "A new visual is created each time unless you use a referenced id."
   ]
  },
  {
   "cell_type": "code",
   "execution_count": null,
   "metadata": {},
   "outputs": [],
   "source": [
    "#hide \n",
    "pivot_data(df, output_id='output1')"
   ]
  },
  {
   "cell_type": "markdown",
   "metadata": {},
   "source": [
    "2. Update the referenced table to display a specific column, row, and visualization type"
   ]
  },
  {
   "cell_type": "code",
   "execution_count": null,
   "metadata": {},
   "outputs": [],
   "source": [
    "#hide \n",
    "# Table Table Barchart, Heatmap, Row Heatmap, Col Heatmap\n",
    "pivot_data(df, rows='Name', cols=['PetalWidth'], output_id='output12', renderName='Table Barchart')"
   ]
  },
  {
   "cell_type": "code",
   "execution_count": null,
   "metadata": {},
   "outputs": [],
   "source": [
    "#hide \n",
    "import pivottablejs"
   ]
  },
  {
   "cell_type": "code",
   "execution_count": null,
   "metadata": {},
   "outputs": [],
   "source": [
    "#hide \n",
    "import dataplay"
   ]
  },
  {
   "cell_type": "code",
   "execution_count": null,
   "metadata": {},
   "outputs": [],
   "source": [
    "#hide \n",
    "geoloom_gdf = dataplay.geoms.readInGeometryData(\n",
    "    url=geoloom_gdf_url, \n",
    "    porg=False, \n",
    "    geom='geometry', \n",
    "    lat=False, \n",
    "    lng=False, \n",
    "    revgeocode=False,  \n",
    "    save=False, \n",
    "    in_crs=4326, \n",
    "    out_crs=False\n",
    ")"
   ]
  },
  {
   "cell_type": "markdown",
   "metadata": {},
   "source": [
    "</details>\n",
    "<details>\n",
    "<summary>"
   ]
  },
  {
   "cell_type": "markdown",
   "metadata": {},
   "source": [
    "## test"
   ]
  },
  {
   "cell_type": "markdown",
   "metadata": {},
   "source": [
    "</summary>"
   ]
  },
  {
   "cell_type": "code",
   "execution_count": null,
   "metadata": {},
   "outputs": [],
   "source": [
    "#hide_input #hide_output\n",
    "# Run this when in dev for autoreload of imported local module changes\n",
    "%load_ext autoreload\n",
    "#reload all modules every time before executing the Python code typed.\n",
    "%autoreload 2 "
   ]
  },
  {
   "cell_type": "code",
   "execution_count": null,
   "metadata": {},
   "outputs": [],
   "source": [
    "#hide_input #hide_output\n",
    "import pandas as pd\n",
    "pd.set_option('display.max_colwidth', 3)\n",
    "pd.set_option('max_colwidth', 20)\n",
    "pd.set_option('display.expand_frame_repr', False)\n",
    "pd.set_option('display.precision', 2)"
   ]
  },
  {
   "cell_type": "code",
   "execution_count": null,
   "metadata": {},
   "outputs": [],
   "source": [
    "#hide_input #hide_output\n",
    "# configures the shell to display the output of all expressions executed in a cell, not just the last one.\n",
    "from IPython.core.interactiveshell import InteractiveShell\n",
    "InteractiveShell.ast_node_interactivity = \"all\""
   ]
  },
  {
   "cell_type": "code",
   "execution_count": null,
   "metadata": {},
   "outputs": [],
   "source": [
    "#hide_input \n",
    "from dataplay import pivot\n",
    "help(pivot)"
   ]
  },
  {
   "cell_type": "code",
   "execution_count": null,
   "metadata": {},
   "outputs": [],
   "source": [
    "#hide \n",
    "import pandas as pd\n",
    "\n",
    "# Example DataFrame\n",
    "data = {\n",
    "    'Name': ['Alice', 'Bob', 'Charlie'],\n",
    "    'Age': [25, 30, 35],\n",
    "    'City': ['New York', 'Paris', 'London'] \n",
    "}\n",
    "df = pd.DataFrame(data)"
   ]
  },
  {
   "cell_type": "code",
   "execution_count": null,
   "metadata": {},
   "outputs": [],
   "source": [
    "pivot.pivot_init()"
   ]
  },
  {
   "cell_type": "code",
   "execution_count": null,
   "metadata": {},
   "outputs": [],
   "source": [
    "pivot.pivot_data(df)"
   ]
  },
  {
   "cell_type": "markdown",
   "metadata": {},
   "source": [
    "</details>"
   ]
  }
 ],
 "metadata": {
  "kernelspec": {
   "display_name": "Python 3",
   "language": "python",
   "name": "python3"
  },
  "language_info": {
   "codemirror_mode": {
    "name": "ipython",
    "version": 3
   },
   "file_extension": ".py",
   "mimetype": "text/x-python",
   "name": "python",
   "nbconvert_exporter": "python",
   "pygments_lexer": "ipython3",
   "version": "3.11.6"
  }
 },
 "nbformat": 4,
 "nbformat_minor": 2
}
