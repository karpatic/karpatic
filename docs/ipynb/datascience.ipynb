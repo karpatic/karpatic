{
 "cells": [
  {
   "attachments": {},
   "cell_type": "markdown",
   "metadata": {},
   "source": [
    "# Data Science\n",
    "> Listing out my data science notes in article form.\n",
    "\n",
    "- badges: false\n",
    "- comments: false\n",
    "- filename: datascience\n",
    "- hide: false\n",
    "- image: images/company_logo.png\n",
    "- keywords: ['3D','3D Printing', 'Crypto', 'metaverse', 'navigation']\n",
    "- tab: Data Science\n",
    "- template: template_article\n",
    "- toc: false\n",
    "- sitemap: mapdatascience.json"
   ]
  },
  {
   "attachments": {},
   "cell_type": "markdown",
   "metadata": {},
   "source": [
    "<details open class=\"details\">\n",
    "<summary>"
   ]
  },
  {
   "attachments": {},
   "cell_type": "markdown",
   "metadata": {},
   "source": [
    "## Links:"
   ]
  },
  {
   "cell_type": "markdown",
   "metadata": {},
   "source": [
    "</summary>"
   ]
  },
  {
   "attachments": {},
   "cell_type": "markdown",
   "metadata": {},
   "source": [
    "I have a bunch of notes on random things I catalog here. \n",
    "\n",
    "The article contents may stray from the page title.\n",
    "\n",
    "I can't speak to the veracity nor fidelity of it all but I'm sharing em!\n",
    "\n",
    "A lot if these pages are timelines or help put things into context for me.\n",
    "\n",
    "Contact charles.karpati@gmail.com should you have any revisions, questions, comments, or concerns!\n",
    "\n",
    "- <a href='index.html'>Data Types</a> - Just the basics\n",
    "- <a href='index.html'>Exploratory Data Analysis</a> - Just the basics\n",
    "- <a href='index.html'>Clustering</a> - & Association notes\n",
    "- <a href='index.html'>Discriminant Analysis</a> - & Regression testing notes\n",
    "- <a href='index.html'>Stationarity</a> - Notes on \n",
    "- <a href='index.html'>Spatial</a> - Notes on working with spatial data\n",
    "- <a href='index.html'>Geospatial Timeseries</a> - Notes\n",
    "- <a href='index.html'>Linear Regression</a> - Types and purposes\n",
    "- <a href='index.html'>Machine Learning</a> - Overview"
   ]
  },
  {
   "attachments": {},
   "cell_type": "markdown",
   "metadata": {},
   "source": [
    "</details>"
   ]
  }
 ],
 "metadata": {
  "kernelspec": {
   "display_name": "Python 3.10.2 64-bit",
   "language": "python",
   "name": "python3"
  },
  "language_info": {
   "codemirror_mode": {
    "name": "ipython",
    "version": 3
   },
   "file_extension": ".py",
   "mimetype": "text/x-python",
   "name": "python",
   "nbconvert_exporter": "python",
   "pygments_lexer": "ipython3",
   "version": "3.10.2"
  },
  "orig_nbformat": 4,
  "vscode": {
   "interpreter": {
    "hash": "046b844cfe77f56867adc884800e389906328c66f60829dd4497d230d7e2d321"
   }
  }
 },
 "nbformat": 4,
 "nbformat_minor": 2
}
