{
 "cells": [
  {
   "attachments": {},
   "cell_type": "markdown",
   "metadata": {},
   "source": [
    "# Homepage\n",
    "> Explore pages of topical interest.\n",
    "\n",
    "- keywords: ['3D','3D Printing', 'Crypto', 'metaverse', 'navigation']\n",
    "- tab: Home\n",
    "- hide_sitemap: true"
   ]
  },
  {
   "attachments": {},
   "cell_type": "markdown",
   "metadata": {},
   "source": [
    "<script type=\"application/ld+json\">{\"@context\": \"http://schema.org\",\"@type\": \"WebPage\",\"name\": \"Homepage of Charles Karpati\",\"description\": \"Explore pages of topical interest.\",\"publisher\": {\"@type\": \"ProfilePage\",\"name\": \"My Site\"}}</script>"
   ]
  },
  {
   "attachments": {},
   "cell_type": "markdown",
   "metadata": {},
   "source": [
    "<details open>\n",
    "<summary>"
   ]
  },
  {
   "attachments": {},
   "cell_type": "markdown",
   "metadata": {},
   "source": [
    "## Welcome!"
   ]
  },
  {
   "attachments": {},
   "cell_type": "markdown",
   "metadata": {},
   "source": [
    "</summary>"
   ]
  },
  {
   "attachments": {},
   "cell_type": "markdown",
   "metadata": {},
   "source": [
    "Welcome to my website!\n",
    "\n",
    "If you want to learn more about me, [README](https://github.com/karpatic). \n",
    "\n",
    "My Notes:\n",
    "\n",
    "This place is a bit of a dumping ground for all the miscellaneous, non-private, notes in my life. Read my [blog](./blog.html), and the ever-unfinished notes on: [Data Science](./datascience.html), [Software](./software.html), and [Web Development](./webdev.html). I also share my write-ups from various python [notebooks](./labs.html).\n",
    "\n",
    "Past Hobby Projects: \n",
    "\n",
    "I’ve developed [RideMap](https://carlos-a-diez.com/euc/index.html?), [Shp2stl](https://carlos-a-diez.com/shp2stl/), [RecapsRobot](https://recapsrobot.com), [A-Maze-Ring](https://carlos-a-diez.com/maze/), an Itunes [Music Explorer](https://carlos-a-diez.com/music) and [DJ Panel](https://carlos-a-diez.com/music/dj.html) for which to be bemused. \n",
    "\n",
    "Published Libraries:\n",
    "\n",
    "If you are a developer, perhaps my libraries may intert you. I've published on [PyPI](https://pypi.org/user/karpatic/) and [NPM](https://www.npmjs.com/~karpatic) and am working on [vanillaPivotTable](https://carlos-a-diez.com/vanillapivottable/), [bundless](https://bundless.dev/), and PivotSync.\n",
    "\n"
   ]
  },
  {
   "cell_type": "markdown",
   "metadata": {},
   "source": [
    "</details>"
   ]
  }
 ],
 "metadata": {
  "kernelspec": {
   "display_name": "Python 3.10.2 64-bit",
   "language": "python",
   "name": "python3"
  },
  "language_info": {
   "codemirror_mode": {
    "name": "ipython",
    "version": 3
   },
   "file_extension": ".py",
   "mimetype": "text/x-python",
   "name": "python",
   "nbconvert_exporter": "python",
   "pygments_lexer": "ipython3",
   "version": "3.10.2"
  },
  "orig_nbformat": 4,
  "vscode": {
   "interpreter": {
    "hash": "046b844cfe77f56867adc884800e389906328c66f60829dd4497d230d7e2d321"
   }
  }
 },
 "nbformat": 4,
 "nbformat_minor": 2
}
