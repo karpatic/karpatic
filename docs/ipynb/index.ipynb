{
 "cells": [
  {
   "attachments": {},
   "cell_type": "markdown",
   "metadata": {},
   "source": [
    "# Homepage\n",
    "> Explore pages of topical interest.\n",
    "\n",
    "- tab: Home\n",
    "- keywords: ['3D','3D Printing', 'Crypto', 'metaverse', 'navigation'] \n",
    "- hide_sitemap: true\n",
    "- hide_toc: true\n",
    "- hide_breadcrumbs: true"
   ]
  },
  {
   "attachments": {},
   "cell_type": "markdown",
   "metadata": {},
   "source": [
    "<script type=\"application/ld+json\">{\"@context\": \"http://schema.org\",\"@type\": \"WebPage\",\"name\": \"Homepage of Charles Karpati\",\"description\": \"Explore pages of topical interest.\",\"publisher\": {\"@type\": \"ProfilePage\",\"name\": \"My Site\"}}</script>"
   ]
  },
  {
   "attachments": {},
   "cell_type": "markdown",
   "metadata": {},
   "source": [
    "<details open>\n",
    "<summary>"
   ]
  },
  {
   "attachments": {},
   "cell_type": "markdown",
   "metadata": {},
   "source": [
    "## Welcome!"
   ]
  },
  {
   "attachments": {},
   "cell_type": "markdown",
   "metadata": {},
   "source": [
    "</summary>"
   ]
  },
  {
   "attachments": {},
   "cell_type": "markdown",
   "metadata": {},
   "source": [
    "My name is Charles Karpati, though some know me as Carlos. A lifelong Marylander since ’94, I'm passionate about music, technology, and everything the great outdoors has to offer. You can find my [CV on Github](https://github.com/karpatic).  \n",
    "\n",
    "Use this page to explore my past works, my [blog](./blog.html), or any of these topical notes:  \n",
    "\n",
    ":::::: {.card-container}\n",
    "::: {.card} \n",
    "[Data Science](./datascience.html)\n",
    "Explore the world of data analysis, machine learning, and statistical techniques.\n",
    ":::\n",
    "::: {.card} \n",
    "[Software](./software.html)\n",
    "Learn about software development principles, tools, and best practices.\n",
    ":::\n",
    "::: {.card} \n",
    "[Web Development](./webdev.html)\n",
    "Dive into front-end and back-end web development concepts, frameworks, and technologies.\n",
    ":::\n",
    "::: {.card} \n",
    "[Labs](./labs.html)\n",
    "Check out my Python notebooks and experimental projects.\n",
    ":::\n",
    ":::::: \n",
    "\n",
    "### Past Hobby Projects\n",
    "\n",
    "Over the years, I've developed several interesting projects, including:  \n",
    "\n",
    ":::::: {.card-container}\n",
    "::: {.card}\n",
    "![Index](./index.png)\n",
    "[A-Maze-Ring](https://carlos-a-diez.com/maze/)\n",
    "Create 3D printable mazes that you can wear as a ring!\n",
    ":::\n",
    "::: {.card}\n",
    "![Index](./index.png)\n",
    "[Shp2stl](https://carlos-a-diez.com/shp2stl/)\n",
    "Turns maps or svgs 3D printable compartmentalized boxes.\n",
    ":::\n",
    "::: {.card}\n",
    "![Index](./index.png)\n",
    "[EucApp](https://getfrom.net/euc/connect.html)\n",
    "A webapp to connect to electric unicycles.\n",
    ":::\n",
    "::: {.card}\n",
    "![Index](./index.png)\n",
    "[RideMap](https://carlos-a-diez.com/euc/index.html?)\n",
    "Visualizing electric unicycle GPS data.\n",
    "::: \n",
    "::: {.card}\n",
    "![Index](./index.png)\n",
    "[RecapsRobot](https://recapsrobot.com)\n",
    "An automated system for generating telegram chat recaps, summaries, and more\n",
    ":::\n",
    "::: {.card}\n",
    "![Index](./index.png)\n",
    "[EasyJobApps](https://recapsrobot.com)\n",
    "Generates PDF tailored resumes given a job description and an optional chat with a bot.\n",
    ":::\n",
    "::: {.card}\n",
    "![Index](./index.png)\n",
    "[Legal CaseTools](https://casetools.karpatilaw.com)\n",
    "Tools for legal professionals to manage case data and documents.\n",
    ":::\n",
    "::: {.card}\n",
    "![Index](./index.png)\n",
    "[DJ Panel](https://carlos-a-diez.com/music/dj.html)\n",
    "A customizable DJ interface for music selection and mixing.\n",
    ":::\n",
    "::: {.card}\n",
    "![Index](./index.png)\n",
    "[iTunes Music Explorer](https://carlos-a-diez.com/music)\n",
    "Explore iTunes RSS feed of top selling tracks by country and category.\n",
    ":::\n",
    "::: {.card}\n",
    "![Index](./index.png)\n",
    "[Goofy Soundboard](https://carlos-a-diez.com/idea.html)\n",
    "A fun soundboard with a variety of humorous audio clips.\n",
    "::: \n",
    "::: {.card}\n",
    "![Index](./index.png)\n",
    "[AI Website Generator](https://carlos-a-diez.com/idea.html)\n",
    "An AI-powered platform for generating websites based on user input.\n",
    ":::\n",
    "::::::  \n",
    "\n",
    "Feel free to explore these fun creations! \n",
    "\n",
    "### Published Libraries\n",
    "\n",
    "If you're a developer, you might find my libraries useful. I have published packages on:  \n",
    "\n",
    ":::::: {.card-container}\n",
    "::: {.card} \n",
    "[PyPI](https://pypi.org/user/karpatic/)\n",
    "Explore my Python libraries published on PyPI for various utilities and tools.\n",
    ":::\n",
    "::: {.card} \n",
    "[NPM](https://npm.org/user/karpatic/)\n",
    "Find my JavaScript packages and libraries on NPM.\n",
    ":::\n",
    "::::::  \n",
    "\n",
    "Currently, I'm working on:  \n",
    "\n",
    ":::::: {.card-container}\n",
    "::: {.card} \n",
    "[vanillaPivotTable](https://carlos-a-diez.com/vanillapivottable/) \n",
    "A lightweight, no-dependency pivot table solution for your data analysis needs.\n",
    ":::\n",
    "::: {.card} \n",
    "[Bundless](https://bundless.dev/) \n",
    "A modern bundling tool for fast, efficient web development workflows.\n",
    ":::\n",
    "::: {.card} \n",
    "[PivotSync](https://bundless.dev/) \n",
    "A tool to sync pivot tables across different environments and systems.\n",
    "::: \n",
    ":::::: \n",
    "\n",
    "\n",
    "<small>\n",
    "A few projects and libraries I did not list. The few that come to mind revolve around lights, my time at voxels, and libraries from BNIA and Addy-AI.\n",
    "</small>"
   ]
  },
  {
   "cell_type": "markdown",
   "metadata": {},
   "source": [
    "</details>"
   ]
  }
 ],
 "metadata": {
  "kernelspec": {
   "display_name": "Python 3.10.2 64-bit",
   "language": "python",
   "name": "python3"
  },
  "language_info": {
   "codemirror_mode": {
    "name": "ipython",
    "version": 3
   },
   "file_extension": ".py",
   "mimetype": "text/x-python",
   "name": "python",
   "nbconvert_exporter": "python",
   "pygments_lexer": "ipython3",
   "version": "3.10.2"
  },
  "orig_nbformat": 4,
  "vscode": {
   "interpreter": {
    "hash": "046b844cfe77f56867adc884800e389906328c66f60829dd4497d230d7e2d321"
   }
  }
 },
 "nbformat": 4,
 "nbformat_minor": 2
}
