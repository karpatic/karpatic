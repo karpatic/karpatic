{
 "cells": [
  {
   "attachments": {},
   "cell_type": "markdown",
   "metadata": {},
   "source": [
    "# Homepage\n",
    "> Welcome to my site!\n",
    "\n",
    "- badges: false\n",
    "- comments: false\n",
    "- filename: index\n",
    "- hide: false\n",
    "- image: images/company_logo.png\n",
    "- keywords: ['3D','3D Printing', 'Crypto', 'metaverse', 'navigation']\n",
    "- tab: Home\n",
    "- template: template_article\n",
    "- toc: false\n",
    "- sitemap: sitemap.json\n",
    "- toc: false"
   ]
  },
  {
   "attachments": {},
   "cell_type": "markdown",
   "metadata": {},
   "source": [
    "<details open style=\"background:rgba(170, 170, 170, .1)\">\n",
    "<summary>"
   ]
  },
  {
   "attachments": {},
   "cell_type": "markdown",
   "metadata": {},
   "source": [
    "## Links:"
   ]
  },
  {
   "cell_type": "markdown",
   "metadata": {},
   "source": [
    "</summary>"
   ]
  },
  {
   "attachments": {},
   "cell_type": "markdown",
   "metadata": {},
   "source": [
    "This site has only just been made. Not much content yet.\n",
    "\n",
    "Here's what I got. Your pickings:\n",
    "\n",
    "- <a href='lights.html'>Lightshow</a> Controller - For an ESP32 Lightshow.\n",
    "- <a href='https://cvminigames.com'>CVMiniGames</a> - A fanpage for voxels.com. Content published but raw."
   ]
  },
  {
   "attachments": {},
   "cell_type": "markdown",
   "metadata": {},
   "source": [
    "</details>"
   ]
  },
  {
   "cell_type": "code",
   "execution_count": null,
   "metadata": {},
   "outputs": [],
   "source": [
    "%%capture \n",
    "<style>html{overflow: hidden;}</style>\n",
    "<iframe \n",
    "  height='800px;' \n",
    "  width='100%' \n",
    "  src='https://observablehq.com/embed/@karpatic/webmap?\n",
    "\tcell=style&\n",
    "\tcell=banner&\n",
    "\tcell=greetings&\n",
    "\tcell=graph&\n",
    "\tcell=squiggle'>\n",
    "</iframe>"
   ]
  }
 ],
 "metadata": {
  "kernelspec": {
   "display_name": "Python 3.10.2 64-bit",
   "language": "python",
   "name": "python3"
  },
  "language_info": {
   "codemirror_mode": {
    "name": "ipython",
    "version": 3
   },
   "file_extension": ".py",
   "mimetype": "text/x-python",
   "name": "python",
   "nbconvert_exporter": "python",
   "pygments_lexer": "ipython3",
   "version": "3.10.2"
  },
  "orig_nbformat": 4,
  "vscode": {
   "interpreter": {
    "hash": "046b844cfe77f56867adc884800e389906328c66f60829dd4497d230d7e2d321"
   }
  }
 },
 "nbformat": 4,
 "nbformat_minor": 2
}
