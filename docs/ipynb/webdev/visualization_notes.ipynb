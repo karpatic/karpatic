{
 "cells": [
  {
   "cell_type": "markdown",
   "metadata": {},
   "source": [
    "# Visualization Notes\n",
    "> Viz Notes \n",
    "\n",
    "- prettify: true\n",
    "- keywords: ['Javascript'] \n",
    "- hide_sitemap: false \n",
    "- hide_toc: true\n",
    "- hide_breadcrumbs: true"
   ]
  },
  {
   "cell_type": "markdown",
   "metadata": {
    "id": "HC5L0sEQAF9D"
   },
   "source": []
  },
  {
   "cell_type": "code",
   "execution_count": 16,
   "metadata": {
    "colab": {
     "base_uri": "https://localhost:8080/",
     "height": 379
    },
    "executionInfo": {
     "elapsed": 152,
     "status": "ok",
     "timestamp": 1673471422082,
     "user": {
      "displayName": "Charles Karpati",
      "userId": "06248540216665543849"
     },
     "user_tz": 300
    },
    "id": "zGRs3dn56Ezk",
    "outputId": "c547a571-0d89-49c2-e0a2-a14e582d5d36"
   },
   "outputs": [
    {
     "data": {
      "text/html": [
       "<div id='txtcontainer'>\n",
       "<h1 id='txttxt'>It's FRIDAY!</h1>\n",
       "</div>\n",
       "<style>\n",
       "@import url('https://fonts.googleapis.com/css?family=Luckiest+Guy');\n",
       "\n",
       "#txtcontainer { \n",
       "  font-family: 'Luckiest Guy', cursive;\n",
       "}\n",
       "\n",
       "#txttxt {\n",
       "  line-height: normal !important;\n",
       "  font-size: 15vw;\n",
       "  background-image: url(https://unsplash.it/801);\n",
       "  background-size: cover;\n",
       "  background-clip: text;\n",
       "  -webkit-background-clip: text;\n",
       "  color: transparent;\n",
       "}\n",
       "\n",
       "\n",
       "</style>\n"
      ],
      "text/plain": [
       "<IPython.core.display.HTML object>"
      ]
     },
     "metadata": {},
     "output_type": "display_data"
    }
   ],
   "source": [
    "%%html\n",
    "<div id='txtcontainer'>\n",
    "<h1 id='txttxt'>It's FRIDAY!</h1>\n",
    "</div>\n",
    "<style>\n",
    "@import url('https://fonts.googleapis.com/css?family=Luckiest+Guy');\n",
    "\n",
    "#txtcontainer { \n",
    "  font-family: 'Luckiest Guy', cursive;\n",
    "}\n",
    "\n",
    "#txttxt {\n",
    "  line-height: normal !important;\n",
    "  font-size: 15vw;\n",
    "  background-image: url(https://unsplash.it/801);\n",
    "  background-size: cover;\n",
    "  background-clip: text;\n",
    "  -webkit-background-clip: text;\n",
    "  color: transparent;\n",
    "}\n",
    "\n",
    " \n",
    "</style>"
   ]
  },
  {
   "cell_type": "markdown",
   "metadata": {
    "id": "rnpdJ-vzMXj8"
   },
   "source": [
    "https://ipython.readthedocs.io/en/stable/interactive/magics.html#line-magics"
   ]
  },
  {
   "cell_type": "markdown",
   "metadata": {
    "id": "2En6XEUobISw"
   },
   "source": [
    "masks are images; clips are paths.\n",
    "mask: transparent where applied (black) and opaque (normal) where there is white.\n",
    "Outside the path is transparent, inside the path is opaque.\n",
    "\n",
    "<mpath> references an outside <path> for motion.\n",
    "\n",
    "The clip property is deprecated in CSS\n",
    "The new, recommend version of applying clipping to elements in CSS is clip-path\n",
    "https://bennettfeely.com/clippy/"
   ]
  },
  {
   "cell_type": "markdown",
   "metadata": {
    "id": "zI7v-czHi4mw"
   },
   "source": [
    "In CSS"
   ]
  },
  {
   "cell_type": "markdown",
   "metadata": {
    "id": "hh4W3PBKi79m"
   },
   "source": [
    "in SVG\n",
    "problem is that  browsers pin them to the upper left of the document."
   ]
  },
  {
   "cell_type": "markdown",
   "metadata": {},
   "source": [
    "    <link rel='stylesheet' media='screen and (min-width: 701px) and (max-width: 900px)' href='css/medium.css' />"
   ]
  },
  {
   "cell_type": "code",
   "execution_count": null,
   "metadata": {
    "id": "hLKfrCAijbDs"
   },
   "outputs": [],
   "source": [
    "#hide \n",
    "https://developer.mozilla.org/en-US/docs/Web/SVG/Element/mask \n",
    "https://css-tricks.com/clipping-masking-css/\n",
    "https://developer.mozilla.org/en-US/docs/Web/SVG/Element/animateMotion"
   ]
  },
  {
   "cell_type": "code",
   "execution_count": 17,
   "metadata": {
    "colab": {
     "base_uri": "https://localhost:8080/",
     "height": 221
    },
    "executionInfo": {
     "elapsed": 128,
     "status": "ok",
     "timestamp": 1672800046324,
     "user": {
      "displayName": "Charles Karpati",
      "userId": "06248540216665543849"
     },
     "user_tz": 300
    },
    "id": "sSCV3z-ypeVq",
    "outputId": "3de2c5f0-83c3-4cd0-a390-ed69ab836ef3"
   },
   "outputs": [
    {
     "data": {
      "text/html": [
       "<svg   width=\"200px\" height=\"200px\" viewBox=\"0 0 200 100\" xmlns=\"http://www.w3.org/2000/svg\">\n",
       "  <path fill=\"none\" stroke=\"lightgrey\"\n",
       "    d=\"M20,50 C20,-50 180,150 180,50 C180-50 20,150 20,50 z\" />\n",
       "  <circle r=\"5\" fill=\"red\">\n",
       "    <animateMotion dur=\"10s\" repeatCount=\"indefinite\"\n",
       "      path=\"M20,50 C20,-50 180,150 180,50 C180-50 20,150 20,50 z\" />\n",
       "  </circle>\n",
       "</svg>\n"
      ],
      "text/plain": [
       "<IPython.core.display.HTML object>"
      ]
     },
     "metadata": {},
     "output_type": "display_data"
    }
   ],
   "source": [
    "%%html\n",
    "<svg   width=\"200px\" height=\"200px\" viewBox=\"0 0 200 100\" xmlns=\"http://www.w3.org/2000/svg\">\n",
    "  <path fill=\"none\" stroke=\"lightgrey\"\n",
    "    d=\"M20,50 C20,-50 180,150 180,50 C180-50 20,150 20,50 z\" />\n",
    "  <circle r=\"5\" fill=\"red\">\n",
    "    <animateMotion dur=\"10s\" repeatCount=\"indefinite\"\n",
    "      path=\"M20,50 C20,-50 180,150 180,50 C180-50 20,150 20,50 z\" />\n",
    "  </circle>\n",
    "</svg>"
   ]
  },
  {
   "cell_type": "markdown",
   "metadata": {
    "id": "8IbCh0ZNN73c"
   },
   "source": [
    "https://developer.mozilla.org/en-US/docs/Web/SVG/Element/mpath"
   ]
  },
  {
   "cell_type": "code",
   "execution_count": 18,
   "metadata": {
    "colab": {
     "base_uri": "https://localhost:8080/",
     "height": 221
    },
    "executionInfo": {
     "elapsed": 141,
     "status": "ok",
     "timestamp": 1672799949379,
     "user": {
      "displayName": "Charles Karpati",
      "userId": "06248540216665543849"
     },
     "user_tz": 300
    },
    "id": "uowFf6eLosvc",
    "outputId": "3083eefc-4218-4e1f-cb20-376b9c5cc28f"
   },
   "outputs": [
    {
     "data": {
      "text/html": [
       "<svg\n",
       "  width=\"200px\"\n",
       "  height=\"200px\"\n",
       "  viewBox=\"0 0 500 300\"\n",
       "  xmlns=\"http://www.w3.org/2000/svg\"\n",
       "  xmlns:xlink=\"http://www.w3.org/1999/xlink\">\n",
       "  <rect\n",
       "    x=\"1\"\n",
       "    y=\"1\"\n",
       "    width=\"498\"\n",
       "    height=\"298\"\n",
       "    fill=\"none\"\n",
       "    stroke=\"blue\"\n",
       "    stroke-width=\"2\" />\n",
       "\n",
       "  <!-- Draw the outline of the motion path in blue, along\n",
       "          with three small circles at the start, middle and end. -->\n",
       "  <path\n",
       "    id=\"path1\"\n",
       "    d=\"M100,250 C 100,50 400,50 400,250\"\n",
       "    fill=\"none\"\n",
       "    stroke=\"blue\"\n",
       "    stroke-width=\"7.06\" />\n",
       "  <circle cx=\"100\" cy=\"250\" r=\"17.64\" fill=\"blue\" />\n",
       "  <circle cx=\"250\" cy=\"100\" r=\"17.64\" fill=\"blue\" />\n",
       "  <circle cx=\"400\" cy=\"250\" r=\"17.64\" fill=\"blue\" />\n",
       "\n",
       "  <!-- Here is a triangle which will be moved about the motion path.\n",
       "       It is defined with an upright orientation with the base of\n",
       "       the triangle centered horizontally just above the origin. -->\n",
       "  <path\n",
       "    d=\"M-25,-12.5 L25,-12.5 L 0,-87.5 z\"\n",
       "    fill=\"yellow\"\n",
       "    stroke=\"red\"\n",
       "    stroke-width=\"7.06\">\n",
       "    <!-- Define the motion path animation -->\n",
       "    <animateMotion dur=\"6s\" repeatCount=\"indefinite\" rotate=\"auto\">\n",
       "      <mpath xlink:href=\"#path1\" />\n",
       "    </animateMotion>\n",
       "  </path>\n",
       "</svg>\n"
      ],
      "text/plain": [
       "<IPython.core.display.HTML object>"
      ]
     },
     "metadata": {},
     "output_type": "display_data"
    }
   ],
   "source": [
    "%%html\n",
    "<svg\n",
    "  width=\"200px\"\n",
    "  height=\"200px\"\n",
    "  viewBox=\"0 0 500 300\"\n",
    "  xmlns=\"http://www.w3.org/2000/svg\"\n",
    "  xmlns:xlink=\"http://www.w3.org/1999/xlink\">\n",
    "  <rect\n",
    "    x=\"1\"\n",
    "    y=\"1\"\n",
    "    width=\"498\"\n",
    "    height=\"298\"\n",
    "    fill=\"none\"\n",
    "    stroke=\"blue\"\n",
    "    stroke-width=\"2\" />\n",
    "\n",
    "  <!-- Draw the outline of the motion path in blue, along\n",
    "          with three small circles at the start, middle and end. -->\n",
    "  <path\n",
    "    id=\"path1\"\n",
    "    d=\"M100,250 C 100,50 400,50 400,250\"\n",
    "    fill=\"none\"\n",
    "    stroke=\"blue\"\n",
    "    stroke-width=\"7.06\" />\n",
    "  <circle cx=\"100\" cy=\"250\" r=\"17.64\" fill=\"blue\" />\n",
    "  <circle cx=\"250\" cy=\"100\" r=\"17.64\" fill=\"blue\" />\n",
    "  <circle cx=\"400\" cy=\"250\" r=\"17.64\" fill=\"blue\" />\n",
    "\n",
    "  <!-- Here is a triangle which will be moved about the motion path.\n",
    "       It is defined with an upright orientation with the base of\n",
    "       the triangle centered horizontally just above the origin. -->\n",
    "  <path\n",
    "    d=\"M-25,-12.5 L25,-12.5 L 0,-87.5 z\"\n",
    "    fill=\"yellow\"\n",
    "    stroke=\"red\"\n",
    "    stroke-width=\"7.06\">\n",
    "    <!-- Define the motion path animation -->\n",
    "    <animateMotion dur=\"6s\" repeatCount=\"indefinite\" rotate=\"auto\">\n",
    "      <mpath xlink:href=\"#path1\" />\n",
    "    </animateMotion>\n",
    "  </path>\n",
    "</svg>"
   ]
  },
  {
   "cell_type": "markdown",
   "metadata": {},
   "source": [
    "\n",
    "https://stackoverflow.com/questions/44215939/animate-image-on-svg-path"
   ]
  },
  {
   "cell_type": "code",
   "execution_count": null,
   "metadata": {},
   "outputs": [],
   "source": [
    "%%html\n",
    "<svg id=\"svg\">\n",
    "<path id=\"animatePath\" sroke=\"black\" stroke-width=\"30\" fill=\"none\" style=\"fill:none;stroke-linecap:butt;stroke-linejoin:miter;stroke-opacity:1\"\n",
    "  d=\"m 24.190476,40.065475 c 148.922614,0 136.071424,-65.767856 148.922614,0 12.85119,65.767855 25.70238,-43.8452368 12.85119,65.767855 -12.85119,109.61309 -12.85119,109.61309 -12.85119,109.61309\"\n",
    "/>\n",
    "\n",
    "<image id=\"car\" xlink:href=\"https://i.stack.imgur.com/gLbds.png\" y=\"-15\" x=\"-15\" width=\"25px\" height=\"25px\">\n",
    "  <animateMotion xlink:href=\"#car\" dur=\"20s\" repeatCount=\"1\" begin=\"start.click\" restart=\"whenNotActive\" > <mpath xlink:href=\"#animatePath\"/> </animateMotion>\n",
    "</image>\n",
    "<g id=\"start\"><rect x=\"120\" y=\"10\" width=\"80\" height=\"30\" rx=\"5\" fill=\"transparent\" stroke=\"#B59964\" /><text x=\"138\" y=\"33\" font-size=\"24\" fill=\"#C75C5C\" >Start </text></g>\n",
    "</svg>"
   ]
  },
  {
   "cell_type": "markdown",
   "metadata": {},
   "source": [
    "https://www.cssscript.com/demo/filterable-masonry-grid-sortablejs/"
   ]
  },
  {
   "cell_type": "markdown",
   "metadata": {
    "id": "Tx5bPFNQztcY"
   },
   "source": [
    "- [3d-room-exhibition-layout](https://tympanus.net/codrops/2017/03/30/experimental-3d-room-exhibition-layout/)\n",
    "- [infinite-tubes-with-three-js](https://tympanus.net/codrops/2017/05/09/infinite-tubes-with-three-js/)\n",
    "- [on-scroll-morphing-background-shapes](https://tympanus.net/codrops/2017/05/23/on-scroll-morphing-background-shapes/)\n",
    "- [morphing-page-transition/](https://tympanus.net/codrops/2017/08/08/morphing-page-transition/)\n",
    "- [organic-shape-morph-ideas](https://tympanus.net/codrops/2017/09/19/organic-shape-morph-ideas/)\n",
    "- [dynamic-shape-overlays-with-svg](https://tympanus.net/codrops/2017/10/17/dynamic-shape-overlays-with-svg/)\n",
    "- [expanding-grid-item-animation](https://tympanus.net/codrops/2017/11/08/expanding-grid-item-animation/)\n",
    "- [animated-svg-frame-slideshow](https://tympanus.net/codrops/2017/11/15/animated-svg-frame-slideshow/)\n",
    "- [3d-particle-explorations](https://tympanus.net/codrops/2017/12/12/3d-particle-explorations/)\n",
    "- [slide-box-menu](https://tympanus.net/codrops/2018/08/01/slide-box-menu/)\n",
    "- [diagonal-slideshow](https://tympanus.net/codrops/2018/08/28/diagonal-slideshow/)\n",
    "- [grid-layout-scrollable-content-view](https://tympanus.net/codrops/2018/09/19/grid-layout-scrollable-content-view/)\n",
    "- [multibox-menu](https://tympanus.net/codrops/2018/10/03/multibox-menu/)\n",
    "- [FullscreenHoverLoop](https://tympanus.net/Development/FullscreenHoverLoop/)\n",
    "- [ambient-canvas-backgrounds](https://tympanus.net/codrops/2018/12/13/ambient-canvas-backgrounds/)\n",
    "- [layer-motion-slideshow](https://tympanus.net/codrops/2019/01/24/layer-motion-slideshow/)\n",
    "- [text-distortion-effects-using-blotter-js](https://tympanus.net/codrops/2019/02/06/text-distortion-effects-using-blotter-js/)\n",
    "- [grid-reveal-effects-with-anime](https://tympanus.net/codrops/2019/02/13/grid-reveal-effects-with-anime-js/)\n",
    "- [a-configurator-for-creating-custom-webgl-distortion-effects](https://tympanus.net/codrops/2019/09/04/a-configurator-for-creating-custom-webgl-distortion-effects/)\n",
    "- [mouse-flowmap-deformation-with-ogl](https://tympanus.net/codrops/2019/09/25/mouse-flowmap-deformation-with-ogl/)\n",
    "- [how-to-unroll-images-with-three-js](https://tympanus.net/codrops/2020/01/22/how-to-unroll-images-with-three-js/)\n",
    "- [rain-water-effect-experiments](https://tympanus.net/codrops/2015/11/04/rain-water-effect-experiments/)\n",
    "- [animated-map-path-for-interactive-storytelling](https://tympanus.net/codrops/2015/12/16/animated-map-path-for-interactive-storytelling/)\n",
    "- [cinema-seat-preview-experiment](https://tympanus.net/codrops/2016/01/12/cinema-seat-preview-experiment/)\n",
    "- [elastic-circle-slideshow](https://tympanus.net/codrops/2016/01/27/elastic-circle-slideshow/)\n",
    "- [creative-svg-letter-animations](https://tympanus.net/codrops/2016/03/02/creative-svg-letter-animations/)\n",
    "- [Interactive3DMallMap](https://tympanus.net/Development/Interactive3DMallMap/)\n",
    "- [isometric-and-3d-grids](https://tympanus.net/codrops/2016/05/25/isometric-and-3d-grids/)\n",
    "- [interactive-record-player](https://tympanus.net/codrops/2016/06/15/interactive-record-player/)\n",
    "- [inspiration-for-letter-effects](https://tympanus.net/codrops/2016/10/18/inspiration-for-letter-effects/)\n",
    "- [surf-report-template](https://tympanus.net/codrops/2016/11/18/surf-report-template/)\n",
    "- [tilt-hover-effects](https://tympanus.net/codrops/2016/11/23/tilt-hover-effects/)\n",
    "- [3d-folding-technique](https://tympanus.net/codrops/2020/01/14/3d-folding-technique/)\n",
    "- [3d-menu-with-cannon-js-and-three-js](https://tympanus.net/codrops/2019/12/10/building-a-physics-based-3d-menu-with-cannon-js-and-three-js/)\n",
    "- [motion-paths-past-present-and-future](https://tympanus.net/codrops/2019/12/03/motion-paths-past-present-and-future/)\n",
    "- [min-max-and-clamp-are-css-magic](https://css-tricks.com/min-max-and-clamp-are-css-magic/)\n",
    "- [recurring-payments-on-wordpress](https://css-tricks.com/accepting-payments-including-recurring-payments-on-wordpress-com/) "
   ]
  },
  {
   "cell_type": "markdown",
   "metadata": {
    "id": "YVbnZ0bV4NpY"
   },
   "source": [
    "## Components"
   ]
  },
  {
   "cell_type": "code",
   "execution_count": 19,
   "metadata": {},
   "outputs": [
    {
     "data": {
      "text/html": [
       "\n",
       "<script type=\"module\">\n",
       "\n",
       "  import Litedom from '//unpkg.com/litedom';\n",
       "\n",
       "  Litedom({\n",
       "    // element to attach the component\n",
       "    el: '#counterWidget',  \n",
       "\n",
       "    // reactive data on the page\n",
       "    data: {\n",
       "      count: 0,\n",
       "      form: {\n",
       "        salutation: '',\n",
       "        name: ''\n",
       "      },\n",
       "      planets: [\n",
       "        'Mercury', 'Venus', 'Earth',\n",
       "        'Mars', 'Jupiter', 'Saturn',\n",
       "        'Uranus', 'Neptune', 'Pluto'\n",
       "      ]\n",
       "    },\n",
       "\n",
       "    // method event\n",
       "    up(event) {\n",
       "      this.data.count++;\n",
       "    },\n",
       "    // method event\n",
       "    down(event) {\n",
       "      this.data.count--;\n",
       "    }\n",
       "  });\n",
       "\n",
       "</script>\n",
       "\n",
       "<div class=\"container col\">\n",
       "<div id=\"counterWidget\">\n",
       "  <h4>Litedom demo</h4>\n",
       "\n",
       "  <hr>\n",
       "  <div>\n",
       "    <!-- basic interpolation -->\n",
       "    Counting: {this.count} is an\n",
       "\n",
       "    <!-- conditional if/else -->\n",
       "    <span :if=\"this.count % 2 === 0\">even number</span>\n",
       "    <span :else>odd number</span>\n",
       "  </div>\n",
       "\n",
       "  <!-- events -->\n",
       "  <button @click=\"down\">DOWN</button>\n",
       "  <button @click=\"up\">UP</button>\n",
       "  <hr>\n",
       "\n",
       "  <!-- inline interpolation -->\n",
       "  <div>Today: {new Date().toLocaleString()}</div>\n",
       "  <hr>\n",
       "\n",
       "  <!-- for loop -->\n",
       "  <h4>Planets (for loop)</h4>\n",
       "  <ul class=\"planets\">\n",
       "    <li :for='planet in this.planets'>{planet}</li>\n",
       "  </ul>  \n",
       "  <hr>\n",
       "\n",
       "  <!-- two way data binding -->\n",
       "  <h4>Two way data binding</h4>\n",
       "  <div>Hello {this.form.salutation} {this.form.name}</div>\n",
       "\n",
       "    <div>Salutations: \n",
       "      Mr. <input type=\"radio\" name=\"salutations\" @bind=\"form.salutation\" value=\"Mr.\"> \n",
       "      - Mrs. <input type=\"radio\" name=\"salutations\" @bind=\"form.salutation\" value=\"Mrs.\"></div>\n",
       "  <div>Enter Name: <input type=\"text\"  @bind=\"form.name\"></div>\n",
       "\n",
       "</div>\n",
       "</div>\n"
      ],
      "text/plain": [
       "<IPython.core.display.HTML object>"
      ]
     },
     "metadata": {},
     "output_type": "display_data"
    }
   ],
   "source": [
    "%%html\n",
    "\n",
    "<script type=\"module\">\n",
    "  \n",
    "  import Litedom from '//unpkg.com/litedom';\n",
    "\n",
    "  Litedom({\n",
    "    // element to attach the component\n",
    "    el: '#counterWidget',  \n",
    "    \n",
    "    // reactive data on the page\n",
    "    data: {\n",
    "      count: 0,\n",
    "      form: {\n",
    "        salutation: '',\n",
    "        name: ''\n",
    "      },\n",
    "      planets: [\n",
    "        'Mercury', 'Venus', 'Earth',\n",
    "        'Mars', 'Jupiter', 'Saturn',\n",
    "        'Uranus', 'Neptune', 'Pluto'\n",
    "      ]\n",
    "    },\n",
    "    \n",
    "    // method event\n",
    "    up(event) {\n",
    "      this.data.count++;\n",
    "    },\n",
    "    // method event\n",
    "    down(event) {\n",
    "      this.data.count--;\n",
    "    }\n",
    "  });\n",
    "\n",
    "</script>\n",
    "\n",
    "<div class=\"container col\">\n",
    "<div id=\"counterWidget\">\n",
    "  <h4>Litedom demo</h4>\n",
    "  \n",
    "  <hr>\n",
    "  <div>\n",
    "    <!-- basic interpolation -->\n",
    "    Counting: {this.count} is an\n",
    "  \n",
    "    <!-- conditional if/else -->\n",
    "    <span :if=\"this.count % 2 === 0\">even number</span>\n",
    "    <span :else>odd number</span>\n",
    "  </div>\n",
    "  \n",
    "  <!-- events -->\n",
    "  <button @click=\"down\">DOWN</button>\n",
    "  <button @click=\"up\">UP</button>\n",
    "  <hr>\n",
    "  \n",
    "  <!-- inline interpolation -->\n",
    "  <div>Today: {new Date().toLocaleString()}</div>\n",
    "  <hr>\n",
    "\n",
    "  <!-- for loop -->\n",
    "  <h4>Planets (for loop)</h4>\n",
    "  <ul class=\"planets\">\n",
    "    <li :for='planet in this.planets'>{planet}</li>\n",
    "  </ul>  \n",
    "  <hr>\n",
    "  \n",
    "  <!-- two way data binding -->\n",
    "  <h4>Two way data binding</h4>\n",
    "  <div>Hello {this.form.salutation} {this.form.name}</div>\n",
    "  \n",
    "    <div>Salutations: \n",
    "      Mr. <input type=\"radio\" name=\"salutations\" @bind=\"form.salutation\" value=\"Mr.\"> \n",
    "      - Mrs. <input type=\"radio\" name=\"salutations\" @bind=\"form.salutation\" value=\"Mrs.\"></div>\n",
    "  <div>Enter Name: <input type=\"text\"  @bind=\"form.name\"></div>\n",
    "\n",
    "</div>\n",
    "</div>\n"
   ]
  },
  {
   "cell_type": "code",
   "execution_count": 20,
   "metadata": {},
   "outputs": [
    {
     "data": {
      "text/html": [
       "\n",
       "<script type=\"module\">\n",
       "  import Litedom from '//unpkg.com/litedom';\n",
       "\n",
       "  Litedom({\n",
       "    el: `#root`,\n",
       "    sayHello(event) {\n",
       "      console.log('Hello World!')\n",
       "    }\n",
       "  })\n",
       "</script>\n",
       "\n",
       "<!-- HTML -->\n",
       "<div id=\"root\">\n",
       "  <a @click=\"sayHello\" href=\"#\">LiteDom Hello!</a>\n",
       "</div>"
      ],
      "text/plain": [
       "<IPython.core.display.HTML object>"
      ]
     },
     "metadata": {},
     "output_type": "display_data"
    }
   ],
   "source": [
    "from IPython.display import display, HTML\n",
    "display(HTML(\"\"\"\n",
    "<script type=\"module\">\n",
    "  import Litedom from '//unpkg.com/litedom';\n",
    "\n",
    "  Litedom({\n",
    "    el: `#root`,\n",
    "    sayHello(event) {\n",
    "      console.log('Hello World!')\n",
    "    }\n",
    "  })\n",
    "</script>\n",
    "\n",
    "<!-- HTML -->\n",
    "<div id=\"root\">\n",
    "  <a @click=\"sayHello\" href=\"#\">LiteDom Hello!</a>\n",
    "</div>\"\"\"))\n"
   ]
  },
  {
   "cell_type": "code",
   "execution_count": null,
   "metadata": {},
   "outputs": [],
   "source": []
  },
  {
   "cell_type": "markdown",
   "metadata": {},
   "source": []
  },
  {
   "cell_type": "markdown",
   "metadata": {},
   "source": [
    "https://x.st/spinning-diagrams-with-css/\n",
    "https://moderncss.dev/\n",
    "https://css-tip.com/\n",
    "\n",
    "https://alexplescan.com/posts/2023/07/08/easy-svg-sparklines/\n",
    "\n",
    "https://ishadeed.com/article/threads-app-css/\n",
    "\n",
    "https://ui-colorgen.vercel.app/\n",
    "\n",
    "https://samherbert.net/svg-loaders/\n",
    "\n",
    "https://css-pattern.com/"
   ]
  },
  {
   "cell_type": "markdown",
   "metadata": {},
   "source": [
    ".parent {  --nested-radius: calc(var(--radius) - var(--padding));}\n",
    ".nested {  border-radius: var(--nested-radius);}"
   ]
  },
  {
   "cell_type": "markdown",
   "metadata": {},
   "source": [
    "- css -> @supports(border-radius: 100%){ ..."
   ]
  },
  {
   "cell_type": "markdown",
   "metadata": {},
   "source": [
    "- is() where() :not()\n",
    "  /_ 3-deep (or more) unordered lists use a square _/\n",
    "  :is(ol, ul, menu, dir)\n",
    "  :is(ol, ul, menu, dir)\n",
    "  :is(ul, menu, dir) { list-style-type: square;"
   ]
  },
  {
   "cell_type": "markdown",
   "metadata": {},
   "source": [
    "/_ border between divs if they contain an h2 as their first child. _/\n",
    "div:-moz-has-child(h2:first-child) { border-bottom: 1px solid black; }"
   ]
  },
  {
   "cell_type": "markdown",
   "metadata": {},
   "source": [
    "- svh dvh,\n",
    "- text-wrap: balance\n",
    "- color-mix(in srgb, green, transparent, 10%);"
   ]
  },
  {
   "cell_type": "markdown",
   "metadata": {},
   "source": []
  },
  {
   "cell_type": "markdown",
   "metadata": {},
   "source": []
  },
  {
   "cell_type": "markdown",
   "metadata": {},
   "source": [
    "using requestAnimationFrame instead of setInterval to create the animation loop. Using setInterval can be unreliable, and requestAnimationFrame provides better performance, particularly on mobile devices.\n",
    "\n",
    "using the animate() method to animate the cubes. While this method is easy to use, it may not provide the smoothest animation performance. A better approach is to use requestAnimationFrame()\n",
    "\n",
    "- requestAnimationFrame > setInterval"
   ]
  },
  {
   "cell_type": "markdown",
   "metadata": {},
   "source": [
    "  https://garden.bradwoods.io/notes/javascript/web-api/intersection-observer\n",
    "  https://developer.mozilla.org/en-US/docs/Web/API/Element/animate\n",
    "  https://developer.mozilla.org/en-US/docs/Web/API/Web_Animations_API/Keyframe_Formats"
   ]
  },
  {
   "cell_type": "markdown",
   "metadata": {},
   "source": [
    "https://css-tricks.com/css-animations-vs-web-animations-api/\n",
    "\n",
    "I had hoped that the performance optimizations of this API would mean we could escape the use of will-change and the totally hacky translateZ  —  and eventually, it might. However, at least in the current browser implementations, these properties can still be helpful and necessary in dealing with jank issues.\n",
    "\n",
    "However, at least if you have a delay on your animation, you don’t need to worry about using will-change -> it gets addressed in the waapi\n",
    "\n",
    "element.style.animationPlayState = \"paused\" \n",
    "We already have a variety of events triggered by CSS that we can utilise in our JavaScript code :  \n",
    "animationstart, animationend, animationiteration and transitionend"
   ]
  },
  {
   "cell_type": "markdown",
   "metadata": {},
   "source": [
    "\n",
    "Using requestAnimationFrame() can be more efficient than CSS animations in some cases because it allows for more precise control over the animation, and can be combined with other JavaScript features to create complex animations. However, it's important to be mindful of the amount of work being done on the main thread when using requestAnimationFrame(), as too much work can still cause jank. Optimizing animations by minimizing the amount of work being done on the main thread is key to creating smooth animations.\n"
   ]
  },
  {
   "cell_type": "markdown",
   "metadata": {},
   "source": [
    "element clip-path CSS property can use the SVG Path attributes for animated\n",
    "transitions. The same number of vertices in the path cannot change but only\n",
    "manipulated when animating. transition-property transition: [property]\n",
    "[duration] [timing-function] [delay]; transition-property The\n",
    "transition-property defines the CSS property where the transition over the\n",
    "element will be applied. We can also apply a transition to a single property\n",
    "(e.g., background-color or transform) or to all the properties in the\n",
    "rule-set. div {transition-property: all; transition-property: transform; }\n",
    "https://blog.logrocket.com/understanding-animation-transition-timing-functions-css/#:~:text=There%20are%20two%20ways%20to,changes%20over%20a%20specific%20duration.\n",
    "There are two ways to animate web elements in CSS: the animation and\n",
    "transition properties. The animation property allows you to change the\n",
    "properties of an element over a specific duration, and needs @keyframes. The\n",
    "transition property defines how an element changes over a specific duration.\n",
    "animation:"
   ]
  },
  {
   "cell_type": "markdown",
   "metadata": {},
   "source": [
    "https://tympanus.net/codrops/2013/05/22/examples-of-pseudo-elements-animations-and-transitions/\n",
    "Only supported by modern browsers like Firefox, IE10 and\n",
    "recently Chrome (see this updated support table for more info)\n",
    "Does not work in mobile browsers yet Pseudo-elements cannot be\n",
    "identified by ID Pseudo-elements don’t appear in the DOM.\n",
    "Pseudo-elements can’t be animated with JavaScript\n",
    "\n",
    "https://cssanimation.rocks/pseudo-elements/ double colon :: to\n",
    "denote pseudo-elements (as opposed to pseudo-classes like\n",
    ":hover, :first-child). When adding pseudo-elements, needs\n",
    "'content' property before they can be made visible on the page.\n",
    "button::after { content: ''; position: absolute; top: -50%;\n",
    "right: -50%; bottom: -50%; left: -50%; background:\n",
    "linear-gradient(to bottom, rgba(229, 172, 142, 0),\n",
    "rgba(255,255,255,0.5) 50%, rgba(229, 172, 142, 0)); transform:\n",
    "rotateZ(60deg) translate(-5em, 7.5em); } button:hover::after,\n",
    "button:focus::after {animation: sheen 1s forwards;} @keyframes\n",
    "sheen {100% {transform: rotateZ(60deg) translate(1em, -9em);}}\n",
    "transform:translate(-50%, -50%); // center the element\n",
    "transform:translateX(-50%); // center the element horizontally A\n",
    "little bit of both. The simplest way that I like use is by\n",
    "creating a seperate function that you want to run\n",
    "asynchronously, then linking it to a callback that is scheduled\n",
    "to run by the FreeRTOS scheduler:\n",
    "\n",
    "https://savjee.be/blog/multitasking-esp32-arduino-freertos/ As\n",
    "long as you don't create too many long-running tasks and be\n",
    "mindful of which core is running what, it's been incredibly\n",
    "reliable in my experience. My biggest use case for this is\n",
    "keeping an active display, like those 64x64 RGB LED Panels, fed\n",
    "with pixel data from a display buffer using one core fully\n",
    "pegged to the task, then using the second core for wifi and\n",
    "display buffer updates. In Arduino land, since loop runs on a\n",
    "specific core, you can basically put your 'constantly running\n",
    "code' in the loop, and schedule the tasks to run on the other\n",
    "core in setup().\n",
    "\n",
    "https://www.smashingmagazine.com/2016/12/gpu-animation-doing-it-right/\n",
    "Reflowing and repainting the entire page at each step of the\n",
    "animation (even incrementally) sounds really slow, especially\n",
    "for a large and complex layout. It would be much more effective\n",
    "just to paint two separate images — one for the A element and\n",
    "one for the entire page without the A element — and then simply\n",
    "offset those images relative to each other. In other words,\n",
    "composing the images of cached elements would be faster. We\n",
    "stumble upon implicit composing, One or more non-composited\n",
    "elements that should appear above a composited one in the\n",
    "stacking order are promoted to composite layers, much more often\n",
    "than you might think. A browser will promote an element to a\n",
    "compositing layer for many reasons, just a few of which are: 3D\n",
    "transforms: translate3d, translateZ and so on;"
   ]
  },
  {
   "cell_type": "markdown",
   "metadata": {},
   "source": [
    "elements; animation of transform and opacity via\n",
    "Element.animate(); animation of transform and opacity via\n",
    "СSS transitions and animations; position: fixed;\n",
    "will-change; filter; mobile devices don’t have as much\n",
    "memory as desktops. For example, a not-so-old-yet iPhone 6\n",
    "ships with 1 GB of shared memory (i.e. memory used for\n",
    "both RAM and VRAM). Considering that at least one third of\n",
    "this memory is used by the operating system and background\n",
    "processes, another third by the browser and the current\n",
    "page (a best-case scenario for a highly optimized page\n",
    "without a ton of frameworks), we’re left with about 200 to\n",
    "300 MB for GPU effects, at most. And the iPhone 6 is a\n",
    "pretty expensive high-end device; more affordable phones\n",
    "contain much less memory on board."
   ]
  },
  {
   "cell_type": "markdown",
   "metadata": {},
   "source": [
    "// window.isSmall&&{localStorage.setItem('displayChardin', 'false') \n",
    "// localStorage.getItem('displayChardin') \n",
    "// let chardin = new Chardin(document.querySelector('body')); \n",
    "// chardin.start();} \n",
    "if(window.isSmall){ document.getElementById('toggle_sitemap').checked=false; }"
   ]
  },
  {
   "cell_type": "markdown",
   "metadata": {},
   "source": [
    "  Misc https://www.joshwcomeau.com/gradient-generator/\n",
    "  https://www.colourlovers.com/api/palettes/top?jsonCallback=?\n",
    "  https://www.vantajs.com/?effect=dots https://maxhodak.com/writings/index.html\n",
    "  https://blog.logrocket.com/css-before-after-custom-animations-transitions/#before-pseudo-element\n",
    "  https://tympanus.net/codrops/2013/05/22/examples-of-pseudo-elements-animations-and-transitions/\n",
    "  https://cssanimation.rocks/pseudo-elements/ ## Techniques background image\n",
    "  behind a blobby svg clip path html-> image or div w/ text to crop w mask css->\n",
    "  animate background-x-position css-> background-image, -attachment: fixed,\n",
    "  -size: cover, -position: center css-> -webikit-mask-image:(url) & -repeat:\n",
    "  no-repeate; mask-type, -size, -position mask-image: linear-gradient(to bottom,\n",
    "  transaprent 10%, black) -> dampends image animate inset box-shadow\n",
    "  https://codepen.io/lonekorean/pen/KKVdQPX Useful Articles\n",
    "  https://www.w3schools.com/howto/tryit.asp?filename=tryhow_css_parallax_percent\n",
    "  https://css-tricks.com/almanac/properties/m/mask-image/\n",
    "  https://css-tricks.com/almanac/properties/s/shape-outside/\n",
    "  https://css-tricks.com/almanac/properties/c/clip-path/\n",
    "  https://css-tricks.com/animating-with-clip-path/\n",
    "  https://css-irl.info/experimental-layouts/\n",
    "  https://cssanimation.rocks/pseudo-elements/\n",
    "  https://www.joshwcomeau.com/css/designing-shadows/\n",
    "  https://www.joshwcomeau.com/css/make-beautiful-gradients/\n",
    "  https://garden.bradwoods.io/notes/css/3d\n",
    "  https://github.com/codrops/OnScrollPathAnimations/\n",
    "  https://github.com/codrops/CaptionHoverEffects\n",
    "  https://github.com/codrops/ShapeHoverEffectSVG\n",
    "  https://blog.logrocket.com/css-before-after-custom-animations-transitions/#before-pseudo-element\n",
    "  https://developer.mozilla.org/en-US/docs/Web/CSS/CSS_Animations/Using_CSS_animations\n",
    "  Resources https://www.toptal.com/designers/htmlarrows/arrows/\n",
    "  https://chromium.googlesource.com/chromium/blink/+/master/Source/core/css/html.css\n",
    "  https://bennettfeely.com/clippy/ https://animista.net/play/text/focus-in\n",
    "  https://svg-path-visualizer.netlify.app/\n",
    "  https://yqnn.github.io/svg-path-editor/\n",
    "  https://cssbud.com/css-generator/css-glow-generator/#search-header\n",
    "  https://getwaves.io/ https://www.blobmaker.app/ http://csshero.org/mesher/\n",
    "  https://shadows.brumm.af/ https://ui.glass/generator/#\n",
    "  http://css3generator.com/ http://www.cssfiltergenerator.com/\n",
    "  https://maxbittker.github.io/broider/ https://www.svgrepo.com/\n",
    "  https://tympanus.net/codrops/2021/06/01/trigonometry-in-css-and-javascript-introduction-to-trigonometry/\n",
    "  https://tympanus.net/codrops/2021/06/02/trigonometry-in-css-and-javascript-getting-creative-with-trigonometric-functions/\n",
    "  https://tympanus.net/codrops/2021/06/04/trigonometry-in-css-and-javascript-beyond-triangles/\n",
    "  https://tympanus.net/codrops/2021/12/07/coloring-with-code-a-programmatic-approach-to-design/\n",
    "  https://css-tricks.com/animating-with-clip-path/ clip-path can use,\n",
    "  clip-paths(% relative), or a url to a SVG"
   ]
  }
 ],
 "metadata": {
  "colab": {
   "provenance": []
  },
  "kernelspec": {
   "display_name": ".venv",
   "language": "python",
   "name": "python3"
  },
  "language_info": {
   "codemirror_mode": {
    "name": "ipython",
    "version": 3
   },
   "file_extension": ".py",
   "mimetype": "text/x-python",
   "name": "python",
   "nbconvert_exporter": "python",
   "pygments_lexer": "ipython3",
   "version": "3.11.6"
  }
 },
 "nbformat": 4,
 "nbformat_minor": 0
}
