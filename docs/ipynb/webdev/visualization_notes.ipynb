{
 "cells": [
  {
   "cell_type": "markdown",
   "metadata": {},
   "source": [
    "# Visualization Notes\n",
    "\n",
    "> Test \n",
    "- prettify: true"
   ]
  },
  {
   "cell_type": "code",
   "execution_count": 21,
   "metadata": {
    "colab": {
     "base_uri": "https://localhost:8080/",
     "height": 34
    },
    "executionInfo": {
     "elapsed": 166,
     "status": "ok",
     "timestamp": 1673475502015,
     "user": {
      "displayName": "Charles Karpati",
      "userId": "06248540216665543849"
     },
     "user_tz": 300
    },
    "id": "-It2tCf64Npc",
    "outputId": "865f5c2f-2573-4d1f-9c5c-a0a4cbe56252"
   },
   "outputs": [
    {
     "data": {
      "text/html": [
       "\n",
       "<script type=\"module\">\n",
       "  import Litedom from '//unpkg.com/litedom';\n",
       "\n",
       "  Litedom({\n",
       "    el: `#root`,\n",
       "    sayHello(event) {\n",
       "      console.log('Hello World!')\n",
       "    }\n",
       "  })\n",
       "</script>\n",
       "\n",
       "<!-- HTML -->\n",
       "<div id=\"root\">\n",
       "  <a @click=\"sayHello\" href=\"#\">Say Hello!</a>\n",
       "</div>"
      ],
      "text/plain": [
       "<IPython.core.display.HTML object>"
      ]
     },
     "metadata": {},
     "output_type": "display_data"
    }
   ],
   "source": [
    "from IPython.core.display import display, HTML\n",
    "display(HTML(\"\"\"\n",
    "<script type=\"module\">\n",
    "  import Litedom from '//unpkg.com/litedom';\n",
    "\n",
    "  Litedom({\n",
    "    el: `#root`,\n",
    "    sayHello(event) {\n",
    "      console.log('Hello World!')\n",
    "    }\n",
    "  })\n",
    "</script>\n",
    "\n",
    "<!-- HTML -->\n",
    "<div id=\"root\">\n",
    "  <a @click=\"sayHello\" href=\"#\">Say Hello!</a>\n",
    "</div>\"\"\"))\n"
   ]
  },
  {
   "cell_type": "code",
   "execution_count": null,
   "metadata": {
    "colab": {
     "base_uri": "https://localhost:8080/",
     "height": 454
    },
    "executionInfo": {
     "elapsed": 5,
     "status": "ok",
     "timestamp": 1672822694343,
     "user": {
      "displayName": "Charles Karpati",
      "userId": "06248540216665543849"
     },
     "user_tz": 300
    },
    "id": "rnZTqzBCAG5T",
    "outputId": "3be69514-62e9-4b68-bb63-2e38b191a2e1"
   },
   "outputs": [
    {
     "data": {
      "text/html": [
       "\n",
       "<script type=\"module\">\n",
       "  \n",
       "  import Litedom from '//unpkg.com/litedom';\n",
       "\n",
       "  Litedom({\n",
       "    // element to attach the component\n",
       "    el: '#counterWidget',  \n",
       "    \n",
       "    // reactive data on the page\n",
       "    data: {\n",
       "      count: 0,\n",
       "      form: {\n",
       "        salutation: '',\n",
       "        name: ''\n",
       "      },\n",
       "      planets: [\n",
       "        'Mercury', 'Venus', 'Earth',\n",
       "        'Mars', 'Jupiter', 'Saturn',\n",
       "        'Uranus', 'Neptune', 'Pluto'\n",
       "      ]\n",
       "    },\n",
       "    \n",
       "    // method event\n",
       "    up(event) {\n",
       "      this.data.count++;\n",
       "    },\n",
       "    // method event\n",
       "    down(event) {\n",
       "      this.data.count--;\n",
       "    }\n",
       "  });\n",
       "\n",
       "</script>\n",
       "\n",
       "<div class=\"container col\">\n",
       "<div id=\"counterWidget\">\n",
       "  <h4>Litedom demo</h4>\n",
       "  \n",
       "  <hr>\n",
       "  <div>\n",
       "    <!-- basic interpolation -->\n",
       "    Counting: {this.count} is an\n",
       "  \n",
       "    <!-- conditional if/else -->\n",
       "    <span :if=\"this.count % 2 === 0\">even number</span>\n",
       "    <span :else>odd number</span>\n",
       "  </div>\n",
       "  \n",
       "  <!-- events -->\n",
       "  <button @click=\"down\">DOWN</button>\n",
       "  <button @click=\"up\">UP</button>\n",
       "  <hr>\n",
       "  \n",
       "  <!-- inline interpolation -->\n",
       "  <div>Today: {new Date().toLocaleString()}</div>\n",
       "  <hr>\n",
       "\n",
       "  <!-- for loop -->\n",
       "  <h4>Planets (for loop)</h4>\n",
       "  <ul class=\"planets\">\n",
       "    <li :for='planet in this.planets'>{planet}</li>\n",
       "  </ul>  \n",
       "  <hr>\n",
       "  \n",
       "  <!-- two way data binding -->\n",
       "  <h4>Two way data binding</h4>\n",
       "  <div>Hello {this.form.salutation} {this.form.name}</div>\n",
       "  \n",
       "    <div>Salutations: \n",
       "      Mr. <input type=\"radio\" name=\"salutations\" @bind=\"form.salutation\" value=\"Mr.\"> \n",
       "      - Mrs. <input type=\"radio\" name=\"salutations\" @bind=\"form.salutation\" value=\"Mrs.\"></div>\n",
       "  <div>Enter Name: <input type=\"text\"  @bind=\"form.name\"></div>\n",
       "\n",
       "</div>\n",
       "</div>\n"
      ],
      "text/plain": [
       "<IPython.core.display.HTML object>"
      ]
     },
     "metadata": {},
     "output_type": "display_data"
    }
   ],
   "source": [
    "%%html\n",
    "\n",
    "<script type=\"module\">\n",
    "  \n",
    "  import Litedom from '//unpkg.com/litedom';\n",
    "\n",
    "  Litedom({\n",
    "    // element to attach the component\n",
    "    el: '#counterWidget',  \n",
    "    \n",
    "    // reactive data on the page\n",
    "    data: {\n",
    "      count: 0,\n",
    "      form: {\n",
    "        salutation: '',\n",
    "        name: ''\n",
    "      },\n",
    "      planets: [\n",
    "        'Mercury', 'Venus', 'Earth',\n",
    "        'Mars', 'Jupiter', 'Saturn',\n",
    "        'Uranus', 'Neptune', 'Pluto'\n",
    "      ]\n",
    "    },\n",
    "    \n",
    "    // method event\n",
    "    up(event) {\n",
    "      this.data.count++;\n",
    "    },\n",
    "    // method event\n",
    "    down(event) {\n",
    "      this.data.count--;\n",
    "    }\n",
    "  });\n",
    "\n",
    "</script>\n",
    "\n",
    "<div class=\"container col\">\n",
    "<div id=\"counterWidget\">\n",
    "  <h4>Litedom demo</h4>\n",
    "  \n",
    "  <hr>\n",
    "  <div>\n",
    "    <!-- basic interpolation -->\n",
    "    Counting: {this.count} is an\n",
    "  \n",
    "    <!-- conditional if/else -->\n",
    "    <span :if=\"this.count % 2 === 0\">even number</span>\n",
    "    <span :else>odd number</span>\n",
    "  </div>\n",
    "  \n",
    "  <!-- events -->\n",
    "  <button @click=\"down\">DOWN</button>\n",
    "  <button @click=\"up\">UP</button>\n",
    "  <hr>\n",
    "  \n",
    "  <!-- inline interpolation -->\n",
    "  <div>Today: {new Date().toLocaleString()}</div>\n",
    "  <hr>\n",
    "\n",
    "  <!-- for loop -->\n",
    "  <h4>Planets (for loop)</h4>\n",
    "  <ul class=\"planets\">\n",
    "    <li :for='planet in this.planets'>{planet}</li>\n",
    "  </ul>  \n",
    "  <hr>\n",
    "  \n",
    "  <!-- two way data binding -->\n",
    "  <h4>Two way data binding</h4>\n",
    "  <div>Hello {this.form.salutation} {this.form.name}</div>\n",
    "  \n",
    "    <div>Salutations: \n",
    "      Mr. <input type=\"radio\" name=\"salutations\" @bind=\"form.salutation\" value=\"Mr.\"> \n",
    "      - Mrs. <input type=\"radio\" name=\"salutations\" @bind=\"form.salutation\" value=\"Mrs.\"></div>\n",
    "  <div>Enter Name: <input type=\"text\"  @bind=\"form.name\"></div>\n",
    "\n",
    "</div>\n",
    "</div>\n"
   ]
  },
  {
   "cell_type": "markdown",
   "metadata": {
    "id": "HC5L0sEQAF9D"
   },
   "source": []
  },
  {
   "cell_type": "code",
   "execution_count": 17,
   "metadata": {
    "colab": {
     "base_uri": "https://localhost:8080/",
     "height": 379
    },
    "executionInfo": {
     "elapsed": 152,
     "status": "ok",
     "timestamp": 1673471422082,
     "user": {
      "displayName": "Charles Karpati",
      "userId": "06248540216665543849"
     },
     "user_tz": 300
    },
    "id": "zGRs3dn56Ezk",
    "outputId": "c547a571-0d89-49c2-e0a2-a14e582d5d36"
   },
   "outputs": [
    {
     "data": {
      "text/html": [
       "\n",
       "<h1>It's FRIDAY!</h1>\n",
       "\n",
       "<style>\n",
       "@import url('https://fonts.googleapis.com/css?family=Luckiest+Guy');\n",
       "\n",
       "body {\n",
       "  height: 3vh;\n",
       "  font-family: 'Luckiest Guy', cursive;\n",
       "}\n",
       "\n",
       "h1 {\n",
       "  font-size: 15vw;\n",
       "  background-image: url(https://unsplash.it/801);\n",
       "  background-size: cover;\n",
       "  background-clip: text;\n",
       "  -webkit-background-clip: text;\n",
       "  color: transparent;\n",
       "}\n",
       "</style>\n"
      ],
      "text/plain": [
       "<IPython.core.display.HTML object>"
      ]
     },
     "metadata": {},
     "output_type": "display_data"
    }
   ],
   "source": [
    "%%html\n",
    "\n",
    "<h1>It's FRIDAY!</h1>\n",
    "\n",
    "<style>\n",
    "@import url('https://fonts.googleapis.com/css?family=Luckiest+Guy');\n",
    "\n",
    "body {\n",
    "  height: 3vh;\n",
    "  font-family: 'Luckiest Guy', cursive;\n",
    "}\n",
    "\n",
    "h1 {\n",
    "  font-size: 15vw;\n",
    "  background-image: url(https://unsplash.it/801);\n",
    "  background-size: cover;\n",
    "  background-clip: text;\n",
    "  -webkit-background-clip: text;\n",
    "  color: transparent;\n",
    "}\n",
    "</style>"
   ]
  },
  {
   "cell_type": "markdown",
   "metadata": {
    "id": "rnpdJ-vzMXj8"
   },
   "source": [
    "https://ipython.readthedocs.io/en/stable/interactive/magics.html#line-magics"
   ]
  },
  {
   "cell_type": "markdown",
   "metadata": {
    "id": "2En6XEUobISw"
   },
   "source": [
    "masks are images; clips are paths.\n",
    "mask: transparent where applied (black) and opaque (normal) where there is white.\n",
    "Outside the path is transparent, inside the path is opaque.\n",
    "\n",
    "<mpath> references an outside <path> for motion.\n",
    "\n",
    "The clip property is deprecated in CSS\n",
    "The new, recommend version of applying clipping to elements in CSS is clip-path\n",
    "https://bennettfeely.com/clippy/"
   ]
  },
  {
   "cell_type": "markdown",
   "metadata": {
    "id": "zI7v-czHi4mw"
   },
   "source": [
    "In CSS"
   ]
  },
  {
   "cell_type": "markdown",
   "metadata": {
    "id": "hh4W3PBKi79m"
   },
   "source": [
    "in SVG\n",
    "problem is that  browsers pin them to the upper left of the document."
   ]
  },
  {
   "cell_type": "code",
   "execution_count": null,
   "metadata": {
    "id": "FRhtJTiEjFAR"
   },
   "outputs": [],
   "source": [
    "<link rel='stylesheet' media='screen and (min-width: 701px) and (max-width: 900px)' href='css/medium.css' />"
   ]
  },
  {
   "cell_type": "code",
   "execution_count": null,
   "metadata": {
    "id": "fhEe2Gft1M0K"
   },
   "outputs": [],
   "source": [
    "event listener on localstorage?"
   ]
  },
  {
   "cell_type": "code",
   "execution_count": null,
   "metadata": {
    "id": "hLKfrCAijbDs"
   },
   "outputs": [],
   "source": [
    "#hide \n",
    "https://developer.mozilla.org/en-US/docs/Web/SVG/Element/mask "
   ]
  },
  {
   "cell_type": "markdown",
   "metadata": {
    "id": "DXKXfxQAbNLt"
   },
   "source": [
    "https://css-tricks.com/clipping-masking-css/"
   ]
  },
  {
   "cell_type": "markdown",
   "metadata": {
    "id": "wOhIysMDN9r9"
   },
   "source": [
    "https://developer.mozilla.org/en-US/docs/Web/SVG/Element/animateMotion"
   ]
  },
  {
   "cell_type": "code",
   "execution_count": null,
   "metadata": {
    "colab": {
     "base_uri": "https://localhost:8080/",
     "height": 221
    },
    "executionInfo": {
     "elapsed": 128,
     "status": "ok",
     "timestamp": 1672800046324,
     "user": {
      "displayName": "Charles Karpati",
      "userId": "06248540216665543849"
     },
     "user_tz": 300
    },
    "id": "sSCV3z-ypeVq",
    "outputId": "3de2c5f0-83c3-4cd0-a390-ed69ab836ef3"
   },
   "outputs": [
    {
     "data": {
      "text/html": [
       "<svg   width=\"200px\" height=\"200px\" viewBox=\"0 0 200 100\" xmlns=\"http://www.w3.org/2000/svg\">\n",
       "  <path fill=\"none\" stroke=\"lightgrey\"\n",
       "    d=\"M20,50 C20,-50 180,150 180,50 C180-50 20,150 20,50 z\" />\n",
       "  <circle r=\"5\" fill=\"red\">\n",
       "    <animateMotion dur=\"10s\" repeatCount=\"indefinite\"\n",
       "      path=\"M20,50 C20,-50 180,150 180,50 C180-50 20,150 20,50 z\" />\n",
       "  </circle>\n",
       "</svg>\n"
      ],
      "text/plain": [
       "<IPython.core.display.HTML object>"
      ]
     },
     "metadata": {},
     "output_type": "display_data"
    }
   ],
   "source": [
    "%%html\n",
    "<svg   width=\"200px\" height=\"200px\" viewBox=\"0 0 200 100\" xmlns=\"http://www.w3.org/2000/svg\">\n",
    "  <path fill=\"none\" stroke=\"lightgrey\"\n",
    "    d=\"M20,50 C20,-50 180,150 180,50 C180-50 20,150 20,50 z\" />\n",
    "  <circle r=\"5\" fill=\"red\">\n",
    "    <animateMotion dur=\"10s\" repeatCount=\"indefinite\"\n",
    "      path=\"M20,50 C20,-50 180,150 180,50 C180-50 20,150 20,50 z\" />\n",
    "  </circle>\n",
    "</svg>"
   ]
  },
  {
   "cell_type": "markdown",
   "metadata": {
    "id": "8IbCh0ZNN73c"
   },
   "source": [
    "https://developer.mozilla.org/en-US/docs/Web/SVG/Element/mpath"
   ]
  },
  {
   "cell_type": "code",
   "execution_count": null,
   "metadata": {
    "colab": {
     "base_uri": "https://localhost:8080/",
     "height": 221
    },
    "executionInfo": {
     "elapsed": 141,
     "status": "ok",
     "timestamp": 1672799949379,
     "user": {
      "displayName": "Charles Karpati",
      "userId": "06248540216665543849"
     },
     "user_tz": 300
    },
    "id": "uowFf6eLosvc",
    "outputId": "3083eefc-4218-4e1f-cb20-376b9c5cc28f"
   },
   "outputs": [
    {
     "data": {
      "text/html": [
       "<svg\n",
       "  width=\"200px\"\n",
       "  height=\"200px\"\n",
       "  viewBox=\"0 0 500 300\"\n",
       "  xmlns=\"http://www.w3.org/2000/svg\"\n",
       "  xmlns:xlink=\"http://www.w3.org/1999/xlink\">\n",
       "  <rect\n",
       "    x=\"1\"\n",
       "    y=\"1\"\n",
       "    width=\"498\"\n",
       "    height=\"298\"\n",
       "    fill=\"none\"\n",
       "    stroke=\"blue\"\n",
       "    stroke-width=\"2\" />\n",
       "\n",
       "  <!-- Draw the outline of the motion path in blue, along\n",
       "          with three small circles at the start, middle and end. -->\n",
       "  <path\n",
       "    id=\"path1\"\n",
       "    d=\"M100,250 C 100,50 400,50 400,250\"\n",
       "    fill=\"none\"\n",
       "    stroke=\"blue\"\n",
       "    stroke-width=\"7.06\" />\n",
       "  <circle cx=\"100\" cy=\"250\" r=\"17.64\" fill=\"blue\" />\n",
       "  <circle cx=\"250\" cy=\"100\" r=\"17.64\" fill=\"blue\" />\n",
       "  <circle cx=\"400\" cy=\"250\" r=\"17.64\" fill=\"blue\" />\n",
       "\n",
       "  <!-- Here is a triangle which will be moved about the motion path.\n",
       "       It is defined with an upright orientation with the base of\n",
       "       the triangle centered horizontally just above the origin. -->\n",
       "  <path\n",
       "    d=\"M-25,-12.5 L25,-12.5 L 0,-87.5 z\"\n",
       "    fill=\"yellow\"\n",
       "    stroke=\"red\"\n",
       "    stroke-width=\"7.06\">\n",
       "    <!-- Define the motion path animation -->\n",
       "    <animateMotion dur=\"6s\" repeatCount=\"indefinite\" rotate=\"auto\">\n",
       "      <mpath xlink:href=\"#path1\" />\n",
       "    </animateMotion>\n",
       "  </path>\n",
       "</svg>\n"
      ],
      "text/plain": [
       "<IPython.core.display.HTML object>"
      ]
     },
     "metadata": {},
     "output_type": "display_data"
    }
   ],
   "source": [
    "%%html\n",
    "<svg\n",
    "  width=\"200px\"\n",
    "  height=\"200px\"\n",
    "  viewBox=\"0 0 500 300\"\n",
    "  xmlns=\"http://www.w3.org/2000/svg\"\n",
    "  xmlns:xlink=\"http://www.w3.org/1999/xlink\">\n",
    "  <rect\n",
    "    x=\"1\"\n",
    "    y=\"1\"\n",
    "    width=\"498\"\n",
    "    height=\"298\"\n",
    "    fill=\"none\"\n",
    "    stroke=\"blue\"\n",
    "    stroke-width=\"2\" />\n",
    "\n",
    "  <!-- Draw the outline of the motion path in blue, along\n",
    "          with three small circles at the start, middle and end. -->\n",
    "  <path\n",
    "    id=\"path1\"\n",
    "    d=\"M100,250 C 100,50 400,50 400,250\"\n",
    "    fill=\"none\"\n",
    "    stroke=\"blue\"\n",
    "    stroke-width=\"7.06\" />\n",
    "  <circle cx=\"100\" cy=\"250\" r=\"17.64\" fill=\"blue\" />\n",
    "  <circle cx=\"250\" cy=\"100\" r=\"17.64\" fill=\"blue\" />\n",
    "  <circle cx=\"400\" cy=\"250\" r=\"17.64\" fill=\"blue\" />\n",
    "\n",
    "  <!-- Here is a triangle which will be moved about the motion path.\n",
    "       It is defined with an upright orientation with the base of\n",
    "       the triangle centered horizontally just above the origin. -->\n",
    "  <path\n",
    "    d=\"M-25,-12.5 L25,-12.5 L 0,-87.5 z\"\n",
    "    fill=\"yellow\"\n",
    "    stroke=\"red\"\n",
    "    stroke-width=\"7.06\">\n",
    "    <!-- Define the motion path animation -->\n",
    "    <animateMotion dur=\"6s\" repeatCount=\"indefinite\" rotate=\"auto\">\n",
    "      <mpath xlink:href=\"#path1\" />\n",
    "    </animateMotion>\n",
    "  </path>\n",
    "</svg>"
   ]
  },
  {
   "cell_type": "markdown",
   "metadata": {
    "id": "Tx5bPFNQztcY"
   },
   "source": [
    "- [3d-room-exhibition-layout](https://tympanus.net/codrops/2017/03/30/experimental-3d-room-exhibition-layout/)\n",
    "- [infinite-tubes-with-three-js](https://tympanus.net/codrops/2017/05/09/infinite-tubes-with-three-js/)\n",
    "- [on-scroll-morphing-background-shapes](https://tympanus.net/codrops/2017/05/23/on-scroll-morphing-background-shapes/)\n",
    "- [morphing-page-transition/](https://tympanus.net/codrops/2017/08/08/morphing-page-transition/)\n",
    "- [organic-shape-morph-ideas](https://tympanus.net/codrops/2017/09/19/organic-shape-morph-ideas/)\n",
    "- [dynamic-shape-overlays-with-svg](https://tympanus.net/codrops/2017/10/17/dynamic-shape-overlays-with-svg/)\n",
    "- [expanding-grid-item-animation](https://tympanus.net/codrops/2017/11/08/expanding-grid-item-animation/)\n",
    "- [animated-svg-frame-slideshow](https://tympanus.net/codrops/2017/11/15/animated-svg-frame-slideshow/)\n",
    "- [3d-particle-explorations](https://tympanus.net/codrops/2017/12/12/3d-particle-explorations/)\n",
    "- [slide-box-menu](https://tympanus.net/codrops/2018/08/01/slide-box-menu/)\n",
    "- [diagonal-slideshow](https://tympanus.net/codrops/2018/08/28/diagonal-slideshow/)\n",
    "- [grid-layout-scrollable-content-view](https://tympanus.net/codrops/2018/09/19/grid-layout-scrollable-content-view/)\n",
    "- [multibox-menu](https://tympanus.net/codrops/2018/10/03/multibox-menu/)\n",
    "- [FullscreenHoverLoop](https://tympanus.net/Development/FullscreenHoverLoop/)\n",
    "- [ambient-canvas-backgrounds](https://tympanus.net/codrops/2018/12/13/ambient-canvas-backgrounds/)\n",
    "- [layer-motion-slideshow](https://tympanus.net/codrops/2019/01/24/layer-motion-slideshow/)\n",
    "- [text-distortion-effects-using-blotter-js](https://tympanus.net/codrops/2019/02/06/text-distortion-effects-using-blotter-js/)\n",
    "- [grid-reveal-effects-with-anime](https://tympanus.net/codrops/2019/02/13/grid-reveal-effects-with-anime-js/)\n",
    "- [a-configurator-for-creating-custom-webgl-distortion-effects](https://tympanus.net/codrops/2019/09/04/a-configurator-for-creating-custom-webgl-distortion-effects/)\n",
    "- [mouse-flowmap-deformation-with-ogl](https://tympanus.net/codrops/2019/09/25/mouse-flowmap-deformation-with-ogl/)\n",
    "- [how-to-unroll-images-with-three-js](https://tympanus.net/codrops/2020/01/22/how-to-unroll-images-with-three-js/)\n",
    "- [rain-water-effect-experiments](https://tympanus.net/codrops/2015/11/04/rain-water-effect-experiments/)\n",
    "- [animated-map-path-for-interactive-storytelling](https://tympanus.net/codrops/2015/12/16/animated-map-path-for-interactive-storytelling/)\n",
    "- [cinema-seat-preview-experiment](https://tympanus.net/codrops/2016/01/12/cinema-seat-preview-experiment/)\n",
    "- [elastic-circle-slideshow](https://tympanus.net/codrops/2016/01/27/elastic-circle-slideshow/)\n",
    "- [creative-svg-letter-animations](https://tympanus.net/codrops/2016/03/02/creative-svg-letter-animations/)\n",
    "- [Interactive3DMallMap](https://tympanus.net/Development/Interactive3DMallMap/)\n",
    "- [isometric-and-3d-grids](https://tympanus.net/codrops/2016/05/25/isometric-and-3d-grids/)\n",
    "- [interactive-record-player](https://tympanus.net/codrops/2016/06/15/interactive-record-player/)\n",
    "- [inspiration-for-letter-effects](https://tympanus.net/codrops/2016/10/18/inspiration-for-letter-effects/)\n",
    "- [surf-report-template](https://tympanus.net/codrops/2016/11/18/surf-report-template/)\n",
    "- [tilt-hover-effects](https://tympanus.net/codrops/2016/11/23/tilt-hover-effects/)\n",
    "- [3d-folding-technique](https://tympanus.net/codrops/2020/01/14/3d-folding-technique/)\n",
    "- [3d-menu-with-cannon-js-and-three-js](https://tympanus.net/codrops/2019/12/10/building-a-physics-based-3d-menu-with-cannon-js-and-three-js/)\n",
    "- [motion-paths-past-present-and-future](https://tympanus.net/codrops/2019/12/03/motion-paths-past-present-and-future/)\n",
    "- [min-max-and-clamp-are-css-magic](https://css-tricks.com/min-max-and-clamp-are-css-magic/)\n",
    "- [recurring-payments-on-wordpress](https://css-tricks.com/accepting-payments-including-recurring-payments-on-wordpress-com/) "
   ]
  },
  {
   "cell_type": "markdown",
   "metadata": {
    "id": "YVbnZ0bV4NpY"
   },
   "source": [
    "# Components"
   ]
  },
  {
   "cell_type": "code",
   "execution_count": 20,
   "metadata": {
    "colab": {
     "base_uri": "https://localhost:8080/",
     "height": 433
    },
    "executionInfo": {
     "elapsed": 148,
     "status": "ok",
     "timestamp": 1673475465242,
     "user": {
      "displayName": "Charles Karpati",
      "userId": "06248540216665543849"
     },
     "user_tz": 300
    },
    "id": "Z5fTPvoc4Npe",
    "outputId": "9c40f287-4158-45db-db5e-b96e7289762c"
   },
   "outputs": [
    {
     "data": {
      "text/html": [
       "<style>\n",
       "div {\n",
       "  shape-outside: polygon(0 0, 0 200px, 200px 300px);\n",
       "  width: 100%;\n",
       "  height: 200px;\n",
       "  float: left;\n",
       "}\n",
       ".element {  \n",
       "  shape-outside: polygon(0 0, 100% 0, 100% 100%, 0 100%);\n",
       "  transition: shape-outside 1s;\n",
       "  // 0.4s cubic-bezier(1, -1, 0, 2);\n",
       "}\n",
       ".element:hover {  \n",
       "\tshape-outside: polygon(0 0, 100% 50%, 100% 75%, 0 100%);\n",
       "}\n",
       "</style>\n",
       "<div class='element'></div>\n",
       "<p>Lorem ipsum dolor sit amet, consectetur adipisicing elit. Officiis impedit libero esse odio excepturi fuga est ut itaque a quod suscipit, rerum asperiores. Consequuntur voluptates illo rerum recusandae pariatur asperiores, aspernatur, saepe ipsum error dolorem, quod inventore possimus modi deleniti tenetur et officiis. Nemo ab in totam ratione sequi error, ea dolorum repudiandae omnis, eaque facere impedit fugiat. Dolorum distinctio autem sequi enim quidem esse accusamus repudiandae voluptatum nobis, velit, molestiae. Eaque maiores, harum. Saepe esse repellendus sint. Labore provident optio quis commodi quod quaerat quo similique perspiciatis libero facere. Suscipit odit quas nemo, enim laudantium, provident repellendus natus nostrum facilis expedita adipisci qui, harum minus quidem officia cupiditate repellat ut praesentium. Possimus corporis, error atque ex adipisci, illum suscipit pariatur saepe impedit aliquam amet eos reiciendis quidem hic, nisi. Sint nobis modi, nesciunt quasi placeat quia. Veniam inventore corrupti quisquam illum debitis vitae accusamus nobis alias cum iste error magnam, cupiditate earum! Incidunt at consequuntur, rem ipsa odio ipsum deleniti repudiandae blanditiis harum ut in, fugit officia rerum ad, corporis dolore! Commodi repellendus esse quibusdam enim qui totam ipsum, consequuntur officia vel dolores, quod corrupti eveniet maiores minus explicabo, sapiente ratione doloribus laboriosam impedit nesciunt a obcaecati quam veritatis! Placeat, velit possimus delectus, atque voluptate iste alias illo, dolor odit ipsa facere quibusdam? Non omnis aliquid eveniet fuga labore dolores, autem blanditiis, dolorem error ex enim fugiat quisquam aut reprehenderit delectus, nihil accusamus eaque at odit natus accusantium sunt asperiores unde? Tempora dolorem, ad quidem quis adipisci dolores tempore. Lorem ipsum dolor sit amet, consectetur adipisicing elit. Officiis impedit libero esse odio excepturi fuga est ut itaque a quod suscipit, rerum asperiores. Consequuntur voluptates illo rerum recusandae pariatur asperiores, aspernatur, saepe ipsum error dolorem, quod inventore possimus modi deleniti tenetur et officiis. Nemo ab in totam ratione sequi error, ea dolorum repudiandae omnis, eaque facere impedit fugiat. Dolorum distinctio autem sequi enim quidem esse accusamus repudiandae voluptatum nobis, velit, molestiae. Eaque maiores, harum. Saepe esse repellendus sint. Labore provident optio quis commodi quod quaerat quo similique perspiciatis libero facere. Suscipit odit quas nemo</p>\n"
      ],
      "text/plain": [
       "<IPython.core.display.HTML object>"
      ]
     },
     "metadata": {},
     "output_type": "display_data"
    }
   ],
   "source": [
    "%%html\n",
    "<style>\n",
    "div {\n",
    "  shape-outside: polygon(0 0, 0 200px, 200px 300px);\n",
    "  width: 100%;\n",
    "  height: 200px;\n",
    "  float: left;\n",
    "}\n",
    ".element {  \n",
    "  shape-outside: polygon(0 0, 100% 0, 100% 100%, 0 100%);\n",
    "  transition: shape-outside 1s;\n",
    "  // 0.4s cubic-bezier(1, -1, 0, 2);\n",
    "}\n",
    ".element:hover {  \n",
    "\tshape-outside: polygon(0 0, 100% 50%, 100% 75%, 0 100%);\n",
    "}\n",
    "</style>\n",
    "<div class='element'></div>\n",
    "<p>Lorem ipsum dolor sit amet, consectetur adipisicing elit. Officiis impedit libero esse odio excepturi fuga est ut itaque a quod suscipit, rerum asperiores. Consequuntur voluptates illo rerum recusandae pariatur asperiores, aspernatur, saepe ipsum error dolorem, quod inventore possimus modi deleniti tenetur et officiis. Nemo ab in totam ratione sequi error, ea dolorum repudiandae omnis, eaque facere impedit fugiat. Dolorum distinctio autem sequi enim quidem esse accusamus repudiandae voluptatum nobis, velit, molestiae. Eaque maiores, harum. Saepe esse repellendus sint. Labore provident optio quis commodi quod quaerat quo similique perspiciatis libero facere. Suscipit odit quas nemo, enim laudantium, provident repellendus natus nostrum facilis expedita adipisci qui, harum minus quidem officia cupiditate repellat ut praesentium. Possimus corporis, error atque ex adipisci, illum suscipit pariatur saepe impedit aliquam amet eos reiciendis quidem hic, nisi. Sint nobis modi, nesciunt quasi placeat quia. Veniam inventore corrupti quisquam illum debitis vitae accusamus nobis alias cum iste error magnam, cupiditate earum! Incidunt at consequuntur, rem ipsa odio ipsum deleniti repudiandae blanditiis harum ut in, fugit officia rerum ad, corporis dolore! Commodi repellendus esse quibusdam enim qui totam ipsum, consequuntur officia vel dolores, quod corrupti eveniet maiores minus explicabo, sapiente ratione doloribus laboriosam impedit nesciunt a obcaecati quam veritatis! Placeat, velit possimus delectus, atque voluptate iste alias illo, dolor odit ipsa facere quibusdam? Non omnis aliquid eveniet fuga labore dolores, autem blanditiis, dolorem error ex enim fugiat quisquam aut reprehenderit delectus, nihil accusamus eaque at odit natus accusantium sunt asperiores unde? Tempora dolorem, ad quidem quis adipisci dolores tempore. Lorem ipsum dolor sit amet, consectetur adipisicing elit. Officiis impedit libero esse odio excepturi fuga est ut itaque a quod suscipit, rerum asperiores. Consequuntur voluptates illo rerum recusandae pariatur asperiores, aspernatur, saepe ipsum error dolorem, quod inventore possimus modi deleniti tenetur et officiis. Nemo ab in totam ratione sequi error, ea dolorum repudiandae omnis, eaque facere impedit fugiat. Dolorum distinctio autem sequi enim quidem esse accusamus repudiandae voluptatum nobis, velit, molestiae. Eaque maiores, harum. Saepe esse repellendus sint. Labore provident optio quis commodi quod quaerat quo similique perspiciatis libero facere. Suscipit odit quas nemo</p>"
   ]
  },
  {
   "cell_type": "markdown",
   "metadata": {
    "id": "dgclgjdA4Npc"
   },
   "source": [
    "observable Pivot Table \n",
    "litedom \n",
    "nbdev publish markdown\n",
    "observable within markdown\n"
   ]
  },
  {
   "cell_type": "markdown",
   "metadata": {
    "id": "BZY8S0ipNx_8"
   },
   "source": [
    "animate image on SVG Path"
   ]
  },
  {
   "cell_type": "markdown",
   "metadata": {
    "id": "6eIpGzWBN19s"
   },
   "source": [
    "\n",
    "https://stackoverflow.com/questions/44215939/animate-image-on-svg-path"
   ]
  },
  {
   "cell_type": "code",
   "execution_count": null,
   "metadata": {
    "colab": {
     "base_uri": "https://localhost:8080/",
     "height": 171
    },
    "executionInfo": {
     "elapsed": 7,
     "status": "ok",
     "timestamp": 1672736111640,
     "user": {
      "displayName": "Charles Karpati",
      "userId": "06248540216665543849"
     },
     "user_tz": 300
    },
    "id": "P9ggMx3Gk8G7",
    "outputId": "acfa080a-daf7-4b0b-8f0f-b99de124c259"
   },
   "outputs": [
    {
     "data": {
      "text/html": [
       "<svg id=\"svg\">\n",
       "<path d=\"m 24.190476,40.065475 c 148.922614,0 136.071424,-65.767856 148.922614,0 12.85119,65.767855 25.70238,-43.8452368 12.85119,65.767855 -12.85119,109.61309 -12.85119,109.61309 -12.85119,109.61309\"\n",
       "      id=\"animatePath\" style=\"fill:none;stroke-linecap:butt;stroke-linejoin:miter;stroke-opacity:1\" sroke=\"black\" stroke-width=\"30\" fill=\"none\" />\n",
       "\n",
       "<image id=\"car\" xlink:href=\"https://i.stack.imgur.com/gLbds.png\" y=\"-15\" x=\"-15\" width=\"25px\" height=\"25px\">\n",
       "<animateMotion xlink:href=\"#car\" dur=\"20s\" repeatCount=\"1\" begin=\"start.click\" restart=\"whenNotActive\" > <mpath xlink:href=\"#animatePath\"/> </animateMotion>\n",
       "</image>\n",
       "<g id=\"start\"><rect x=\"120\" y=\"10\" width=\"80\" height=\"30\" rx=\"5\" fill=\"transparent\" stroke=\"#B59964\" /><text x=\"138\" y=\"33\" font-size=\"24\" fill=\"#C75C5C\" >Start </text></g>\n",
       "</svg>\n"
      ],
      "text/plain": [
       "<IPython.core.display.HTML object>"
      ]
     },
     "metadata": {},
     "output_type": "display_data"
    }
   ],
   "source": [
    "%%html\n",
    "<svg id=\"svg\">\n",
    "<path id=\"animatePath\" sroke=\"black\" stroke-width=\"30\" fill=\"none\" style=\"fill:none;stroke-linecap:butt;stroke-linejoin:miter;stroke-opacity:1\"\n",
    "  d=\"m 24.190476,40.065475 c 148.922614,0 136.071424,-65.767856 148.922614,0 12.85119,65.767855 25.70238,-43.8452368 12.85119,65.767855 -12.85119,109.61309 -12.85119,109.61309 -12.85119,109.61309\"\n",
    "/>\n",
    "\n",
    "<image id=\"car\" xlink:href=\"https://i.stack.imgur.com/gLbds.png\" y=\"-15\" x=\"-15\" width=\"25px\" height=\"25px\">\n",
    "  <animateMotion xlink:href=\"#car\" dur=\"20s\" repeatCount=\"1\" begin=\"start.click\" restart=\"whenNotActive\" > <mpath xlink:href=\"#animatePath\"/> </animateMotion>\n",
    "</image>\n",
    "<g id=\"start\"><rect x=\"120\" y=\"10\" width=\"80\" height=\"30\" rx=\"5\" fill=\"transparent\" stroke=\"#B59964\" /><text x=\"138\" y=\"33\" font-size=\"24\" fill=\"#C75C5C\" >Start </text></g>\n",
    "</svg>"
   ]
  },
  {
   "cell_type": "code",
   "execution_count": null,
   "metadata": {
    "id": "KQA9ySzcuT3c"
   },
   "outputs": [],
   "source": [
    "https://www.cssscript.com/demo/filterable-masonry-grid-sortablejs/"
   ]
  }
 ],
 "metadata": {
  "colab": {
   "provenance": []
  },
  "kernelspec": {
   "display_name": "Python 3",
   "name": "python3"
  },
  "language_info": {
   "name": "python",
   "version": "3.11.7"
  }
 },
 "nbformat": 4,
 "nbformat_minor": 0
}
