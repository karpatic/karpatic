{
 "cells": [
  {
   "cell_type": "markdown",
   "metadata": {},
   "source": [
    "# Meta Quest Notes\n",
    "\n",
    "> Test \n",
    "- prettify: true"
   ]
  },
  {
   "cell_type": "markdown",
   "metadata": {},
   "source": [
    "steam - steamVR\n",
    "virtualDesk - immersed agent\n",
    "unityHub - unity\n",
    "google earth vr\n",
    "blade & sorcery\n",
    "oculus - sideQuest"
   ]
  },
  {
   "cell_type": "markdown",
   "metadata": {},
   "source": [
    "stream options - airlink, link cable, virtual desktop.\n",
    "\n",
    "https://arvrjourney.com/test-oculus-link-vs-air-link-vs-virtual-desktop-7e0828fab0d3"
   ]
  },
  {
   "cell_type": "markdown",
   "metadata": {},
   "source": [
    "https://www.meta.com/help/quest/articles/headsets-and-accessories/oculus-link/connect-with-air-link/\n",
    "\n",
    "shows neither cable nor air link will work for my pc's graphics card"
   ]
  },
  {
   "cell_type": "markdown",
   "metadata": {},
   "source": [
    "https://readyvrone.com/hardware/side-quest-vs-virtual-desktop/\n",
    "\n",
    "Virtual Desktop is an application which enables the user to stream their PC’s display to a virtual reality headset. \n",
    "\n",
    "Side Quest is quite a different beast compared to Virtual Desktop. \n",
    "This is an application specifically for Quest headsets: \n",
    "its primary use is to enable users to load software onto the headset that wouldn’t ordinarily be available. \n",
    "This process is achieved through a method called ‘side loading’.\n",
    "\n",
    "The premise is pretty straightforward: sideloading is a term that came from the Android community, \n",
    "and it refers to loading software from a third-party resource as opposed to via official means. \n",
    "It used to be that you needed a PC to do this with Side Quest, but recently, \n",
    "the service offered the ability to use a mobile Android app instead. \n",
    "This means Side Quest isn’t reliant on PC hardware if you have a mobile Android device.\n",
    "\n",
    "Side Quest is also the main aggregator of App Lab content: \n",
    "a collaboration between Meta and Side Quest that allows users to try out new, \n",
    "experimental content not yet available on the official Quest store. \n",
    "None of this content needs to be side-loaded, either, \n",
    "meaning you can download it directly from your Quest by browsing the App Lab tab in the Side Quest store from a browser."
   ]
  },
  {
   "cell_type": "markdown",
   "metadata": {},
   "source": [
    "https://www.youtube.com/watch?v=Kk1IHDUnsAQ\n",
    "\n",
    "Seting up w/ Virtual Desktop"
   ]
  },
  {
   "cell_type": "markdown",
   "metadata": {},
   "source": [
    "https://steamcommunity.com/discussions/forum/0/3114770913760568413/\n",
    "\n",
    "If you already have Steam installed Do you need to install SteamVR to work with VR Games?\n",
    "\n",
    "Yes. They wont run without it."
   ]
  },
  {
   "cell_type": "markdown",
   "metadata": {},
   "source": []
  }
 ],
 "metadata": {
  "colab": {
   "authorship_tag": "ABX9TyM8fn0ljkJGlZVblhG/dv40",
   "provenance": []
  },
  "kernelspec": {
   "display_name": "Python 3",
   "name": "python3"
  },
  "language_info": {
   "name": "python"
  }
 },
 "nbformat": 4,
 "nbformat_minor": 0
}
