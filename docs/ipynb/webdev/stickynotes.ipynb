{
 "cells": [
  {
   "cell_type": "markdown",
   "metadata": {},
   "source": [
    "# Sticky Notes\n",
    "\n",
    "> Test \n",
    "- prettify: true"
   ]
  },
  {
   "cell_type": "markdown",
   "metadata": {},
   "source": [
    "𐲓 𐲁 𐲢 𐲛 𐲖 𐲒 𐲓 𐲁 𐲢 𐲠 𐲁 𐲦 𐲐"
   ]
  },
  {
   "cell_type": "markdown",
   "metadata": {
    "id": "VozFf4GuoXFC"
   },
   "source": [
    "// Collections / Wearable middleware\n",
    "// Also handles some legacy case.\n",
    "// un-refreshed opensea collection pages use the collections/:x:/y endpoint on a button to link to our collections page.\n",
    "// this middleware redirects those requests to the proper url. otherwise the collections page may break??\n",
    "// Otherwise: That endpoint has changed in it's use, making legacy support not possible.\n",
    "const identifyCollectionParams = async (req: Request, res: Response, next: NextFunction) => {"
   ]
  },
  {
   "cell_type": "code",
   "execution_count": null,
   "metadata": {
    "id": "AagJN_o-Y-z5"
   },
   "outputs": [],
   "source": [
    "ethereum-listener.ts \n",
    "\n",
    "import { ethers } from 'ethers'\n",
    "import { landworksRentingExtensioncontract, parcelContract } from '../lib/utils'\n",
    "import Parcel from '../parcel'\n",
    "import ParcelUserRight from '../parcel-user-right'\n",
    "\n",
    "export const listenToContracts = () => {\n",
    "  parcelContract.on('Transfer', async (from: string, to: string, id: ethers.BigNumber) => {\n",
    "    const tokenId = id.toNumber()\n",
    "    const parcel = await Parcel.load(tokenId)\n",
    "    if (!parcel) {\n",
    "      return\n",
    "    }\n",
    "    if (!ethers.utils.isAddress(to)) {\n",
    "      return\n",
    "    }\n",
    "    parcel.owner = to\n",
    "    if (!parcel.minted) {\n",
    "      // This parcel has recently been minted! Remember to make it visible the next time it's saved.\n",
    "      // (This, and similar logic in AbstractParcel.queryContract(), is now the *only* way in which the minted and\n",
    "      // visible properties of a parcel interact.)\n",
    "      parcel._justGotMinted = true\n",
    "    }\n",
    "    parcel.minted = true\n",
    "    parcel.save()\n",
    "  })\n",
    "\n",
    "  // TODO: uncomment on 1st of may\n",
    "  landworksRentingExtensioncontract.on('ConsumerChanged', async (owner: string, consumer: string, id: ethers.BigNumber) => {\n",
    "    const tokenId = id.toNumber()\n",
    "    // if (owner.toLowerCase() !== LANDWORKS.toLowerCase()) {\n",
    "    //   return\n",
    "    // }\n",
    "    // on new consumer evict the current Renter\n",
    "    ParcelUserRight.evictRenter(tokenId)\n",
    "    if (consumer !== ethers.constants.AddressZero) {\n",
    "      // new consumer is not the address Zero, it's a new renter\n",
    "      ParcelUserRight.createRenter(tokenId, consumer)\n",
    "      ParcelUserRight.deleteAllButRenter(tokenId)\n",
    "    }\n",
    "  })\n",
    "}"
   ]
  },
  {
   "cell_type": "markdown",
   "metadata": {
    "id": "_7kxMa0VoSmy"
   },
   "source": [
    "Forest Arc\n",
    "Souls of nature\n",
    "Stageverse\n",
    "Decentral Games\n",
    "Vyworlds\n",
    "Upland\n",
    "CEEK VR\n",
    "Pax.world\n",
    "Spatial\n",
    "Bloktopia\n",
    "\n",
    "Cryptovoxels \n",
    "Hyperfy.io\n",
    "Substrata\n",
    "The Sandbox\n",
    "Decentraland\n",
    "SomniumSpace, \n",
    "wordwide webb\n",
    "NFT World\n",
    "Mona\n",
    "otherdeed\n",
    "Illuvium\n",
    "Axie Infinity\n",
    "GTA5/ Fortnite\n",
    "Meta Horizon/ VRChat\n",
    "Minecraft/ Roblox"
   ]
  },
  {
   "cell_type": "markdown",
   "metadata": {
    "id": "LQiDj8sZOR2N"
   },
   "source": [
    "twee - excessively or affectedly quaint, pretty, or sentimental.\n",
    "mawkish - sentimental in a feeble or sickly way."
   ]
  },
  {
   "attachments": {},
   "cell_type": "markdown",
   "metadata": {},
   "source": [
    "fixer upper book"
   ]
  },
  {
   "cell_type": "markdown",
   "metadata": {
    "id": "CP-UKccJoPiT"
   },
   "source": [
    "When it outgrows the single EC2 instance, I'll likely start building some distributed thingy to spread the load and do some HA things (sounds like fun). Probably just a load balancer and 2-3 instances with a rqlite backend instead of SQLite, nothing too fancy.\n",
    "\n",
    "It's quite cheap to run. It's just one small EC2 instance, and it's usually idling around a load average of 0.1 (though right now it's at 1, hehe). It costs me about $24/month. The Apple developer license costs $100 per year, so it's ~$400/year. As of recently, that's entirely covered by donations.\n",
    "\n",
    "I think switching to a cheaper cloud service like Linode or Hetzner would be the way to go.\n",
    "\n",
    "A free Oracle Cloud VM or $5 Digital Ocean droplet would be the way I go.\n",
    "\n",
    "A free Oracle Cloud VM still costs you your soul, in perpetuity\n",
    "\n",
    "\n",
    "\n",
    "\n",
    "\n",
    "When I was making my IoT washing machine sensor, I used Blynk.io to push notifications to my phone but of course that service became\n",
    "commercialised and is no longer free. I could not find any nice easy to use alternative except for Telegram which is what I use now. This service looks exactly like what I would need and I appreciate the promise to keep it open source.\n",
    "\n",
    "\n",
    "\n",
    "\n",
    "https://pushover.net/ Has existed for several years. It works great for me.\n",
    "\n",
    "I've used pushover for years as well. I wish they would charge me $5/y instead of a $5/lifetime.\n",
    "\n",
    "I set up Tasker on my phone such that when a specific low-priority (no visible/audible alert) message from pushover, containing only a hash key, is received it picks it up and does an HTTPS request to my self-hosted server to retrieve the actual notification text.\n",
    "\n",
    "\n",
    "\n",
    "Another alternative: you can send notifications to your phone through text messages. Text messages are compatible with email, usually in the form of <number>@<special-provider-url>.\n",
    "\n",
    "\n",
    "https://www.verizon.com/about/news/vzw/2013/06/computer-to-phone-text-messaging\n",
    "\n",
    "https://gotify.net/"
   ]
  },
  {
   "cell_type": "markdown",
   "metadata": {
    "id": "3CfOi0RHg8oN"
   },
   "source": [
    "# Misc"
   ]
  },
  {
   "cell_type": "code",
   "execution_count": null,
   "metadata": {
    "id": "6uQvnob4g8Ie"
   },
   "outputs": [],
   "source": [
    "https://en.wikipedia.org/wiki/Pope_Leo_X\n",
    " Misc Concepts\n",
    "Evo of reality -> information is evolving towards greater states of complexity :\n",
    "heuristics ignoree the asymetry  : P(A|B) != P(B|A)\n",
    "Humanity does not contain a beginning middle & ending\n",
    "Continued growth is unsustainable for humanity.\n",
    "Infinite game - not win reality but keep it going\n",
    "Human value is how to keep machine going\n",
    "How can we trust our models when all our assumptions are based on heuristics\n",
    "limbic (primitive) resonance express the cybernetic collective.\n",
    "cortex (foreward) - in service of limbic system.\n",
    "bleached emotions\n",
    "standing at the peak of one local topology i look to other local maxima\n",
    "\n",
    "http://wiki.c2.com/?GoodStyle "
   ]
  },
  {
   "cell_type": "markdown",
   "metadata": {},
   "source": [
    "~~~~~~~~~~~~~~~~~~~~~~~~~~~~~~~~~~~~~~~~\n",
    "Quotes Moments \n",
    "~~~~~~~~~~~~~~~~~~~~~~~~~~~~~~~~~~~~~~~~ \n",
    "fish go by the motion of the ocean through the notion of the sun \n",
    "Has anyone ever told you we should have met sooner?\n",
    "my body is very attracted to your body, but when you speak, my brain gets angry \n",
    "let me dry my hands in this little thing right here "
   ]
  },
  {
   "cell_type": "markdown",
   "metadata": {},
   "source": [
    "~~~~~~~~~~~~~~~~~~~~~~~~~~~~~~~~~~~~~~~~\n",
    "A Superhero I made up\n",
    "~~~~~~~~~~~~~~~~~~~~~~~~~~~~~~~~~~~~~~~~\n",
    "Adventures of lightbulb city. \n",
    "the first one morphed from super hero's attack on some super criminal,1 blast hits the road.\n",
    "the magical properties of the super hero's weapon are then inhibited by the street tar it hit.\n",
    "the floor begins to crack, breaking down streetlights, two lights land on the road. tearing at\n",
    "the wire, the sparks of this now lights up the event and is a bit mysterious\n",
    "by this point the street starts to look more like street tar thats bubbling. all of a sudden the\n",
    "wire lights start to glow up a little yellow\n",
    "the once dead streetlights are flickering now\n",
    "it looks like a mess from the puddle of street tar\n",
    "but as it mixes and congeals together, it starts to look rather lively.\n",
    "the end result is a rather brutish counterpart of the girl robot in wall-e. \n",
    "he glows yellow around the wires and where they settled, and is black not white.\n",
    "he is super freindly and acts like flubber. \n",
    "eventually he finds this womans phone and hacks into it/ melts into it. he now just\n",
    "morphed into a nonobyte in the world of nanobytes\n",
    "there are many types of nanobytes and one chapter is how he ended up learning their culture\n",
    "and to live with them. \n",
    "an next is when he jumped into a giga byte or a terra byte. each byte has a diffrent world. only problem is he cant live in these worlds and will be kicked back into the normal\n",
    "one if someone is using the thing he initially jumped into from (ie the phone in the first senerio).\n",
    "he ends up becoming king in his locality once he gets connected to the internet.\n",
    "he unites all the diffrent worlds of people to come together and take shape\n",
    "(sort of like ghengis khan)\n",
    "now there are two of them. as more and more power centers start to convert and become electrotopians\n",
    ", they live in a mythical place unaware to humans, just like fairys and trolls.\n",
    "this is yet again another level, and as it progresses this final chapter shows how these people live.\n",
    "ohh, they also turn out to be super crime fighters. because of their electrical abilities and all.\n",
    "MYEAH"
   ]
  }
 ],
 "metadata": {
  "colab": {
   "authorship_tag": "ABX9TyNenLeU9sBy7g+RTNhdjLqR",
   "collapsed_sections": [
    "-kS-scvvNsat",
    "tnVFPH9NNFfT",
    "rJka3mICNhie",
    "3CfOi0RHg8oN",
    "OWpnRBn3hBC-",
    "7IhobntfhoAt",
    "sciaAuXyYYrr"
   ],
   "provenance": []
  },
  "kernelspec": {
   "display_name": "Python 3",
   "name": "python3"
  },
  "language_info": {
   "name": "python"
  }
 },
 "nbformat": 4,
 "nbformat_minor": 0
}
