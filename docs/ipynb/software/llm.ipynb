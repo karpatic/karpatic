{
 "cells": [
  {
   "cell_type": "code",
   "execution_count": null,
   "metadata": {},
   "outputs": [],
   "source": [
    "https://github.com/ray-project/llm-numbers\n",
    "https://github.com/mshumer/gpt-prompt-engineer\n",
    "\n",
    "https://js.langchain.com/docs/modules/data_connection/retrievers/how_to/self_query/"
   ]
  },
  {
   "cell_type": "markdown",
   "metadata": {},
   "source": [
    "https://www.intercom.com/"
   ]
  },
  {
   "cell_type": "markdown",
   "metadata": {},
   "source": [
    "https://github.com/ShumzZzZz/GPT-Rambling/blob/main/LangChain%20Specific/langchain_persist_conversation_memory.ipynb"
   ]
  },
  {
   "cell_type": "markdown",
   "metadata": {},
   "source": [
    "from langchain.schema import messages_from_dict, messages_to_dict\n",
    "extracted_messages = original_chain.memory.chat_memory.messages"
   ]
  },
  {
   "cell_type": "code",
   "execution_count": null,
   "metadata": {},
   "outputs": [],
   "source": [
    "[HumanMessage(content='what do you know about Python in less than 10 words', additional_kwargs={}),\n",
    " AIMessage(content='Python is a high-level programming language.', additional_kwargs={})]"
   ]
  },
  {
   "cell_type": "markdown",
   "metadata": {},
   "source": [
    "ingest_to_db = messages_to_dict(extracted_messages)"
   ]
  },
  {
   "cell_type": "code",
   "execution_count": null,
   "metadata": {},
   "outputs": [],
   "source": [
    "[{'type': 'human',\n",
    "  'data': {'content': 'what do you know about Python in less than 10 words',\n",
    "   'additional_kwargs': {}}},\n",
    " {'type': 'ai',\n",
    "  'data': {'content': 'Python is a high-level programming language.',\n",
    "   'additional_kwargs': {}}}]"
   ]
  },
  {
   "cell_type": "markdown",
   "metadata": {},
   "source": [
    "retrieve_from_db = json.loads(json.dumps(ingest_to_db))"
   ]
  },
  {
   "cell_type": "markdown",
   "metadata": {},
   "source": [
    "retrieved_messages = messages_from_dict(retrieve_from_db)"
   ]
  },
  {
   "cell_type": "markdown",
   "metadata": {},
   "source": [
    "retrieved_chat_history = ChatMessageHistory(messages=retrieved_messages)"
   ]
  },
  {
   "cell_type": "markdown",
   "metadata": {},
   "source": [
    "retrieved_memory = ConversationBufferMemory(chat_memory=retrieved_chat_history)"
   ]
  },
  {
   "cell_type": "markdown",
   "metadata": {},
   "source": [
    "\n",
    "reloaded_chain = ConversationChain(\n",
    "    llm=llm,\n",
    "    verbose=True,\n",
    "    memory=retrieved_memory\n",
    ")\n",
    "reloaded_chain.run('what about Javascript and Ruby')"
   ]
  }
 ],
 "metadata": {
  "language_info": {
   "name": "python"
  },
  "orig_nbformat": 4
 },
 "nbformat": 4,
 "nbformat_minor": 2
}
