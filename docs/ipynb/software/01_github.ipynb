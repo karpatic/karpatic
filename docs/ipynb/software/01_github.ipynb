{
 "cells": [
  {
   "attachments": {},
   "cell_type": "markdown",
   "metadata": {
    "id": "kl5vsRnUWERX"
   },
   "source": [
    "# Github\n",
    "\n",
    "> In this chapter, we will learn about Github and explore some of its many features. \n",
    "- prettify: true\n",
    "- tab: Github\n",
    "- keywords: ['data'] \n",
    "- hide_sitemap: false\n",
    "- hide_toc: true\n",
    "- hide_breadcrumbs: false"
   ]
  },
  {
   "attachments": {},
   "cell_type": "markdown",
   "metadata": {},
   "source": [
    "The contents of this page are as follows in Scott Chacon and Ben Straub's book Pro Git. The book was published by Apress under the [Creative Commons Attribution Non Commercial Share Alike 3.0 license](https://creativecommons.org/licenses/by-nc-sa/3.0/). [Online](https://git-scm.com/book/en/v2/) and [Ebook](https://github.com/progit/progit2/releases/download/2.1.228/progit.pdf\") versions of the book are also available."
   ]
  },
  {
   "attachments": {},
   "cell_type": "markdown",
   "metadata": {},
   "source": [
    "<div class=\"unset\">\n",
    "  <style>\n",
    "  .unset{padding:0px;}\n",
    "  .unset p a img {\n",
    "    width: auto;\n",
    "  }\n",
    "  .unset p{ margin:10px;}\n",
    "  </style>"
   ]
  },
  {
   "attachments": {},
   "cell_type": "markdown",
   "metadata": {
    "id": "MWtTH8BZ3vLO"
   },
   "source": [
    "  [![Binder](https://mybinder.org/badge_logo.svg)](https://mybinder.org/v2/gh/bnia/dataguide/main?filepath=%2Fnotebooks%2F01_Github.ipynb)\n",
    "[![Binder](https://pete88b.github.io/fastpages/assets/badges/colab.svg)](https://colab.research.google.com/github/bnia/dataguide/blob/main/notebooks/01_Github.ipynb)\n",
    "[![Binder](https://pete88b.github.io/fastpages/assets/badges/github.svg)](https://github.com/bnia/dataguide/tree/main/notebooks/01_Github.ipynb)\n",
    "[![Open Source Love svg3](https://badges.frapsoft.com/os/v3/open-source.svg?v=103)](https://github.com/ellerbrock/open-source-badges/)\n",
    "\n",
    "[![NPM License](https://img.shields.io/npm/l/all-contributors.svg?style=flat)](https://github.com/bnia/dataguide/blob/main/LICENSE)\n",
    "[![Active](http://img.shields.io/badge/Status-Active-green.svg)](https://bnia.github.io) \n",
    "[![GitHub last commit](https://img.shields.io/github/last-commit/bnia/dataguide.svg?style=flat)]()  \n",
    "\n",
    "[![GitHub stars](https://img.shields.io/github/stars/bnia/dataguide.svg?style=social&label=Star)](https://github.com/bnia/dataguide) \n",
    "[![GitHub watchers](https://img.shields.io/github/watchers/bnia/dataguide.svg?style=social&label=Watch)](https://github.com/bnia/dataguide) \n",
    "[![GitHub forks](https://img.shields.io/github/forks/bnia/dataguide.svg?style=social&label=Fork)](https://github.com/bnia/dataguide) \n",
    "[![GitHub followers](https://img.shields.io/github/followers/bnia.svg?style=social&label=Follow)](https://github.com/bnia/dataguide) \n",
    "\n",
    "[![Tweet](https://img.shields.io/twitter/url/https/github.com/bnia/dataguide.svg?style=social)](https://twitter.com/intent/tweet?text=Check%20out%20this%20%E2%9C%A8%20colab%20by%20@bniajfi%20https://github.com/bnia/dataguide%20%F0%9F%A4%97) \n",
    "[![Twitter Follow](https://img.shields.io/twitter/follow/bniajfi.svg?style=social)](https://twitter.com/bniajfi)"
   ]
  },
  {
   "attachments": {},
   "cell_type": "markdown",
   "metadata": {},
   "source": [
    "</div>\n",
    "<details class=\"details\">\n",
    "<summary>"
   ]
  },
  {
   "attachments": {},
   "cell_type": "markdown",
   "metadata": {
    "id": "HjZNwX0JWERb"
   },
   "source": [
    "## What's Covered?"
   ]
  },
  {
   "attachments": {},
   "cell_type": "markdown",
   "metadata": {},
   "source": [
    "</summary>"
   ]
  },
  {
   "attachments": {},
   "cell_type": "markdown",
   "metadata": {
    "id": "r7pCvOd8WERb"
   },
   "source": [
    "Version Control\n",
    "- What is it?\n",
    "- Why do we need it?\n",
    "- How is it done?\n",
    "\n",
    "GitHub\n",
    "- What is it?\n",
    "- How to create an account\n",
    "- How to create a repository\n",
    "- How to commit changes\n",
    "- What is CLI?\n",
    "- How to use Desktop tools\n",
    "- What are GitHub [Pages](https://docs.github.com/en/github/working-with-github-pages) and [Jeckyll](https://docs.github.com/en/github/working-with-github-pages/adding-a-theme-to-your-github-pages-site-using-jekyll)?"
   ]
  },
  {
   "attachments": {},
   "cell_type": "markdown",
   "metadata": {},
   "source": [
    "<details>\n",
    "<summary>"
   ]
  },
  {
   "attachments": {},
   "cell_type": "markdown",
   "metadata": {},
   "source": [
    "### Not Covered but Noteworthy:"
   ]
  },
  {
   "attachments": {},
   "cell_type": "markdown",
   "metadata": {},
   "source": [
    "</summary>"
   ]
  },
  {
   "attachments": {},
   "cell_type": "markdown",
   "metadata": {},
   "source": [
    "- Versioning \n",
    "- Commiting from Colab \n",
    "- How to create a repo from an existing [project](https://docs.github.com/en/github/importing-your-projects-to-github/adding-an-existing-project-to-github-using-the-command-line)\n",
    "- Browser [Extensions](https://github.com/collections/github-browser-extensions)\n",
    "- Github's [special](https://torrocus.com/blog/special-github-repository/) 'profile' repository\n",
    "- Github Projects - Dev/mgmt tools and Collaborative Kanbanboards all wired up to respond to git commits. \n",
    "- Github Teams - A chatroom for people working on a repository\n",
    "- Github Organizations - Can house multiple repositories and provides admin tools to manage people across teams and projects. \n",
    "- Github [NPM](https://docs.github.com/en/packages/using-github-packages-with-your-projects-ecosystem/configuring-npm-for-use-with-github-packages) - Publish Javascript libraries to NPM using Github\n",
    "- Github [Actions](https://github.com/features/actions)"
   ]
  },
  {
   "attachments": {},
   "cell_type": "markdown",
   "metadata": {},
   "source": [
    "</details>"
   ]
  },
  {
   "attachments": {},
   "cell_type": "markdown",
   "metadata": {},
   "source": [
    "</details>\n",
    "<details>\n",
    "<summary>"
   ]
  },
  {
   "attachments": {},
   "cell_type": "markdown",
   "metadata": {
    "id": "FT1Uo-7EWERc"
   },
   "source": [
    "## Version Control"
   ]
  },
  {
   "attachments": {},
   "cell_type": "markdown",
   "metadata": {},
   "source": [
    "</summary>"
   ]
  },
  {
   "attachments": {},
   "cell_type": "markdown",
   "metadata": {
    "id": "zS436cpVWERc"
   },
   "source": [
    "### What is it?\n",
    "\n",
    "> Version control is a system that records changes to a file or set of files over time so that you can recall specific versions later. - Chacon and Straub, Pro Git\n",
    "\n",
    "### Why do we need it?\n",
    "> Many people's version-control method of choice is to copy files into another directory such as time-stamped directory if they are clever. This approach is common because it is so simple. However, it is also incredibly error-prone because it is easy to forget which directory you are in. Consequently, you could accidentally write to the wrong file or copy over files you do not mean to. The next major issue that people encounter is that they need to collaborate with developers on other systems. - Chacon and Straub, Pro Git\n",
    "\n",
    "### How is it done?\n",
    "\n",
    "> This is where Distributed Version Control Systems (DVCSs) such as Git, Mercurial, Bazaar, and Darcs step in. In a DVCS, clients do more than check out the latest snapshot of files. They fully mirror the repository including its full history. If any server dies and these systems were collaborating via that server, any of the client repositories can be copied back up to the server to restore it. Every clone is really a full backup of all the data.  - Chacon and Straub, Pro Git"
   ]
  },
  {
   "attachments": {},
   "cell_type": "markdown",
   "metadata": {},
   "source": [
    "</details>\n",
    "<details class=\"details\">\n",
    "<summary>"
   ]
  },
  {
   "attachments": {},
   "cell_type": "markdown",
   "metadata": {
    "id": "SR7FQ2A9WERd"
   },
   "source": [
    "## Git"
   ]
  },
  {
   "attachments": {},
   "cell_type": "markdown",
   "metadata": {},
   "source": [
    "</summary>"
   ]
  },
  {
   "attachments": {},
   "cell_type": "markdown",
   "metadata": {
    "id": "bkOR2U6dWERe"
   },
   "source": [
    "__Git__ is an open-source tool used by developers to establish version control in their projects using commands executed from the terminal. \n",
    "\n",
    "__Github__ is a website/application that allows you to upload your git repository to the web for distributed collaboration, control, and storage. (Move of this wil be covered in the next section).\n",
    "\n",
    "> Since its birth in 2005, Git has evolved and matured to be easy to use while retaining the initial qualities. It's amazingly fast, it's very efficient with large projects, and it has an incredible branching system for non-linear development. - Chacon and Straub, Pro Git\n",
    "\n",
    "See Git Branching for more details.\n"
   ]
  },
  {
   "attachments": {},
   "cell_type": "markdown",
   "metadata": {
    "id": "QIT1lEZ7WERe"
   },
   "source": [
    "1. Nearly every operation is local. \n",
    "  \n",
    "> Most operations in Git need only local files and resources to operate. Information from another computer on your network is generally not needed.  - Chacon and Straub, Pro Git\n",
    "\n",
    "2. Git has integrity \n",
    "  \n",
    "> Everything in Git is checksummed before being stored and is then referred to by that checksum. It is impossible to change the contents of any file or directory without Git knowing about it beforehand. This functionality is built into Git at the lowest levels and is integral to its philosophy. You can’t lose information in transit or get file corruption without Git being able to detect it. - Chacon and Straub, Pro Git\n",
    "\n",
    "3. Git generally only adds data\n",
    "\n",
    "> When you do actions in Git, nearly all of them only add data to the Git database. It is hard to get the system to do anything that cannot be undone or make it erase data in any way. As with any VCS, you can lose or mess up changes you have not committed yet. But after you commit a snapshot into Git, it is difficult to lose, especially if you regularly push your database to another repository. - Chacon and Straub, Pro Git\n",
    "\n",
    "While there are many ways to use Git, the general approach follows these three stages.\n",
    "\n",
    "<img src=\"https://charleskarpati.com/img/githubCommit.png\" alt=\"Git Stages\" title=\"Git Stages\" height=\"300\"/>"
   ]
  },
  {
   "attachments": {},
   "cell_type": "markdown",
   "metadata": {
    "id": "05VlR-YCWERf"
   },
   "source": [
    "\n",
    "Using Git can be accomplished through a variety of methods, including:\n",
    "\n",
    "- Directly through the [command line](https://git-scm.com/book/en/v2/Getting-Started-The-Command-Line)\n",
    "- Using [GitHub](https://github.com) or [Bitbucket](https://bitbucket.org/) on the web\n",
    "- Using GitHub's simplied and user-friendly [desktop](https://desktop.github.com/) application\n",
    "- Using the web based [Prose.io](https://prose.io/) content editor"
   ]
  },
  {
   "attachments": {},
   "cell_type": "markdown",
   "metadata": {},
   "source": [
    "</details>\n",
    "<details>\n",
    "<summary>"
   ]
  },
  {
   "attachments": {},
   "cell_type": "markdown",
   "metadata": {
    "id": "bV4I87HbWERf"
   },
   "source": [
    "## GitHub"
   ]
  },
  {
   "attachments": {},
   "cell_type": "markdown",
   "metadata": {},
   "source": [
    "</summary>"
   ]
  },
  {
   "attachments": {},
   "cell_type": "markdown",
   "metadata": {
    "id": "wpesJD9TWERf"
   },
   "source": [
    "Whereas Git is used stand-alone for version control purposes, it is in tandem with GitHub (or Bitbucket). As a free survice, GitHub enriches existing features and adds further utility. To truly understand what this means, let's try it out for ourselves!"
   ]
  },
  {
   "attachments": {},
   "cell_type": "markdown",
   "metadata": {},
   "source": [
    "<details>\n",
    "<summary>"
   ]
  },
  {
   "attachments": {},
   "cell_type": "markdown",
   "metadata": {
    "id": "Y_zU_Am5WERg"
   },
   "source": [
    "### 1: Create a GitHub account"
   ]
  },
  {
   "attachments": {},
   "cell_type": "markdown",
   "metadata": {},
   "source": [
    "</summary>"
   ]
  },
  {
   "attachments": {},
   "cell_type": "markdown",
   "metadata": {
    "id": "zIy1Be0cWERg"
   },
   "source": [
    "1A) [Create](https://github.com/join?ref_cta=Sign+up&ref_loc=header+logged+out&ref_page=%2F&source=header-home) a new GitHub account. <br><img src=\"https://charleskarpati.com/img/githubcreate.png\" height=\"400\"/>\n",
    "\n",
    "1B) The top right corner provide shortcuts to some of GitHub's best features.\n",
    "\n",
    "The following shown below is the accounts dropdown.\n",
    "\n",
    "**Click on the 'Your Profile' tab to go to a dashboard comprising all of your past works (if any).**\n",
    "\n",
    "<img src=\"https://charleskarpati.com/img/githubAccountTab.png\" height=\"400\"/>\n",
    "\n",
    "Your username will be the URL's basepath for all future projects.\n",
    "\n",
    "**This basepath also serves as the link to your profile page.**\n",
    "\n",
    "If you are feeling brave, click on different tabs in this dropdown to see how they relate to your profile page and basepath!\n",
    "\n",
    "**For example, the link to my profile page is as follows:**\n",
    "<br><img src=\"https://charleskarpati.com/img/githuburl.png\"/>\n",
    "\n",
    "**If you click on the 'Your Repositories' dropdown option:**\n",
    "- The url changes to github.com/bnia?tab=repositories**\n",
    "- The navigational tab on the topmost of my homepage will change from 'Overview' to 'Repositories'.\n",
    "\n",
    "<br><img src=\"https://charleskarpati.com/img/githubProfileRepos.png\" height=\"150\"/>"
   ]
  },
  {
   "attachments": {},
   "cell_type": "markdown",
   "metadata": {},
   "source": [
    "</details>\n",
    "<details>\n",
    "<summary>"
   ]
  },
  {
   "attachments": {},
   "cell_type": "markdown",
   "metadata": {
    "id": "GvYnazVaWERg"
   },
   "source": [
    "### 2: Create a project repository"
   ]
  },
  {
   "attachments": {},
   "cell_type": "markdown",
   "metadata": {},
   "source": [
    "</summary>"
   ]
  },
  {
   "attachments": {},
   "cell_type": "markdown",
   "metadata": {},
   "source": [
    "2A) Navigate to the '+' menu button and click \"New Repository\"."
   ]
  },
  {
   "attachments": {},
   "cell_type": "markdown",
   "metadata": {
    "id": "LKLNjjVeWERg"
   },
   "source": [
    "**Below are features available in this portion of the site:**\n",
    "- '[New Gist](https://help.github.com/en/github/writing-on-github/creating-gists)' - **(Free)** - Save something quick!\n",
    "- - Click that link or visit https://www.gist.github.com to jot something down!\n",
    "- - Save the code and get back to it later from https://gist.github.com/Your_UserName \n",
    "- - Markdown, Html, and JS syntax are all understood.\n",
    "- '[New Organization](https://help.github.com/en/github/setting-up-and-managing-organizations-and-teams/about-organizations)' - **(Free and paid)** - BNIA has a free one that helps people collaborate across many projects/reports.\n",
    "- '[New Project](https://github.com/features/project-management/)' - **(Free and paid)** - for project management."
   ]
  },
  {
   "attachments": {},
   "cell_type": "markdown",
   "metadata": {},
   "source": [
    "<img src=\"https://charleskarpati.com/img/NewRepoPic.png\" height=\"200\"/>"
   ]
  },
  {
   "attachments": {},
   "cell_type": "markdown",
   "metadata": {},
   "source": [
    "2B) Complete the form that appears with your information."
   ]
  },
  {
   "attachments": {},
   "cell_type": "markdown",
   "metadata": {},
   "source": [
    "- Be sure to click \"Initialize this repository with a README\".\n",
    "- A sample is provided below.<br><br><img src=\"https://charleskarpati.com/img/githubCreateRepository.png\" height=\"700\"/>"
   ]
  },
  {
   "attachments": {},
   "cell_type": "markdown",
   "metadata": {},
   "source": [
    "**More information on setup and configuration can be found [here](https://git-scm.com/book/en/v2/GitHub-Account-Setup-and-Configuration)**."
   ]
  },
  {
   "attachments": {},
   "cell_type": "markdown",
   "metadata": {},
   "source": [
    "</details>\n",
    "<details>\n",
    "<summary>"
   ]
  },
  {
   "attachments": {},
   "cell_type": "markdown",
   "metadata": {
    "id": "isvDV-qDWERh"
   },
   "source": [
    "### 3: Editing a file in the repository."
   ]
  },
  {
   "attachments": {},
   "cell_type": "markdown",
   "metadata": {},
   "source": [
    "</summary>"
   ]
  },
  {
   "attachments": {},
   "cell_type": "markdown",
   "metadata": {},
   "source": [
    "3A) At this point, you should be looking at something like this:"
   ]
  },
  {
   "attachments": {},
   "cell_type": "markdown",
   "metadata": {
    "id": "aIgmJVLOWERh"
   },
   "source": [
    "- **Green** (top right) - Quick links\n",
    "- **Mint/Pistachio** (top left) - Basepath / ProjectName\n",
    "- **Purple** (second most top right)\n",
    "- - Watch a project to track its progress with using alerts.\n",
    "- - Click the star to favorite a project. \n",
    "- - Fork a project to create an identical copy.\n",
    "- **Red** (third most top right) \n",
    "- - Delete or rename a project here. \n",
    "- - If youre code contains Markup, HTML, or JS it can be hosted for **free** using GitHub [pages](https://pages.github.com/).\n",
    "- **Light Blue** (center screen) - See when the project was last edited here.\n",
    "- **Gray** (center screen) \n",
    "- - This is the file directory. \n",
    "- - All files will be shown here. \n",
    "- - Click a link to change the page and view its contents.\n",
    "- - Clicking a file from the file directory will show the content of the file much like is demonstrated in the yellow and orange section in the picture\n",
    "- **Yellow** (bottom) \n",
    "- - If the project has a README.MD file, the content of that file file will be parsed, rendered, and shown here.\n",
    "- **Orange** (bottom above the yellow) \n",
    "- - The filename is shown in the left orange circle.\n",
    "- - commit edits to the README doc using the right circle pencil icon."
   ]
  },
  {
   "attachments": {},
   "cell_type": "markdown",
   "metadata": {},
   "source": [
    "<img src=\"https://charleskarpati.com/img/githubreponew.png\" height=\"500\"/>"
   ]
  },
  {
   "attachments": {},
   "cell_type": "markdown",
   "metadata": {},
   "source": [
    "**The contents of a README.md file should be shown towards the bottom half of your screen.**"
   ]
  },
  {
   "attachments": {},
   "cell_type": "markdown",
   "metadata": {},
   "source": [
    "3B) You are now looking at the contents of the \"README\" file. "
   ]
  },
  {
   "attachments": {},
   "cell_type": "markdown",
   "metadata": {
    "id": "UI4YAPtEWERi"
   },
   "source": [
    "- You can edit the document using HTML, Markdown or plaintext. \n",
    "- To commit your edits, scroll to the bottom of the page and select Edit. "
   ]
  },
  {
   "attachments": {},
   "cell_type": "markdown",
   "metadata": {},
   "source": [
    "<img src=\"https://charleskarpati.com/img/githubCommit.png\" height=\"500\"/>"
   ]
  },
  {
   "attachments": {},
   "cell_type": "markdown",
   "metadata": {},
   "source": [
    "**To learn more about [Markdown](https://guides.github.com/features/mastering-markdown/)** and other cool GitHub features, check out these **[guides](https://guides.github.com/)**."
   ]
  },
  {
   "attachments": {},
   "cell_type": "markdown",
   "metadata": {},
   "source": [
    "</details>\n",
    "</details>"
   ]
  }
 ],
 "metadata": {
  "colab": {
   "collapsed_sections": [],
   "name": "01_Github.ipynb",
   "provenance": []
  },
  "kernelspec": {
   "display_name": "Python 3",
   "language": "python",
   "name": "python3"
  }
 },
 "nbformat": 4,
 "nbformat_minor": 0
}
