{
 "cells": [
  {
   "cell_type": "markdown",
   "metadata": {},
   "source": [
    "if you hold Win + Shift and then the number you want, a new window for that app will open\n",
    "command prompt histroy F7 on keyboard when in terminal\n",
    "\n",
    "To quickly launch software with elevated permissions, just hold Ctrl + Shift while double-clicking the app to open it.\n",
    "file properties - alt doublt clikc\n"
   ]
  },
  {
   "cell_type": "markdown",
   "metadata": {},
   "source": [
    "## VsCode\n",
    "\n",
    "taskbar appp -> Windows key + [0-9].\n",
    "\n",
    "terminal.integrated.shell.windows\n",
    "\n",
    "`ctrl` + ``` ` ``` - Toggle Terminal\n",
    "`ctrl` + `b` - Toggle Leftside Panel"
   ]
  },
  {
   "cell_type": "markdown",
   "metadata": {},
   "source": [
    "## Aliases"
   ]
  },
  {
   "cell_type": "markdown",
   "metadata": {},
   "source": [
    "- go=\"cd ~/storage/dcim/scripts\"\n",
    "- editrules=\"nano /data/data/com.termux/files/usr/etc/bash.bashrc\"\n",
    "- setrules=\"source ~/../usr/etc/bash.bashrc\""
   ]
  },
  {
   "cell_type": "markdown",
   "metadata": {},
   "source": [
    "## hotkeys"
   ]
  },
  {
   "cell_type": "markdown",
   "metadata": {},
   "source": [
    "- Alt + tab\n",
    "- fn+f6 - toggle browser nav\n",
    "- fn+f4 - close current tab\n",
    "- fn+f3 - Search bar on page\n",
    "- https://stackoverflow.com/questions/49945785/detect-fn-key-with-js"
   ]
  },
  {
   "cell_type": "markdown",
   "metadata": {},
   "source": [
    "- emojis - Win + ;   or Win + .\n",
    "- Win + H: Opens the Windows dictation menu\n",
    "- fn + f2 - \"edit as HTML\" in dev tools\n",
    "- Win + Tab: Shows all open windows per monitorh\n",
    "- ctrl+/ in vscode to commend a line"
   ]
  }
 ],
 "metadata": {
  "kernelspec": {
   "display_name": "Python 3",
   "language": "python",
   "name": "python3"
  },
  "language_info": {
   "codemirror_mode": {
    "name": "ipython",
    "version": 3
   },
   "file_extension": ".py",
   "mimetype": "text/x-python",
   "name": "python",
   "nbconvert_exporter": "python",
   "pygments_lexer": "ipython3",
   "version": "3.11.7"
  }
 },
 "nbformat": 4,
 "nbformat_minor": 2
}
