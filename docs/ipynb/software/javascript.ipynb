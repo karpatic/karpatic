{
 "cells": [
  {
   "cell_type": "markdown",
   "metadata": {},
   "source": [
    "# js\n",
    "\n",
    "> js\n",
    "- prettify: true"
   ]
  },
  {
   "cell_type": "markdown",
   "metadata": {},
   "source": [
    "Reading"
   ]
  },
  {
   "cell_type": "markdown",
   "metadata": {},
   "source": [
    "->>>> function fn(){ console.log(arguements } ->>>> this refers to global scope with arrow functions\n",
    "\n",
    "- destructure within desctructure - {today:{min:x,max:y}} < ----- > const {tomorrow:{max:newvalue}} = z"
   ]
  },
  {
   "cell_type": "markdown",
   "metadata": {},
   "source": [
    " element.insertAdjacentHTML('afterend', 'txt')"
   ]
  },
  {
   "cell_type": "markdown",
   "metadata": {},
   "source": [
    "## Modules"
   ]
  },
  {
   "cell_type": "markdown",
   "metadata": {},
   "source": [
    "- Top level await only works in modules.\n",
    "- Module are imported into the scope of the calling single script \n",
    "- Modules and aren't available in the global scope unless explicitly attached On the other hand, globally-defined variables are available within the module.\n",
    "- Import Maps only work in modules."
   ]
  },
  {
   "cell_type": "markdown",
   "metadata": {},
   "source": [
    "Dynamic imports will load a global even if it does not have a default or named export but static imports will not\n"
   ]
  },
  {
   "cell_type": "markdown",
   "metadata": {},
   "source": [
    "https://rknight.me/blog/please-expose-your-rss/\n",
    "\n",
    "https://roadmap.sh/frontend\n",
    "\n"
   ]
  },
  {
   "cell_type": "code",
   "execution_count": null,
   "metadata": {},
   "outputs": [],
   "source": [
    "here text will be accessible in render.js script\n",
    "<!-- \n",
    "<script\n",
    "  // A var statement creates a global variable.\n",
    "  var text = \"Hello\";\n",
    "</script\n",
    "<script type=\"module\" src=\"./render.js\"></script>\n",
    "-->\n",
    "JS transitions require JS which we don't necessarily want to depend on!"
   ]
  }
 ],
 "metadata": {
  "kernelspec": {
   "display_name": "Python 3",
   "language": "python",
   "name": "python3"
  },
  "language_info": {
   "codemirror_mode": {
    "name": "ipython",
    "version": 3
   },
   "file_extension": ".py",
   "mimetype": "text/x-python",
   "name": "python",
   "nbconvert_exporter": "python",
   "pygments_lexer": "ipython3",
   "version": "3.11.3"
  },
  "orig_nbformat": 4
 },
 "nbformat": 4,
 "nbformat_minor": 2
}
