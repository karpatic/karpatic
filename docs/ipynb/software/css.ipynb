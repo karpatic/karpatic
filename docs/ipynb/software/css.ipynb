{
 "cells": [
  {
   "cell_type": "markdown",
   "metadata": {},
   "source": [
    "# Css\n",
    "\n",
    "> css\n",
    "- prettify: true"
   ]
  },
  {
   "cell_type": "markdown",
   "metadata": {},
   "source": [
    ".parent {  --nested-radius: calc(var(--radius) - var(--padding));}\n",
    ".nested {  border-radius: var(--nested-radius);}"
   ]
  },
  {
   "cell_type": "markdown",
   "metadata": {},
   "source": [
    "https://x.st/spinning-diagrams-with-css/\n",
    "https://moderncss.dev/\n",
    "https://css-tip.com/\n",
    "\n",
    "https://alexplescan.com/posts/2023/07/08/easy-svg-sparklines/\n",
    "\n",
    "https://ishadeed.com/article/threads-app-css/\n",
    "\n",
    "https://ui-colorgen.vercel.app/\n",
    "\n",
    "https://samherbert.net/svg-loaders/\n",
    "\n",
    "https://css-pattern.com/"
   ]
  },
  {
   "cell_type": "markdown",
   "metadata": {},
   "source": []
  },
  {
   "cell_type": "markdown",
   "metadata": {},
   "source": [
    "- calc(sin(var(--angle)))"
   ]
  },
  {
   "cell_type": "code",
   "execution_count": null,
   "metadata": {},
   "outputs": [],
   "source": [
    "- svh dvh,\n",
    "- text-wrap: balance\n",
    "- color-mix(in srgb, green, transparent, 10%);"
   ]
  },
  {
   "cell_type": "markdown",
   "metadata": {},
   "source": [
    "/_ border between divs if they contain an h2 as their first child. _/\n",
    "div:-moz-has-child(h2:first-child) { border-bottom: 1px solid black; }"
   ]
  },
  {
   "cell_type": "markdown",
   "metadata": {},
   "source": [
    "- is() where() :not()\n",
    "  /_ 3-deep (or more) unordered lists use a square _/\n",
    "  :is(ol, ul, menu, dir)\n",
    "  :is(ol, ul, menu, dir)\n",
    "  :is(ul, menu, dir) { list-style-type: square;"
   ]
  },
  {
   "cell_type": "markdown",
   "metadata": {},
   "source": [
    "- css -> @supports(border-radius: 100%){ ..."
   ]
  }
 ],
 "metadata": {
  "language_info": {
   "name": "python"
  },
  "orig_nbformat": 4
 },
 "nbformat": 4,
 "nbformat_minor": 2
}
