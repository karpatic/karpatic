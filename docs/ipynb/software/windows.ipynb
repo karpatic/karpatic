{
 "cells": [
  {
   "cell_type": "code",
   "execution_count": null,
   "metadata": {},
   "outputs": [],
   "source": []
  },
  {
   "cell_type": "markdown",
   "metadata": {},
   "source": [
    "mingw -Sucks\n",
    "powershell - needed but sucks\n",
    "wsl - where its at  "
   ]
  },
  {
   "cell_type": "markdown",
   "metadata": {},
   "source": [
    "#!/bin/bash\n",
    "cd c:/Users/charl/Documents/github/karpatic\n",
    "explorer . \n",
    "code . \n"
   ]
  },
  {
   "cell_type": "markdown",
   "metadata": {},
   "source": [
    "import re\n",
    "import sqlite3\n",
    "\n",
    "def print_sticky_notes():\n",
    "    conn = sqlite3.connect('plum.sqlite')\n",
    "    c = conn.cursor()\n",
    "    c.execute(\"SELECT Text FROM Note\")\n",
    "    rows = c.fetchall()\n",
    "    for row in rows:\n",
    "        text = re.sub(r'\\\\id.*?\\s', '', row[0]) # remove text between '\\id' and first space\n",
    "        print(text)\n",
    "    conn.close()\n"
   ]
  }
 ],
 "metadata": {
  "language_info": {
   "name": "python"
  }
 },
 "nbformat": 4,
 "nbformat_minor": 2
}
