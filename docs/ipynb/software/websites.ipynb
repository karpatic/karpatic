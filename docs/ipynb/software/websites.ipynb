{
 "cells": [
  {
   "cell_type": "markdown",
   "metadata": {},
   "source": [
    "# websites\n",
    "\n",
    "> websites"
   ]
  },
  {
   "cell_type": "markdown",
   "metadata": {},
   "source": [
    "## Misc"
   ]
  },
  {
   "cell_type": "markdown",
   "metadata": {},
   "source": [
    "https://www.googleapis.com/oauth2/v2/userinfo?alt=json"
   ]
  },
  {
   "cell_type": "markdown",
   "metadata": {},
   "source": [
    "https://news.ycombinator.com/item?id=36575081\n",
    "\n",
    "https://zknill.io/posts/edge-database/"
   ]
  },
  {
   "cell_type": "markdown",
   "metadata": {},
   "source": [
    "https://evilmartians.com/chronicles/how-to-favicon-in-2021-six-files-that-fit-most-needs"
   ]
  },
  {
   "cell_type": "markdown",
   "metadata": {},
   "source": [
    "https://star-history.com/#agenthubdev/agenthub_operators&Date"
   ]
  },
  {
   "cell_type": "markdown",
   "metadata": {},
   "source": [
    "https://matduggan.com/were-all-doing-metrics-wrong/"
   ]
  },
  {
   "cell_type": "markdown",
   "metadata": {},
   "source": [
    "<picture>\n",
    "  <source srcset=\"your-image.webp\" type=\"image/webp\">\n",
    "  <img src=\"your-image.png\" alt=\"Fallback PNG image\"\n",
    "      onerror=\"this.src='path/to/webpAndPngFailedToLoad.png'\" \n",
    "      width=\"1243\" height=\"1500\" loading=\"lazy\" decoding=\"async\">\n",
    "</picture>"
   ]
  },
  {
   "cell_type": "markdown",
   "metadata": {},
   "source": [
    "## Guide Lines\n",
    "\n",
    "- Design [Guide](./websites.html)\n",
    "- Compress pics w/ webP\n",
    "- Keep Init Page under 14Kb's\n",
    "- Use native fonts\n",
    "- Inline Critical CSS.\n",
    "- No need for preload img/tags\n",
    "\n",
    "### Of note:\n",
    "\n",
    "- No Webpack bloat\n",
    "- Auto-Prefixes\n",
    "- Lazy imports router.js\n",
    "- Router dispatches trigger event for templates to hook into for animations\n",
    "- Gpu Accelerated CSS Transitions\n",
    "- PWA-SW Support\n",
    "- Build Optimizations/ Analytics\n",
    "- Compresses Template\n",
    "- React-Snap Pre-rendering // mobile first approach w=480,h=850\n",
    "- Strips out _some_ scripts after Pre-rendering\n",
    "- templateRefreshed event\n",
    "\n",
    "### Templates Contains:\n",
    "\n",
    "- > Parallax background\n",
    "- > Keyframes animate linear gradient background\n",
    "- > Keyframes animate background of randomly generated cubes.\n",
    "- > Optionally - a table of contents is shown before the article or at the side.\n",
    "- > Scrollpos animate an cube tumbling down the divider line with a clip path\n",
    "- > Scrollpos cube flows along the side of a clip path\n",
    "- > Animate text shadow on hover\n",
    "- > Glowing BG for Active-Page Link. Glowing Underline for TOC Anchor Link\n",
    "- > CSS Keyframe names used: gradient-scroll, gradient, glow, collapse, expand, reveal, dismiss, shake, spin-header, wiggle, page_transition, clip-path-polygon, cube-animation\n",
    "- > Each H2 should be a summary for a details pane.\n",
    "\n",
    "### Article Components\n",
    "\n",
    "- triple ellipses comments popup\n",
    "- view counter\n",
    "- social icons\n",
    "- https://textfac.es/\n",
    "- https://graphemica.com/%E2%98%B0\n",
    "- https://css-tricks.com/full-width-containers-limited-width-parents/\n",
    "- scrollsnaps on img\n",
    "- https://www.pexels.com/\n",
    "- https://undraw.co/illustrations\n",
    "- https://unicodearrows.com/\n",
    "- https://www.toptal.com/designers/htmlarrows/arrows/\n",
    "- footnotes\n",
    "- Default to using webP when available w/ png fallback."
   ]
  },
  {
   "cell_type": "markdown",
   "metadata": {},
   "source": [
    "## Design Rules\n",
    "\n",
    "Follow these General Summarized [Rules](https://anthonyhobday.com/sideprojects/saferules/):\n",
    "\n",
    "- General -> Put simple on complex or complex on simple\n",
    "- Layout -> Make outer padding the same or more than inner padding\n",
    "- Layout -> no hard divides unless it's an img divider\n",
    "- Buttons -> Make horizontal padding twice the vertical padding in buttons\n",
    "- Elements -> should go in order of visual weight (dark to light, fx to none, etc)\n",
    "- Element -> use multiples of '8'\n",
    "\n",
    "- Border -> Container borders should contrast with both the container and the background\n",
    "- Border -> For nested divs w rounded corners: interiorItemsRoundedBorder = xteriorspx - paddingpx\n",
    "- Border -> Make drop shadow blur values double their distance values. 4px on y = 8px blur\n",
    "- Border -> - closer z-index to camera = more light diffusion/ lower shadow opacity\n",
    "\n",
    "- Colors -> If you saturate your neutrals you should use warm or cool colours, not both\n",
    "- Colors -> Colours in a palette should have distinct brightness values, not just in hue\n",
    "- Colors -> bg should get lighter as the z-index increases\n",
    "- Colors -> The HSB brightness difference between background and container should be within 12%/7% for dark/light interface.\n",
    "\n",
    "In general...\n",
    "\n",
    "- Avoid Complexity: Sitemap links to nav pages which link to subject-related articles.\n",
    "- Jazz up section divides by by slapping atop a transform rotated div\n",
    "\n",
    "Reactive Explorative Interactive\n",
    "\n",
    "0. instead of interactive steppers, tabs, fixies, sliders, use scroll and multiples\n",
    "1. if you make the reader click or do anything other than scroll, something spectacular has to happen\n",
    "2. if you make a tooltip or rollover assume no one will ever see it.\n",
    "3. fewer small graphics embedded in articles and more stand-alone visual stories\n",
    "4. most visuals are static as a result\n",
    "5. if animation or motion is needed. trigger it on scroll\n",
    "\n",
    "more space between contrasts. more or same vertical padding than horizontal. Give each color a distinct brightness value. use near-white or black (f2f2f2 or 222 if you aren't saturating)\n",
    "\n",
    "- f2f2f2 is just 95% brightness\n",
    "- 222222 is just 13% brightness Saturate neutrals colors at least 5%. Layers get brighter.\n",
    "- +12% more for dark interfaces,\n",
    "- +7% for light interfaces.\n",
    "\n",
    "--canvas: hsl(0, 10%, 90%);\n",
    "--background: hsl(0, 80%, 90%);\n",
    "--foreground: rgb(255, 240, 240);"
   ]
  },
  {
   "cell_type": "markdown",
   "metadata": {},
   "source": [
    "## Page SEO:\n",
    "\n",
    "- Titles\n",
    "- - Up to 50-60 characters to avoid SERP truncating.\n",
    "- - Frontload Keywords naturally and always include brandname\n",
    "- - Match Title and H1 closely\n",
    "\n",
    "- Descriptions\n",
    "- - SERP descriptions truncate at 150-160 characters\n",
    "- - long-tail keywords like [contemporary art-deco sideboards] help\n",
    "- - <meta name=\"description\" content=\"\"/> - Keywords show in bold. Tell the reader what they want to hear.\n",
    "- - people typically visit for 4 types of content: Transactional Commercial Navigational Informational\n",
    "\n",
    "- Don't Forget Img Alt Text!\n",
    "\n",
    "- Links\n",
    "- - Add only a \"noindex\" wont show on search wheras - \"nofollow\" wont associate links to page or scan em\n",
    "- - <META NAME=\"robots\" CONTENT=\"noindex,nofollow\"> / <a rel=\"nofollow\" href=\"externalsite\">\n",
    "- - Robots. txt disallow for whole sections, meta tag for single pages"
   ]
  },
  {
   "cell_type": "markdown",
   "metadata": {},
   "source": [
    "## Notes\n",
    "\n",
    "- python packaging uses dist and webpack does not.\n",
    "\n",
    "- WebP offers 25-35% better compression.\n",
    "\n",
    "- gpu acceleration is a thing\n",
    "\n",
    "- accelerating the cubes improved FPS by 2x to run 60fps w/ more load on the each paint\n",
    "\n",
    "- chrome dev tools -> rendering\n",
    "\n",
    "- enable paint flashing to view non-hardware accelerated content).\n",
    "- wont work on (clip-text, svg path transformations, sitemap/h1 borders)"
   ]
  },
  {
   "cell_type": "markdown",
   "metadata": {},
   "source": [
    "## Generators:\n",
    "\n",
    "- https://www.google.com/webmasters/markup-helper/u/0/\n",
    "- https://technicalseo.com/tools/schema-markup-generator/\n",
    "- https://webcode.tools/generators/structured-data\n",
    "- https://jsonld.com/article/\n",
    "- https://github.com/JayHoltslander/Structured-Data-JSON-LD"
   ]
  },
  {
   "cell_type": "markdown",
   "metadata": {},
   "source": [
    "## Tests:\n",
    "\n",
    "- https://support.google.com/webmasters/topic/9456557\n",
    "- https://support.google.com/webmasters/answer/7445569\n",
    "- https://support.google.com/webmasters/answer/7552505\n",
    "- https://support.google.com/webmasters/answer/7576553\n",
    "- https://developers.google.com/search/docs/appearance/structured-data"
   ]
  },
  {
   "cell_type": "markdown",
   "metadata": {},
   "source": [
    "## Structured Data:\n",
    "\n",
    "- [JSON-LD](https://www.youtube.com/watch?v=hUHjeDylhE8) > Microdata, RDF\n",
    "\n",
    "- Markup should only have things found in-page.\n",
    "- rich results [test](https://search.google.com/test/rich-results/), schema [validator](https://validator.schema.org/), markup [helper](https://www.google.com/webmasters/markup-helper/u/0/?)\n",
    "\n",
    "- https://www.searchenginejournal.com/technical-seo/schema/\n",
    "- https://www.google.com/webmasters/markup-helper/u/0/?hl=en\n",
    "- https://developers.google.com/search/docs/appearance/structured-data\n",
    "- https://developers.facebook.com/tools/debug/?q=https%3A%2F%2Fwww.cvminigames.com\n",
    "- https://developer.twitter.com/en/docs/twitter-for-websites/cards/guides/getting-started\n",
    "\n",
    "// https://github.com/joshbuchea/HEAD\n",
    "\n",
    "// https://support.google.com/webmasters/answer/9008080?hl=en\n",
    "\n",
    "// https://developers.facebook.com/docs/instant-articles/guides/articlecreate\n",
    "\n",
    "// https://webmention.io/\n",
    "\n",
    "XML sitemap generator & deadlink checker https://www.xml-sitemaps.com/details-cvminigames.com-49d3d3298.html\n",
    "\n",
    "visual sitemap -> https://octopus.do/import?url=Cvminigames.com"
   ]
  }
 ],
 "metadata": {
  "language_info": {
   "name": "python"
  },
  "orig_nbformat": 4
 },
 "nbformat": 4,
 "nbformat_minor": 2
}
