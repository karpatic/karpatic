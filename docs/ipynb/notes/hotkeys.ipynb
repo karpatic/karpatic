{
 "cells": [
  {
   "cell_type": "code",
   "execution_count": null,
   "metadata": {},
   "outputs": [],
   "source": [
    "go=\"cd ~/storage/dcim/scripts\"\n",
    "editrules=\"nano /data/data/com.termux/files/usr/etc/bash.bashrc\"\n",
    "setrules=\"source ~/../usr/etc/bash.bashrc\"\n",
    "\n",
    "hotkeys\n",
    "Alt + tab\n",
    "fn+f6 - toggle browser nav\n",
    "fn+f4 - close current tab\n",
    "fn+f3 - Search bar on page\n",
    "https://stackoverflow.com/questions/49945785/detect-fn-key-with-js\n",
    "\n",
    "taskbar appp -> Windows key + [0-9].\n",
    "\n",
    "terminal.integrated.shell.windows\n",
    "\n",
    "if you hold Win + Shift and then the number you want, a new window for that app will open\n",
    "command prompt histroy F7 on keyboard when in terminal\n",
    "\n",
    "To quickly launch software with elevated permissions, just hold Ctrl + Shift while double-clicking the app to open it.\n",
    "file properties - alt doublt clikc\n",
    "\n",
    "<tip>\n",
    "\n",
    "emojis - Win + ;   or Win + .\n",
    "Win + H: Opens the Windows dictation menu\n",
    "fn + f2 - \"edit as HTML\" in dev tools\n",
    "Win + Tab: Shows all open windows per monitorh\n",
    "ctrl+/ in vscode to commend a line\n",
    "\n"
   ]
  }
 ],
 "metadata": {
  "language_info": {
   "name": "python"
  }
 },
 "nbformat": 4,
 "nbformat_minor": 2
}
