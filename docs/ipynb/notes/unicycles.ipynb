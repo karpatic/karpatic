{
 "cells": [
  {
   "cell_type": "code",
   "execution_count": null,
   "metadata": {},
   "outputs": [],
   "source": [
    "Electric Unicycles"
   ]
  },
  {
   "cell_type": "markdown",
   "metadata": {},
   "source": [
    "## About"
   ]
  },
  {
   "cell_type": "markdown",
   "metadata": {},
   "source": [
    "https://dev.to/themodernweb/fullstack-how-to-create-a-working-blogging-website-with-pure-html-css-and-js-in-2021-9di\n",
    "\n",
    "https://9elements.github.io/fancy-border-radius/#30.30.47.30--.\n",
    "\n",
    "https://codepen.io/enbee81/pen/LBMKqV"
   ]
  },
  {
   "cell_type": "markdown",
   "metadata": {},
   "source": []
  },
  {
   "cell_type": "markdown",
   "metadata": {},
   "source": [
    "## Past Rides"
   ]
  },
  {
   "cell_type": "markdown",
   "metadata": {},
   "source": [
    "Connecting my EUC to the 'EUC World' App allows me to track my position, speed and a whole bunch of other metrics."
   ]
  },
  {
   "cell_type": "markdown",
   "metadata": {},
   "source": [
    "<iframe style=\"height:500px; width:100%;\" src=\"https://api.charleskarpati.com/termux/map.html\"></iframe>"
   ]
  },
  {
   "cell_type": "markdown",
   "metadata": {},
   "source": [
    "## Misc"
   ]
  },
  {
   "cell_type": "markdown",
   "metadata": {},
   "source": [
    "https://www.youtube.com/watch?v=MkKT_0xKckc\n",
    "\n",
    "https://drive.google.com/file/d/1oSCz_JBK7ZAp6hASQN1-fLLUq7vrULVo/view"
   ]
  },
  {
   "cell_type": "markdown",
   "metadata": {},
   "source": [
    "https://www.aliexpress.com/i/2251832698597028.html?gatewayAdapt=4itemAdapt"
   ]
  },
  {
   "cell_type": "markdown",
   "metadata": {},
   "source": [
    "https://www.speedyfeet.co.uk/en-us/products/mten3-tire\n",
    "\n",
    "https://www.speedyfeet.co.uk/en-us/products/begode-mten3-footplate-parts?pr_prod_strat=use_description&pr_rec_id=390810a5f&pr_rec_pid=6664996487228&pr_ref_pid=6664981315644&pr_seq=uniform\n",
    "\n",
    "https://www.euco.us/collections/gotway-mten-parts-online-listing/euc?page=2"
   ]
  },
  {
   "cell_type": "markdown",
   "metadata": {},
   "source": [
    "Remove Left Foot Pedal\n",
    "\n",
    "Lay the machine left-side-up with the anti-spin switch facing up\n",
    "\n",
    "Remove the two 5mm hex Allen set screws, one at each end of the left foot pedal\n",
    "\n",
    "Remove the screws that mount the left shell of the housing to the motor."
   ]
  },
  {
   "cell_type": "markdown",
   "metadata": {},
   "source": [
    "Mark the location of the valve stem, on the other side wheel. The valve stem is on the same side of the axel as the motor wires enter, so you'll be working from the other side."
   ]
  },
  {
   "cell_type": "markdown",
   "metadata": {},
   "source": [
    "https://www.ifixit.com/Guide/Tubeless+Conversion+for+Gotway+Begode+Mten3+electric+unicycle/144722\n",
    "\n",
    "If the bead of the original tire is not damaged, that tire can be used. Otherwise a replacement tire can be ordered for example from eWheels.\n",
    "\n",
    "Seal and lubricate the bead. I used Bead Buddy. Dish detergent might be a ready alternative. Apply to the bead area of both sides of the tire. Apply to the bead area inside both sides of the wheel.\n",
    "\n",
    "Prepare the tire for installation by cinching the beads together using zip ties.\n",
    "\n",
    "Thread at least five zip ties between the rim and the tube/tire, all the way through the channel, equally spaced around the rim.\n",
    "\n",
    "For each zip tie, press the two tire beads together, with the tube inside the tire. Snug the zip tie so the beads are held closed together. This will allow the beads to drop into the channel at the center of the wheel.\n",
    "\n",
    "It is now possible to pull the tire off-center and work it over the rim. A flat-blade screwdriver can be used, but hand strength may be sufficient.\n",
    " \n",
    "\n",
    "Tire Bead lubricant / sealant\n",
    "For sale from another site\n",
    "Dish detergent should work. I used Armor-Dilloz Bead Buddy\n",
    "\n",
    "Tire Sealant (Armor‑Dilloz Red)\n",
    "Slime or Fix-a-Flat might work. I used Armor-Dilloz Red. "
   ]
  },
  {
   "cell_type": "markdown",
   "metadata": {},
   "source": [
    "https://www.youtube.com/watch?v=PFS6-nY_qNc\n",
    "\n",
    "https://forum.electricunicycle.org/topic/8696-gotway-mten3-tube-replacement/"
   ]
  },
  {
   "cell_type": "markdown",
   "metadata": {},
   "source": [
    "Mten3\n",
    "https://fccid.io/2AF5U-MCM/User-Manual/Users-Manual-2806733\n",
    "- Schrader Valves \n",
    "\n",
    "\n",
    "https://www.ewheels.com/product/10x2-125-innertube-lightning/\n",
    "\n",
    "\n",
    "10×2.125″ Innertube"
   ]
  },
  {
   "cell_type": "markdown",
   "metadata": {},
   "source": [
    "Replacement:\n",
    "\n",
    "https://www.youtube.com/watch?v=PFS6-nY_qNc"
   ]
  },
  {
   "cell_type": "code",
   "execution_count": null,
   "metadata": {},
   "outputs": [],
   "source": [
    "10X3\" (70/65-6.5) TIRE by Alien Rides\n",
    "https://alienrides.com/products/begode-mten3-10x3-tire\n",
    "\n",
    "10x3\" (70/65-6.5) TIRE by Innova\n",
    "https://revrides.com/products/mten-3-stock-tire\n",
    "\n"
   ]
  }
 ],
 "metadata": {
  "kernelspec": {
   "display_name": "Python 3",
   "language": "python",
   "name": "python3"
  },
  "language_info": {
   "codemirror_mode": {
    "name": "ipython",
    "version": 3
   },
   "file_extension": ".py",
   "mimetype": "text/x-python",
   "name": "python",
   "nbconvert_exporter": "python",
   "pygments_lexer": "ipython3",
   "version": "3.11.8"
  },
  "orig_nbformat": 4
 },
 "nbformat": 4,
 "nbformat_minor": 2
}
