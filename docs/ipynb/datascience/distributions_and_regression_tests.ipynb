{
 "cells": [
  {
   "cell_type": "markdown",
   "metadata": {},
   "source": [
    "https://www.itl.nist.gov/div898/handbook/"
   ]
  },
  {
   "cell_type": "markdown",
   "metadata": {},
   "source": [
    "[Nonparametric-Statistics](http://www.statsoft.com/Textbook/Nonparametric-Statistics)\n",
    "\n",
    "Correlation Research\n",
    "- Relations between Variables \n",
    "- Magnitude\n",
    "- Reliability\n",
    "- PValue,\n",
    "- Small relations can only be proven in large samples\n",
    "\n",
    "Test for Normality \n",
    "- Anova/Manova, \n",
    "- Nonparametrics\n",
    "- Test Statistics - Normal(T, F, Chi-Square)\n",
    "\n",
    "\n",
    "**Differences between independent groups.**\n",
    "-Normal Distributions \n",
    "-\\&gt; T test for Independent Samples\n",
    "\n",
    "T Test Alternative for Independent Nonparametrics samples \n",
    "- the Mann-Whitney U test\n",
    "- the Kolmogorov-Smirnov two-sample test and Wald-Wolfowitz"
   ]
  },
  {
   "cell_type": "markdown",
   "metadata": {},
   "source": [
    "[**Partition of variance**](https://en.wikipedia.org/wiki/Partition_of_sums_of_squares) \n",
    "- Analysis of variance [(ANOVA)](https://en.wikipedia.org/wiki/Analysis_of_variance)\n",
    "- Analysis of [covariance](https://en.wikipedia.org/wiki/Analysis_of_covariance)\n",
    "- Multivariate [ANOVA](https://en.wikipedia.org/wiki/Multivariate_analysis_of_variance)"
   ]
  },
  {
   "cell_type": "markdown",
   "metadata": {},
   "source": [
    "\n",
    "**Differences between dependent groups.**\n",
    "\n",
    "Normal Distributions \n",
    "- T-Test for Dependent Samples\n",
    " \n",
    "Nonparametric alternatives to this test are \n",
    "- the _Sign_ test and \n",
    "- _Wilcoxon&#39;s matched pairs_ test. \n",
    "\n",
    "- If the variables of interest are dichotomous in nature (i.e., &quot;pass&quot; vs. &quot;no pass&quot;) then McNemar&#39;s [Chi-square](http://www.statsoft.com/textbook/statistics-glossary/c.aspx?button=c#Chi-square%20Distribution) test is appropriate. \n",
    "\n",
    "If there are more than two variables that were measured in the same sample\n",
    "- then we would customarily use repeated measures ANOVA.\n",
    "\n",
    "Nonparametric alternatives to this method are \n",
    "- Friedman&#39;s two-way analysis of variance \n",
    "- and Cochran Q test (if the variable was measured in terms of categories, e.g., &quot;passed&quot; vs. &quot;failed&quot;). \n",
    "- Cochran Q is particularly useful for measuring changes in frequencies (proportions) across time\n",
    "\n",
    "\n",
    "_ **Relationships between variables.**\n",
    "\n",
    "To express a relationship between two variables one usually computes the correlation coefficient.\n",
    "\n",
    " Nonparametric equivalents to the standard correlation coefficient are_\n",
    "- [_Spearman R_](http://www.statsoft.com/textbook/statistics-glossary/s.aspx?button=s#Spearman%20R)_,_\n",
    "- [_Kendall Tau_](http://www.statsoft.com/textbook/statistics-glossary/k.aspx?button=k#kendall%20Tau)_, and_\n",
    "- [_coefficient Gamma_](http://www.statsoft.com/textbook/statistics-glossary/g.aspx?button=g#gamma%20coefficient) \n",
    "_(see_[_Nonparametric correlations_](http://www.statsoft.com/textbook/nonparametric-statistics/#correlations)_).\n",
    " \n",
    "If the two variables of interest are categorical in nature (e.g., &quot;passed&quot; vs. &quot;failed&quot; by &quot;male&quot; vs. &quot;female&quot;) appropriate nonparametric statistics for testing the relationship between the two variables are \n",
    "- the Chi-square test, \n",
    "- the Phi coefficient, \n",
    "- and the Fisher exact test. \n",
    "\n",
    "In addition, a simultaneous test for relationships between multiple cases is available: \n",
    "\n",
    "- Kendall coefficient of concordance. \n",
    "\n",
    "This test is often used for expressing inter-rater agreement among independent judges who are rating (ranking) the same stimuli_"
   ]
  },
  {
   "cell_type": "markdown",
   "metadata": {},
   "source": [
    "[**Non-parametric statistics**](http://en.wikipedia.org/wiki/Non-parametric_statistics)\n",
    "\n",
    "In several mostly elementary situations when the assumptions of parametric tests cannot be met, one may resort to non-parametric tests rather than parametric tests such as the _t_-test, the Pearson correlation test, analysis of variance, etc. In such situations the power of the non-parametric or distribution-free tests is often as good as the parametric ones or better. It often is a good idea to use both types of tests if they are available and compare the resulting _p_-values. If these values are roughly the same there is little to worry about, if they are different there is something to be sorted out."
   ]
  },
  {
   "cell_type": "markdown",
   "metadata": {},
   "source": [
    "_ **Nonparametric Correlations** _\n",
    "\n",
    "_The following are three types of commonly used nonparametric correlation coefficients (_[_Spearman R_](http://www.statsoft.com/textbook/statistics-glossary/s.aspx?button=s#Spearman%20R)_,_[_Kendall Tau_](http://www.statsoft.com/textbook/statistics-glossary/k.aspx?button=k#kendall%20Tau)_, and_[_Gamma coefficients_](http://www.statsoft.com/textbook/statistics-glossary/g.aspx?button=g#gamma%20coefficient)_).\n",
    " Violating Normality Assumptions has less grave consequences than previously thought although this can only be proven on a case by case basis._"
   ]
  },
  {
   "cell_type": "markdown",
   "metadata": {},
   "source": [
    " - ** Normal vs Nonparametric Methods\n",
    "- Distribution Tables (Z T Chi-Square F-Tables)\n",
    "- Charting Difference Between (F/T Tests, Anova/Ancova, T-Test/ Anova, 1 vs 2-way Anova )"
   ]
  },
  {
   "cell_type": "markdown",
   "metadata": {},
   "source": [
    "[**Correlation**](https://en.wikipedia.org/wiki/Correlation_and_dependence)\n",
    "- Pearson product-[moment](https://en.wikipedia.org/wiki/Pearson_product-moment_correlation_coefficient)\n",
    "- Partial [correlation](https://en.wikipedia.org/wiki/Partial_correlation)\n",
    "-Confounding [variable](https://en.wikipedia.org/wiki/Confounding)\n",
    "- Coefficient of [determination](https://en.wikipedia.org/wiki/Coefficient_of_determination)"
   ]
  },
  {
   "cell_type": "markdown",
   "metadata": {},
   "source": [
    "\\* stats.zscore(df)\n",
    "\n",
    "Two types Major types of Statistics: Inferential and Descriptive. Inferential statistics use more complex calculations to infer trends and make predictions/assumptions. A descriptive analysis should be performed first before moving into inferencing."
   ]
  },
  {
   "cell_type": "markdown",
   "metadata": {},
   "source": [
    "First and foremost show of the descriptives **Confidence intervals** on scatter plots/ pearson coefficients/ linear regression"
   ]
  },
  {
   "cell_type": "markdown",
   "metadata": {},
   "source": [
    "\n",
    "Group by group -total X's in Y\n",
    "\n",
    "The Chi-Square test helps you determine if two discrete variables are associated\n",
    "\n",
    "Too much overlapping in the x-axis labels renders the whole plot useless."
   ]
  },
  {
   "cell_type": "markdown",
   "metadata": {},
   "source": [
    "\n",
    "[https://blog.socialcops.com/academy/resources/cross-tabulation-how-why/](https://blog.socialcops.com/academy/resources/cross-tabulation-how-why/)\n",
    "\n",
    "&quot;Also known as contingency tables or cross tabs, cross tabulation groups variables to understand the correlation between different variables. It also shows how correlations change from one variable grouping to another. It is usually used in statistical analysis to find patterns, trends, and probabilities within raw data.&quot;&quot;Cross tabulation is usually performed on [categorical data](http://www.stat.yale.edu/Courses/1997-98/101/catdat.htm) — data that can be divided into mutually exclusive groups.&quot;\n",
    "\n",
    "[http://blog.minitab.com/blog/understanding-statistics/using-cross-tabulation-and-chi-square-the-survey-says](http://blog.minitab.com/blog/understanding-statistics/using-cross-tabulation-and-chi-square-the-survey-says)\n",
    "\n",
    "&quot;The Chi-Square test helps you determine if two discrete variables are associated. If there&#39;s an association, the distribution of one variable will differ depending on the value of the second variable. But if the two variables are independent, the distribution of the first variable will be similar for all values of the second variable.&quot;\n",
    "\n",
    "Cross tabulation:\n",
    "\n",
    "1) preprocess?\n",
    "\n",
    "2) figure out which 2 features you want to crosstab\n",
    "\n",
    "3) Create a column for every category of feature 1\n",
    "\n",
    "4) Determin how you will aggregate (sum,count,avg,max,min,product)\n",
    "\n",
    "5) create a record for every unique feature 1\n",
    "\n",
    "5.1) create a column for the unique labels name\n",
    "\n",
    "6) aggregate feature 1 columns"
   ]
  },
  {
   "cell_type": "markdown",
   "metadata": {},
   "source": [
    "**Cross tabulation** :\n",
    " 1) preprocess?\n",
    " 2) figure out which 2 features you want to crosstab\n",
    " 3) Create a column for every category of feature 1\n",
    " 4) Determine how you will aggregate (sum,count,avg,max,min,product)\n",
    " 5) create a record for every unique feature 1\n",
    " 5.1) create a column for the unique labels name\n",
    " 6) aggregate feature 1 columns"
   ]
  },
  {
   "cell_type": "markdown",
   "metadata": {},
   "source": [
    "[**Comparison of means:**](http://en.wikipedia.org/wiki/T-test)[_ **t** _](http://en.wikipedia.org/wiki/T-test)[**-test**](http://en.wikipedia.org/wiki/T-test)\n",
    "\n",
    "The _t_-test is used in many ways in statistics. The more common uses are (1) comparing one mean with a known mean, (2) testing whether two means are distinct, (3) testing whether the means from matched pairs are equal. Also called Student&#39;s _t_ test (equal variances) or Welch&#39;s _t_ test (unequal variances). Applicable for means from one sample, two independent samples, and paired samples. See analysis of variance for comparing more than two means. The _t_-test is also used in other contexts.\n",
    "\n",
    "[**Correlation**](http://en.wikipedia.org/wiki/Correlation)\n",
    "\n",
    "The (Pearson) correlation coefficient is a measure of the strength of the _linear_ relationship between two interval or numeric variables. Other correlation coefficients exist to measure the relationship between ordinal two variables, such the Spearman&#39;s rank correlation coefficient. The highest value of the correlation coefficient is 1 or -1 (perfect relationship), the lowest value 0 (no relationship). The _t_-test is used to test whether a sample Pearson correlation differs from 0.\n",
    "\n",
    "[**Chi-square tests**](http://en.wikipedia.org/wiki/Chi-squared_test)\n",
    "\n",
    "The (Pearson) chi-square coefficient is primarily used with one or two categorical variables. The coefficient is a measure of difference between observed and expected scores.\n",
    "\n",
    "_One categorical variable_: In case of one categorical variable the test measures whether the observed values can reasonably come from a known distribution (or model). In other words the observed values are compared to the expected values from this known distribution. In such cases the test is primarily used for model testing.\n",
    "\n",
    "_Two categorical variables_: In case of two categorical variables the expected values usually are the values under the nulhypothesis that there is no relationship between the two variables. Therefore the chi-square coefficient of two variables is a measure of relationship.\n",
    "\n",
    "The chi-square coefficient is tested by comparing it with the chi-square distribution given the degrees of freedom. Other coefficients to measure the relationship between two variables in two-way contingency tables exist as well (for a list, see for instance the SPSS output with Crosstabs).\n",
    "\n",
    "Note that if possible exact _p_-values are preferred over the standard (asymptotic) ones.\n",
    "\n",
    "[**Non-parametric statistics**](http://en.wikipedia.org/wiki/Non-parametric_statistics)\n",
    "\n",
    "In several mostly elementary situations when the assumptions of parametric tests cannot be met, one may resort to non-parametric tests rather than parametric tests such as the _t_-test, the Pearson correlation test, analysis of variance, etc. In such situations the power of the non-parametric or distribution-free tests is often as good as the parametric ones or better. It often is a good idea to use both types of tests if they are available and compare the resulting _p_-values. If these values are roughly the same there is little to worry about, if they are different there is something to be sorted out.\n",
    "\n",
    "Unfortunately, appropriate non-parametric techniques are not available for all comparable parametric techniques (see, however, the method [selection charts](http://three-mode.leidenuniv.nl/mtl/mtl_smc3_selectingmethods.html) for comparable tests).\n",
    "\n",
    "Amazing Graphics\n",
    "[https://support.minitab.com/en-us/minitab-express/1/help-and-how-to/modeling-statistics/regression/supporting-topics/basics/a-comparison-of-the-pearson-and-spearman-correlation-methods/](https://support.minitab.com/en-us/minitab-express/1/help-and-how-to/modeling-statistics/regression/supporting-topics/basics/a-comparison-of-the-pearson-and-spearman-correlation-methods/)"
   ]
  },
  {
   "cell_type": "markdown",
   "metadata": {},
   "source": [
    "The **Spearman correlation** evaluates the monotonic **relationship between two continuous or ordinal variables**. In a monotonic relationship, the variables tend to change together, but not necessarily at a constant rate. **The Spearman correlation coefficient is based on the ranked values for each variable rather than the raw data**."
   ]
  },
  {
   "cell_type": "markdown",
   "metadata": {},
   "source": [
    "\n",
    "Spearman correlation is often used to evaluate relationships involving ordinal variables. For example, you might use a Spearman correlation to evaluate whether the order in which employees complete a test exercise is related to the number of months they have been employed.\n"
   ]
  },
  {
   "cell_type": "markdown",
   "metadata": {},
   "source": [
    "**The correlation coefficient is a function of the covariance**. The correlation coefficient is equal to the covariance divided by the product of the standard deviations of the variables. `Therefore, a positive covariance always results in a positive correlation and a negative covariance always results in a negative correlation.\n",
    "\n",
    "[https://lindeloev.github.io/tests-as-linear/](https://lindeloev.github.io/tests-as-linear/)"
   ]
  },
  {
   "cell_type": "markdown",
   "metadata": {},
   "source": [
    "Parametric vs NonParametric Tests\n",
    "\n",
    "| **Parametric tests (means)** | **Nonparametric tests (medians)** |\n",
    "| --- | --- |\n",
    "| **1-sample t test** | **1-sample Sign, 1-sample Wilcoxon** |\n",
    "| **2-sample t test** | **Mann-Whitney test** |\n",
    "| **One-Way ANOVA** | **Kruskal-Wallis, Mood&#39;s median test** |\n",
    "| **Factorial DOE with one factor and one blocking variable** | **Friedman test** |"
   ]
  },
  {
   "cell_type": "markdown",
   "metadata": {},
   "source": [
    "[t-test vs f-test](https://keydifferences.com/difference-between-t-test-and-f-test.html)\n",
    "\n",
    "| **BASIS FOR COMPARISON** | **T-TEST** | **F-TEST** |\n",
    "| --- | --- | --- |\n",
    "| Meaning | T-test is a univariate hypothesis test, that is applied when standard deviation is not known and the sample size is small. | F-test is statistical test, that determines the equality of the variances of the two normal populations. |\n",
    "| Test statistic | T-statistic follows Student t-distribution, under null hypothesis. | F-statistic follows Snedecor f-distribution, under null hypothesis. |\n",
    "| Application | Comparing the means of two populations. | Comparing two population variances. |"
   ]
  },
  {
   "cell_type": "markdown",
   "metadata": {},
   "source": [
    "[anova and ancova](https://keydifferences.com/difference-between-anova-and-ancova.html)\n",
    "\n",
    "| **BASIS FOR COMPARISON** | **ANOVA** | **ANCOVA** |\n",
    "| --- | --- | --- |\n",
    "| Meaning | ANOVA is a process of examining the difference among the means of multiple groups of data for homogeneity. | ANCOVA is a technique that remove the impact of one or more metric-scaled undesirable variable from dependent variable before undertaking research. |\n",
    "| Uses | Both linear and non-linear model are used. | Only linear model is used. |\n",
    "| Includes | Categorical variable. | Categorical and interval variable. |\n",
    "| Covariate | Ignored | Considered |\n",
    "| BG variation | Attributes Between Group (BG) variation, to treatment. | Divides Between Group (BG) variation, into treatment and covariate. |\n",
    "| WG variation | Attributes Within Group (WG) variation, to individual differences. | Divides Within Group (WG) variation, into individual differences and covariate. |"
   ]
  },
  {
   "cell_type": "markdown",
   "metadata": {},
   "source": [
    "[T-Test V Anova](https://keydifferences.com/difference-between-t-test-and-anova.html)\n",
    "\n",
    "| **BASIS FOR COMPARISON** | **T-TEST** | **ANOVA** |\n",
    "| --- | --- | --- |\n",
    "| Meaning | T-test is a hypothesis test that is used to compare the means of two populations. | ANOVA is a statistical technique that is used to compare the means of more than two populations. |\n",
    "| Test statistic | (x ̄-µ)/(s/√n) | Between Sample Variance/Within Sample Variance |"
   ]
  },
  {
   "cell_type": "markdown",
   "metadata": {},
   "source": [
    "[ONE WAY ANOVA** VS **TWO WAY ANOVA](https://keydifferences.com/difference-between-one-way-and-two-way-anova.html)\n",
    "\n",
    "| **BASIS FOR COMPARISON** | **ONE WAY ANOVA** | **TWO WAY ANOVA** |\n",
    "| --- | --- | --- |\n",
    "| Meaning | One way ANOVA is a hypothesis test, used to test the equality of three of more population means simultaneously using variance. | Two way ANOVA is a statistical technique wherein, the interaction between factors, influencing variable can be studied. |\n",
    "| Independent Variable | One | Two |\n",
    "| Compares | Three or more levels of one factor. | Effect of multiple level of two factors. |\n",
    "| Number of Observation | Need not to be same in each group. | Need to be equal in each group. |\n",
    "| Design of experiments | Need to satisfy only two principles. | All three principles needs to be satisfied. |"
   ]
  },
  {
   "cell_type": "markdown",
   "metadata": {},
   "source": [
    "**Compare [Distribution Tables](http://www.statsoft.com/Textbook/Distribution-Tables)**\n",
    "\n",
    "Compared to probability calculators (e.g., the one included in _STATISTICA_), the traditional format of distribution tables such as those presented below, has the advantage of showing many values simultaneously and, thus, enables the user to examine and quickly explore ranges of probabilities."
   ]
  },
  {
   "cell_type": "markdown",
   "metadata": {},
   "source": [
    "**Standard Normal (Z) Table**\n",
    "\n",
    "![](RackMultipart20200720-4-kb6onf_html_4ccbc6aa034a2e89.gif)\n",
    "\n",
    "The Standard Normal distribution is used in various hypothesis tests including tests on single means, the difference between two means, and tests on proportions."
   ]
  },
  {
   "cell_type": "markdown",
   "metadata": {},
   "source": [
    "\n",
    "**Student&#39;s t Table**\n",
    "\n",
    "![](RackMultipart20200720-4-kb6onf_html_8298d216d86533f.gif)\n",
    "\n",
    "The Shape of the Student&#39;s t distribution is determined by the degrees of freedom. As shown in the animation above, its shape changes as the degrees of freedom increases. For more information on how this distribution is used in hypothesis testing, see [t-test for independent samples](http://www.statsoft.com/textbook/basic-statistics/#t-test%20for%20independent%20samples) and [t-test for dependent samples](http://www.statsoft.com/textbook/basic-statistics/#t-test%20for%20dependent%20samples) in [Basic Statistics and Tables](http://www.statsoft.com/textbook/basic-statistics/)"
   ]
  },
  {
   "cell_type": "markdown",
   "metadata": {},
   "source": [
    "\n",
    "**Chi-Square Table**\n",
    "\n",
    "![](RackMultipart20200720-4-kb6onf_html_1ada53c1efb455b3.gif)\n",
    "\n",
    "Like the Student&#39;s _t_-Distribution, the _Chi-square_ distribution&#39;s shape is determined by its degrees of freedom. The animation above shows the shape of the _Chi-square_ distribution as the degrees of freedom increase (1, 2, 5, 10, 25 and 50). For examples of tests of hypothesis that use the _Chi-square distribution_, see [Statistics in crosstabulation tables](http://www.statsoft.com/textbook/basic-statistics/#Statistics%20in%20crosstabulation%20tables) in [Basic Statistics and Tables](http://www.statsoft.com/textbook/basic-statistics/) as well as [Nonlinear Estimation](http://www.statsoft.com/textbook/nonlinear-estimation/) . See also, [Chi-square Distribution](http://www.statsoft.com/textbook/statistics-glossary/c.aspx?button=c#Chi-square%20Distribution)."
   ]
  },
  {
   "cell_type": "markdown",
   "metadata": {},
   "source": [
    "**F Distribution Tables**\n",
    "\n",
    "![](RackMultipart20200720-4-kb6onf_html_82e9a5f816ba4c09.gif)\n",
    "\n",
    "The [F distribution](http://www.statsoft.com/textbook/statistics-glossary/f.aspx?button=f#F%20Distribution) is a right-skewed distribution used most commonly in Analysis of Variance (see [ANOVA/MANOVA](http://www.statsoft.com/textbook/anova-manova/)). The F distribution is a ratio of two _Chi-square_ distributions, and a specific F distribution is denoted by the degrees of freedom for the numerator Chi-square and the degrees of freedom for the denominator Chi-square. An example of the F(10,10)distribution is shown in the animation above"
   ]
  },
  {
   "cell_type": "markdown",
   "metadata": {},
   "source": []
  },
  {
   "cell_type": "markdown",
   "metadata": {},
   "source": [
    "Gamma exponential bi bernoulli poisson\n"
   ]
  },
  {
   "cell_type": "markdown",
   "metadata": {},
   "source": [
    "# **3 Pearson and Spearman correlation**\n",
    "\n",
    "the **Spearman rank correlation** is a **Pearson correlation** on rank-transformed x and y\n",
    " rank(y)=β0+β1⋅rank(x) H0:β1=0\n",
    " value = &#39;rho&#39;\n",
    "\n",
    "Although this correlation is fairly obvious your data may contain unsuspected correlations. You may also suspect there are correlations, but don&#39;t know which are the strongest.\n",
    "\n",
    " While correlation coefficients are normally reported as r = (a value between -1 and +1), squaring them makes then easier to understand. The square of the coefficient (or r square) is equal to the percent of the variation in one variable that is related to the variation in the other. After squaring r, ignore the decimal point. An r of .5 means 25% of the variation is related (.5 squared =.25). An r value of .7 means 49% of the variance is related (.7 squared = .49).\n",
    "A correlation report can also show a second result of each test - statistical significance. In this case, the significance level will tell you how likely it is that the correlations reported may be due to chance in the form of random sampling error. If you are working with small sample sizes, choose a report format that includes the significance level. This format also reports the sample size.\n",
    "[https://www.medcalc.org/manual/correlation.php](https://www.medcalc.org/manual/correlation.php)\n",
    "The P-value is the probability that you would have found the current result if the correlation coefficient were in fact zero (null hypothesis). If this probability is lower than the conventional 5% (P\\&lt;0.05) the correlation coefficient is called statistically significant.\n",
    "**95% confidence interval (CI) for the correlation coefficient**: this is the range of values that contains with a 95% confidence the &#39;true&#39; correlation coefficient."
   ]
  },
  {
   "cell_type": "markdown",
   "metadata": {},
   "source": [
    "# **4 One mean**\n",
    "\n",
    "4.1 One sample t-test and Wilcoxon signed-rank\n",
    "**t-test** model: A single number predicts y.\n",
    " Y = mx+b where x = 0. Null Hypothesis b=0 ![](RackMultipart20200720-4-1eeqd6o_html_cdcf0d66b6c0da6a.png)\n",
    "**Wilcoxon signed-rank test** , just with the signed ranks of yy instead of y itself\n",
    "signed\\_rank(y)=β0\n",
    "\n",
    "4.2 Paired samples t-test and Wilcoxon matched pairs\n",
    "**t-test** model: a single number (intercept) predicts the pairwise differences.\n",
    " Y2-y1=mx+b where x = 0. Null Hypothesis: b=0\n",
    "\n",
    "**This means that there is just one**  **y**** = ****y**** 2 ****−**** y ****1**  **to predict and it becomes a** [**one-sample t-test**](https://lindeloev.github.io/tests-as-linear/#t1) **on the pairwise differences**. The visualization is therefore also the same as for the one-sample t-test. At the risk of overcomplicating a simple substraction, you can think of these pairwise differences as slopes (see left panel of the figure), which we can represent as y-offsets (see right panel of the figure):\n",
    " ![](RackMultipart20200720-4-1eeqd6o_html_3052cc7d86822899.png)\n",
    " Similarly, the **Wilcoxon matched pairs** only differ from **Wilcoxon signed-rank** in that it&#39;s testing the signed ranks of the pairwise y−x differences."
   ]
  },
  {
   "cell_type": "markdown",
   "metadata": {},
   "source": [
    "# **5 Two means**\n",
    "\n",
    "5.1 Independent t-test and Mann-Whitney U\n",
    " Independent t-test model: two means predict yy.\n",
    "\n",
    "yi=β0+β1xiβ1=0\n",
    "where xixi is an indicator (0 or 1) saying whether data point ii was sampled from one or the other group. [Indicator variables (also called &quot;dummy coding&quot;)](https://en.wikipedia.org/wiki/Dummy_variable_(statistics)) underly a lot of linear models and we&#39;ll take an aside to see how it works in a minute.\n",
    "**Mann-Whitney U** (also known as **Wilcoxon signed-rank test** for two independent groups) is the same model to a very close approximation, just on the ranks of xx and yy instead of the actual values:\n",
    "rank(yi)=β0+β1xi\n",
    "\n",
    "![](RackMultipart20200720-4-1eeqd6o_html_862ee34917ee9f6.png)\n",
    "5.2 Welch&#39;s t-test\n",
    "\n",
    "This is identical to the (Student&#39;s) [independent t-test](https://lindeloev.github.io/tests-as-linear/#t2) above except that Student&#39;s assumes identical variances and **Welch&#39;s t-test** does not.\n"
   ]
  },
  {
   "cell_type": "markdown",
   "metadata": {},
   "source": [
    "# **6 Three or more means**\n",
    "\n",
    "ANOVAs are linear models with (only) categorical predictors. They simply extend everything we did above, relying heavily on dummy coding."
   ]
  },
  {
   "cell_type": "markdown",
   "metadata": {},
   "source": [
    "__Multivariate__\n",
    "\n",
    "Relationship Between Variables\n",
    "- Correlation Coefficient\n",
    "- Correlation Coefficient by Variable Combination\n",
    "- Correlation Plot of Numerical Variables\n",
    "\n",
    "Target based Analysis\n",
    "- Grouped Descriptive Statistics\n",
    "- Grouped Numerical Variables\n",
    "- Grouped Categorical Variables\n",
    "- Grouped Relationship Between Variables\n",
    "- Grouped Correlation Coefficient\n",
    "- Grouped Correlation Plot of Numerical Variables\n",
    "\n",
    "- Anova \n",
    "- ancova \n",
    "- Support \n",
    "- Confidence \n",
    "- Lift\n",
    "\n",
    "\n",
    "Multivariate\n",
    "\n",
    "- Correlation Coefficient\n",
    "- Correlation Coefficient by Variable Combination\n",
    "- Correlation Plot of Numerical Variables\n",
    "- Target based Analysis\n",
    "- Gruoped Descriptive Statistics\n",
    "- Gruoped Numerical Variables\n",
    "- Gruoped Categorical Variables\n",
    "- Gruoped Relationship Between Variables\n",
    "- Grouped Correlation Coefficient\n",
    "- Grouped Correlation Plot of Numerical Variables\n",
    "\n",
    "Major columns\n",
    "\n",
    "Anova ancova \n",
    "\n",
    "Support Confidence Lift\n",
    "\n",
    "The bivariate distribution plots help us to study the relationship between two variables by analyzing the scatter plot the bivariate distributions:\n",
    "\n",
    "If the denominators used to calculate the two percentages represent the same people, we use a one-sample t-test between percents to compare the two percents. If the denominators represent different people, we use the two-sample t-test between percents.\n",
    "\n"
   ]
  },
  {
   "cell_type": "markdown",
   "metadata": {},
   "source": [
    "Median difference from Quartiles represent skew. Whiskers represent variance.\n",
    "\n",
    "\n",
    "Cross tabulation:\n",
    "- 1) preprocess?\n",
    "- 2) figure out which 2 features you want to crosstab \n",
    "- 3) Create a column for every category of feature 1\n",
    "- 4) Determine how you will aggregate (sum,count,avg,max,min,product)\n",
    "- 5) create a record for every unique feature 1\n",
    "- 5.1) create a column for the unique labels name\n",
    "- 6) aggregate feature 1 columns"
   ]
  },
  {
   "cell_type": "markdown",
   "metadata": {},
   "source": [
    "## Data Assumptions Parametric Vs Non"
   ]
  },
  {
   "cell_type": "markdown",
   "metadata": {},
   "source": [
    "http://www.statsoft.com/Textbook/Nonparametric-Statistics\n",
    "\n",
    "Relations between Variables - Magnitude, Reliability, PValue, \n",
    "\n",
    "Small relations can only be proven in large samples\n",
    "\n",
    "#### Parametric\n",
    "- Differences between independent groups -> T-Test for Independent Samples\n",
    "- Differences between dependent groups -> T-Test for Dependent Samples, If there are more than two variables that were measured in the same sample, then we would customarily use repeated measures ANOVA.\n",
    "- Relationships between variables -> correlation coefficient\n",
    "\n",
    "#### Nonparametric\n",
    "- Differences between independent groups -> Mann-Whitney U test, and the Kolmogorov-Smirnov two-sample test and Wald-Wolfowitz\n",
    "- Differences between dependent groups -> Sign test and Wilcoxon's matched pairs test. If the variables of interest are dichotomous in nature, \"pass\" vs. \"no pass\" then McNemar's Chi-square test. If there are more than two variables that were measured in the same sample, then we would use Friedman's two-way analysis of variance and Cochran Q test (if the variable was measured in terms of categories, e.g., \"passed\" vs. \"failed\"). Cochran Q is particularly useful for measuring changes in frequencies (proportions) across time.\n",
    "- Relationships between variables -> Spearman R, Kendall Tau, and coefficient Gamma.  If the two variables of interest are categorical in nature (e.g., \"passed\" vs. \"failed\" by \"male\" vs. \"female\") appropriate nonparametric statistics for testing the relationship between the two variables are the Chi-square test, the Phi coefficient, and the Fisher exact test. In addition, a simultaneous test for relationships between multiple cases is available: Kendall coefficient of concordance. This test is often used for expressing inter-rater agreement among independent judges who are rating (ranking) the same stimuli\n",
    "- http://www.statsoft.com/Textbook/Nonparametric-Statistics#correlations\n"
   ]
  },
  {
   "cell_type": "markdown",
   "metadata": {},
   "source": [
    "## Common Tests"
   ]
  },
  {
   "cell_type": "markdown",
   "metadata": {},
   "source": [
    "Basic Statistics: Descriptive Statistics, Correlations, t-tests, frequency tables, cross tabulation"
   ]
  },
  {
   "cell_type": "markdown",
   "metadata": {},
   "source": [
    "\n",
    "measures of location (mean, median, mode, etc.) \n",
    "and dispersion (variance, average deviation, quartile range, etc.)\n",
    "\n",
    "Parametric(Means) Vs NonParametric (Medians)\n",
    "- 1-sample t test VS 1-sample Sign, 1-sample Wilcoxon\n",
    "- 2-sample t test VS Mann-Whitney test\n",
    "- One-Way ANOVA VS Kruskal-Wallis, Mood’s median test\n",
    "\n",
    "\n",
    "T-Test\n",
    "- Meaning: T-test is a univariate hypothesis test, that is applied when standard deviation is not known and the sample size is small. T-test is a hypothesis test that is used to compare the means of two populations.\n",
    "- Test Statistic: T-statistic follows Student t-distribution, under null hypothesis.\n",
    "- Application: Comparing the means of two populations.\n",
    "- Test statistic - (x ̄-µ)/(s/√n)\n",
    "\n",
    "\n",
    "F-Test\n",
    "- Meaning: F-test is statistical test, that determines the equality of the variances of the two normal populations.\n",
    "- Test Statistic: F-statistic follows Snedecor f-distribution, under null hypothesis.\n",
    "- Application: Comparing two population variances.\n",
    "\n",
    "Anova\n",
    "- Meaning - ANOVA is a process of examining the difference among the means of multiple groups of data for homogeneity.\n",
    "- Uses - Both linear and non-linear model are used. ANOVA is a statistical technique that is used to compare the means of more than two populations.\n",
    "- Includes - Categorical variable.\n",
    "- Covariate - Ignored\n",
    "- BG variation - Attributes Between Group (BG) variation, to treatment.\n",
    "- WG variation - Attributes Within Group (WG) variation, to individual differences.\n",
    "- Test statistic - Between Sample Variance/Within Sample Variance\n",
    "\n",
    "Ancova\n",
    "- Meaning - ANCOVA is a technique that remove the impact of one or more metric-scaled undesirable variable from dependent variable before undertaking research. \n",
    "- Uses -  Only linear model is used.\n",
    "- Includes - Categorical and interval variable.\n",
    "- Covariate - Considered\n",
    "- BG variation - Divides Between Group (BG) variation, into treatment and covariate.\n",
    "- WG variation - Divides Within Group (WG) variation, into individual differences and covariate.\n",
    "\n",
    "ONE WAY ANOVA\n",
    "- Meaning - One way ANOVA is a hypothesis test, used to test the equality of three of more population means simultaneously using variance.\n",
    "- Independent Variable - One\n",
    "- Compares - Three or more levels of one factor.\n",
    "- Number of Observation - Need not to be same in each group.\n",
    "- Design of experiments - Need to satisfy only two principles.\n",
    "\n",
    "TWO WAY ANOVA\n",
    "- Meaning - Two way ANOVA is a statistical technique wherein, the interaction between factors, influencing variable can be studied.\n",
    "- Independent Variable - Two\n",
    "- Compares - Effect of multiple level of two factors.\n",
    "- Number of Observation - Need to be equal in each group.\n",
    "- Design of experiments - All three principles needs to be satisfied.\n",
    "\n",
    "\n",
    "Anova Ancova Sarima Arima ARMA Spatial Temporal"
   ]
  },
  {
   "cell_type": "markdown",
   "metadata": {},
   "source": [
    "ANOVA Requirements\n",
    "- Normal Distribution\n",
    "- Independent Samples/Groups\n",
    "- Independent Samples t Test requires the assumption of homogeneity of variance. \n",
    "a test for the homogeneity of variance, called Levene's Test, whenever you run an independent samples T test"
   ]
  },
  {
   "cell_type": "markdown",
   "metadata": {},
   "source": [
    "## Test Erors"
   ]
  },
  {
   "cell_type": "markdown",
   "metadata": {},
   "source": [
    "Most researches test a null hyppothesis with alpha at .05\n",
    "\n",
    "Type 1 Error - Erroneously rejecting the null hypothesis with a statistical analysis, when the null hypothesis is in fact true in the population.\n",
    "\n",
    "Single Analysis \n",
    "Test the null H of equal mean IQs between adult males and adult females.\n",
    "This is done by Testing the null H with an independent samples t-test\n",
    "If the t-test p-value is less than .05, reject the null hypothesis of equal means.\n",
    "\n",
    "\n",
    "The Bonferroni Correction is an adjustent applied to p-values that is 'supposed to be' applied, when two or more statistical analyses have been performed on the same sample of data.\n",
    "\n",
    "specifies the chances of erroneously rejecting the null hypothesis at least once amongst the family of analyses is equal to X\n",
    "\n",
    "ALPHA(fam-wise-error-rate) = 1 - (1-.05)^#tests\n",
    "\n",
    "Approach 1. Divide the per analsysis alpha rate by the number of statistical analyses performed (.05/3 = .017) ... => any observed p-value less than the corrected p-value (.017) is declared to be statistically significant. \n",
    "\n",
    "This can sometimes oblitterate all statistically significant results.\n",
    "\n"
   ]
  },
  {
   "cell_type": "markdown",
   "metadata": {},
   "source": [
    "Common Error Measures: \n",
    "- (root) Mean Squared Error - continuous data, sensitivity to outliers\n",
    "-  median absolute deviation - continuous data, often more robust\n",
    "- sensitivity (Recall) - if you want few missed positives\n",
    "- specificity - if you want few negatives called positives\n",
    "- accuracy - weights false positives / negatives equally\n",
    "- Concordance - one example is kappa"
   ]
  },
  {
   "cell_type": "markdown",
   "metadata": {},
   "source": [
    "Challenges With Data\n",
    "\n",
    "* Some of this was covered in the prior sections and will not be repeated here.\n",
    "\n",
    "- Options tree with Pessimistic, Nominal & Optimistic ...\n",
    "- Performance vs Risk vs Design analysis\n",
    "\n",
    "Key issues: accuracy, overfitting, interpretability, computational speed.\n",
    "\n",
    "Pay attention to - confounding variables, complicated interactions, skewness, outliers, nonlinear patterns, variance changes, \n",
    "units/scale issues, overloading, regression, correlation and causation"
   ]
  },
  {
   "cell_type": "markdown",
   "metadata": {},
   "source": [
    "measures of effectiveness of the classifier:\n",
    "- Predictive accuracy: How well does it predict the categories for new observations?\n",
    "- Speed: What is the computational cost of using the classifier?\n",
    "- Robustness: How well do the models created perform if data quality is low?\n",
    "- Scalability: Does the classifier function efficiently with large amounts of data?\n",
    "- Interpretability: Are the results understandable to users?"
   ]
  },
  {
   "cell_type": "markdown",
   "metadata": {},
   "source": [
    "Confounder: a variable that is correlated with both the outcome and covariates\n",
    "- confounders can change the regression line.\n",
    "- detected with exploration\n",
    "\n",
    "Descriptive Statistics : Location (mean,median,mode) Spread(standard deviation, variance, range, iqr, absolute deviation, mean absolute difference, distance standard deviation... Coefficient of variation and Gini Coefficients. shape( skewness ie kurtosis, distance skewness). Dependence ( Pearson, Spearman)\n",
    "\n",
    "Prefered Data Format : yyyy-mm-dd'T'hh:mm:ss.mmm\n",
    "\n",
    "workhorse estimation technique of frequentist statistics: maximum likelihood estimation.\n",
    "\n",
    "\n"
   ]
  },
  {
   "cell_type": "markdown",
   "metadata": {},
   "source": [
    "Changing variance - what can you do\n",
    "- box cox transform\n",
    "- variance stabilizing transform\n",
    "- weighted least squares\n",
    "- huber white standard errors"
   ]
  },
  {
   "cell_type": "markdown",
   "metadata": {},
   "source": [
    "MISC\n",
    "- P Values require knowing how many records exist are in the database.\n",
    "- Outliers profoundly influence on the slope of the regression line and the correlation coefficient. \n",
    "- Correlation coefficient alone is not enough for decision making (i.e., scatterplots are always recommended)\n",
    "- Prefered Data Format : yyyy-mm-dd'T'hh:mm:ss.mmm"
   ]
  },
  {
   "cell_type": "markdown",
   "metadata": {},
   "source": [
    "Bias:\n",
    "- Quantitative Approach to Outliers.\n",
    "- Correlations in Non-homogeneous Groups\n",
    "- Nonlinear Relations between Variables. - Pearson R measures linearity\n",
    "- Exploratory Examination of Correlation Matrices\n",
    "- Casewise vs. Pairwise Deletion of Missing Data\n",
    "- Overfitting: Pruning/ Cross Validation\n",
    "- Breakdown Analysis\n",
    "- Frequency Tables\n",
    "- Cross Tabulation\n",
    "- Marginal Frequencies\n",
    "- Association Rules\n"
   ]
  }
 ],
 "metadata": {
  "kernelspec": {
   "display_name": "Python 3",
   "name": "python3"
  }
 },
 "nbformat": 4,
 "nbformat_minor": 0
}
