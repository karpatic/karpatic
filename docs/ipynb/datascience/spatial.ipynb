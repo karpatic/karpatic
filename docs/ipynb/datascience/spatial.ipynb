{
 "cells": [
  {
   "cell_type": "markdown",
   "metadata": {},
   "source": [
    "# Spatial Data\n",
    "> Assorted notes on the topic. Near entirly quotes from other sources.\n",
    "\n",
    "- tab: Spatial Data\n",
    "- keywords: ['data'] \n",
    "- hide_sitemap: false\n",
    "- hide_toc: true\n",
    "- hide_breadcrumbs: false"
   ]
  },
  {
   "cell_type": "markdown",
   "metadata": {
    "id": "6WL7pgVmyPHR"
   },
   "source": [
    "## Spatial Data Analysis \n",
    "\n",
    "### Spatial data formats (drag drop): \n",
    "- postgresql, oracle, csv, mapinfo, kml, gml, shapefile, filedgb, geojson, cartodb\n",
    "\n",
    "### Linked Spatial & Temporal Exploration\n",
    "\n",
    "- Explore statistical results through linked maps and charts  \n",
    "- Analyze spatial and temporal patterns across coordinated views  \n",
    "  - Compare grouped vs ungrouped variables  \n",
    "  - Examine averages across space and time  \n",
    "  - Group observations to calculate mean and standard deviation  \n",
    "\n",
    "### Multivariate Pattern Detection\n",
    "\n",
    "- Identify relationships in multivariate space  \n",
    "  - Use scatterplot matrices with integrated bar charts  \n",
    "- Map and explore patterns from non-spatial clustering algorithms:  \n",
    "  - Principal Component Analysis (PCA)  \n",
    "  - K-means clustering  \n",
    "  - Hierarchical clustering  \n",
    "  - Multidimensional Scaling (MDS)  \n",
    "\n",
    "### Spatial Autocorrelation & Clustering\n",
    "\n",
    "- Detect statistically significant spatial clusters using:  \n",
    "  - Spatial autocorrelation  \n",
    "  - Local Moran's I cluster map  \n",
    "  - Local G and G* statistics  \n",
    "  - Local join count statistics (for categorical variables)  \n",
    "- Apply spatial clustering algorithms:  \n",
    "  - SKATER  \n",
    "  - REDCAP  \n",
    "  - Max-p regions  \n",
    "  - K-means, K-medians, K-medoids  \n",
    "  - Spectral clustering  \n",
    "\n",
    "### Spatiotemporal Change Detection\n",
    "\n",
    "- Test whether changes over time are spatially clustered  \n",
    "  - Use global/local differential Moran's I  \n",
    "  - Visualize results with LISA (Local Indicators of Spatial Association) cluster maps  \n",
    "\n",
    "### Multivariate Spatial Correlation\n",
    "\n",
    "- Assess whether multiple variables are spatially clustered  \n",
    "  - Use spatial correlation metrics (e.g., moral correlation)  \n",
    "\n",
    "### Spatial Dependence Thresholds\n",
    "\n",
    "- Use correlograms to determine distance thresholds where spatial correlation declines  \n",
    "  - Identify points beyond which neighboring values lose statistical dependence  \n"
   ]
  },
  {
   "cell_type": "code",
   "execution_count": null,
   "metadata": {
    "id": "NWDDGc4JyPHR"
   },
   "outputs": [],
   "source": []
  }
 ],
 "metadata": {
  "colab": {
   "name": "spatial.ipynb",
   "provenance": []
  },
  "kernelspec": {
   "display_name": "Python 3",
   "name": "python3"
  }
 },
 "nbformat": 4,
 "nbformat_minor": 0
}
