{
 "cells": [
  {
   "cell_type": "code",
   "execution_count": null,
   "metadata": {},
   "outputs": [],
   "source": [
    "// magnetic field/force is electric field/force but in the reference frame of a moving particle\n",
    "// The forces applied on a moving particle are 'distorted' by the special relativity (like doppler shift but for magnetic forces). \n",
    " "
   ]
  }
 ],
 "metadata": {
  "language_info": {
   "name": "python"
  },
  "orig_nbformat": 4
 },
 "nbformat": 4,
 "nbformat_minor": 2
}
