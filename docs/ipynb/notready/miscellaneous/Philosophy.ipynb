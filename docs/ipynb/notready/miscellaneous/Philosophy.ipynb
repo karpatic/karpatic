{
 "cells": [
  {
   "cell_type": "markdown",
   "metadata": {},
   "source": [
    "https://en.wikipedia.org/wiki/Democritus\n",
    "https://en.wikipedia.org/wiki/Aristotle\n",
    "https://www.google.com/search?q=Descartes&oq=Descartes+&aqs=chrome..69i57&sourceid=chrome&ie=UTF-8\n",
    "de novo, en vitro en vivo\n"
   ]
  },
  {
   "cell_type": "markdown",
   "metadata": {},
   "source": [
    "https://en.wikipedia.org/wiki/Physiology\n",
    "Human physiology seeks to understand the mechanisms that work to keep the human body alive and functioning, through scientific enquiry into the nature of mechanical, physical, and biochemical functions of humans, their organs, and the cells of which they are composed."
   ]
  },
  {
   "cell_type": "markdown",
   "metadata": {},
   "source": [
    "https://en.wikipedia.org/wiki/Neuroscience\n"
   ]
  },
  {
   "cell_type": "markdown",
   "metadata": {},
   "source": [
    "https://en.wikipedia.org/wiki/Vitamin\n",
    "https://en.wikipedia.org/wiki/Life\n"
   ]
  },
  {
   "cell_type": "markdown",
   "metadata": {},
   "source": [
    "Haldane suspected, along with Pirie, that a fully satisfactory definition of life was impossible, but he asserted that the material definition was a reasonable goal for science. He saw life as “a pattern of chemical processes. This pattern has special properties. It begets a similar pattern, as a flame does, but it regulates itself as a flame does not.” (Haldane 1947, p. 56). Use of the flame metaphor for cellular metabolic activity implied a nonequilibrium process in an open system capable of reproduction but also, by the limit of the metaphor, self regulation. In this Haldane reflected the shifting concern to working out how matter and physical laws could lead to biological phenomena.\n",
    "\n",
    "By the time of World War II it was meaningful to address the question of “what is life?” in molecular terms and fundamental physical laws. It was clear that there were several distinct ways in which matter in living systems behaved in ways different from non-living systems. For example, how could genetic information be instantiated at a molecular level given that ensembles of atoms or molecules behaved statistically? Or, how could biological systems generate and maintain their internal order in the face of the imperative of the second law of thermodynamics that all natural systems proceed with increasing entropy?"
   ]
  },
  {
   "cell_type": "markdown",
   "metadata": {},
   "source": [
    "Although conscious, living matter was a problem for Democritean philosophers, it was not for other pre-Socratics nor for Aristotle for whom living beings where paradigmatic. “The phenomenon which seemed to [Aristotle] most basic in the apparent flux of the world was the unity and persistence of the individual living being” (Smith 1976, p. 72). Indeed, Aristotle's biology and the philosophy he developed from it was sophisticated and enduring (Lennox 2001). Thus for Aristotle there was no problem of life, although there was a problem for an atomist view of nature that seemed inconsistent with biological phenomena (Rosen 1991). Descartes radically reconceptualized the problem by his dualism of matter and mind; life was a problem for which an explanation was to be sought in the mechanistic interactions of matter, and there was the question of how mind was related to the matter in living beings. As chemistry developed as a discipline in the eighteenth and nineteenth centuries the goal of most advanced thinkers was to develop explanatory theories of living things in terms of chemical matter and mechanisms. Such attempts at what must be admitted to be premature reduction were resisted by critics, including some vitalists, whose positions covered a wide range from romantic anti-materialists, through chemists seeking a new type of Newtonian force (“vital force”) in nature, to materialists who had an intuition of the importance of the organized whole (Fruton 1972, 1999).\n",
    "\n",
    "The debate between the “mechanists” and the “vitalists” about the relationship of matter and life as well as matter and mind, spilled over into the twentieth century, especially during the time that biochemists were defining their field as a separate discipline from chemistry or physiology."
   ]
  },
  {
   "cell_type": "markdown",
   "metadata": {},
   "source": [
    "The laws of chemistry and physics just were not robust enough to account for biology. “It is life we are studying in biology, and not phenomena which can be represented by causal conceptions of physics and chemistry” Haldane 1931, p. 28). He rejects, however, the search for a vital force since it would reduce the complexity of biological phenomena to a single principle. Rather, the phenomena of biology can only be understood in a holistic perspective that is faithful to the complexity observed in biological phenomena."
   ]
  },
  {
   "cell_type": "markdown",
   "metadata": {},
   "source": [
    "Woodger saw the issues in the mechanist-vitalist debate as more complex than either side admitted. The resolution would come from a recognition of the primary importance of biological organization and of levels of biological organization, “by a cell therefore I shall understand a certain type of biological organization, not a concrete entity” (Woodger 1929, p. 296, emphasis in original)."
   ]
  },
  {
   "cell_type": "markdown",
   "metadata": {},
   "source": [
    ", Schrödinger wondered how it could be that there could be sustained order in the molecules responsible for heredity when it was well known that statistical ensembles of molecules quickly became disordered (with increased entropy as predicted by the second law of thermodynamics)."
   ]
  },
  {
   "cell_type": "markdown",
   "metadata": {},
   "source": [
    "The problem of heredity then was reformulated at the molecular level as to how order could give rise to order? The other main topic that concerned Schrödinger was the thermodynamics of living things in general, that is, how could they generate order from disorder through their metabolism? It was through answering these two specific questions from the perspective of a physicist that Schrödinger sought to answer the big question, what is life?"
   ]
  },
  {
   "cell_type": "markdown",
   "metadata": {},
   "source": [
    "Living systems then are seen an instance of a more general phenomena of dissipative structures. “With the help of this energy and matter exchange with the environment, the system maintains its inner non-equilibrium, and the non-equilibrium in turn maintains the exchange process…. A dissipative structure continuously renews itself and maintains a particular dynamic regime, a globally stable space-time structure” (Jantsch 1980). However, thermodynamics can deal only with the possibility that something can occur spontaneously; whether self-organizing phenomena occur depend upon the actual specific conditions (initial and boundary) as well as the relationships among components (Williams & Frausto da Silva 1999)."
   ]
  },
  {
   "cell_type": "markdown",
   "metadata": {},
   "source": [
    "Seeing the cell as a thermodynamic ‘dissipative structure’ was not to be considered as reducing the cell to physics, as Bernal pointed out, rather a richer physics of what Warren Weaver called “organized complexity” (in contrast to simple order or “disorganized complexity”) was being deployed (Weaver 1948). The development of this “new” physics of open systems and the dissipative structures that arise in them was the fulfillment of the development that Schrödinger foresaw (Rosen 2000). Dissipative structures in physical and chemical systems are phenomena that are explained by nonequilibrium thermodynamics (Prigogine & Stengers 1984). The emergent, self-organizing spatio-temporal patterns observed in the Belousov-Zhabotinski reaction are also seen in biological systems (such as in slime mold aggregation or electrical patterns in heart activity) (Tyson 1976; Sole and Goodwin 2000). Indeed, related self-organizational phenomena pervade biology (Camazine et al. 2001). Such phenomena are seen not only in cells and organisms, but in ecosystems, which reinforces the notion that a broader systems perspective is needed as part of the new physics (Ulanowicz 1997). Important to such phenomena are the dynamics of non-linear interactions (where responses of a system can be much larger than the stimulus) and autocatalytic cycles (reaction sequences that are closed on themselves and in which a larger quantity of one or more starting materials is made through the processes). "
   ]
  },
  {
   "cell_type": "markdown",
   "metadata": {},
   "source": [
    "Given that the catalysts in biological systems are coded in the genes of the DNA, one place to start defining life is to view living systems as informed, autocatalytic cyclic entities that develop and evolve under the dual dictates of the second law of thermodynamics and of natural selection (Depew & Weber 1995; Weber & Depew 1996). Such an approach non-reductively connects the phenomena of living systems with basic laws of physics and chemistry (Harold 2001)."
   ]
  },
  {
   "cell_type": "markdown",
   "metadata": {},
   "source": [
    "How do we determine the intermediary points of the origin of life? Do they leave traces in the development chain? or have the signs of their origin been scrubbed away and then the the thing that did the scrubbing also gets scrubbed and all signs of the action get washed away with patina"
   ]
  },
  {
   "cell_type": "markdown",
   "metadata": {},
   "source": [
    "‘Artificial Life’ or ‘A-Life’ seek to do more than model known living systems. There goal is to place life as it is known on earth in a larger conceptual context of any possible forms of life (Langton 1989, 1995). Work in A-Life shifts our focus on the processes in living things rather than the material constituents of their structures per se (Emmeche 1994)"
   ]
  },
  {
   "cell_type": "markdown",
   "metadata": {},
   "source": [
    "However, such studies emphasize the organizational relationship between components rather than the components themselves, an important focus in the emerging age of “proteomics” in which, in the post human genome era, the complex, functional interactions of the large array of cellular proteins is being studied (Kumar & Snyder 2002)."
   ]
  },
  {
   "cell_type": "markdown",
   "metadata": {},
   "source": [
    "For example, the relative potential roles of selection and self-organization in the emergence of novel traits in evolutionary time might be evaluated by A-Life research. It is too soon yet to know how important the contribution of the A-Life program will be, but it is likely to become more prominent in the discourse on the origin and nature of life."
   ]
  },
  {
   "cell_type": "markdown",
   "metadata": {},
   "source": [
    "7. Conclusions\n",
    "Our increased understanding of the physical-chemical basis of living systems has increased enormously over the past century and it is possible to give a plausible definition of life in these terms. “Living organisms are autopoietic systems: self-constructing, self-maintaining, energy-transducing autocatalytic entities” in which information needed to construct the next generation of organisms is stabilized in nucleic acids that replicate within the context of whole cells and work with other developmental resources during the life-cycles of organisms, but they are also “systems capable of evolving by variation and natural selection: self-reproducing entities, whose forms and functions are adapted to their environment and reflect the composition and history of an ecosystem” (Harold 2001, 232). Such a perspective represents a fulfillment of the basic dual insights of Schrödinger near mid-century. Much remains to be elucidated about the relationships among the complex molecular systems of living entities, how they are constrained by the system as a whole as well as by physical laws. Indeed, it is still an open question for some as to whether we have yet a sufficiently rich understanding of the laws of nature or whether we need to seek deep laws that lead to order and organization (Kauffman 2000). At the start of the new century there is a sense of the importance of putting Schrödinger's program into a ‘systems’ context ( see for example Rosen 1991, 2000; Kauffman 1993, 1995, 2000; Depew and Weber 1995; Weber & Depew 1996, 2001; Ulanowicz 1997, 2001; Williams and Frausto da Silva 1999; 2002, 2003; Harold 2001; Morowitz 2002; Bunge 2003; Macdonald and Macdonald 2010). Significant challenges remain, such as fully integrating our new view of organisms and their action with evolutionary theory, and to understand plausible routes for the emergence of life. The fulfillment of such a program will give us a good sense of what life is on earth. Work in A-Life and empirical work seeking evidence of extra-terrestrial life may help the formulation of a more universal concept of life."
   ]
  },
  {
   "cell_type": "markdown",
   "metadata": {},
   "source": [
    "Idea of evolutionary computing was introduced in the 1960s by I. Rechenberg in his work \"Evolution strategies\" (Evolutionsstrategie in original). His idea was then developed by other researchers. Genetic Algorithms (GAs) were invented by John Holland and developed by him and his students and colleagues. This lead to Holland's book \"Adaption in Natural and Artificial Systems\" published in 1975."
   ]
  },
  {
   "cell_type": "markdown",
   "metadata": {},
   "source": [
    "All living organisms consist of cells. In each cell there is the same set of chromosomes. Chromosomes are strings of DNA and serves as a model for the whole organism. A chromosome consist of genes, blocks of DNA. Each gene encodes a particular protein. Basically can be said, that each gene encodes a trait, for example color of eyes. Possible settings for a trait (e.g. blue, brown) are called alleles. Each gene has its own position in the chromosome. This position is called locus.\n",
    "\n",
    "Complete set of genetic material (all chromosomes) is called genome. Particular set of genes in genome is called genotype. The genotype is with later development after birth base for the organism's phenotype, its physical and mental characteristics, such as eye color, intelligence etc."
   ]
  },
  {
   "cell_type": "markdown",
   "metadata": {},
   "source": [
    "If we are solving some problem, we are usually looking for some solution, which will be the best among others. The space of all feasible solutions (it means objects among those the desired solution is) is called search space (also state space). Each point in the search space represent one feasible solution. Each feasible solution can be \"marked\" by its value or fitness for the problem. We are looking for our solution, which is one point (or more) among feasible solutions - that is one point in the search space.\n",
    "\n",
    "The looking for a solution is then equal to a looking for some extreme (minimum or maximum) in the search space. The search space can be whole known by the time of solving a problem, but usually we know only a few points from it and we are generating other points as the process of finding solution continues.\n",
    "\n"
   ]
  },
  {
   "cell_type": "code",
   "execution_count": null,
   "metadata": {},
   "outputs": [],
   "source": [
    ""
   ]
  },
  {
   "cell_type": "code",
   "execution_count": null,
   "metadata": {},
   "outputs": [],
   "source": [
    ""
   ]
  },
  {
   "cell_type": "markdown",
   "metadata": {},
   "source": [
    ""
   ]
  },
  {
   "cell_type": "markdown",
   "metadata": {},
   "source": [
    " the triarchic theory distinguishes three aspects of intelligence:  analytic skills, such as the ability to think abstractly and evaluate information; creativity, the ability to invent novel solutions or ideas; and practical skills, which enable one to cope with concrete situations\n",
    "\n",
    "Other theories include reinforcement learning and Integrated Information Theory  \n",
    "“social psychology” is crucial for most living organisms\n",
    "“One of the most promising current directions in neuroscience research is optogenetics...The amount of neuron-level processes underlying even simple acts like walking or saying “hi” is extremely huge, plus considering the complexity of the DNA and other bio-machinery inside every cell psychological interpretation of the neuroscientific research is often even more complicated than experiments themselves. However, some models of human cognition are drawing solid connections between behaviour and neural activity.”\n",
    "Sight, recognition, perception\n",
    "Short term memory, equilibrium, emotion\n",
    "Voluntary muscles\n",
    "Speech, written/spoken Language comprehension\n",
    "Pain, hunger, fight or flight\n",
    "Sensation from skin/muscle, Sensory association\n",
    "Smelling\n",
    "Evaluation of weight/texture/temperature/objects\n",
    "Eye movement and orientation\n",
    "Concentration, Planning, Emotional Expression, Creativity, Inhibition\n",
    "Coordination of movement and balance and Equilibrium Posture\n",
    "\n",
    "\n",
    "90% of the cortex is represented by the neocortex, which is one of the most recent evolutionary inventions in the brain.\n",
    "Neurons do not reproduce like other cells (they are amitotic, they do not have mitosis). Neurons usually don't regenerate (except for afferent and efferent neurons)\n",
    "Neurons have to be protected from damage by the glial cells. \n",
    "Neuron regeneration is done via Schwann cells (glia).\n",
    "Neurons are specialized cells whos dedicated function is to communicate action potentials\n",
    "DNA doesn’t require a host cell to exist but otherwise it rapidly deteriorates.\n",
    "Cells : Lipid bilayer filled with nitrogenous. Nutrients in waste out.\n",
    "Virus: do not maintain inner metabolism like cells, must leach.\n",
    "6yrs growing brain next 12yr maturing body. \n",
    "25% resting metabolism is spent on energizing your brain\n",
    "Nucleotides - built by nucleic acids. Create Dna and Rna\n",
    "Nucleotides - 3 molecules: 1 nitrogenous base, 5 carbon sugars + 1 phosphate group\n",
    "Macromolecule - DNA & proteins. Created by polymerization. Composed of thousands of atoms\n",
    "Polymerization is the process of combining monomers to form polymers\n",
    "Monomers are molecules that can be polymerized\n",
    "Molecules are 2 or more neutrally charged atoms. Molecules and Ions are mutually exclusive. \n",
    "*Ionic bonds are atoms joined by electrostatic attraction of oppositely charged ions\n",
    "Ions are 1 or more atoms with more protons/neutrons than electrons creating charge\n",
    "Atoms make up the ‘periodic table’ & r the smallest unit of matter that have chemical properties. "
   ]
  },
  {
   "cell_type": "code",
   "execution_count": null,
   "metadata": {},
   "outputs": [],
   "source": [
    ""
   ]
  }
 ],
 "metadata": {
  "kernelspec": {
   "display_name": "Python 3",
   "language": "python",
   "name": "python3"
  }
 },
 "nbformat": 4,
 "nbformat_minor": 0
}
