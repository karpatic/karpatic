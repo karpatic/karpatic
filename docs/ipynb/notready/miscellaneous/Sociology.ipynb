{
 "cells": [
  {
   "cell_type": "markdown",
   "metadata": {},
   "source": []
  },
  {
   "cell_type": "markdown",
   "metadata": {},
   "source": [
    "sugar phosphate backbone \n",
    "base pairs mde of tagc\n",
    "3 billion base pairs\n",
    "encodes 30,000 gnese\n",
    "found in cucleus of every cell\n",
    "every cell has the same pair of 23 chromosomes\n",
    "dna is wrapped around proteins - a nucleosome\n",
    "dna helix coiled around histone proteins. \n",
    "histones have histone tails which protrude from nucleosome\n",
    "modifications to either histone tails or dna are indicative of DNA activity\n",
    "these modifications are controled by epigenetics - processes that tell our cells how and when to activate\n",
    "innactive chromosomes are more tightly bound which render them unable to be transcribed by molecules responsible for that sorta thing. in affect silencing them\n",
    "active chromosomes resemble beads on a string. (nucleosomes are beads)\n",
    "Molecules involved in dna transcription can only access open dna. Histon Tail modifying enzymes are recruited by those molecules.\n",
    "Nucleosome dissasembly and remodling is possible. As well, its possible to slide dna along histones for accesse.\n",
    "This is useful when messenger rna transcription whereby rna polymers use dna reading enzyms to produce mrna.\n",
    "mrna is a cousing of dna. it is produces by reading a gene by unziping the double helix and copying the two strands.\n",
    "It is copied using a close chimcal compound, rna, whos building blocks just floats around in the nucleus to copy the acgt of the gene\n",
    "messenger rna will take itself out of the nucleous to a ribosome for production of a particular protein that the mrna codes for.\n",
    "several million ribisomes per eurchariotic cell -> assemble those amino acids\n",
    "mrna passes through ribosome. amino acids are brought into the ribosome using  TransferRNA Trna\n",
    "codon - groups of 3 letters of the mrna. matches a corresponding anticodon from the base of the Trna (the amino acid is on the opposite end).\n",
    "the ribosome will take the amino acid from the top of the Trna after having the base of that Trna anticodon match with the Mrna codon.\n",
    "once it gets a hold of that amino acid, it links it to a chain, an amino acid sequence, that its been creating. (this is all done in a linearly sequential order)\n",
    "in this fashion it is able to transcribe the Messener Rna into a Protein by matching the Mrna by Trna and stitching together whatever amino acid was attached to that very specific type Trna\n",
    "The ribosome has 2 parts. the smaller part matches trna to mrna. the larger part will use the trna. Trna gets recycled.\n",
    "helicase will unwind double helix with the speed of a get engine\n",
    "dna is 6ft long and has a funny way of copying the strands using the helix.\n",
    "it gets wrapped around proteins called histones to create nucleosomes.\n",
    "nucleosomes are packaged into a thread. chromatids. a chromatid is essential half a chromosome. these are packed again to create create chromosomes.\n",
    "chromosomes do not always exist. only when its time for the cell to divide. Mitosis.\n",
    "DNA 2nm wide, length 30-40mil nm long and exist in the nuclear membrane\n",
    "\n",
    "mitotic cell - \n",
    "prometaphase - nucldear cell breaks down releaseing the chromosomes\n",
    "metaphase - chromosomes arrange in middle of cell\n",
    "anaphase - pull apart with identical sets going to each going to each side. (chromatid sepration)\n",
    "telophase - cell splits down the middle creating a new cell.\n",
    "microtubual fibers - guide chromosomes to positions. connect to chromosome at junction between chromatids. assist in their seperation\n",
    "kinetochore - interface between the michrotubuals and dna. most complicated mechanism.\n",
    "kinetochore - sends stop signals for when chromosome is ready for multiplication or not.\n",
    "dynein & kinesin - molecular mottors traveling down/up the microtubual fiber to remove the singals from the kinechtocore away from the chromosome \n"
   ]
  },
  {
   "cell_type": "markdown",
   "metadata": {},
   "source": [
    "influence of colour red in sports\n",
    "dopamine builds up as you take the bite but decreases after\n",
    "rosenthal effect\n",
    "car crash experiment - word choice\n",
    "think of white bears\n",
    "solomon asch experiment\n",
    "negativity bias\n",
    "dunning kurger\n",
    "the experiment with the monkeys and the ladder\n",
    "john elliot studies\n",
    "Descriptive Experience Sampling \n",
    "just world fallacy\n",
    "learned helplessness\n",
    "hedonic adaptation\n",
    "selective laziness of reasoning\n",
    "extroverts create their entertainment. introverts rely on others\n",
    "loss aversion\n"
   ]
  },
  {
   "cell_type": "markdown",
   "metadata": {},
   "source": [
    "According to Planck one proton can contain a thousand trillion trillion trillion trillion trillion bits of information. 10 to the power of 66. This would be a very tiny black hole and the information could not escape. It has long been believed that all the information in the universe began the size of a mustard seed or even smaller. Information can not be lost. Even if you erase a hard drive that information still exists as energy. IBM can currently store one bit of information on one atom. That means there are enough atoms in the human body to contain all the information on the internet around 20,000 times over. So we currently can fit all the information on the internet in a tea spoon. You can fit all the DNA of the human race in a Teaspoon. Using our existing technology. Anything the size of a molecule only has an on and off, there is no way to modify it."
   ]
  },
  {
   "cell_type": "markdown",
   "metadata": {},
   "source": [
    "Needham 1925). He followed Hopkins too in asserting that the crucial question no longer was the relationship of living and non-living substance but also of mind and body, with biochemistry conceding to philosophy and the then incipient neurosciences, the latter question, so that it could focus on learning about living matter. "
   ]
  },
  {
   "cell_type": "markdown",
   "metadata": {},
   "source": [
    "The tightest permanent media we have now is Blue-ray at 12.5 Gbit per square inch. Flash memory that can be stacked has logic gates about 20 nanometers.  The Singapore Institute of Materials Research in 2011 increased the amount of data used on hard drives by 6 times and we'll soon see that commonly available making our \"normal\" about 166 hundred thousand atoms per bit\n",
    "However, we have a long way to go though. The human genome is about 1GB of data (3 billion nucleotide base pairs). DNA is 2 nanometers in diameter and 3.4 nm per wind. If you do the math here you get about 10^18 bytes per cubic centimeter or a billion billion bytes (not bits). Since 1 inch is 25.4 mm, that's 10^22 or ten billion billion bytes per cubic millimeter which is 10 zetabytes in a single cubic mm of DNA. Scary small.\n",
    "\n",
    "But it goes beyond that even. It is possible to store many bits per atom and even electron. In 2009 researchers at Stanford announced they were using a brilliant scheme of reading interference patterns between carbon-monoxide atoms on top of copper atoms. Because this uses the electrons to produce interference patterns and multiple patterns can be stored at different electron frequencies, it is more like a hologram and they have named this electronic quantum holography. It also means you can store more than one bit using a single electron. Here there were storing 35 bits per electron. Source: Reading the fine print takes on a new meaning. Again this takes an STM so don't expect this in your laptop anytime soon."
   ]
  },
  {
   "cell_type": "markdown",
   "metadata": {},
   "source": [
    "\n",
    "\n",
    "\n",
    "\n",
    "\n",
    "\"dont have link\"\n",
    "Situational constraints typically predict behavior far better than personality, intelligence, or other individual-level traits.\n",
    "It’s really helpful to respond to a person’s ineffective behavior with curiosity rather than judgment.\n",
    "Often, though, the barrier is that procrastinators have executive functioning challenges \n",
    "For decades, psychological research has been able to explain procrastination as a functioning problem, not a consequence of laziness. When a person fails to begin a project that they care about, it’s typically due to either a) anxiety about their attempts not being “good enough” or b) confusion about what the first steps of the task are. Not laziness. In fact, procrastination is more likely when the task is meaningful and the individual cares about doing it well. "
   ]
  },
  {
   "cell_type": "code",
   "execution_count": null,
   "metadata": {},
   "outputs": [],
   "source": []
  },
  {
   "cell_type": "code",
   "execution_count": null,
   "metadata": {},
   "outputs": [],
   "source": []
  },
  {
   "cell_type": "markdown",
   "metadata": {},
   "source": [
    "hierarchy of competence"
   ]
  },
  {
   "cell_type": "markdown",
   "metadata": {},
   "source": [
    "Integral Theory \n",
    "- Magenta(animist tribe, magical thinking)\n",
    "- Red (power impluse egocentric )\n",
    "- Amber (ethnocetnrism)\n",
    "- Orange (modern)\n",
    "- Green (postmodern)\n",
    "- Teal (Integral/ Second Tier)\n"
   ]
  },
  {
   "cell_type": "markdown",
   "metadata": {},
   "source": [
    "John Lock - The Great Interlocking"
   ]
  },
  {
   "cell_type": "markdown",
   "metadata": {},
   "source": [
    "Post modernist have skipped levels in their societies developmental model in preference to gun towards ideological superlatives and in effect will never be able to build to to their point. Postmodernist believe the world isnt just a perception buy also its a concept. "
   ]
  },
  {
   "cell_type": "markdown",
   "metadata": {},
   "source": [
    "Growth Hierarchy - Holonarchy. Each level transcends and includes. \n",
    "\n",
    "Entered Postmodernism in the 1960s.\n",
    "\n",
    "Developmental model of cognitive development (any) has dialectical or relativistic or multicultural perspectives that reflect off previous persepectives. \n",
    "real characteristics that are included in almost every dark web intellectual we have.\n",
    "we are allowed to get angry at any of these things.\n",
    "Justfied and Shadow material is always there. \n",
    "\n",
    "\n",
    "Postmodernists have good points that get caught up on relativism which devolves to nihilism to narscissim to all value lost.\n"
   ]
  },
  {
   "cell_type": "markdown",
   "metadata": {},
   "source": [
    "Analytical psychology (sometimes analytic psychology), also called Jungian psychology, is a school of psychotherapy which originated in the ideas of Carl Jung, a Swiss psychiatrist.\n",
    "\n",
    "\n",
    "The Origins and History of Consciousness -> Best book on Jungian Psychology\n",
    "by Erich Neumann, R. F.C. Hull (Translator), C. G. Jung (Foreword by)\n",
    "\n",
    "Genetic epistemology or 'developmental theory of knowledge' is a study of the origins (genesis) of knowledge (epistemology) established by Jean Piaget.\n"
   ]
  },
  {
   "cell_type": "markdown",
   "metadata": {},
   "source": [
    "What are Piaget's four stages of cognitive development?\n",
    "Piaget's Stage Theory of Cognitive Development is a description of cognitive development as four distinct stages in children: sensorimotor, preoperational, concrete, and formal.\n",
    "\n"
   ]
  },
  {
   "cell_type": "markdown",
   "metadata": {},
   "source": [
    "from nothing all people have to develop their cognition.\n",
    "\n",
    "dirt protects the rest of the carrot from getting dirty. of course when we peel a carrot, part of the carrot that is closest to the dirt is lost. Ultimately it is that skin of the carrot that is most util but disposable.\n",
    "\n",
    "\n",
    "Masculin - Witnessing conciousness\n",
    "Female - Witnessed conciousness\n",
    "\n",
    "Janet Chafetz - Start with biological universals and see how gender plays itself out in technoeconomic modes.\n",
    "\n",
    "gearhard minsky - foraginghuntingathering horticultural aggrian industrial information\n",
    "\n",
    "Different roles in different modes ^\n",
    "\n",
    "1/3rd of horticultural societies had femal only dieties. 80% of private/public resources manufactured by women because work had no preference to gender.\n",
    "\n",
    "95% of aggrarian societies had male only dieties. Labor intensive work leads to miscarriges so society shifted to where men were outside (public) and women stayed indoords (private).\n",
    "\n",
    "Industrial Cultures had machines that human bodies used to do which means there no longer was a gendered roles. We see a rise of universal modes of morality. this goes against the traditional roles of aggrarian societies.\n",
    "\n",
    "\n"
   ]
  },
  {
   "cell_type": "markdown",
   "metadata": {},
   "source": [
    "### Explanation of religion -> Spiritual stages of intelligence\n",
    "- Magic - happens early in development. the mental image of something has not been seperated from the actual thing. examples: supersition voodo\n",
    "- Mythic - magic still exists but we dont have it. others have it though. example: Power Gods (thunder, harvest, war), rituals.\n",
    "- Supernatural beings - example: gods and prayer\n",
    "- Rational - Third-person perspective. Must make your world. Example: Rejects everything prior\n",
    "- Science - Third-person approach towards constructing the world enables creation of reality. This can only come about from the prior implicit beliefe systems."
   ]
  },
  {
   "cell_type": "markdown",
   "metadata": {},
   "source": [
    "Valor - spiritual experience vs spiritual intelligence - Whatever is your ultimate important thing is your god. whenver you think about ultimate realities you are engaging with spirtual intelligence.\n",
    "\n"
   ]
  },
  {
   "cell_type": "markdown",
   "metadata": {},
   "source": [
    "Objective rules of governance can not be strictly \n",
    "magic and mythic views of ultimate concern."
   ]
  },
  {
   "cell_type": "markdown",
   "metadata": {},
   "source": [
    "Enlightenment awakening moksha pure freedom satori the great liberation\n",
    "\n"
   ]
  },
  {
   "cell_type": "markdown",
   "metadata": {},
   "source": [
    "In identarianism you are only a mouthpiece of your group. \n",
    "You are just a mouthpiece for your group incapable of self expression. \n",
    "An audience is not the reflection of opinion but a justification of position in the power hierarchy\n",
    "\n",
    "There is an infinit  number of ways to categorize opressor and opressed. \n",
    "Soviets killed 25Million of their own people. Mao killed an Est. 100Million. \n",
    "\n",
    "Communists killed all the socialists then slipped into the religious, the students, and farmers because they werent starving (oppressors).\n",
    "\n",
    "$34K Dollars sets you in the one percent. Everyone in america is the 1%. Anyone living above poverty is an oppressor.\n",
    "\n",
    "Virtue games can only take place with members of the same group. \n",
    "Right leaning folks have defined limits but left leaning ideologues will fight themselves in effort to be most virtuous.\n",
    "left leaning folk also take on the role as a representative for the dispossessed and discriminated from system prejudice. \n",
    "\n",
    "hierarchies are not all predicated on power. \n",
    "competence proves an important factor. \n",
    "the best psychologocial predictor for success in western hierarchies are intelligence and conscientiousness and account for 1/3 of the variation. \n",
    "\n",
    "In the past 20 years the top 5 violent crimes have gone down by 50% but reporting continues to increase\n",
    "\n",
    "The rate of absolute poverty between 2000 and 2012 fell by half. beating optimistic un targets by 3 years\n",
    "\n",
    "African infant mortality rates are lower now than Europe in 1950.\n",
    "\n",
    "Fastest growing economies in the world are in sub-saharan africa.\n",
    "\n"
   ]
  },
  {
   "cell_type": "markdown",
   "metadata": {},
   "source": [
    "pursuing things of value in a social space ( soccer ) will produce hierarchies. \n",
    "\n",
    "In principle we will never form equality of outcome (utopia).\n",
    "\n",
    "We only watch the top .1% of Music, Anchors, Athletes\n",
    "\n",
    "People who push for equality of outcome are selective as they push only for the things that are best for them in all realms.\n",
    "\n",
    "The painfull aspect to this is that there in fact is a best and In any hierarchy, placement in the hierarchy is closely aligned with iq.\n",
    "a 10th of the population have an iq lower than 85 which means they have trouble reading and following directions. \n",
    "Iq is normally distributed \n",
    "\n",
    "The disspossesed are constantly changing and so the dialog is needed constantly."
   ]
  },
  {
   "cell_type": "markdown",
   "metadata": {},
   "source": [
    "When people say its not if you win or loose its how you play they are alluding to developing traits that will allow you to win in the longitudinal game of life moreover the current match.\n",
    "Games are the dramatization of adaption. When someone is a poor sport they are not adapting.\n",
    "manifestation of character that allows you to win accross the set of possible games\n",
    "\n"
   ]
  },
  {
   "cell_type": "markdown",
   "metadata": {},
   "source": [
    "https://en.m.wikipedia.org/wiki/Visual_thinking\n",
    "\n",
    "Visual thinking has been described as seeing words as a series of pictures. (When I visually think I construct imges in my head. I see plumes of hues. Lines representing streams of thought that thread in parallel and partition.nodes of logical connections always with reserve nodes popping up to host arguements that have not been made yet -carlos )\n",
    "\n",
    "It is common in approximately 60–65% of the general population. \n",
    "\n",
    "\"Real picture thinkers\", those who use visual thinking almost to the exclusion of other kinds of thinking, make up a smaller percentage of the population. Research by child development theorist Linda Kreger Silverman suggests that less than 30% of the population strongly uses visual/spatial thinking, another 45% uses both visual/spatial thinking and thinking in the form of words, and 25% thinks exclusively in words. \n",
    "\n",
    "According to Kreger Silverman, of the 30% of the general population who use visual/spatial thinking, only a small percentage would use this style over and above all other forms of thinking, and can be said to be true \"picture thinkers\"."
   ]
  },
  {
   "cell_type": "markdown",
   "metadata": {},
   "source": []
  },
  {
   "cell_type": "markdown",
   "metadata": {},
   "source": []
  },
  {
   "cell_type": "markdown",
   "metadata": {},
   "source": []
  },
  {
   "cell_type": "markdown",
   "metadata": {},
   "source": []
  }
 ],
 "metadata": {
  "kernelspec": {
   "display_name": "Python 3",
   "language": "python",
   "name": "python3"
  }
 },
 "nbformat": 4,
 "nbformat_minor": 2
}
