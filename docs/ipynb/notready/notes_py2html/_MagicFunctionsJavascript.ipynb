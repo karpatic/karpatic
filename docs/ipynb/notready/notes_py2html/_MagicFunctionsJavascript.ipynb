{
 "cells": [
  {
   "cell_type": "markdown",
   "metadata": {},
   "source": [
    "# Javascipt"
   ]
  },
  {
   "cell_type": "markdown",
   "metadata": {},
   "source": [
    "https://jupyter-notebook.readthedocs.io/en/latest/examples/Notebook/JavaScript%20Notebook%20Extensions.html\n",
    "\n",
    "This allows you to quickly inject JavaScript into the notebook. Still the JavaScript injected this way will not survive reloading. Hence, it is a good tool for testing and refining a script."
   ]
  },
  {
   "cell_type": "markdown",
   "metadata": {},
   "source": [
    "You might see here and there people modifying css and injecting js into the notebook by reading file(s) and publishing them into the notebook. Not only does this often break the flow of the notebook and make the re-execution of the notebook broken, but it also means that you need to execute those cells in the entire notebook every time you need to update the code."
   ]
  },
  {
   "cell_type": "markdown",
   "metadata": {},
   "source": [
    "To inject JavaScript we provide an entry point: custom.js that allows the user to execute and load other resources into the notebook. JavaScript code in custom.js will be executed when the notebook app starts and can then be used to customize almost anything in the UI and in the behavior of the notebook."
   ]
  },
  {
   "cell_type": "code",
   "execution_count": null,
   "metadata": {},
   "outputs": [
    {
     "data": {
      "application/javascript": [
       "var allTableCells = document.getElementsByTagName(\"td\");\n",
       "for(var i = 0, max = allTableCells.length; i < max; i++) {\n",
       "    var node = allTableCells[i];\n",
       "\n",
       "    //get the text from the first child node - which should be a text node\n",
       "    var currentText = node.childNodes[0].nodeValue; \n",
       "\n",
       "    //check for 'one' and assign this table cell's background color accordingly \n",
       "    if (currentText.includes(\"$ -\"))\n",
       "        node.style.color = \"red\";\n",
       "}"
      ],
      "text/plain": [
       "<IPython.core.display.Javascript object>"
      ]
     },
     "metadata": {},
     "output_type": "display_data"
    }
   ],
   "source": [
    "%%javascript\n",
    "var allTableCells = document.getElementsByTagName(\"td\");\n",
    "for(var i = 0, max = allTableCells.length; i < max; i++) {\n",
    "    var node = allTableCells[i];\n",
    "\n",
    "    //get the text from the first child node - which should be a text node\n",
    "    var currentText = node.childNodes[0].nodeValue; \n",
    "\n",
    "    //check for 'one' and assign this table cell's background color accordingly \n",
    "    if (currentText.includes(\"$ -\"))\n",
    "        node.style.color = \"red\";\n",
    "}"
   ]
  },
  {
   "cell_type": "code",
   "execution_count": null,
   "metadata": {},
   "outputs": [
    {
     "data": {
      "application/vnd.google.colaboratory.intrinsic": {
       "type": "string"
      },
      "text/plain": [
       "'/root/.jupyter'"
      ]
     },
     "execution_count": null,
     "metadata": {},
     "output_type": "execute_result"
    }
   ],
   "source": [
    "\n",
    "from jupyter_core.paths import jupyter_config_dir\n",
    "jupyter_dir = jupyter_config_dir()\n",
    "jupyter_dir\n",
    "\n"
   ]
  },
  {
   "cell_type": "code",
   "execution_count": null,
   "metadata": {},
   "outputs": [],
   "source": [
    "import os.path\n",
    "custom_js_path = os.path.join(jupyter_dir, 'custom', 'custom.js')"
   ]
  },
  {
   "cell_type": "code",
   "execution_count": null,
   "metadata": {},
   "outputs": [
    {
     "name": "stdout",
     "output_type": "stream",
     "text": [
      "You don't have a custom.js file\n"
     ]
    }
   ],
   "source": [
    "\n",
    "#  my custom js\n",
    "if os.path.isfile(custom_js_path):\n",
    "    with open(custom_js_path) as f:\n",
    "        print(f.read())\n",
    "else:\n",
    "    print(\"You don't have a custom.js file\")\n",
    "\n"
   ]
  },
  {
   "cell_type": "markdown",
   "metadata": {},
   "source": [
    "Note that custom.js is meant to be modified by user. When writing a script, you can define it in a separate file and add a line of configuration into custom.js that will fetch and execute the file."
   ]
  },
  {
   "cell_type": "markdown",
   "metadata": {},
   "source": [
    "Warning : even if modification of custom.js takes effect immediately after browser refresh (except if browser cache is aggressive), creating a file in static/ directory needs a server restart."
   ]
  },
  {
   "cell_type": "markdown",
   "metadata": {},
   "source": []
  },
  {
   "cell_type": "code",
   "execution_count": null,
   "metadata": {},
   "outputs": [
    {
     "data": {
      "application/javascript": [
       "/* \n",
       "<div id=\"output-area\">\n",
       "  <span id=\"output-header\"> </span>\n",
       "  <div id=\"output-body\"></div>\n",
       "  <span id=\"output-footer\"></span>\n",
       "</div>\n",
       "*/\n",
       "var loadJS = function(url, implementationCode, location){\n",
       "    var scriptTag = document.createElement('script');\n",
       "    scriptTag.src = url;\n",
       "    scriptTag.onload = implementationCode;\n",
       "    scriptTag.onreadystatechange = implementationCode;\n",
       "    location.appendChild(scriptTag);\n",
       "};\n",
       "\n",
       "var main = function(){\n",
       "  var newDiv = document.createElement(\"div\"); \n",
       "  var newContent = document.createTextNode(\"Starting Execution\"); \n",
       "  newDiv.appendChild(newContent);\n",
       "  var currentDiv = document.getElementById(\"output-body\"); \n",
       "  currentDiv.appendChild(newDiv); \n",
       "  \n",
       "  var label = $('<label/>').text('AutoScroll Limit:');\n",
       "  var option1 = $('<option/>').attr('value', '2').text('disabled')\n",
       "  var option2 = $('<option/>').attr('value', '2').text('2min (default)' )\n",
       "  var select = $('<select/>').append( option1 ).append( option2 )\n",
       "  // TODO:\n",
       "  $(currentDiv).append( select )\n",
       "  console.log(select)\n",
       "  \n",
       "  select.change(function() { var val = $(this).val(); $(currentDiv).html( val ) } );\n",
       "\n",
       "  var time_m = [1,5,10,15,30];\n",
       "  for (var i=0; i < time_m.length; i++) { var time = time_m[i];\n",
       "    select.append($('<option/>').attr('value', time ).text(time+' min')); }\n",
       "  \n",
       "}\n",
       "\n",
       "var jqueryUrl = \"//ajax.googleapis.com/ajax/libs/jquery/1.6.4/jquery.min.js\"\n",
       "loadJS(jqueryUrl, main, document.body);"
      ],
      "text/plain": [
       "<IPython.core.display.Javascript object>"
      ]
     },
     "metadata": {},
     "output_type": "display_data"
    }
   ],
   "source": [
    "%%javascript\n",
    "/* \n",
    "<div id=\"output-area\">\n",
    "  <span id=\"output-header\"> </span>\n",
    "  <div id=\"output-body\"></div>\n",
    "  <span id=\"output-footer\"></span>\n",
    "</div>\n",
    "*/\n",
    "var loadJS = function(url, implementationCode, location){\n",
    "    var scriptTag = document.createElement('script');\n",
    "    scriptTag.src = url;\n",
    "    scriptTag.onload = implementationCode;\n",
    "    scriptTag.onreadystatechange = implementationCode;\n",
    "    location.appendChild(scriptTag);\n",
    "};\n",
    "\n",
    "var main = function(){\n",
    "  var newDiv = document.createElement(\"div\"); \n",
    "  var newContent = document.createTextNode(\"Starting Execution\"); \n",
    "  newDiv.appendChild(newContent);\n",
    "  var currentDiv = document.getElementById(\"output-body\"); \n",
    "  currentDiv.appendChild(newDiv); \n",
    "  \n",
    "  var label = $('<label/>').text('AutoScroll Limit:');\n",
    "  var option1 = $('<option/>').attr('value', '2').text('disabled')\n",
    "  var option2 = $('<option/>').attr('value', '2').text('2min (default)' )\n",
    "  var select = $('<select/>').append( option1 ).append( option2 )\n",
    "  // TODO:\n",
    "  $(currentDiv).append( select )\n",
    "  console.log(select)\n",
    "  \n",
    "  select.change(function() { var val = $(this).val(); $(currentDiv).html( val ) } );\n",
    "\n",
    "  var time_m = [1,5,10,15,30];\n",
    "  for (var i=0; i < time_m.length; i++) { var time = time_m[i];\n",
    "    select.append($('<option/>').attr('value', time ).text(time+' min')); }\n",
    "  \n",
    "}\n",
    "\n",
    "var jqueryUrl = \"//ajax.googleapis.com/ajax/libs/jquery/1.6.4/jquery.min.js\"\n",
    "loadJS(jqueryUrl, main, document.body);"
   ]
  },
  {
   "cell_type": "code",
   "execution_count": null,
   "metadata": {},
   "outputs": [],
   "source": []
  },
  {
   "cell_type": "code",
   "execution_count": null,
   "metadata": {},
   "outputs": [
    {
     "data": {
      "application/javascript": [
       "console.log(this)"
      ],
      "text/plain": [
       "<IPython.core.display.Javascript object>"
      ]
     },
     "metadata": {},
     "output_type": "display_data"
    }
   ],
   "source": [
    "%%javascript\n",
    "console.log(this)"
   ]
  },
  {
   "cell_type": "code",
   "execution_count": null,
   "metadata": {},
   "outputs": [
    {
     "data": {
      "text/html": [
       "<div id='textid'>100</div>"
      ],
      "text/plain": [
       "<IPython.core.display.HTML object>"
      ]
     },
     "execution_count": null,
     "metadata": {},
     "output_type": "execute_result"
    }
   ],
   "source": [
    "# Python\n",
    "import IPython\n",
    "from IPython.display import HTML\n",
    "\n",
    "pystartlife = str(100)\n",
    "HTML(\"<div id='textid'>\" + pystartlife + \"</div>\")"
   ]
  },
  {
   "cell_type": "code",
   "execution_count": null,
   "metadata": {},
   "outputs": [
    {
     "data": {
      "application/javascript": [
       "\n",
       "// Get the python variable from the DOM\n",
       "var startlife = 100;\n",
       "\n",
       "console.log(startlife)\n",
       "\n",
       "// Define a User class with a method\n",
       "function User() {\n",
       "    this.name = '';\n",
       "    this.life = Number(startlife);\n",
       "    this.giveLife = function giveLife(targetPlayer) {\n",
       "        targetPlayer.life += 1;\n",
       "        this.life -= 1;\n",
       "    }\n",
       "}\n",
       "\n",
       "// Use class\n",
       "var Alfred = new User();\n",
       "var Wallace = new User();\n",
       "\n",
       "// Names were blank so give them name values\n",
       "Alfred.name = 'Alfred';\n",
       "Wallace.name = 'Wallace';\n",
       "\n",
       "// Let's play a game!\n",
       "\n",
       "// Let Alfred give life to Wallace\n",
       "Alfred.giveLife(Wallace);"
      ],
      "text/plain": [
       "<IPython.core.display.Javascript object>"
      ]
     },
     "metadata": {},
     "output_type": "display_data"
    }
   ],
   "source": [
    "%%javascript\n",
    "\n",
    "// Get the python variable from the DOM\n",
    "var startlife = 100;\n",
    "\n",
    "console.log(startlife)\n",
    "\n",
    "// Define a User class with a method\n",
    "function User() {\n",
    "    this.name = '';\n",
    "    this.life = Number(startlife);\n",
    "    this.giveLife = function giveLife(targetPlayer) {\n",
    "        targetPlayer.life += 1;\n",
    "        this.life -= 1;\n",
    "    }\n",
    "}\n",
    "\n",
    "// Use class\n",
    "var Alfred = new User();\n",
    "var Wallace = new User();\n",
    "\n",
    "// Names were blank so give them name values\n",
    "Alfred.name = 'Alfred';\n",
    "Wallace.name = 'Wallace';\n",
    "\n",
    "// Let's play a game!\n",
    "\n",
    "// Let Alfred give life to Wallace\n",
    "Alfred.giveLife(Wallace);"
   ]
  },
  {
   "cell_type": "code",
   "execution_count": null,
   "metadata": {},
   "outputs": [],
   "source": []
  },
  {
   "cell_type": "code",
   "execution_count": null,
   "metadata": {},
   "outputs": [],
   "source": []
  },
  {
   "cell_type": "code",
   "execution_count": null,
   "metadata": {},
   "outputs": [],
   "source": []
  },
  {
   "cell_type": "code",
   "execution_count": null,
   "metadata": {},
   "outputs": [],
   "source": []
  },
  {
   "cell_type": "markdown",
   "metadata": {},
   "source": [
    "https://colab.research.google.com/notebooks/snippets/advanced_outputs.ipynb#scrollTo=bn4q0OAA0ek5\n",
    "\n",
    "https://ipython.readthedocs.io/en/stable/config/custommagics.html#\n",
    "\n",
    "https://switowski.com/python/ipython/2019/02/08/creating-magic-functions-part2.html\n",
    "\n",
    "https://switowski.com/python/ipython/2019/02/01/creating-magic-functions-part1.html"
   ]
  },
  {
   "cell_type": "markdown",
   "metadata": {},
   "source": []
  },
  {
   "cell_type": "markdown",
   "metadata": {},
   "source": [
    "### misc"
   ]
  },
  {
   "cell_type": "code",
   "execution_count": null,
   "metadata": {},
   "outputs": [],
   "source": [
    "from google.colab import files\n",
    "\n",
    "# Upload\n",
    "uploaded = files.upload()\n",
    "for fn in uploaded.keys():\n",
    "  print('User uploaded file \"{name}\" with length {length} bytes'.format(\n",
    "      name=fn, length=len(uploaded[fn])))\n",
    "  \n",
    "# Download\n",
    "with open('example.txt', 'w') as f:\n",
    "  f.write('some content')\n",
    "\n",
    "files.download('example.txt')"
   ]
  },
  {
   "cell_type": "code",
   "execution_count": null,
   "metadata": {},
   "outputs": [
    {
     "name": "stdout",
     "output_type": "stream",
     "text": [
      "/bin/bash: line 0: cd: ../../var/www/html: No such file or directory\n"
     ]
    }
   ],
   "source": [
    "! {'cd ../../var/www/html && ls'}"
   ]
  },
  {
   "cell_type": "markdown",
   "metadata": {},
   "source": [
    "## Serving resources"
   ]
  },
  {
   "cell_type": "code",
   "execution_count": null,
   "metadata": {},
   "outputs": [],
   "source": []
  },
  {
   "cell_type": "code",
   "execution_count": null,
   "metadata": {},
   "outputs": [
    {
     "data": {
      "text/html": [
       "<!doctype html>\n",
       "<html lang=\"en\">\n",
       "<head>\n",
       "  <meta charset=\"utf-8\">\n",
       "  <title>jQuery.getScript demo</title>\n",
       "  <style>\n",
       "  .block {\n",
       "     background-color: blue;\n",
       "     width: 150px;\n",
       "     height: 70px;\n",
       "     margin: 10px;\n",
       "  }\n",
       "  </style>\n",
       "  <script src=\"https://code.jquery.com/jquery-1.10.2.js\"></script>\n",
       "</head>\n",
       "<body>\n",
       " \n",
       "<button id=\"go\">&raquo; Run</button>\n",
       "<div class=\"block\"></div>\n",
       " \n",
       "<script>\n",
       "var url = \"https://code.jquery.com/color/jquery.color.js\";\n",
       "$.getScript( url, function() {\n",
       "  $( \"#go\" ).click(function() {\n",
       "    $( \".block\" )\n",
       "      .animate({ backgroundColor: \"rgb(255, 180, 180)\" }, 1000 )\n",
       "      .delay( 500 )\n",
       "      .animate({ backgroundColor: \"olive\" }, 1000 )\n",
       "      .delay( 500 )\n",
       "      .animate({ backgroundColor: \"#00f\" }, 1000 );\n",
       "  });\n",
       "});\n",
       "</script>\n",
       " \n",
       "</body>\n",
       "</html>"
      ],
      "text/plain": [
       "<IPython.core.display.HTML object>"
      ]
     },
     "metadata": {},
     "output_type": "display_data"
    }
   ],
   "source": [
    "%%html\n",
    "<!doctype html>\n",
    "<html lang=\"en\">\n",
    "<head>\n",
    "  <meta charset=\"utf-8\">\n",
    "  <title>jQuery.getScript demo</title>\n",
    "  <style>\n",
    "  .block {\n",
    "     background-color: blue;\n",
    "     width: 150px;\n",
    "     height: 70px;\n",
    "     margin: 10px;\n",
    "  }\n",
    "  </style>\n",
    "  <script src=\"https://code.jquery.com/jquery-1.10.2.js\"></script>\n",
    "</head>\n",
    "<body>\n",
    " \n",
    "<button id=\"go\">&raquo; Run</button>\n",
    "<div class=\"block\"></div>\n",
    " \n",
    "<script>\n",
    "var url = \"https://code.jquery.com/color/jquery.color.js\";\n",
    "$.getScript( url, function() {\n",
    "  $( \"#go\" ).click(function() {\n",
    "    $( \".block\" )\n",
    "      .animate({ backgroundColor: \"rgb(255, 180, 180)\" }, 1000 )\n",
    "      .delay( 500 )\n",
    "      .animate({ backgroundColor: \"olive\" }, 1000 )\n",
    "      .delay( 500 )\n",
    "      .animate({ backgroundColor: \"#00f\" }, 1000 );\n",
    "  });\n",
    "});\n",
    "</script>\n",
    " \n",
    "</body>\n",
    "</html>"
   ]
  },
  {
   "cell_type": "code",
   "execution_count": null,
   "metadata": {},
   "outputs": [
    {
     "name": "stdout",
     "output_type": "stream",
     "text": [
      "/bin/bash: line 0: cd: ../../var/www/html/: No such file or directory\n"
     ]
    }
   ],
   "source": [
    "!{'cd ../../var/www/html/ && ls'}"
   ]
  },
  {
   "cell_type": "markdown",
   "metadata": {},
   "source": [
    "# Advanced Outputs"
   ]
  },
  {
   "cell_type": "markdown",
   "metadata": {},
   "source": [
    "https://colab.research.google.com/notebooks/snippets/advanced_outputs.ipynb#scrollTo=SucxddsPhOmj"
   ]
  },
  {
   "cell_type": "markdown",
   "metadata": {},
   "source": [
    "## Serving resources"
   ]
  },
  {
   "cell_type": "code",
   "execution_count": null,
   "metadata": {},
   "outputs": [
    {
     "data": {
      "text/html": [
       "<link rel=\"stylesheet\" href=\"/nbextensions/google.colab/tabbar.css\">\n",
       "<div class='goog-tab'>\n",
       "  Some content\n",
       "</div>"
      ],
      "text/plain": [
       "<IPython.core.display.HTML object>"
      ]
     },
     "metadata": {},
     "output_type": "display_data"
    }
   ],
   "source": [
    "%%html\n",
    "<link rel=\"stylesheet\" href=\"/nbextensions/google.colab/tabbar.css\">\n",
    "<div class='goog-tab'>\n",
    "  Some content\n",
    "</div>"
   ]
  },
  {
   "cell_type": "markdown",
   "metadata": {},
   "source": [
    "## Cross-output communication\n",
    "\n",
    "The output of each cell is hosted in a separate sandboxed iframe without direct access to the contents of other cells, but they can create [BroadcastChannel](https://developer.mozilla.org/en-US/docs/Web/API/BroadcastChannel/BroadcastChannel)s to communicate between cells."
   ]
  },
  {
   "cell_type": "code",
   "execution_count": null,
   "metadata": {},
   "outputs": [
    {
     "data": {
      "application/javascript": [
       "const listenerChannel = new BroadcastChannel('channel');\n",
       "listenerChannel.onmessage = (msg) => {\n",
       "  const div = document.createElement('div');\n",
       "  div.textContent = msg.data;\n",
       "  document.body.appendChild(div);\n",
       "};"
      ],
      "text/plain": [
       "<IPython.core.display.Javascript object>"
      ]
     },
     "metadata": {},
     "output_type": "display_data"
    }
   ],
   "source": [
    "%%javascript\n",
    "const listenerChannel = new BroadcastChannel('channel');\n",
    "listenerChannel.onmessage = (msg) => {\n",
    "  const div = document.createElement('div');\n",
    "  div.textContent = msg.data;\n",
    "  document.body.appendChild(div);\n",
    "};"
   ]
  },
  {
   "cell_type": "markdown",
   "metadata": {},
   "source": [
    "This second cell will be in a separate sandboxed iframe.\n"
   ]
  },
  {
   "cell_type": "code",
   "execution_count": null,
   "metadata": {},
   "outputs": [
    {
     "data": {
      "application/javascript": [
       "const senderChannel = new BroadcastChannel('channel');\n",
       "senderChannel.postMessage('Hello world!');"
      ],
      "text/plain": [
       "<IPython.core.display.Javascript object>"
      ]
     },
     "metadata": {},
     "output_type": "display_data"
    }
   ],
   "source": [
    "%%javascript\n",
    "const senderChannel = new BroadcastChannel('channel');\n",
    "senderChannel.postMessage('Hello world!');"
   ]
  },
  {
   "cell_type": "markdown",
   "metadata": {},
   "source": [
    "## Camera Capture"
   ]
  },
  {
   "cell_type": "code",
   "execution_count": null,
   "metadata": {},
   "outputs": [],
   "source": [
    "from IPython.display import display, Javascript\n",
    "from google.colab.output import eval_js\n",
    "from base64 import b64decode\n",
    "\n",
    "def take_photo(filename='photo.jpg', quality=0.8):\n",
    "  js = Javascript('''\n",
    "    async function takePhoto(quality) {\n",
    "      const div = document.createElement('div');\n",
    "      const capture = document.createElement('button');\n",
    "      capture.textContent = 'Capture';\n",
    "      div.appendChild(capture);\n",
    "\n",
    "      const video = document.createElement('video');\n",
    "      video.style.display = 'block';\n",
    "      const stream = await navigator.mediaDevices.getUserMedia({video: true});\n",
    "\n",
    "      document.body.appendChild(div);\n",
    "      div.appendChild(video);\n",
    "      video.srcObject = stream;\n",
    "      await video.play();\n",
    "\n",
    "      // Resize the output to fit the video element.\n",
    "      google.colab.output.setIframeHeight(document.documentElement.scrollHeight, true);\n",
    "\n",
    "      // Wait for Capture to be clicked.\n",
    "      await new Promise((resolve) => capture.onclick = resolve);\n",
    "\n",
    "      const canvas = document.createElement('canvas');\n",
    "      canvas.width = video.videoWidth;\n",
    "      canvas.height = video.videoHeight;\n",
    "      canvas.getContext('2d').drawImage(video, 0, 0);\n",
    "      stream.getVideoTracks()[0].stop();\n",
    "      div.remove();\n",
    "      return canvas.toDataURL('image/jpeg', quality);\n",
    "    }\n",
    "    ''')\n",
    "  display(js)\n",
    "  data = eval_js('takePhoto({})'.format(quality))\n",
    "  binary = b64decode(data.split(',')[1])\n",
    "  with open(filename, 'wb') as f:\n",
    "    f.write(binary)\n",
    "  return filename"
   ]
  },
  {
   "cell_type": "code",
   "execution_count": null,
   "metadata": {},
   "outputs": [
    {
     "data": {
      "application/javascript": [
       "\n",
       "    async function takePhoto(quality) {\n",
       "      const div = document.createElement('div');\n",
       "      const capture = document.createElement('button');\n",
       "      capture.textContent = 'Capture';\n",
       "      div.appendChild(capture);\n",
       "\n",
       "      const video = document.createElement('video');\n",
       "      video.style.display = 'block';\n",
       "      const stream = await navigator.mediaDevices.getUserMedia({video: true});\n",
       "\n",
       "      document.body.appendChild(div);\n",
       "      div.appendChild(video);\n",
       "      video.srcObject = stream;\n",
       "      await video.play();\n",
       "\n",
       "      // Resize the output to fit the video element.\n",
       "      google.colab.output.setIframeHeight(document.documentElement.scrollHeight, true);\n",
       "\n",
       "      // Wait for Capture to be clicked.\n",
       "      await new Promise((resolve) => capture.onclick = resolve);\n",
       "\n",
       "      const canvas = document.createElement('canvas');\n",
       "      canvas.width = video.videoWidth;\n",
       "      canvas.height = video.videoHeight;\n",
       "      canvas.getContext('2d').drawImage(video, 0, 0);\n",
       "      stream.getVideoTracks()[0].stop();\n",
       "      div.remove();\n",
       "      return canvas.toDataURL('image/jpeg', quality);\n",
       "    }\n",
       "    "
      ],
      "text/plain": [
       "<IPython.core.display.Javascript object>"
      ]
     },
     "metadata": {},
     "output_type": "display_data"
    },
    {
     "name": "stdout",
     "output_type": "stream",
     "text": [
      "Saved to photo.jpg\n"
     ]
    },
    {
     "data": {
      "image/jpeg": "[encoded data removed]",
      "text/plain": [
       "<IPython.core.display.Image object>"
      ]
     },
     "metadata": {},
     "output_type": "display_data"
    }
   ],
   "source": [
    "from IPython.display import Image\n",
    "filename = take_photo()\n",
    "print('Saved to {}'.format(filename))\n",
    "\n",
    "# Show the image which was just taken.\n",
    "display(Image(filename))"
   ]
  },
  {
   "cell_type": "code",
   "execution_count": null,
   "metadata": {},
   "outputs": [],
   "source": []
  },
  {
   "cell_type": "markdown",
   "metadata": {},
   "source": [
    "# Javascipt"
   ]
  },
  {
   "cell_type": "markdown",
   "metadata": {},
   "source": [
    "https://jupyter-notebook.readthedocs.io/en/latest/examples/Notebook/JavaScript%20Notebook%20Extensions.html\n",
    "\n",
    "This allows you to quickly inject JavaScript into the notebook. Still the JavaScript injected this way will not survive reloading. Hence, it is a good tool for testing and refining a script."
   ]
  },
  {
   "cell_type": "markdown",
   "metadata": {},
   "source": [
    "You might see here and there people modifying css and injecting js into the notebook by reading file(s) and publishing them into the notebook. Not only does this often break the flow of the notebook and make the re-execution of the notebook broken, but it also means that you need to execute those cells in the entire notebook every time you need to update the code."
   ]
  },
  {
   "cell_type": "markdown",
   "metadata": {},
   "source": [
    "To inject JavaScript we provide an entry point: custom.js that allows the user to execute and load other resources into the notebook. JavaScript code in custom.js will be executed when the notebook app starts and can then be used to customize almost anything in the UI and in the behavior of the notebook."
   ]
  },
  {
   "cell_type": "code",
   "execution_count": null,
   "metadata": {},
   "outputs": [
    {
     "data": {
      "application/javascript": [
       "var allTableCells = document.getElementsByTagName(\"td\");\n",
       "for(var i = 0, max = allTableCells.length; i < max; i++) {\n",
       "    var node = allTableCells[i];\n",
       "\n",
       "    //get the text from the first child node - which should be a text node\n",
       "    var currentText = node.childNodes[0].nodeValue; \n",
       "\n",
       "    //check for 'one' and assign this table cell's background color accordingly \n",
       "    if (currentText.includes(\"$ -\"))\n",
       "        node.style.color = \"red\";\n",
       "}"
      ],
      "text/plain": [
       "<IPython.core.display.Javascript object>"
      ]
     },
     "metadata": {},
     "output_type": "display_data"
    }
   ],
   "source": [
    "%%javascript\n",
    "var allTableCells = document.getElementsByTagName(\"td\");\n",
    "for(var i = 0, max = allTableCells.length; i < max; i++) {\n",
    "    var node = allTableCells[i];\n",
    "\n",
    "    //get the text from the first child node - which should be a text node\n",
    "    var currentText = node.childNodes[0].nodeValue; \n",
    "\n",
    "    //check for 'one' and assign this table cell's background color accordingly \n",
    "    if (currentText.includes(\"$ -\"))\n",
    "        node.style.color = \"red\";\n",
    "}"
   ]
  },
  {
   "cell_type": "code",
   "execution_count": null,
   "metadata": {},
   "outputs": [
    {
     "data": {
      "text/plain": [
       "'/root/.jupyter'"
      ]
     },
     "execution_count": null,
     "metadata": {},
     "output_type": "execute_result"
    }
   ],
   "source": [
    "from jupyter_core.paths import jupyter_config_dir\n",
    "jupyter_dir = jupyter_config_dir()\n",
    "jupyter_dir\n",
    "\n"
   ]
  },
  {
   "cell_type": "code",
   "execution_count": null,
   "metadata": {},
   "outputs": [],
   "source": [
    "import os.path\n",
    "custom_js_path = os.path.join(jupyter_dir, 'custom', 'custom.js')"
   ]
  },
  {
   "cell_type": "code",
   "execution_count": null,
   "metadata": {},
   "outputs": [
    {
     "name": "stdout",
     "output_type": "stream",
     "text": [
      "You don't have a custom.js file\n"
     ]
    }
   ],
   "source": [
    "\n",
    "#  my custom js\n",
    "if os.path.isfile(custom_js_path):\n",
    "    with open(custom_js_path) as f:\n",
    "        print(f.read())\n",
    "else:\n",
    "    print(\"You don't have a custom.js file\")\n",
    "\n"
   ]
  },
  {
   "cell_type": "markdown",
   "metadata": {},
   "source": [
    "Note that custom.js is meant to be modified by user. When writing a script, you can define it in a separate file and add a line of configuration into custom.js that will fetch and execute the file."
   ]
  },
  {
   "cell_type": "markdown",
   "metadata": {},
   "source": [
    "Warning : even if modification of custom.js takes effect immediately after browser refresh (except if browser cache is aggressive), creating a file in static/ directory needs a server restart."
   ]
  },
  {
   "cell_type": "markdown",
   "metadata": {},
   "source": []
  },
  {
   "cell_type": "code",
   "execution_count": null,
   "metadata": {},
   "outputs": [
    {
     "data": {
      "application/javascript": [
       "/* \n",
       "<div id=\"output-area\">\n",
       "  <span id=\"output-header\"> </span>\n",
       "  <div id=\"output-body\"></div>\n",
       "  <span id=\"output-footer\"></span>\n",
       "</div>\n",
       "*/\n",
       "var loadJS = function(url, implementationCode, location){\n",
       "    var scriptTag = document.createElement('script');\n",
       "    scriptTag.src = url;\n",
       "    scriptTag.onload = implementationCode;\n",
       "    scriptTag.onreadystatechange = implementationCode;\n",
       "    location.appendChild(scriptTag);\n",
       "};\n",
       "\n",
       "var main = function(){\n",
       "  var newDiv = document.createElement(\"div\"); \n",
       "  var newContent = document.createTextNode(\"Starting Execution\"); \n",
       "  newDiv.appendChild(newContent);\n",
       "  var currentDiv = document.getElementById(\"output-body\"); \n",
       "  currentDiv.appendChild(newDiv); \n",
       "  \n",
       "  var label = $('<label/>').text('AutoScroll Limit:');\n",
       "  var option1 = $('<option/>').attr('value', '2').text('disabled')\n",
       "  var option2 = $('<option/>').attr('value', '2').text('2min (default)' )\n",
       "  var select = $('<select/>').append( option1 ).append( option2 )\n",
       "  // TODO:\n",
       "  $(currentDiv).append( select )\n",
       "  console.log(select)\n",
       "  \n",
       "  select.change(function() { var val = $(this).val(); $(currentDiv).html( val ) } );\n",
       "\n",
       "  var time_m = [1,5,10,15,30];\n",
       "  for (var i=0; i < time_m.length; i++) { var time = time_m[i];\n",
       "    select.append($('<option/>').attr('value', time ).text(time+' min')); }\n",
       "  \n",
       "}\n",
       "\n",
       "var jqueryUrl = \"//ajax.googleapis.com/ajax/libs/jquery/1.6.4/jquery.min.js\"\n",
       "loadJS(jqueryUrl, main, document.body);"
      ],
      "text/plain": [
       "<IPython.core.display.Javascript object>"
      ]
     },
     "metadata": {},
     "output_type": "display_data"
    }
   ],
   "source": [
    "%%javascript\n",
    "/* \n",
    "<div id=\"output-area\">\n",
    "  <span id=\"output-header\"> </span>\n",
    "  <div id=\"output-body\"></div>\n",
    "  <span id=\"output-footer\"></span>\n",
    "</div>\n",
    "*/\n",
    "var loadJS = function(url, implementationCode, location){\n",
    "    var scriptTag = document.createElement('script');\n",
    "    scriptTag.src = url;\n",
    "    scriptTag.onload = implementationCode;\n",
    "    scriptTag.onreadystatechange = implementationCode;\n",
    "    location.appendChild(scriptTag);\n",
    "};\n",
    "\n",
    "var main = function(){\n",
    "  var newDiv = document.createElement(\"div\"); \n",
    "  var newContent = document.createTextNode(\"Starting Execution\"); \n",
    "  newDiv.appendChild(newContent);\n",
    "  var currentDiv = document.getElementById(\"output-body\"); \n",
    "  currentDiv.appendChild(newDiv); \n",
    "  \n",
    "  var label = $('<label/>').text('AutoScroll Limit:');\n",
    "  var option1 = $('<option/>').attr('value', '2').text('disabled')\n",
    "  var option2 = $('<option/>').attr('value', '2').text('2min (default)' )\n",
    "  var select = $('<select/>').append( option1 ).append( option2 )\n",
    "  // TODO:\n",
    "  $(currentDiv).append( select )\n",
    "  console.log(select)\n",
    "  \n",
    "  select.change(function() { var val = $(this).val(); $(currentDiv).html( val ) } );\n",
    "\n",
    "  var time_m = [1,5,10,15,30];\n",
    "  for (var i=0; i < time_m.length; i++) { var time = time_m[i];\n",
    "    select.append($('<option/>').attr('value', time ).text(time+' min')); }\n",
    "  \n",
    "}\n",
    "\n",
    "var jqueryUrl = \"//ajax.googleapis.com/ajax/libs/jquery/1.6.4/jquery.min.js\"\n",
    "loadJS(jqueryUrl, main, document.body);"
   ]
  },
  {
   "cell_type": "code",
   "execution_count": null,
   "metadata": {},
   "outputs": [],
   "source": []
  },
  {
   "cell_type": "code",
   "execution_count": null,
   "metadata": {},
   "outputs": [
    {
     "ename": "NameError",
     "evalue": "ignored",
     "output_type": "error",
     "traceback": [
      "\u001b[0;31m---------------------------------------------------------------------------\u001b[0m",
      "\u001b[0;31mNameError\u001b[0m                                 Traceback (most recent call last)",
      "\u001b[0;32m<ipython-input-143-35d0cad10869>\u001b[0m in \u001b[0;36m<module>\u001b[0;34m()\u001b[0m\n\u001b[1;32m      1\u001b[0m \u001b[0mget_ipython\u001b[0m\u001b[0;34m(\u001b[0m\u001b[0;34m)\u001b[0m\u001b[0;34m.\u001b[0m\u001b[0mmagic\u001b[0m\u001b[0;34m(\u001b[0m\u001b[0;34m'pinfo %%javascript'\u001b[0m\u001b[0;34m)\u001b[0m\u001b[0;34m\u001b[0m\u001b[0;34m\u001b[0m\u001b[0m\n\u001b[0;32m----> 2\u001b[0;31m \u001b[0mconsole\u001b[0m\u001b[0;34m.\u001b[0m\u001b[0mlog\u001b[0m\u001b[0;34m(\u001b[0m\u001b[0mthis\u001b[0m\u001b[0;34m)\u001b[0m\u001b[0;34m\u001b[0m\u001b[0;34m\u001b[0m\u001b[0m\n\u001b[0m",
      "\u001b[0;31mNameError\u001b[0m: name 'console' is not defined"
     ]
    }
   ],
   "source": [
    "%%javascript?\n",
    "console.log(this)"
   ]
  },
  {
   "cell_type": "code",
   "execution_count": null,
   "metadata": {},
   "outputs": [
    {
     "data": {
      "text/html": [
       "<div id='textid'>100</div>"
      ],
      "text/plain": [
       "<IPython.core.display.HTML object>"
      ]
     },
     "execution_count": null,
     "metadata": {},
     "output_type": "execute_result"
    }
   ],
   "source": [
    "# Python\n",
    "from IPython.display import HTML\n",
    "\n",
    "pystartlife = str(100)\n",
    "HTML(\"<div id='textid'>\" + pystartlife + \"</div>\")"
   ]
  },
  {
   "cell_type": "code",
   "execution_count": null,
   "metadata": {},
   "outputs": [
    {
     "data": {
      "application/javascript": [
       "\n",
       "// Get the python variable from the DOM\n",
       "var startlife = 100;\n",
       "\n",
       "console.log(startlife)\n",
       "\n",
       "// Define a User class with a method\n",
       "function User() {\n",
       "    this.name = '';\n",
       "    this.life = Number(startlife);\n",
       "    this.giveLife = function giveLife(targetPlayer) {\n",
       "        targetPlayer.life += 1;\n",
       "        this.life -= 1;\n",
       "    }\n",
       "}\n",
       "\n",
       "// Use class\n",
       "var Alfred = new User();\n",
       "var Wallace = new User();\n",
       "\n",
       "// Names were blank so give them name values\n",
       "Alfred.name = 'Alfred';\n",
       "Wallace.name = 'Wallace';\n",
       "\n",
       "// Let's play a game!\n",
       "\n",
       "// Let Alfred give life to Wallace\n",
       "Alfred.giveLife(Wallace);\n",
       "\n",
       "// Save these variables back to python variables to work with later\n",
       "IPython.notebook.kernel.execute('Alfred_life=\"' + Alfred.life + '\";');\n",
       "IPython.notebook.kernel.execute('Wallace_life=\"' + Wallace.life + '\";');"
      ],
      "text/plain": [
       "<IPython.core.display.Javascript object>"
      ]
     },
     "metadata": {},
     "output_type": "display_data"
    }
   ],
   "source": [
    "%%javascript\n",
    "\n",
    "// Get the python variable from the DOM\n",
    "var startlife = 100;\n",
    "\n",
    "console.log(startlife)\n",
    "\n",
    "// Define a User class with a method\n",
    "function User() {\n",
    "    this.name = '';\n",
    "    this.life = Number(startlife);\n",
    "    this.giveLife = function giveLife(targetPlayer) {\n",
    "        targetPlayer.life += 1;\n",
    "        this.life -= 1;\n",
    "    }\n",
    "}\n",
    "\n",
    "// Use class\n",
    "var Alfred = new User();\n",
    "var Wallace = new User();\n",
    "\n",
    "// Names were blank so give them name values\n",
    "Alfred.name = 'Alfred';\n",
    "Wallace.name = 'Wallace';\n",
    "\n",
    "// Let's play a game!\n",
    "\n",
    "// Let Alfred give life to Wallace\n",
    "Alfred.giveLife(Wallace);\n",
    "\n",
    "// Save these variables back to python variables to work with later\n",
    "IPython.notebook.kernel.execute('Alfred_life=\"' + Alfred.life + '\";');\n",
    "IPython.notebook.kernel.execute('Wallace_life=\"' + Wallace.life + '\";');"
   ]
  },
  {
   "cell_type": "markdown",
   "metadata": {},
   "source": [
    "# Import external JS scripts in Google Colab html "
   ]
  },
  {
   "cell_type": "code",
   "execution_count": null,
   "metadata": {},
   "outputs": [],
   "source": [
    "from IPython.display import HTML, SVG\n",
    "from IPython.core.magic import register_cell_magic"
   ]
  },
  {
   "cell_type": "code",
   "execution_count": null,
   "metadata": {},
   "outputs": [
    {
     "name": "stdout",
     "output_type": "stream",
     "text": [
      "Go to this URL in a browser: https://accounts.google.com/o/oauth2/auth?client_id=947318989803-6bn6qk8qdgf4n4g3pfee6491hc0brc4i.apps.googleusercontent.com&redirect_uri=urn%3aietf%3awg%3aoauth%3a2.0%3aoob&response_type=code&scope=email%20https%3a%2f%2fwww.googleapis.com%2fauth%2fdocs.test%20https%3a%2f%2fwww.googleapis.com%2fauth%2fdrive%20https%3a%2f%2fwww.googleapis.com%2fauth%2fdrive.photos.readonly%20https%3a%2f%2fwww.googleapis.com%2fauth%2fpeopleapi.readonly\n",
      "\n",
      "Enter your authorization code:\n",
      "··········\n",
      "Mounted at /content/drive\n"
     ]
    }
   ],
   "source": [
    "from google.colab import drive\n",
    "drive.mount('/content/drive')"
   ]
  },
  {
   "cell_type": "code",
   "execution_count": null,
   "metadata": {},
   "outputs": [],
   "source": [
    "@register_cell_magic\n",
    "def dojs(line, src):\n",
    "  return HTML(f\"\"\"\n",
    "  <p> hello </p>\n",
    "  <script src=\"content/drive/My Drive/Colab Notebooks/files/testJavascript.js\"></script>\n",
    "  <script>\n",
    "  {src} \n",
    "  </script>\n",
    "  \"\"\")"
   ]
  },
  {
   "cell_type": "code",
   "execution_count": null,
   "metadata": {},
   "outputs": [
    {
     "data": {
      "text/html": [
       "\n",
       "  <p> hello </p>\n",
       "  <script src=\"content/drive/My Drive/Colab Notebooks/files/testJavascript.js\"></script>\n",
       "  <script>\n",
       "  //...trying to use functions from testJavascript.js \n",
       "  </script>\n",
       "  "
      ],
      "text/plain": [
       "<IPython.core.display.HTML object>"
      ]
     },
     "execution_count": null,
     "metadata": {},
     "output_type": "execute_result"
    }
   ],
   "source": [
    "%%dojs\n",
    "//...trying to use functions from testJavascript.js"
   ]
  },
  {
   "cell_type": "code",
   "execution_count": null,
   "metadata": {},
   "outputs": [],
   "source": [
    "@register_cell_magic\n",
    "def cmagic(line, cell):\n",
    "    \"my cell magic\"\n",
    "    return line, cell"
   ]
  },
  {
   "cell_type": "code",
   "execution_count": null,
   "metadata": {},
   "outputs": [
    {
     "data": {
      "text/html": [
       "\n",
       "  <p> hello </p>\n",
       "  <script src=\"content/drive/My Drive/Colab Notebooks/files/testJavascript.js\"></script>\n",
       "  <script>\n",
       "  here is the content \n",
       "  </script>\n",
       "  "
      ],
      "text/plain": [
       "<IPython.core.display.HTML object>"
      ]
     },
     "execution_count": null,
     "metadata": {},
     "output_type": "execute_result"
    }
   ],
   "source": [
    "%%dojs\n",
    "here is the content"
   ]
  },
  {
   "cell_type": "code",
   "execution_count": null,
   "metadata": {},
   "outputs": [],
   "source": []
  }
 ],
 "metadata": {
  "kernelspec": {
   "display_name": "Python 3",
   "name": "python3"
  }
 },
 "nbformat": 4,
 "nbformat_minor": 0
}
