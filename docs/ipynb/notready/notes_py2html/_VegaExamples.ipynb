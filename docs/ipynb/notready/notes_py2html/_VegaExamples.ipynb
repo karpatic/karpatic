{
 "cells": [
  {
   "cell_type": "markdown",
   "metadata": {},
   "source": [
    "https://vega.github.io/vega-lite/docs/data.html#datasets\n",
    "\n",
    "Inline Data can be specified using values property. Here is a list of all properties of an inline data source:\n",
    "\n",
    "\n",
    "Take the compressed data and expand it\n",
    "- https://stackoverflow.com/questions/49310078/how-to-work-with-primitive-values-in-inline-data\n",
    "- https://observablehq.com/@jjimenez/using-different-data-formats-with-vega-lite\n",
    "\n"
   ]
  },
  {
   "cell_type": "code",
   "execution_count": null,
   "metadata": {},
   "outputs": [
    {
     "data": {
      "text/html": [
       "<script src=\"https://cdn.jsdelivr.net/npm/vega@5.3.5\"></script>\n",
       "<script src=\"https://cdn.jsdelivr.net/npm/vega-lite@3.2.1\"></script>\n",
       "<script src=\"https://cdn.jsdelivr.net/npm/vega-embed@4.0.0\"></script>\n",
       "<div id=\"vis\"></div>\n",
       "<script>\n",
       "var yourVlSpec = {\n",
       "  $schema: 'https://vega.github.io/schema/vega-lite/v2.0.json',\n",
       "  title: {\n",
       "    text: 'A simple bar chart with embedded data.',\n",
       "    angle: 50\n",
       "  },\n",
       "  \"data\": {\"url\": \"https://raw.githubusercontent.com/datasets/london-transport/master/data/data/public-transport-journeys.csv\"},\n",
       "  \"mark\": \"bar\",\n",
       "  \"encoding\": {\n",
       "    \"x\": {\"field\": \"Reporting Period\", \"type\": \"quantitative\" },\n",
       "    \"y\": {\"field\": \"Days in period\", \"type\":  \"quantitative\", \"title\": \"BOOHOO\" }\n",
       "  }\n",
       "};  \n",
       "// More argument info at https://github.com/vega/vega-embed\n",
       "vegaEmbed('#vis', yourVlSpec);\n",
       "// Ipython dipslay javascript insert into localhost the model spec\n",
       "</script>"
      ],
      "text/plain": [
       "<IPython.core.display.HTML object>"
      ]
     },
     "metadata": {},
     "output_type": "display_data"
    }
   ],
   "source": [
    "%%html\n",
    "<script src=\"https://cdn.jsdelivr.net/npm/vega@5.3.5\"></script>\n",
    "<script src=\"https://cdn.jsdelivr.net/npm/vega-lite@3.2.1\"></script>\n",
    "<script src=\"https://cdn.jsdelivr.net/npm/vega-embed@4.0.0\"></script>\n",
    "<div id=\"vis\"></div>\n",
    "<script>\n",
    "var yourVlSpec = {\n",
    "  $schema: 'https://vega.github.io/schema/vega-lite/v2.0.json',\n",
    "  title: {\n",
    "    text: 'A simple bar chart with embedded data.',\n",
    "    angle: 50\n",
    "  },\n",
    "  \"data\": {\"url\": \"https://raw.githubusercontent.com/datasets/london-transport/master/data/data/public-transport-journeys.csv\"},\n",
    "  \"mark\": \"bar\",\n",
    "  \"encoding\": {\n",
    "    \"x\": {\"field\": \"Reporting Period\", \"type\": \"quantitative\" },\n",
    "    \"y\": {\"field\": \"Days in period\", \"type\":  \"quantitative\", \"title\": \"BOOHOO\" }\n",
    "  }\n",
    "};  \n",
    "// More argument info at https://github.com/vega/vega-embed\n",
    "vegaEmbed('#vis', yourVlSpec);\n",
    "// Ipython dipslay javascript insert into localhost the model spec\n",
    "</script>\n"
   ]
  },
  {
   "cell_type": "code",
   "execution_count": null,
   "metadata": {},
   "outputs": [
    {
     "data": {
      "text/html": [
       "<script src=\"https://cdn.jsdelivr.net/npm/vega@5.3.5\"></script>\n",
       "<script src=\"https://cdn.jsdelivr.net/npm/vega-lite@3.2.1\"></script>\n",
       "<script src=\"https://cdn.jsdelivr.net/npm/vega-embed@4.0.0\"></script>\n",
       "<div id=\"vis\"></div>\n",
       "<script>\n",
       "var yourVlSpec = {\n",
       "  $schema: 'https://vega.github.io/schema/vega-lite/v2.0.json',\n",
       "  description: 'A simple bar chart with embedded data.',\n",
       "  data: {\n",
       "    values: [ {a: 'A', b: 28}, {a: 'B', b: 55}, {a: 'C', b: 43}, {a: 'D', b: 91}, {a: 'E', b: 81}, {a: 'F', b: 53}, {a: 'G', b: 19}, {a: 'H', b: 87}, {a: 'I', b: 52} ]\n",
       "  },\n",
       "  mark: 'bar',\n",
       "  encoding: {\n",
       "    x: {field: 'a', type: 'ordinal'},\n",
       "    y: {field: 'b', type: 'quantitative'}\n",
       "  }\n",
       "};  \n",
       "// More argument info at https://github.com/vega/vega-embed\n",
       "vegaEmbed('#vis', yourVlSpec);\n",
       "// Ipython dipslay javascript insert into localhost the model spec\n",
       "</script>"
      ],
      "text/plain": [
       "<IPython.core.display.HTML object>"
      ]
     },
     "metadata": {},
     "output_type": "display_data"
    }
   ],
   "source": [
    "%%html\n",
    "<script src=\"https://cdn.jsdelivr.net/npm/vega@5.3.5\"></script>\n",
    "<script src=\"https://cdn.jsdelivr.net/npm/vega-lite@3.2.1\"></script>\n",
    "<script src=\"https://cdn.jsdelivr.net/npm/vega-embed@4.0.0\"></script>\n",
    "<div id=\"vis\"></div>\n",
    "<script>\n",
    "var yourVlSpec = {\n",
    "  $schema: 'https://vega.github.io/schema/vega-lite/v2.0.json',\n",
    "  description: 'A simple bar chart with embedded data.',\n",
    "  data: {\n",
    "    values: [ {a: 'A', b: 28}, {a: 'B', b: 55}, {a: 'C', b: 43}, {a: 'D', b: 91}, {a: 'E', b: 81}, {a: 'F', b: 53}, {a: 'G', b: 19}, {a: 'H', b: 87}, {a: 'I', b: 52} ]\n",
    "  },\n",
    "  mark: 'bar',\n",
    "  encoding: {\n",
    "    x: {field: 'a', type: 'ordinal'},\n",
    "    y: {field: 'b', type: 'quantitative'}\n",
    "  }\n",
    "};  \n",
    "// More argument info at https://github.com/vega/vega-embed\n",
    "vegaEmbed('#vis', yourVlSpec);\n",
    "// Ipython dipslay javascript insert into localhost the model spec\n",
    "</script>\n"
   ]
  },
  {
   "cell_type": "code",
   "execution_count": null,
   "metadata": {},
   "outputs": [
    {
     "data": {
      "text/html": [
       "<script src=\"https://cdn.jsdelivr.net/npm/vega@5.3.5\"></script>\n",
       "<script src=\"https://cdn.jsdelivr.net/npm/vega-lite@3.2.1\"></script>\n",
       "<script src=\"https://cdn.jsdelivr.net/npm/vega-embed@4.0.0\"></script>\n",
       "<div id=\"vis\"></div>\n",
       "<script>\n",
       "var yourVlSpec = {\n",
       "  $schema: 'https://vega.github.io/schema/vega-lite/v2.0.json',\n",
       "  description: 'A simple bar chart with embedded data.',\n",
       "  data: {\n",
       "    values: [ {a: 'A', b: 28}, {a: 'B', b: 55}, {a: 'C', b: 43}, {a: 'D', b: 91}, {a: 'E', b: 81}, {a: 'F', b: 53}, {a: 'G', b: 19}, {a: 'H', b: 87}, {a: 'I', b: 52} ]\n",
       "  },\n",
       "  mark: 'bar',\n",
       "  encoding: {\n",
       "    x: {field: 'a', type: 'nominal'},\n",
       "    y: {field: 'b', type: 'quantitative'}\n",
       "  }\n",
       "}; \n",
       "  \n",
       "var yourVlSpec = {\n",
       "  \"data\": {\n",
       "    \"values\": [ {a: 'A', b: 28}, {a: 'B', b: 55}, {a: 'C', b: 43}, {a: 'D', b: 91}, {a: 'E', b: 81}, {a: 'F', b: 53}, {a: 'G', b: 19}, {a: 'H', b: 87}, {a: 'I', b: 52} ]\n",
       "  },\n",
       "  \"repeat\": {\n",
       "    \"row\": [\"a\", \"b\"],\n",
       "    \"column\": [\"b\", \"a\"]\n",
       "  },\n",
       "  \"spec\": {\n",
       "    \"selection\": {\n",
       "      \"brush\": {\"type\": \"interval\", \"resolve\": \"global\"}\n",
       "    },\n",
       "    \"mark\": \"point\",\n",
       "    \"encoding\": {\n",
       "      \"x\": {\"field\": {\"repeat\": \"column\"}, \"type\": \"quantitative\"},\n",
       "      \"y\": {\"field\": {\"repeat\": \"row\"}, \"type\": \"quantitative\"},\n",
       "      \"color\": {\n",
       "        \"condition\": {\n",
       "          \"selection\": \"brush\",\n",
       "          \"field\": \"a\", \"type\": \"nominal\"\n",
       "        },\n",
       "        \"value\": \"grey\"\n",
       "      }\n",
       "    }\n",
       "  }\n",
       "}\n",
       "// More argument info at https://github.com/vega/vega-embed\n",
       "vegaEmbed('#vis', yourVlSpec);\n",
       "// Ipython dipslay javascript insert into localhost the model spec\n",
       "</script>"
      ],
      "text/plain": [
       "<IPython.core.display.HTML object>"
      ]
     },
     "metadata": {},
     "output_type": "display_data"
    }
   ],
   "source": [
    "%%html\n",
    "<script src=\"https://cdn.jsdelivr.net/npm/vega@5.3.5\"></script>\n",
    "<script src=\"https://cdn.jsdelivr.net/npm/vega-lite@3.2.1\"></script>\n",
    "<script src=\"https://cdn.jsdelivr.net/npm/vega-embed@4.0.0\"></script>\n",
    "<div id=\"vis\"></div>\n",
    "<script>\n",
    "var yourVlSpec = {\n",
    "  $schema: 'https://vega.github.io/schema/vega-lite/v2.0.json',\n",
    "  description: 'A simple bar chart with embedded data.',\n",
    "  data: {\n",
    "    values: [ {a: 'A', b: 28}, {a: 'B', b: 55}, {a: 'C', b: 43}, {a: 'D', b: 91}, {a: 'E', b: 81}, {a: 'F', b: 53}, {a: 'G', b: 19}, {a: 'H', b: 87}, {a: 'I', b: 52} ]\n",
    "  },\n",
    "  mark: 'bar',\n",
    "  encoding: {\n",
    "    x: {field: 'a', type: 'nominal'},\n",
    "    y: {field: 'b', type: 'quantitative'}\n",
    "  }\n",
    "}; \n",
    "  \n",
    "var yourVlSpec = {\n",
    "  \"data\": {\n",
    "    \"values\": [ {a: 'A', b: 28}, {a: 'B', b: 55}, {a: 'C', b: 43}, {a: 'D', b: 91}, {a: 'E', b: 81}, {a: 'F', b: 53}, {a: 'G', b: 19}, {a: 'H', b: 87}, {a: 'I', b: 52} ]\n",
    "  },\n",
    "  \"repeat\": {\n",
    "    \"row\": [\"a\", \"b\"],\n",
    "    \"column\": [\"b\", \"a\"]\n",
    "  },\n",
    "  \"spec\": {\n",
    "    \"selection\": {\n",
    "      \"brush\": {\"type\": \"interval\", \"resolve\": \"global\"}\n",
    "    },\n",
    "    \"mark\": \"point\",\n",
    "    \"encoding\": {\n",
    "      \"x\": {\"field\": {\"repeat\": \"column\"}, \"type\": \"quantitative\"},\n",
    "      \"y\": {\"field\": {\"repeat\": \"row\"}, \"type\": \"quantitative\"},\n",
    "      \"color\": {\n",
    "        \"condition\": {\n",
    "          \"selection\": \"brush\",\n",
    "          \"field\": \"a\", \"type\": \"nominal\"\n",
    "        },\n",
    "        \"value\": \"grey\"\n",
    "      }\n",
    "    }\n",
    "  }\n",
    "}\n",
    "// More argument info at https://github.com/vega/vega-embed\n",
    "vegaEmbed('#vis', yourVlSpec);\n",
    "// Ipython dipslay javascript insert into localhost the model spec\n",
    "</script>"
   ]
  }
 ],
 "metadata": {
  "kernelspec": {
   "display_name": "Python 3",
   "name": "python3"
  }
 },
 "nbformat": 4,
 "nbformat_minor": 0
}
