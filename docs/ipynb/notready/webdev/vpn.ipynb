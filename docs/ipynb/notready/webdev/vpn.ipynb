{
 "cells": [
  {
   "cell_type": "code",
   "execution_count": null,
   "metadata": {},
   "outputs": [],
   "source": [
    "Notes from my 5 years in China: - Use a protocol like trojan-gfw over cloudflare. It 1: hides the fact that you’re using a VPN and looks like normal https traffic, 2: Is open source and the Trojan-go/v2ray repositories are well tested in nightmarish environments like China. 3: Cloudfare obscures the IP address of your server from the government. - You can have your server use something like Mullvad so that your traffic blends into the crowd (of customers) - Always have an emergency protocol that is unlikely to get blocked. I wrote my own custom implementation of HTTPS over DNS for when they decide to cut off general internet access to sites outside the country. (Happens every month or so for a few days) - For messaging, use a fully open source & end to end encrypted & federated protocol that you can self host. Matrix.org is blocked in China but self hosting still allows you to contact people on the main server."
   ]
  }
 ],
 "metadata": {
  "language_info": {
   "name": "python"
  },
  "orig_nbformat": 4
 },
 "nbformat": 4,
 "nbformat_minor": 2
}
