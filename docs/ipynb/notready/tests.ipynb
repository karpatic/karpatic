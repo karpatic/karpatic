{
 "cells": [
  {
   "cell_type": "code",
   "execution_count": null,
   "metadata": {},
   "outputs": [],
   "source": [
    "%%capture \n",
    "<style>html{overflow: hidden;}</style>\n",
    "<iframe \n",
    "  height='800px;' \n",
    "  width='100%' \n",
    "  src='https://observablehq.com/embed/@karpatic/webmap?\n",
    "\tcell=style&\n",
    "\tcell=banner&\n",
    "\tcell=greetings&\n",
    "\tcell=graph&\n",
    "\tcell=squiggle'>\n",
    "</iframe>"
   ]
  }
 ],
 "metadata": {
  "language_info": {
   "name": "python"
  },
  "orig_nbformat": 4
 },
 "nbformat": 4,
 "nbformat_minor": 2
}
